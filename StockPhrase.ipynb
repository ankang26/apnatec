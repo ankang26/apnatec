{
 "cells": [
  {
   "cell_type": "code",
   "execution_count": 1,
   "metadata": {},
   "outputs": [],
   "source": [
    "import os\n",
    "from datetime import datetime\n",
    "import logging\n",
    "\n",
    "import pandas as pd\n",
    "from sklearn.model_selection import train_test_split\n",
    "from simpletransformers.seq2seq import Seq2SeqModel, Seq2SeqArgs\n",
    "import warnings\n",
    "import pandas as pd\n",
    "import os\n",
    "from datetime import datetime\n",
    "import logging\n",
    "import glob\n",
    "from pathlib import Path\n",
    "import csv"
   ]
  },
  {
   "cell_type": "code",
   "execution_count": 2,
   "metadata": {},
   "outputs": [
    {
     "name": "stderr",
     "output_type": "stream",
     "text": [
      "c:\\users\\ankan\\appdata\\local\\programs\\python\\python37\\lib\\site-packages\\spacy\\util.py:837: UserWarning: [W095] Model 'en_pipeline' (0.0.0) was trained with spaCy v3.0 and may not be 100% compatible with the current version (3.3.1). If you see errors or degraded performance, download a newer compatible model or retrain your custom model with the current spaCy version. For more details and available updates, run: python -m spacy validate\n",
      "  warnings.warn(warn_msg)\n",
      "c:\\users\\ankan\\appdata\\local\\programs\\python\\python37\\lib\\site-packages\\spacy_transformers\\pipeline_component.py:406: UserWarning: Automatically converting a transformer component from spacy-transformers v1.0 to v1.1+. If you see errors or degraded performance, download a newer compatible model or retrain your custom model with the current spacy-transformers version. For more details and available updates, run: python -m spacy validate\n",
      "  warnings.warn(warn_msg)\n"
     ]
    },
    {
     "data": {
      "text/plain": [
       "<function __main__.set_custom_boundaries(doc)>"
      ]
     },
     "execution_count": 2,
     "metadata": {},
     "output_type": "execute_result"
    }
   ],
   "source": [
    "import spacy\n",
    "from spacy.language import Language\n",
    "from spacy import displacy\n",
    "import time\n",
    "\n",
    "@Language.component(\"newsent\")\n",
    "def set_custom_boundaries(doc):\n",
    "    for token in doc[:-1]:\n",
    "        #print(token.text, token.text in (\"’s\", \"'s\"))\n",
    "        if token.text.upper() in (\";\", \"--\", \"\\n\\n\", \"\\n\", \"QUARTERLY\", \"STORY\", \"\\n\\n\\n\\n\", \"\\n\\n\\n\"):\n",
    "            print(\"Detected:\", token.text)\n",
    "            doc[token.i].is_sent_start = True\n",
    "    return doc\n",
    "\n",
    "#spacy.require_gpu()\n",
    "nlp = spacy.load(\"../../Summary/NER/RelateEntity/train/model-best-local\")\n",
    "nlp.add_pipe('sentencizer')\n",
    "nlp.add_pipe('newsent', name=\"newsent\", last=True)"
   ]
  },
  {
   "cell_type": "code",
   "execution_count": 3,
   "metadata": {},
   "outputs": [],
   "source": [
    "def getSentences(inputfile, nlp):\n",
    "    with open(inputfile, 'r', encoding=\"utf-8\") as f:\n",
    "        text = f.read()\n",
    "\n",
    "    doc = nlp(text)\n",
    "    sentences = [str(sent).strip() for sent in doc.sents]\n",
    "\n",
    "    print(len(sentences))\n",
    "    return(sentences)"
   ]
  },
  {
   "cell_type": "code",
   "execution_count": 9,
   "metadata": {},
   "outputs": [],
   "source": [
    "def clean_unnecessary_spaces(out_string):\n",
    "    if not isinstance(out_string, str):\n",
    "        warnings.warn(f\">>> {out_string} <<< is not a string.\")\n",
    "        out_string = str(out_string)\n",
    "    out_string = (\n",
    "        out_string.replace(\" .\", \".\")\n",
    "        .replace(\" ?\", \"?\")\n",
    "        .replace(\" !\", \"!\")\n",
    "        .replace(\" ,\", \",\")\n",
    "        .replace(\" ' \", \"'\")\n",
    "        .replace(\" n't\", \"n't\")\n",
    "        .replace(\" 'm\", \"'m\")\n",
    "        .replace(\" 's\", \"'s\")\n",
    "        .replace(\" 've\", \"'ve\")\n",
    "        .replace(\" 're\", \"'re\")\n",
    "    )\n",
    "    return out_string"
   ]
  },
  {
   "cell_type": "code",
   "execution_count": 10,
   "metadata": {},
   "outputs": [],
   "source": [
    "devDir = \"../../Summary/DATA/PARAPHRASE/Dev\"\n",
    "trainDir = \"../../Summary/DATA/PARAPHRASE/Train\"\n",
    "testDir = \"../../Summary/DATA/PARAPHRASE/Test\"\n",
    "rplStr = [\"PG***\", \"ED***\", \"SCHQ***\", \"SCBQ***\", \"SCBF***\", \"SCHF***\", \"SCG***\", \"GF***\", \"GQ***\"]\n",
    "\n",
    "def createTrainingData(inputDir, ppModel=None):\n",
    "    files = glob.glob(inputDir+\"/*_EP_YH.txt\")\n",
    "    #print(files)\n",
    "    #print(inputDir)\n",
    "    if(len(files) > 0):\n",
    "        for file in (files):\n",
    "            print(\"Input file \" + file)\n",
    "            basefile = os.path.basename(file)\n",
    "            inputfile = os.path.splitext(basefile)[0]\n",
    "            #print(inputfile)\n",
    "            if not ppModel:\n",
    "                outfilePath = inputfile + \"_phrase.tsv\"\n",
    "                outfilePath = inputDir + \"/\" + outfilePath\n",
    "                print(\"Phrase file \" + outfilePath)\n",
    "                outfile = Path(outfilePath)\n",
    "                if outfile.is_file():\n",
    "                    print(\"Phrase file \" + str(outfile) + \" already exists\")\n",
    "                    continue\n",
    "                with open(outfile, \"w\", encoding = \"utf-8\") as of:\n",
    "                    #cnt = 0\n",
    "                    of.write(\"filename\\tSentence1\\tSentence2\\n\")\n",
    "                    #with open(file, encoding=\"utf-8\") as f:\n",
    "                    sentences = getSentences(file, nlp)\n",
    "                    #line = f.readline()\n",
    "                    for line in sentences:\n",
    "                        for s in rplStr:\n",
    "                            line = line.replace(s, \"\")\n",
    "                        if(\"TBLST***\" in line or \"TBLET***\" in line or \"CS***\" in line or \"@@@\" in line or line == \"\\n\" or line == \"\\n\\n\" or \"https://finance.yahoo.com\" in line):\n",
    "                            #line = f.readline()\n",
    "                            continue\n",
    "                        line = line.replace(\"\\n\", \"\")\n",
    "                        if(line == \"\"):\n",
    "                            continue\n",
    "                        #print(line)\n",
    "                        #cnt = cnt + 1\n",
    "                        phraseLine = line\n",
    "                        of.write(inputfile+\"\\t\"+line+\"\\t\"+line+\"\\n\")\n",
    "                        #of.write(line + \"\\n\")\n",
    "                        #line = f.readline()\n",
    "            else:\n",
    "                sentences = getSentences(file, nlp)\n",
    "                #line = f.readline()\n",
    "                for line in sentences:\n",
    "                    for s in rplStr:\n",
    "                        line = line.replace(s, \"\")\n",
    "                    if(\"TBLST***\" in line or \"TBLET***\" in line or \"CS***\" in line or \"@@@\" in line or line == \"\\n\" or line == \"\\n\\n\" or \"https://finance.yahoo.com\" in line):\n",
    "                        #line = f.readline()\n",
    "                        continue\n",
    "                    line = line.replace(\"\\n\", \"\")\n",
    "                    if(line == None or line == \"\"):\n",
    "                        continue\n",
    "                    #print(line)\n",
    "                    #cnt = cnt + 1\n",
    "                    phraseLine = line\n",
    "                    inp = [line]\n",
    "                    #print(inp)\n",
    "                    print(\"ORIGINAL SENTENCE\\n\",line)\n",
    "                    print(\"PREDICTED PARAPHRASE\\n\")\n",
    "                    predicted = ppModel.predict(inp)\n",
    "                    print(predicted)\n",
    "                    print(\"\\n\")\n",
    "                    "
   ]
  },
  {
   "cell_type": "code",
   "execution_count": 11,
   "metadata": {},
   "outputs": [],
   "source": [
    "devDataFile = \"../../Summary/DATA/PARAPHRASE/Dev/dev.tsv\"\n",
    "trainDataFile = \"../../Summary/DATA/PARAPHRASE/Train/train.tsv\"\n",
    "\n",
    "def writeTrainingData(writeFile, writeDir):\n",
    "    phrFiles = glob.glob(writeDir+\"/*_phrase.tsv\")\n",
    "    print(phrFiles)\n",
    "    frames = list()\n",
    "\n",
    "    if(len(phrFiles) > 0):\n",
    "        for file in phrFiles:\n",
    "            df = pd.read_csv(file, sep=\"\\t\", encoding = \"utf-8\").astype(str)\n",
    "            df = df.dropna()\n",
    "            df = df[df['Sentence1'].notna()]\n",
    "            #print(df)\n",
    "            frames.append(df)\n",
    "    result = pd.concat(frames)\n",
    "    print(result)\n",
    "    result.to_csv(writeFile, sep='\\t', index=False, header=True)"
   ]
  },
  {
   "cell_type": "code",
   "execution_count": 12,
   "metadata": {},
   "outputs": [
    {
     "name": "stdout",
     "output_type": "stream",
     "text": [
      "Input file ../../Summary/DATA/PARAPHRASE/Dev\\APPN_2023-02-16_EP_YH.txt\n",
      "Phrase file ../../Summary/DATA/PARAPHRASE/Dev/APPN_2023-02-16_EP_YH_phrase.tsv\n",
      "Phrase file ..\\..\\Summary\\DATA\\PARAPHRASE\\Dev\\APPN_2023-02-16_EP_YH_phrase.tsv already exists\n",
      "Input file ../../Summary/DATA/PARAPHRASE/Dev\\BILL_2023-02-02_EP_YH.txt\n",
      "Phrase file ../../Summary/DATA/PARAPHRASE/Dev/BILL_2023-02-02_EP_YH_phrase.tsv\n",
      "Phrase file ..\\..\\Summary\\DATA\\PARAPHRASE\\Dev\\BILL_2023-02-02_EP_YH_phrase.tsv already exists\n",
      "Input file ../../Summary/DATA/PARAPHRASE/Dev\\CFLT_2022-11-02_EP_YH.txt\n",
      "Phrase file ../../Summary/DATA/PARAPHRASE/Dev/CFLT_2022-11-02_EP_YH_phrase.tsv\n",
      "Phrase file ..\\..\\Summary\\DATA\\PARAPHRASE\\Dev\\CFLT_2022-11-02_EP_YH_phrase.tsv already exists\n",
      "Input file ../../Summary/DATA/PARAPHRASE/Dev\\CRWD_2022-11-29_EP_YH.txt\n",
      "Phrase file ../../Summary/DATA/PARAPHRASE/Dev/CRWD_2022-11-29_EP_YH_phrase.tsv\n",
      "Phrase file ..\\..\\Summary\\DATA\\PARAPHRASE\\Dev\\CRWD_2022-11-29_EP_YH_phrase.tsv already exists\n",
      "Input file ../../Summary/DATA/PARAPHRASE/Dev\\DDOG_2022-11-02_EP_YH.txt\n",
      "Phrase file ../../Summary/DATA/PARAPHRASE/Dev/DDOG_2022-11-02_EP_YH_phrase.tsv\n",
      "Phrase file ..\\..\\Summary\\DATA\\PARAPHRASE\\Dev\\DDOG_2022-11-02_EP_YH_phrase.tsv already exists\n",
      "Input file ../../Summary/DATA/PARAPHRASE/Dev\\DOCN_2022-11-07_EP_YH.txt\n",
      "Phrase file ../../Summary/DATA/PARAPHRASE/Dev/DOCN_2022-11-07_EP_YH_phrase.tsv\n",
      "Phrase file ..\\..\\Summary\\DATA\\PARAPHRASE\\Dev\\DOCN_2022-11-07_EP_YH_phrase.tsv already exists\n",
      "Input file ../../Summary/DATA/PARAPHRASE/Dev\\DOCU_2022-12-08_EP_YH.txt\n",
      "Phrase file ../../Summary/DATA/PARAPHRASE/Dev/DOCU_2022-12-08_EP_YH_phrase.tsv\n",
      "Phrase file ..\\..\\Summary\\DATA\\PARAPHRASE\\Dev\\DOCU_2022-12-08_EP_YH_phrase.tsv already exists\n",
      "['../../Summary/DATA/PARAPHRASE/Dev\\\\APPN_2023-02-16_EP_YH_phrase.tsv', '../../Summary/DATA/PARAPHRASE/Dev\\\\BILL_2023-02-02_EP_YH_phrase.tsv', '../../Summary/DATA/PARAPHRASE/Dev\\\\CFLT_2022-11-02_EP_YH_phrase.tsv', '../../Summary/DATA/PARAPHRASE/Dev\\\\CRWD_2022-11-29_EP_YH_phrase.tsv', '../../Summary/DATA/PARAPHRASE/Dev\\\\DDOG_2022-11-02_EP_YH_phrase.tsv', '../../Summary/DATA/PARAPHRASE/Dev\\\\DOCN_2022-11-07_EP_YH_phrase.tsv', '../../Summary/DATA/PARAPHRASE/Dev\\\\DOCU_2022-12-08_EP_YH_phrase.tsv']\n",
      "                 filename                                          Sentence1  \\\n",
      "0   APPN_2023-02-16_EP_YH                                Appian Corporation.   \n",
      "1   APPN_2023-02-16_EP_YH   Fourth quarter cloud subscription revenue inc...   \n",
      "2   APPN_2023-02-16_EP_YH  Full year cloud subscription revenue increased...   \n",
      "3   APPN_2023-02-16_EP_YH        MCLEAN, Va., Feb. 16, 2023 (GLOBE NEWSWIRE)   \n",
      "4   APPN_2023-02-16_EP_YH  -- Appian (Nasdaq: APPN) today announced finan...   \n",
      "..                    ...                                                ...   \n",
      "36  DOCU_2022-12-08_EP_YH                   Non-GAAP gross margin 81%  82% .   \n",
      "37  DOCU_2022-12-08_EP_YH               Non-GAAP operating margin 18%  20% .   \n",
      "38  DOCU_2022-12-08_EP_YH   Non-GAAP diluted weighted - average shares ou...   \n",
      "39  DOCU_2022-12-08_EP_YH   The company has not reconciled its guidance o...   \n",
      "40  DOCU_2022-12-08_EP_YH  Accordingly, a reconciliation has not been pro...   \n",
      "\n",
      "                                            Sentence2  \n",
      "0                                 Appian Corporation.  \n",
      "1    Cloud subscription revenue is $65.8 million i...  \n",
      "2   Cloud subscription revenue is $236.9 million f...  \n",
      "3         MCLEAN, Va., Feb. 16, 2023 (GLOBE NEWSWIRE)  \n",
      "4   -- Appian (Nasdaq: APPN) today announced finan...  \n",
      "..                                                ...  \n",
      "36   Non-GAAP gross margin is expected to be betwe...  \n",
      "37   Non-GAAP operating margin is expected to be b...  \n",
      "38   Non-GAAP diluted weighted - average shares ou...  \n",
      "39   The company has not reconciled its guidance o...  \n",
      "40  Accordingly, a reconciliation has not been pro...  \n",
      "\n",
      "[301 rows x 3 columns]\n"
     ]
    }
   ],
   "source": [
    "createTrainingData(devDir)\n",
    "writeTrainingData(devDataFile, devDir)"
   ]
  },
  {
   "cell_type": "code",
   "execution_count": 13,
   "metadata": {},
   "outputs": [
    {
     "name": "stdout",
     "output_type": "stream",
     "text": [
      "Input file ../../Summary/DATA/PARAPHRASE/Train\\APPN_2022-11-03_EP_YH.txt\n",
      "Phrase file ../../Summary/DATA/PARAPHRASE/Train/APPN_2022-11-03_EP_YH_phrase.tsv\n",
      "Phrase file ..\\..\\Summary\\DATA\\PARAPHRASE\\Train\\APPN_2022-11-03_EP_YH_phrase.tsv already exists\n",
      "Input file ../../Summary/DATA/PARAPHRASE/Train\\BILL_2022-11-03_EP_YH.txt\n",
      "Phrase file ../../Summary/DATA/PARAPHRASE/Train/BILL_2022-11-03_EP_YH_phrase.tsv\n",
      "Phrase file ..\\..\\Summary\\DATA\\PARAPHRASE\\Train\\BILL_2022-11-03_EP_YH_phrase.tsv already exists\n",
      "Input file ../../Summary/DATA/PARAPHRASE/Train\\CFLT_2023-01-30_EP_YH.txt\n",
      "Phrase file ../../Summary/DATA/PARAPHRASE/Train/CFLT_2023-01-30_EP_YH_phrase.tsv\n",
      "Phrase file ..\\..\\Summary\\DATA\\PARAPHRASE\\Train\\CFLT_2023-01-30_EP_YH_phrase.tsv already exists\n",
      "Input file ../../Summary/DATA/PARAPHRASE/Train\\CRWD_2023-03-07_EP_YH.txt\n",
      "Phrase file ../../Summary/DATA/PARAPHRASE/Train/CRWD_2023-03-07_EP_YH_phrase.tsv\n",
      "Phrase file ..\\..\\Summary\\DATA\\PARAPHRASE\\Train\\CRWD_2023-03-07_EP_YH_phrase.tsv already exists\n",
      "Input file ../../Summary/DATA/PARAPHRASE/Train\\DDOG_2023-02-16_EP_YH.txt\n",
      "Phrase file ../../Summary/DATA/PARAPHRASE/Train/DDOG_2023-02-16_EP_YH_phrase.tsv\n",
      "Phrase file ..\\..\\Summary\\DATA\\PARAPHRASE\\Train\\DDOG_2023-02-16_EP_YH_phrase.tsv already exists\n",
      "Input file ../../Summary/DATA/PARAPHRASE/Train\\DOCN_2023-02-16_EP_YH.txt\n",
      "Phrase file ../../Summary/DATA/PARAPHRASE/Train/DOCN_2023-02-16_EP_YH_phrase.tsv\n",
      "Phrase file ..\\..\\Summary\\DATA\\PARAPHRASE\\Train\\DOCN_2023-02-16_EP_YH_phrase.tsv already exists\n",
      "Input file ../../Summary/DATA/PARAPHRASE/Train\\DOCU_2023-03-09_EP_YH.txt\n",
      "Phrase file ../../Summary/DATA/PARAPHRASE/Train/DOCU_2023-03-09_EP_YH_phrase.tsv\n",
      "Phrase file ..\\..\\Summary\\DATA\\PARAPHRASE\\Train\\DOCU_2023-03-09_EP_YH_phrase.tsv already exists\n",
      "Input file ../../Summary/DATA/PARAPHRASE/Train\\FIVN_2023-02-22_EP_YH.txt\n",
      "Phrase file ../../Summary/DATA/PARAPHRASE/Train/FIVN_2023-02-22_EP_YH_phrase.tsv\n",
      "Phrase file ..\\..\\Summary\\DATA\\PARAPHRASE\\Train\\FIVN_2023-02-22_EP_YH_phrase.tsv already exists\n",
      "Input file ../../Summary/DATA/PARAPHRASE/Train\\HUBS_2023-02-16_EP_YH.txt\n",
      "Phrase file ../../Summary/DATA/PARAPHRASE/Train/HUBS_2023-02-16_EP_YH_phrase.tsv\n",
      "Phrase file ..\\..\\Summary\\DATA\\PARAPHRASE\\Train\\HUBS_2023-02-16_EP_YH_phrase.tsv already exists\n",
      "Input file ../../Summary/DATA/PARAPHRASE/Train\\MDB_2023-03-08_EP_YH.txt\n",
      "Phrase file ../../Summary/DATA/PARAPHRASE/Train/MDB_2023-03-08_EP_YH_phrase.tsv\n",
      "Phrase file ..\\..\\Summary\\DATA\\PARAPHRASE\\Train\\MDB_2023-03-08_EP_YH_phrase.tsv already exists\n",
      "Input file ../../Summary/DATA/PARAPHRASE/Train\\NET_2023-04-27_EP_YH.txt\n",
      "Phrase file ../../Summary/DATA/PARAPHRASE/Train/NET_2023-04-27_EP_YH_phrase.tsv\n",
      "Phrase file ..\\..\\Summary\\DATA\\PARAPHRASE\\Train\\NET_2023-04-27_EP_YH_phrase.tsv already exists\n",
      "Input file ../../Summary/DATA/PARAPHRASE/Train\\OKTA_2023-03-02_EP_YH.txt\n",
      "Phrase file ../../Summary/DATA/PARAPHRASE/Train/OKTA_2023-03-02_EP_YH_phrase.tsv\n",
      "Phrase file ..\\..\\Summary\\DATA\\PARAPHRASE\\Train\\OKTA_2023-03-02_EP_YH_phrase.tsv already exists\n",
      "Input file ../../Summary/DATA/PARAPHRASE/Train\\ZS_2022-12-01_EP_YH.txt\n",
      "Phrase file ../../Summary/DATA/PARAPHRASE/Train/ZS_2022-12-01_EP_YH_phrase.tsv\n",
      "Phrase file ..\\..\\Summary\\DATA\\PARAPHRASE\\Train\\ZS_2022-12-01_EP_YH_phrase.tsv already exists\n",
      "['../../Summary/DATA/PARAPHRASE/Train\\\\APPN_2022-11-03_EP_YH_phrase.tsv', '../../Summary/DATA/PARAPHRASE/Train\\\\BILL_2022-11-03_EP_YH_phrase.tsv', '../../Summary/DATA/PARAPHRASE/Train\\\\CFLT_2023-01-30_EP_YH_phrase.tsv', '../../Summary/DATA/PARAPHRASE/Train\\\\CRWD_2023-03-07_EP_YH_phrase.tsv', '../../Summary/DATA/PARAPHRASE/Train\\\\DDOG_2023-02-16_EP_YH_phrase.tsv', '../../Summary/DATA/PARAPHRASE/Train\\\\DOCN_2023-02-16_EP_YH_phrase.tsv', '../../Summary/DATA/PARAPHRASE/Train\\\\DOCU_2023-03-09_EP_YH_phrase.tsv', '../../Summary/DATA/PARAPHRASE/Train\\\\FIVN_2023-02-22_EP_YH_phrase.tsv', '../../Summary/DATA/PARAPHRASE/Train\\\\HUBS_2023-02-16_EP_YH_phrase.tsv', '../../Summary/DATA/PARAPHRASE/Train\\\\MDB_2023-03-08_EP_YH_phrase.tsv', '../../Summary/DATA/PARAPHRASE/Train\\\\NET_2023-04-27_EP_YH_phrase.tsv', '../../Summary/DATA/PARAPHRASE/Train\\\\OKTA_2023-03-02_EP_YH_phrase.tsv', '../../Summary/DATA/PARAPHRASE/Train\\\\ZS_2022-12-01_EP_YH_phrase.tsv']\n",
      "                 filename                                          Sentence1  \\\n",
      "0   APPN_2022-11-03_EP_YH                                Appian Corporation.   \n",
      "1   APPN_2022-11-03_EP_YH   Third quarter cloud subscription revenue incr...   \n",
      "2   APPN_2022-11-03_EP_YH        MCLEAN, Va., Nov. 03, 2022 (GLOBE NEWSWIRE)   \n",
      "3   APPN_2022-11-03_EP_YH  -- Appian (Nasdaq: APPN) today announced finan...   \n",
      "4   APPN_2022-11-03_EP_YH  On a constant currency basis, both cloud subsc...   \n",
      "..                    ...                                                ...   \n",
      "53    ZS_2022-12-01_EP_YH  As a result of the adoption of ASU 2020-06 on ...   \n",
      "54    ZS_2022-12-01_EP_YH  Accordingly, we are required to add back the n...   \n",
      "55    ZS_2022-12-01_EP_YH  Additionally, we include the anti-dilutive imp...   \n",
      "56    ZS_2022-12-01_EP_YH  We have not reconciled our expectations to non...   \n",
      "57    ZS_2022-12-01_EP_YH  Accordingly, a reconciliation for the guidance...   \n",
      "\n",
      "                                            Sentence2  \n",
      "0                                 Appian Corporation.  \n",
      "1    Third quarter Cloud subscription revenue is $...  \n",
      "2         MCLEAN, Va., Nov. 03, 2022 (GLOBE NEWSWIRE)  \n",
      "3   -- Appian (Nasdaq: APPN) today announced finan...  \n",
      "4   On a constant currency basis, both cloud subsc...  \n",
      "..                                                ...  \n",
      "53  As a result of the adoption of ASU 2020-06 on ...  \n",
      "54  Accordingly, we are required to add back the n...  \n",
      "55  Additionally, we include the anti-dilutive imp...  \n",
      "56  We have not reconciled our expectations to non...  \n",
      "57  Accordingly, a reconciliation for the guidance...  \n",
      "\n",
      "[661 rows x 3 columns]\n"
     ]
    }
   ],
   "source": [
    "createTrainingData(trainDir)\n",
    "writeTrainingData(trainDataFile, trainDir)"
   ]
  },
  {
   "cell_type": "code",
   "execution_count": 14,
   "metadata": {},
   "outputs": [
    {
     "name": "stdout",
     "output_type": "stream",
     "text": [
      "TRAIN DATA ..............\n",
      "         prefix                                         input_text  \\\n",
      "0    paraphrase                                Appian Corporation.   \n",
      "1    paraphrase   Third quarter cloud subscription revenue incr...   \n",
      "2    paraphrase        MCLEAN, Va., Nov. 03, 2022 (GLOBE NEWSWIRE)   \n",
      "3    paraphrase  -- Appian (Nasdaq: APPN) today announced finan...   \n",
      "4    paraphrase  On a constant currency basis, both cloud subsc...   \n",
      "..          ...                                                ...   \n",
      "656  paraphrase  As a result of the adoption of ASU 2020-06 on ...   \n",
      "657  paraphrase  Accordingly, we are required to add back the n...   \n",
      "658  paraphrase  Additionally, we include the anti-dilutive imp...   \n",
      "659  paraphrase  We have not reconciled our expectations to non...   \n",
      "660  paraphrase  Accordingly, a reconciliation for the guidance...   \n",
      "\n",
      "                                           target_text  \n",
      "0                                  Appian Corporation.  \n",
      "1     Third quarter Cloud subscription revenue is $...  \n",
      "2          MCLEAN, Va., Nov. 03, 2022 (GLOBE NEWSWIRE)  \n",
      "3    -- Appian (Nasdaq: APPN) today announced finan...  \n",
      "4    On a constant currency basis, both cloud subsc...  \n",
      "..                                                 ...  \n",
      "656  As a result of the adoption of ASU 2020-06 on ...  \n",
      "657  Accordingly, we are required to add back the n...  \n",
      "658  Additionally, we include the anti-dilutive imp...  \n",
      "659  We have not reconciled our expectations to non...  \n",
      "660  Accordingly, a reconciliation for the guidance...  \n",
      "\n",
      "[661 rows x 3 columns]\n",
      "EVAL DATA ..............\n",
      "         prefix                                         input_text  \\\n",
      "0    paraphrase                                Appian Corporation.   \n",
      "1    paraphrase   Fourth quarter cloud subscription revenue inc...   \n",
      "2    paraphrase  Full year cloud subscription revenue increased...   \n",
      "3    paraphrase        MCLEAN, Va., Feb. 16, 2023 (GLOBE NEWSWIRE)   \n",
      "4    paraphrase  -- Appian (Nasdaq: APPN) today announced finan...   \n",
      "..          ...                                                ...   \n",
      "296  paraphrase                    Non-GAAP gross margin 81%  82%.   \n",
      "297  paraphrase                Non-GAAP operating margin 18%  20%.   \n",
      "298  paraphrase   Non-GAAP diluted weighted - average shares ou...   \n",
      "299  paraphrase   The company has not reconciled its guidance o...   \n",
      "300  paraphrase  Accordingly, a reconciliation has not been pro...   \n",
      "\n",
      "                                           target_text  \n",
      "0                                  Appian Corporation.  \n",
      "1     Cloud subscription revenue is $65.8 million i...  \n",
      "2    Cloud subscription revenue is $236.9 million f...  \n",
      "3          MCLEAN, Va., Feb. 16, 2023 (GLOBE NEWSWIRE)  \n",
      "4    -- Appian (Nasdaq: APPN) today announced finan...  \n",
      "..                                                 ...  \n",
      "296   Non-GAAP gross margin is expected to be betwe...  \n",
      "297   Non-GAAP operating margin is expected to be b...  \n",
      "298   Non-GAAP diluted weighted - average shares ou...  \n",
      "299   The company has not reconciled its guidance o...  \n",
      "300  Accordingly, a reconciliation has not been pro...  \n",
      "\n",
      "[301 rows x 3 columns]\n"
     ]
    }
   ],
   "source": [
    "train_df = pd.read_csv(trainDataFile, sep=\"\\t\", encoding = \"utf-8\").astype(str)\n",
    "eval_df = pd.read_csv(devDataFile, sep=\"\\t\", encoding = \"utf-8\").astype(str)\n",
    "\n",
    "train_df = train_df.rename(\n",
    "    columns={\"Sentence1\": \"input_text\", \"Sentence2\": \"target_text\"}\n",
    ")\n",
    "eval_df = eval_df.rename(\n",
    "    columns={\"Sentence1\": \"input_text\", \"Sentence2\": \"target_text\"}\n",
    ")\n",
    "\n",
    "train_df = train_df[[\"input_text\", \"target_text\"]]\n",
    "eval_df = eval_df[[\"input_text\", \"target_text\"]]\n",
    "\n",
    "train_df[\"prefix\"] = \"paraphrase\"\n",
    "train_df = train_df[[\"prefix\", \"input_text\", \"target_text\"]]\n",
    "\n",
    "eval_df[\"prefix\"] = \"paraphrase\"\n",
    "eval_df = eval_df[[\"prefix\", \"input_text\", \"target_text\"]]\n",
    "\n",
    "train_df = train_df.dropna()\n",
    "train_df = train_df[train_df['input_text'].notna()]\n",
    "\n",
    "eval_df = eval_df.dropna()\n",
    "eval_df = eval_df[eval_df['input_text'].notna()]\n",
    "\n",
    "train_df[\"input_text\"] = train_df[\"input_text\"].apply(clean_unnecessary_spaces)\n",
    "train_df[\"target_text\"] = train_df[\"target_text\"].apply(clean_unnecessary_spaces)\n",
    "print(\"TRAIN DATA ..............\")\n",
    "print(train_df)\n",
    "\n",
    "eval_df[\"input_text\"] = eval_df[\"input_text\"].apply(clean_unnecessary_spaces)\n",
    "eval_df[\"target_text\"] = eval_df[\"target_text\"].apply(clean_unnecessary_spaces)\n",
    "print(\"EVAL DATA ..............\")\n",
    "print(eval_df)"
   ]
  },
  {
   "cell_type": "code",
   "execution_count": 15,
   "metadata": {},
   "outputs": [],
   "source": [
    "logging.basicConfig(level=logging.INFO)\n",
    "transformers_logger = logging.getLogger(\"transformers\")\n",
    "transformers_logger.setLevel(logging.ERROR)"
   ]
  },
  {
   "cell_type": "code",
   "execution_count": 16,
   "metadata": {},
   "outputs": [
    {
     "name": "stderr",
     "output_type": "stream",
     "text": [
      "INFO:simpletransformers.seq2seq.seq2seq_utils: Creating features from dataset file at cache_dir/\n"
     ]
    },
    {
     "data": {
      "application/vnd.jupyter.widget-view+json": {
       "model_id": "d5b6f5a902234184af3a755db69c31ff",
       "version_major": 2,
       "version_minor": 0
      },
      "text/plain": [
       "  0%|          | 0/661 [00:00<?, ?it/s]"
      ]
     },
     "metadata": {},
     "output_type": "display_data"
    },
    {
     "name": "stderr",
     "output_type": "stream",
     "text": [
      "INFO:simpletransformers.seq2seq.seq2seq_model: Training started\n"
     ]
    },
    {
     "data": {
      "application/vnd.jupyter.widget-view+json": {
       "model_id": "5722eb6d117c4706a6407b274c30f1ec",
       "version_major": 2,
       "version_minor": 0
      },
      "text/plain": [
       "Epoch:   0%|          | 0/2 [00:00<?, ?it/s]"
      ]
     },
     "metadata": {},
     "output_type": "display_data"
    },
    {
     "data": {
      "application/vnd.jupyter.widget-view+json": {
       "model_id": "c22e8638e8c44719beaf37f0e739898e",
       "version_major": 2,
       "version_minor": 0
      },
      "text/plain": [
       "Running Epoch 0 of 2:   0%|          | 0/166 [00:00<?, ?it/s]"
      ]
     },
     "metadata": {},
     "output_type": "display_data"
    },
    {
     "name": "stderr",
     "output_type": "stream",
     "text": [
      "c:\\users\\ankan\\appdata\\local\\programs\\python\\python37\\lib\\site-packages\\torch\\optim\\lr_scheduler.py:136: UserWarning: Detected call of `lr_scheduler.step()` before `optimizer.step()`. In PyTorch 1.1.0 and later, you should call them in the opposite order: `optimizer.step()` before `lr_scheduler.step()`.  Failure to do this will result in PyTorch skipping the first value of the learning rate schedule. See more details at https://pytorch.org/docs/stable/optim.html#how-to-adjust-learning-rate\n",
      "  \"https://pytorch.org/docs/stable/optim.html#how-to-adjust-learning-rate\", UserWarning)\n",
      "INFO:simpletransformers.seq2seq.seq2seq_utils: Creating features from dataset file at cache_dir/\n"
     ]
    },
    {
     "data": {
      "application/vnd.jupyter.widget-view+json": {
       "model_id": "631594b2a3e541d5ad361e3988bba432",
       "version_major": 2,
       "version_minor": 0
      },
      "text/plain": [
       "  0%|          | 0/301 [00:00<?, ?it/s]"
      ]
     },
     "metadata": {},
     "output_type": "display_data"
    },
    {
     "data": {
      "application/vnd.jupyter.widget-view+json": {
       "model_id": "da3bb5fd1d3b4a1f989d8dc569ed446b",
       "version_major": 2,
       "version_minor": 0
      },
      "text/plain": [
       "Generating outputs:   0%|          | 0/76 [00:00<?, ?it/s]"
      ]
     },
     "metadata": {},
     "output_type": "display_data"
    },
    {
     "name": "stderr",
     "output_type": "stream",
     "text": [
      "INFO:simpletransformers.seq2seq.seq2seq_model:{'eval_loss': 0.03410739939672088}\n",
      "INFO:simpletransformers.seq2seq.seq2seq_model:Saving model into outputs/best_model\n"
     ]
    },
    {
     "data": {
      "application/vnd.jupyter.widget-view+json": {
       "model_id": "9c0973a0712f4adfa1f7b889c036bc3c",
       "version_major": 2,
       "version_minor": 0
      },
      "text/plain": [
       "Running Epoch 1 of 2:   0%|          | 0/166 [00:00<?, ?it/s]"
      ]
     },
     "metadata": {},
     "output_type": "display_data"
    },
    {
     "name": "stderr",
     "output_type": "stream",
     "text": [
      "INFO:simpletransformers.seq2seq.seq2seq_utils: Creating features from dataset file at cache_dir/\n"
     ]
    },
    {
     "data": {
      "application/vnd.jupyter.widget-view+json": {
       "model_id": "08acf7f5896744c2ba9bb26a8a5b5c75",
       "version_major": 2,
       "version_minor": 0
      },
      "text/plain": [
       "  0%|          | 0/301 [00:00<?, ?it/s]"
      ]
     },
     "metadata": {},
     "output_type": "display_data"
    },
    {
     "data": {
      "application/vnd.jupyter.widget-view+json": {
       "model_id": "6466a66434de464296cac2c7711e59f7",
       "version_major": 2,
       "version_minor": 0
      },
      "text/plain": [
       "Generating outputs:   0%|          | 0/76 [00:00<?, ?it/s]"
      ]
     },
     "metadata": {},
     "output_type": "display_data"
    },
    {
     "name": "stderr",
     "output_type": "stream",
     "text": [
      "INFO:simpletransformers.seq2seq.seq2seq_model:{'eval_loss': 0.025066359051331682}\n",
      "INFO:simpletransformers.seq2seq.seq2seq_model:Saving model into outputs/best_model\n",
      "INFO:simpletransformers.seq2seq.seq2seq_model:Saving model into outputs/\n",
      "INFO:simpletransformers.seq2seq.seq2seq_model: Training of facebook/bart-base model complete. Saved to outputs/.\n",
      "INFO:simpletransformers.seq2seq.seq2seq_utils: Creating features from dataset file at cache_dir/\n"
     ]
    },
    {
     "data": {
      "application/vnd.jupyter.widget-view+json": {
       "model_id": "962776276f864ef4bdb8a34d4d30116a",
       "version_major": 2,
       "version_minor": 0
      },
      "text/plain": [
       "  0%|          | 0/301 [00:00<?, ?it/s]"
      ]
     },
     "metadata": {},
     "output_type": "display_data"
    },
    {
     "data": {
      "application/vnd.jupyter.widget-view+json": {
       "model_id": "635831a0cc96453689651ea5ae24cb73",
       "version_major": 2,
       "version_minor": 0
      },
      "text/plain": [
       "Running Evaluation:   0%|          | 0/76 [00:00<?, ?it/s]"
      ]
     },
     "metadata": {},
     "output_type": "display_data"
    },
    {
     "data": {
      "application/vnd.jupyter.widget-view+json": {
       "model_id": "17fefa105be2424bafa877519fda5958",
       "version_major": 2,
       "version_minor": 0
      },
      "text/plain": [
       "Generating outputs:   0%|          | 0/76 [00:00<?, ?it/s]"
      ]
     },
     "metadata": {},
     "output_type": "display_data"
    },
    {
     "name": "stderr",
     "output_type": "stream",
     "text": [
      "INFO:simpletransformers.seq2seq.seq2seq_model:{'eval_loss': 0.025066359051331682}\n"
     ]
    }
   ],
   "source": [
    "model_args = Seq2SeqArgs()\n",
    "model_args.do_sample = True\n",
    "model_args.train_batch_size = 4\n",
    "model_args.use_multiprocessing = False\n",
    "model_args.num_train_epochs = 2\n",
    "model_args.learning_rate = 5e-5\n",
    "#model_args.no_save = True\n",
    "\n",
    "model_args.eval_batch_size = 4\n",
    "model_args.evaluate_generated_text = True\n",
    "model_args.evaluate_during_training = True\n",
    "model_args.evaluate_during_training_verbose = True\n",
    "#model_args.evaluate_during_training_steps = 10\n",
    "\n",
    "model_args.overwrite_output_dir = True\n",
    "model_args.reprocess_input_data = True\n",
    "model_args.save_eval_checkpoints = False\n",
    "model_args.save_model_every_epoch = False\n",
    "model_args.save_steps = -1\n",
    "\n",
    "model_args.max_length = 64\n",
    "#model_args.max_seq_length = 32\n",
    "model_args.num_return_sequences = 10\n",
    "model_args.top_k = 50\n",
    "model_args.top_p = 0.95\n",
    "\n",
    "model = Seq2SeqModel(\n",
    "    encoder_decoder_type=\"bart\",\n",
    "    encoder_decoder_name=\"facebook/bart-base\",\n",
    "    args=model_args,\n",
    "    use_cuda=True,\n",
    ")\n",
    "# Train the model\n",
    "model.train_model(\n",
    "    train_df, eval_data=eval_df\n",
    ")\n",
    "results = model.eval_model(eval_df)"
   ]
  },
  {
   "cell_type": "code",
   "execution_count": 17,
   "metadata": {},
   "outputs": [
    {
     "data": {
      "application/vnd.jupyter.widget-view+json": {
       "model_id": "9db4fae7519748af8598aed6351d552f",
       "version_major": 2,
       "version_minor": 0
      },
      "text/plain": [
       "Generating outputs:   0%|          | 0/1 [00:00<?, ?it/s]"
      ]
     },
     "metadata": {},
     "output_type": "display_data"
    },
    {
     "name": "stdout",
     "output_type": "stream",
     "text": [
      "[['Net cash used in operating activities is $(43.7) million for the three months ended September 30, 2022.', 'Net cash used in operating activities is $(43.7) million for the three months ended September 30, 2022.', 'Net cash used in operating activities is $(43.7) million.', 'Net cash used in operating activities is $(43.7) million for the three months ended September 30, 2022.', 'Net cash used in operating activities is $(43.7) million for the three months ended September 30, 2022.', 'Net cash used in operating activities is $(43.7) million for the three months ended September 30, 2022.', 'Net cash used in operating activities is $(43.7) million for the three months ended September 30, 2022.', 'Net cash used in operating activities is $(43.7) million for the three months ended September 30, 2022.', 'Net cash used in operating activities is $(43.7) million.', 'Net cash used in operating activities is $(43.7) million for the three months ended September 30, 2022.']]\n"
     ]
    }
   ],
   "source": [
    "model = Seq2SeqModel(\n",
    "    encoder_decoder_type=\"bart\", encoder_decoder_name=\"outputs\"\n",
    ")\n",
    "\n",
    "print(\n",
    "    model.predict(\n",
    "        [\n",
    "            \"Net cash used in operating activities was $(43.7) million for the three months ended September 30, 2022 compared to $(25.1) million of net cash used in operating activities for the same period in 2021.\"\n",
    "        ]\n",
    "    )\n",
    ")"
   ]
  },
  {
   "cell_type": "code",
   "execution_count": 18,
   "metadata": {},
   "outputs": [
    {
     "name": "stdout",
     "output_type": "stream",
     "text": [
      "Input file ../../Summary/DATA/PARAPHRASE/Test\\ZS_2023-03-03_EP_YH.txt\n",
      "Detected: \n",
      "\n",
      "Detected: \n",
      "\n",
      "Detected: \n",
      "\n",
      "Detected: \n",
      "\n",
      "Detected: \n",
      "\n",
      "\n",
      "Detected: \n",
      "\n",
      "Detected: \n",
      "\n",
      "\n",
      "\n",
      "Detected: \n",
      "\n",
      "\n",
      "Detected: \n",
      "\n",
      "\n",
      "Detected: \n",
      "\n",
      "\n",
      "Detected: \n",
      "\n",
      "\n",
      "Detected: \n",
      "\n",
      "\n",
      "Detected: \n",
      "\n",
      "\n",
      "Detected: \n",
      "\n",
      "Detected: --\n",
      "Detected: \n",
      "\n",
      "\n",
      "Detected: \n",
      "\n",
      "\n",
      "\n",
      "Detected: \n",
      "\n",
      "\n",
      "Detected: \n",
      "\n",
      "\n",
      "Detected: \n",
      "\n",
      "\n",
      "Detected: \n",
      "\n",
      "\n",
      "Detected: \n",
      "\n",
      "\n",
      "Detected: \n",
      "\n",
      "\n",
      "Detected: \n",
      "\n",
      "\n",
      "Detected: \n",
      "\n",
      "\n",
      "Detected: Story\n",
      "Detected: \n",
      "\n",
      "\n",
      "\n",
      "Detected: \n",
      "\n",
      "\n",
      "Detected: \n",
      "\n",
      "\n",
      "Detected: \n",
      "\n",
      "\n",
      "Detected: \n",
      "\n",
      "\n",
      "Detected: \n",
      "\n",
      "\n",
      "Detected: \n",
      "\n",
      "\n",
      "Detected: \n",
      "\n",
      "\n",
      "Detected: \n",
      "\n",
      "\n",
      "Detected: \n",
      "\n",
      "\n",
      "Detected: \n",
      "\n",
      "\n",
      "\n",
      "Detected: \n",
      "\n",
      "\n",
      "Detected: \n",
      "\n",
      "\n",
      "Detected: \n",
      "\n",
      "\n",
      "Detected: \n",
      "\n",
      "\n",
      "Detected: \n",
      "\n",
      "\n",
      "Detected: \n",
      "\n",
      "\n",
      "Detected: \n",
      "\n",
      "\n",
      "Detected: \n",
      "\n",
      "\n",
      "Detected: \n",
      "\n",
      "\n",
      "Detected: \n",
      "\n",
      "\n",
      "Detected: \n",
      "\n",
      "\n",
      "73\n",
      "ORIGINAL SENTENCE\n",
      "  Zscaler, Inc.\n",
      "PREDICTED PARAPHRASE\n",
      "\n"
     ]
    },
    {
     "data": {
      "application/vnd.jupyter.widget-view+json": {
       "model_id": "1ab70ca9e8bd457f8b329f353711a73d",
       "version_major": 2,
       "version_minor": 0
      },
      "text/plain": [
       "Generating outputs:   0%|          | 0/1 [00:00<?, ?it/s]"
      ]
     },
     "metadata": {},
     "output_type": "display_data"
    },
    {
     "name": "stdout",
     "output_type": "stream",
     "text": [
      "[[' Zscaler, Inc.', ' Zscaler, Inc.', ' Zscaler, Inc.', ' Zscaler, Inc.', ' Zscaler, Inc.', ' Zscaler, Inc.', ' Zscaler, Inc.', ' Zscaler, Inc.', ' Zscaler, Inc.', ' Zscaler, Inc.']]\n",
      "\n",
      "\n",
      "ORIGINAL SENTENCE\n",
      "  Second Quarter Highlights.\n",
      "PREDICTED PARAPHRASE\n",
      "\n"
     ]
    },
    {
     "data": {
      "application/vnd.jupyter.widget-view+json": {
       "model_id": "7b945610aa424f6b9237d02bd34b9a54",
       "version_major": 2,
       "version_minor": 0
      },
      "text/plain": [
       "Generating outputs:   0%|          | 0/1 [00:00<?, ?it/s]"
      ]
     },
     "metadata": {},
     "output_type": "display_data"
    },
    {
     "name": "stdout",
     "output_type": "stream",
     "text": [
      "[[' Second Quarter Highlights.', ' Second Quarter Highlights.', ' Second Quarter Highlights.', ' Second Quarter Highlights.', ' Second Quarter Highlights.', ' Second Quarter Highlights.', ' Second Quarter Highlights.', ' Second Quarter Highlights.', ' Second Quarter Highlights.', ' Second Quarter Highlights.']]\n",
      "\n",
      "\n",
      "ORIGINAL SENTENCE\n",
      "  Revenue grows 52% year-over-year to $387.6 million.\n",
      "PREDICTED PARAPHRASE\n",
      "\n"
     ]
    },
    {
     "data": {
      "application/vnd.jupyter.widget-view+json": {
       "model_id": "ccfeaee51fb74388ad9360e65bde3a1f",
       "version_major": 2,
       "version_minor": 0
      },
      "text/plain": [
       "Generating outputs:   0%|          | 0/1 [00:00<?, ?it/s]"
      ]
     },
     "metadata": {},
     "output_type": "display_data"
    },
    {
     "name": "stdout",
     "output_type": "stream",
     "text": [
      "[[' Revenue is $387.6 million.', ' Revenue is $387.6 million.', ' Revenue is $387.6 million.', ' Revenue is $387.6 million.', ' Revenue is $387.6 million.', ' Revenue is $387.6 million.', ' Revenue is $387.6 million.', ' Revenue is $387.6 million.', ' Revenue is $387.6 million.', ' Revenue is $387.6 million.']]\n",
      "\n",
      "\n",
      "ORIGINAL SENTENCE\n",
      "  Calculated billings grows 34% year-over-year to $493.8 million.\n",
      "PREDICTED PARAPHRASE\n",
      "\n"
     ]
    },
    {
     "data": {
      "application/vnd.jupyter.widget-view+json": {
       "model_id": "68aaae918fba451c8dab72abdffba342",
       "version_major": 2,
       "version_minor": 0
      },
      "text/plain": [
       "Generating outputs:   0%|          | 0/1 [00:00<?, ?it/s]"
      ]
     },
     "metadata": {},
     "output_type": "display_data"
    },
    {
     "name": "stdout",
     "output_type": "stream",
     "text": [
      "[[' Calculated billings is $493.8 million.', ' Calculated billings is $493.8 million.', ' Calculated billings is $493.8 million.', ' Calculated billings is $493.8 million.', ' Calculated billings is $493.8 million.', ' Calculated billings is $493.8 million.', ' Calculated billings is $493.8 million.', ' Calculated billings is $493.8 million.', ' Calculated billings is $493.8 million.', ' Calculated billings is $493.8 million.']]\n",
      "\n",
      "\n",
      "ORIGINAL SENTENCE\n",
      "  Deferred revenue grows 46% year-over-year to $1,111.9 million.\n",
      "PREDICTED PARAPHRASE\n",
      "\n"
     ]
    },
    {
     "data": {
      "application/vnd.jupyter.widget-view+json": {
       "model_id": "8a699c538f754a8199fc44974ce21454",
       "version_major": 2,
       "version_minor": 0
      },
      "text/plain": [
       "Generating outputs:   0%|          | 0/1 [00:00<?, ?it/s]"
      ]
     },
     "metadata": {},
     "output_type": "display_data"
    },
    {
     "name": "stdout",
     "output_type": "stream",
     "text": [
      "[[' Deferred revenue is $1,111.9 million.', ' Deferred revenue is $1,111.9 million.', ' Deferred revenue is $1,111.9 million.', ' Deferred revenue is $1,111.9 million.', ' Deferred revenue is $1,111.9 million.', ' Deferred revenue is $1,111.9 million.', ' Deferred revenue is $1,111.9 million.', ' Deferred revenue is $1,111.9 million.', ' Deferred revenue is $1,111.9 million.', ' Deferred revenue is $1,111.9 million.']]\n",
      "\n",
      "\n",
      "ORIGINAL SENTENCE\n",
      "  GAAP net loss of $57.5 million compared to GAAP net loss of $100.4 million on a year-over-year basis.\n",
      "PREDICTED PARAPHRASE\n",
      "\n"
     ]
    },
    {
     "data": {
      "application/vnd.jupyter.widget-view+json": {
       "model_id": "e7a14b7dd69b47b7916e2ce72bcb29ed",
       "version_major": 2,
       "version_minor": 0
      },
      "text/plain": [
       "Generating outputs:   0%|          | 0/1 [00:00<?, ?it/s]"
      ]
     },
     "metadata": {},
     "output_type": "display_data"
    },
    {
     "name": "stdout",
     "output_type": "stream",
     "text": [
      "[[' GAAP net loss is $57.5 million on a year-over-year basis.', ' GAAP net loss is $57.5 million.', ' GAAP net loss is $57.5 million.', ' GAAP net loss is $57.5 million.', ' GAAP net loss is $57.5 million.', ' GAAP net loss is $57.5 million.', ' GAAP net loss is $57.5 million.', ' GAAP net loss is $57.5 million.', ' GAAP net loss is $57.5 million.', ' GAAP net loss is $57.5 million.']]\n",
      "\n",
      "\n",
      "ORIGINAL SENTENCE\n",
      "  Non-GAAP net income of $57.6 million compared to non-GAAP net income of $19.2 million on a year-over-year basis.\n",
      "PREDICTED PARAPHRASE\n",
      "\n"
     ]
    },
    {
     "data": {
      "application/vnd.jupyter.widget-view+json": {
       "model_id": "ce6b530decbf4788a328aac77de5483f",
       "version_major": 2,
       "version_minor": 0
      },
      "text/plain": [
       "Generating outputs:   0%|          | 0/1 [00:00<?, ?it/s]"
      ]
     },
     "metadata": {},
     "output_type": "display_data"
    },
    {
     "name": "stdout",
     "output_type": "stream",
     "text": [
      "[[' Non-GAAP net income is $57.6 million.', ' Non-GAAP net income is $57.6 million.', ' Non-GAAP net income is $57.6 million.', ' Non-GAAP net income is $57.6 million.', ' Non-GAAP net income is $57.6 million.', ' Non-GAAP net income is $57.6 million.', ' Non-GAAP net income is $57.6 million', ' Non-GAAP net income is $57.6 million.', ' Non-GAAP net income is $57.6 million', ' Non-GAAP net income is $57.6 million.']]\n",
      "\n",
      "\n",
      "ORIGINAL SENTENCE\n",
      "  SAN JOSE, Calif., March 02, 2023 (GLOBE NEWSWIRE)\n",
      "PREDICTED PARAPHRASE\n",
      "\n"
     ]
    },
    {
     "data": {
      "application/vnd.jupyter.widget-view+json": {
       "model_id": "4712c61c226941dcb6612b53dc0d52b8",
       "version_major": 2,
       "version_minor": 0
      },
      "text/plain": [
       "Generating outputs:   0%|          | 0/1 [00:00<?, ?it/s]"
      ]
     },
     "metadata": {},
     "output_type": "display_data"
    },
    {
     "name": "stdout",
     "output_type": "stream",
     "text": [
      "[[' SAN JOSE, Calif., March 02, 2023 (GLOBE NEWSWIRE)', ' SAN JOSE, Calif., March 02, 2023 (GLOBE NEWSWIRE)', ' SAN JOSE, Calif., March 02, 2023 (GLOBE NEWSWIRE)', ' SAN JOSE, Calif., March 02, 2023 (GLOBE NEWSWIRE)', ' SAN JOSE, Calif., March 02, 2023 (GLOBE NEWSWIRE)', ' SAN JOSE, Calif., March 02, 2023 (GLOBE NEWSWIRE)', ' SAN JOSE, Calif., March 02, 2023 (GLOBE NEWSWIRE)', ' SAN JOSE, Calif., March 02, 2023 (GLOBE NEWSWIRE)', ' SAN JOSE, Calif., March 02, 2023 (GLOBE NEWSWIRE)', ' SAN JOSE, Calif., March 02, 2023 (GLOBE NEWSWIRE)']]\n",
      "\n",
      "\n",
      "ORIGINAL SENTENCE\n",
      " -- Zscaler, Inc. (Nasdaq: ZS), the leader in cloud security, today announced financial results for its second quarter of fiscal year 2023, ended January 31, 2023.\n",
      "PREDICTED PARAPHRASE\n",
      "\n"
     ]
    },
    {
     "data": {
      "application/vnd.jupyter.widget-view+json": {
       "model_id": "8e9703a3804d407fa9aa0614741502f0",
       "version_major": 2,
       "version_minor": 0
      },
      "text/plain": [
       "Generating outputs:   0%|          | 0/1 [00:00<?, ?it/s]"
      ]
     },
     "metadata": {},
     "output_type": "display_data"
    },
    {
     "name": "stdout",
     "output_type": "stream",
     "text": [
      "[['-- Zscaler, Inc. (Nasdaq: ZS), the leader in cloud security, today announced financial results for its second quarter of fiscal year 2023, ended January 31, 2023.', '-- Zscaler, Inc. (Nasdaq: ZS), the leader in cloud security, today announced financial results for its second quarter of fiscal year 2023, ended January 31, 2023.', '-- Zscaler, Inc. (Nasdaq: ZS), the leader in cloud security, today announced financial results for its second quarter of fiscal year 2023, ended January 31, 2023.', '-- Zscaler, Inc. (Nasdaq: ZS), the leader in cloud security, today announced financial results for its second quarter of fiscal year 2023, ended January 31, 2023.', '-- Zscaler, Inc. (Nasdaq: ZS), the leader in cloud security, today announced financial results for its second quarter of fiscal year 2023, ended January 31, 2023.', '-- Zscaler, Inc. (Nasdaq: ZS), the leader in cloud security, today announced financial results for its second quarter of fiscal year 2023, ended January 31, 2023.', '-- Zscaler, Inc. (Nasdaq: ZS), the leader in cloud security, today announced financial results for its second quarter of fiscal year 2023, ended January 31, 2023.', '-- Zscaler, Inc. (Nasdaq: ZS), the leader in cloud security, today announced financial results for its second quarter of fiscal year 2023, ended January 31, 2023.', '-- Zscaler, Inc. (Nasdaq: ZS), the leader in cloud security, today announced financial results for its second quarter of fiscal year 2023, ended January 31, 2023.', '-- Zscaler, Inc. (Nasdaq: ZS), the leader in cloud security, today announced financial results for its second quarter of fiscal year 2023, ended January 31, 2023.']]\n",
      "\n",
      "\n",
      "ORIGINAL SENTENCE\n",
      " Even in this difficult macroeconomic environment, we continue to see customers consolidate multiple point products onto our integrated Zero Trust security platform for better security and lower cost.\n",
      "PREDICTED PARAPHRASE\n",
      "\n"
     ]
    },
    {
     "data": {
      "application/vnd.jupyter.widget-view+json": {
       "model_id": "5d85b7f358564e61979fccd23a700819",
       "version_major": 2,
       "version_minor": 0
      },
      "text/plain": [
       "Generating outputs:   0%|          | 0/1 [00:00<?, ?it/s]"
      ]
     },
     "metadata": {},
     "output_type": "display_data"
    },
    {
     "name": "stdout",
     "output_type": "stream",
     "text": [
      "[['Even in this difficult macroeconomic environment, we continue to see customers consolidate multiple point products onto our integrated Zero Trust security platform for better security and lower cost.', 'Even in this difficult macroeconomic environment, we continue to see customers consolidate multiple point products onto our integrated Zero Trust security platform for better security and lower cost.', 'Even in this difficult macroeconomic environment, we continue to see customers consolidate multiple point products onto our integrated Zero Trust security platform for better security and lower cost.', 'Even in this difficult macroeconomic environment, we continue to see customers consolidate multiple point products onto our integrated Zero Trust security platform for better security and lower cost.', 'Even in this difficult macroeconomic environment, we continue to see customers consolidate multiple point products onto our integrated Zero Trust security platform for better security and lower cost.', 'Even in this difficult macroeconomic environment, we continue to see customers consolidate multiple point products onto our integrated Zero Trust security platform for better security and lower cost.', 'Even in this difficult macroeconomic environment, we continue to see customers consolidate multiple point products onto our integrated Zero Trust security platform for better security and lower cost.', 'Even in this difficult macroeconomic environment, we continue to see customers consolidate multiple point products onto our integrated Zero Trust security platform for better security and lower cost.', 'Even in this difficult macroeconomic environment, we continue to see customers consolidate multiple point products onto our integrated Zero Trust security platform for better security and lower cost.', 'Even in this difficult macroeconomic environment, we continue to see customers consolidate multiple point products onto our integrated Zero Trust security platform for better security and lower cost.']]\n",
      "\n",
      "\n",
      "ORIGINAL SENTENCE\n",
      " We believe that strong customer interest in our platform, together with the growth in our annual recurring revenue base, supports the increase to our fiscal year guidance.\".\n",
      "PREDICTED PARAPHRASE\n",
      "\n"
     ]
    },
    {
     "data": {
      "application/vnd.jupyter.widget-view+json": {
       "model_id": "4af5b2e2b2db4f50b61a5339ff64ba7d",
       "version_major": 2,
       "version_minor": 0
      },
      "text/plain": [
       "Generating outputs:   0%|          | 0/1 [00:00<?, ?it/s]"
      ]
     },
     "metadata": {},
     "output_type": "display_data"
    },
    {
     "name": "stdout",
     "output_type": "stream",
     "text": [
      "[['We believe that strong customer interest in our platform, together with the growth in our annual recurring revenue base, supports the increase to our fiscal year guidance.\".', 'We believe that strong customer interest in our platform, together with the growth in our annual recurring revenue base, supports the increase to our fiscal year guidance.\".', 'We believe that strong customer interest in our platform, together with the growth in our annual recurring revenue base, supports the increase to our fiscal year guidance.\".', 'We believe that strong customer interest in our platform, together with the growth in our annual recurring revenue base, supports the increase to our fiscal year guidance.\".', 'We believe that strong customer interest in our platform, together with the growth in our annual recurring revenue base, supports the increase to our fiscal year guidance.\".', 'We believe that strong customer interest in our platform, together with the growth in our annual recurring revenue base, supports the increase to our fiscal year guidance.\".', 'We believe that strong customer interest in our platform, together with the growth in our annual recurring revenue base, supports the increase to our fiscal year guidance.\".', 'We believe that strong customer interest in our platform, together with the growth in our annual recurring revenue base, supports the increase to our fiscal year guidance.\".', 'We believe that strong customer interest in our platform, together with the growth in our annual recurring revenue base, supports the increase to our fiscal year guidance.\".', 'We believe that strong customer interest in our platform, together with the growth in our annual recurring revenue base, supports the increase to our fiscal year guidance.\".']]\n",
      "\n",
      "\n",
      "ORIGINAL SENTENCE\n",
      "  Second Quarter Fiscal 2023 Financial Highlights.\n",
      "PREDICTED PARAPHRASE\n",
      "\n"
     ]
    },
    {
     "data": {
      "application/vnd.jupyter.widget-view+json": {
       "model_id": "bc688ceff4b54d9fa04d99b42d3a1781",
       "version_major": 2,
       "version_minor": 0
      },
      "text/plain": [
       "Generating outputs:   0%|          | 0/1 [00:00<?, ?it/s]"
      ]
     },
     "metadata": {},
     "output_type": "display_data"
    },
    {
     "name": "stdout",
     "output_type": "stream",
     "text": [
      "[[' Second Quarter Fiscal 2023 Financial Highlights.', ' Second Quarter Fiscal 2023 Financial Highlights.', ' Second Quarter Fiscal 2023 Financial Highlights.', ' Second Quarter Fiscal 2023 Financial Highlights.', ' Second Quarter Fiscal 2023 Financial Highlights.', ' Second Quarter Fiscal 2023 Financial Highlights.', ' Second Quarter Fiscal 2023 Financial Highlights.', ' Second Quarter Fiscal 2023 Financial Highlights.', ' Second Quarter Fiscal 2023 Financial Highlights.', ' Second Quarter Fiscal 2023 Financial Highlights.']]\n",
      "\n",
      "\n",
      "ORIGINAL SENTENCE\n",
      "  Revenue: $387.6 million, an increase of 52% year-over-year.\n",
      "PREDICTED PARAPHRASE\n",
      "\n"
     ]
    },
    {
     "data": {
      "application/vnd.jupyter.widget-view+json": {
       "model_id": "2f16b98077a3421782972fbe7cab2a74",
       "version_major": 2,
       "version_minor": 0
      },
      "text/plain": [
       "Generating outputs:   0%|          | 0/1 [00:00<?, ?it/s]"
      ]
     },
     "metadata": {},
     "output_type": "display_data"
    },
    {
     "name": "stdout",
     "output_type": "stream",
     "text": [
      "[[' Revenue is $387.6 million.', ' Revenue is $387.6 million.', ' Revenue is $387.6 million.', ' Revenue is $387.6 million.', ' Revenue is $387.6 million.', ' Revenue is $387.6 million.', ' Revenue is $387.6 million.', ' Revenue is $387.6 million.', ' Revenue is $387.6 million.', ' Revenue is $387.6 million.']]\n",
      "\n",
      "\n",
      "ORIGINAL SENTENCE\n",
      "  Income (loss) from operations: GAAP loss from operations was $65.2 million, or 17% of revenue, compared to $83.9 million, or 33% of revenue, in the second quarter of fiscal 2022.\n",
      "PREDICTED PARAPHRASE\n",
      "\n"
     ]
    },
    {
     "data": {
      "application/vnd.jupyter.widget-view+json": {
       "model_id": "95b8bbb230ad4311ba095c924490304d",
       "version_major": 2,
       "version_minor": 0
      },
      "text/plain": [
       "Generating outputs:   0%|          | 0/1 [00:00<?, ?it/s]"
      ]
     },
     "metadata": {},
     "output_type": "display_data"
    },
    {
     "name": "stdout",
     "output_type": "stream",
     "text": [
      "[[' GAAP loss from operations is $65.2 million.', ' GAAP loss from operations is $65.2 million.', ' GAAP loss from operations is $65.2 million.', ' GAAP loss from operations is $65.2 million.', ' GAAP loss from operations is $65.2 million.', ' GAAP loss from operations is $65.2 million.', ' GAAP loss from operations is $65.2 million.', ' GAAP loss from operations is $65.2 million.', ' GAAP loss from operations is $65.2 million.', ' GAAP loss from operations is $65.2 million.']]\n",
      "\n",
      "\n",
      "ORIGINAL SENTENCE\n",
      " Non-GAAP income from operations was $48.8 million, or 13% of revenue, compared to $22.3 million, or 9% of revenue, in the second quarter of fiscal 2022.\n",
      "PREDICTED PARAPHRASE\n",
      "\n"
     ]
    },
    {
     "data": {
      "application/vnd.jupyter.widget-view+json": {
       "model_id": "93547f5d5ffc456097effd27d215f3f9",
       "version_major": 2,
       "version_minor": 0
      },
      "text/plain": [
       "Generating outputs:   0%|          | 0/1 [00:00<?, ?it/s]"
      ]
     },
     "metadata": {},
     "output_type": "display_data"
    },
    {
     "name": "stdout",
     "output_type": "stream",
     "text": [
      "[['Non-GAAP income from operations is $48.8 million.', 'Non-GAAP income from operations is $48.8 million.', 'Non-GAAP income from operations is $48.8 million.', 'Non-GAAP income from operations is $48.8 million.', 'Non-GAAP income from operations is $48.8 million.', 'Non-GAAP income from operations is $48.8 million.', 'Non-GAAP income from operations is $48.8 million.', 'Non-GAAP income from operations is $48.8 million.', 'Non-GAAP income from operations is $48.8 million.', 'Non-GAAP income from operations is $48.8 million.']]\n",
      "\n",
      "\n",
      "ORIGINAL SENTENCE\n",
      "  Net income (loss): GAAP net loss was $57.5 million, compared to $100.4 million in the second quarter of fiscal 2022.\n",
      "PREDICTED PARAPHRASE\n",
      "\n"
     ]
    },
    {
     "data": {
      "application/vnd.jupyter.widget-view+json": {
       "model_id": "3a9c883a8ba04dd9825c9527d86dd7d5",
       "version_major": 2,
       "version_minor": 0
      },
      "text/plain": [
       "Generating outputs:   0%|          | 0/1 [00:00<?, ?it/s]"
      ]
     },
     "metadata": {},
     "output_type": "display_data"
    },
    {
     "name": "stdout",
     "output_type": "stream",
     "text": [
      "[[' GAAP net loss is $57.5 million.', ' GAAP net loss is $57.5 million.', ' GAAP net loss is $57.5 million.', ' GAAP net loss is $57.5 million.', ' GAAP net loss is $57.5 million.', ' GAAP net loss is $57.5 million.', ' GAAP net loss is $57.5 million.', ' GAAP net loss is $57.5 million.', ' GAAP net loss is $57.5 million.', ' GAAP net loss is $57.5 million.']]\n",
      "\n",
      "\n",
      "ORIGINAL SENTENCE\n",
      " Non-GAAP net income was $57.6 million, compared to $19.2 million in the second quarter of fiscal 2022.\n",
      "PREDICTED PARAPHRASE\n",
      "\n"
     ]
    },
    {
     "data": {
      "application/vnd.jupyter.widget-view+json": {
       "model_id": "128de2a5fccd4619b42ec607cd553454",
       "version_major": 2,
       "version_minor": 0
      },
      "text/plain": [
       "Generating outputs:   0%|          | 0/1 [00:00<?, ?it/s]"
      ]
     },
     "metadata": {},
     "output_type": "display_data"
    },
    {
     "name": "stdout",
     "output_type": "stream",
     "text": [
      "[['Non-GAAP net income is $57.6 million.', 'Non-GAAP net income is $57.6 million in the second quarter of fiscal 2022.', 'Non-GAAP net income is $57.6 million.', 'Non-GAAP net income is $57.6 million in the second quarter of fiscal 2022.', 'Non-GAAP net income is $57.6 million.', 'Non-GAAP net income is $57.6 million.', 'Non-GAAP net income is $57.6 million.', 'Non-GAAP net income is $57.6 million.', 'Non-GAAP net income is $57.6 million.', 'Non-GAAP net income is $57.6 million.']]\n",
      "\n",
      "\n",
      "ORIGINAL SENTENCE\n",
      "  Net income (loss) per share: GAAP net loss per share was $0.40, compared to $0.71 in the second quarter of fiscal 2022.\n",
      "PREDICTED PARAPHRASE\n",
      "\n"
     ]
    },
    {
     "data": {
      "application/vnd.jupyter.widget-view+json": {
       "model_id": "a02151e09c594bb882467da02b8ade4b",
       "version_major": 2,
       "version_minor": 0
      },
      "text/plain": [
       "Generating outputs:   0%|          | 0/1 [00:00<?, ?it/s]"
      ]
     },
     "metadata": {},
     "output_type": "display_data"
    },
    {
     "name": "stdout",
     "output_type": "stream",
     "text": [
      "[[' GAAP net loss per share is $0.40.', ' GAAP net loss per share is $0.40.', ' GAAP net loss per share is $0.40.', ' GAAP net loss per share is $0.40.', ' GAAP net loss per share is $0.40.', ' GAAP net loss per share is $0.40.', ' GAAP net loss per share is $0.40.', ' GAAP net loss per share is $0.40.', ' GAAP net loss per share is $0.40.', ' GAAP net loss per share is $0.40.']]\n",
      "\n",
      "\n",
      "ORIGINAL SENTENCE\n",
      " Non-GAAP net income per share was $0.37, compared to $0.13 in the second quarter of fiscal 2022.\n",
      "PREDICTED PARAPHRASE\n",
      "\n"
     ]
    },
    {
     "data": {
      "application/vnd.jupyter.widget-view+json": {
       "model_id": "194bcf34d15a4fc38d440c4ff4e255c7",
       "version_major": 2,
       "version_minor": 0
      },
      "text/plain": [
       "Generating outputs:   0%|          | 0/1 [00:00<?, ?it/s]"
      ]
     },
     "metadata": {},
     "output_type": "display_data"
    },
    {
     "name": "stdout",
     "output_type": "stream",
     "text": [
      "[['Non-GAAP net income per share is $0.37.', 'Non-GAAP net income per share is $0.37.', 'Non-GAAP net income per share is $0.37.', 'Non-GAAP net income per share is $0.37.', 'Non-GAAP net income per share is $0.37.', 'Non-GAAP net income per share is $0.37.', 'Non-GAAP net income per share is $0.37.', 'Non-GAAP net income per share is $0.37.', 'Non-GAAP net income per share is $0.37.', 'Non-GAAP net income per share is $0.37.']]\n",
      "\n",
      "\n",
      "ORIGINAL SENTENCE\n",
      "  Cash flow: Cash provided by operations was $89.5 million, or 23% of revenue, compared to $48.3 million, or 19% of revenue, in the second quarter of fiscal 2022.\n",
      "PREDICTED PARAPHRASE\n",
      "\n"
     ]
    },
    {
     "data": {
      "application/vnd.jupyter.widget-view+json": {
       "model_id": "6789749af30248b193195c092af781b2",
       "version_major": 2,
       "version_minor": 0
      },
      "text/plain": [
       "Generating outputs:   0%|          | 0/1 [00:00<?, ?it/s]"
      ]
     },
     "metadata": {},
     "output_type": "display_data"
    },
    {
     "name": "stdout",
     "output_type": "stream",
     "text": [
      "[[' Cash provided by operations is $89.5 million.', ' Cash provided by operations is $89.5 million.', ' Cash provided by operations is $89.5 million.', ' Cash provided by operations is $89.5 million.', ' Cash provided by operations is $89.5 million.', ' Cash provided by operations is $89.5 million.', ' Cash provided by operations is $89.5 million.', ' Cash provided by operations is $89.5 million.', ' Cash provided by operations is $89.5 million.', ' Cash provided by operations is $89.5 million.']]\n",
      "\n",
      "\n",
      "ORIGINAL SENTENCE\n",
      " Free cash flow was $62.8 million, or 16% of revenue, compared to $29.4 million, or 12% of revenue, in the second quarter of fiscal 2022.\n",
      "PREDICTED PARAPHRASE\n",
      "\n"
     ]
    },
    {
     "data": {
      "application/vnd.jupyter.widget-view+json": {
       "model_id": "70603c934c074e0cb5ee5a72703b5c78",
       "version_major": 2,
       "version_minor": 0
      },
      "text/plain": [
       "Generating outputs:   0%|          | 0/1 [00:00<?, ?it/s]"
      ]
     },
     "metadata": {},
     "output_type": "display_data"
    },
    {
     "name": "stdout",
     "output_type": "stream",
     "text": [
      "[['Free cash flow is $62.8 million.', 'Free cash flow is $62.8 million.', 'Free cash flow is $62.8 million.', 'Free cash flow is $62.8 million.', 'Free cash flow is $62.8 million.', 'Free cash flow is $62.8 million.', 'Free cash flow is $62.8 million.', 'Free cash flow is $62.8 million.', 'Free cash flow is $62.8 million.', 'Free cash flow is $62.8 million.']]\n",
      "\n",
      "\n",
      "ORIGINAL SENTENCE\n",
      "  Deferred revenue: $1,111.9 million as of January 31, 2023, an increase of 46% year-over-year.\n",
      "PREDICTED PARAPHRASE\n",
      "\n"
     ]
    },
    {
     "data": {
      "application/vnd.jupyter.widget-view+json": {
       "model_id": "b9c6dde0f19a4747989c63834f5c7fa1",
       "version_major": 2,
       "version_minor": 0
      },
      "text/plain": [
       "Generating outputs:   0%|          | 0/1 [00:00<?, ?it/s]"
      ]
     },
     "metadata": {},
     "output_type": "display_data"
    },
    {
     "name": "stdout",
     "output_type": "stream",
     "text": [
      "[[' Deferred revenue is $1,111.9 million.', ' Deferred revenue is $1,111.9 million as of January 31, 2023.', ' Deferred revenue is $1,111.9 million as of January 31, 2023.', ' Deferred revenue is $1,111.9 million as of January 31, 2023.', ' Deferred revenue is $1,111.9 million as of January 31, 2023.', ' Deferred revenue is $1,111.9 million as of January 31, 2023.', ' Deferred revenue is $1,111.9 million as of January 31, 2023.', ' Deferred revenue is $1,111.9 million as of January 31, 2023.', ' Deferred revenue is $1,111.9 million as of January 31, 2023.', ' Deferred revenue is $1,111.9 million as of January 31, 2023.']]\n",
      "\n",
      "\n",
      "ORIGINAL SENTENCE\n",
      "  Cash, cash equivalents and short-term investments: $1,905.3 million as of January 31, 2023, an increase of $174.0 million from July 31, 2022.\n",
      "PREDICTED PARAPHRASE\n",
      "\n"
     ]
    },
    {
     "data": {
      "application/vnd.jupyter.widget-view+json": {
       "model_id": "928dd16f8564451ebe96c5c44d25ff89",
       "version_major": 2,
       "version_minor": 0
      },
      "text/plain": [
       "Generating outputs:   0%|          | 0/1 [00:00<?, ?it/s]"
      ]
     },
     "metadata": {},
     "output_type": "display_data"
    },
    {
     "name": "stdout",
     "output_type": "stream",
     "text": [
      "[[' Cash, cash equivalents and short-term investments is $1,905.3 million as of January 31, 2023.', ' Cash, cash equivalents and short-term investments is $1,905.3 million as of January 31, 2023.', ' Cash, cash equivalents and short-term investments is $1,905.3 million as of January 31, 2023.', ' Cash, cash equivalents and short-term investments is $1,905.3 million as of January 31, 2023.', ' Cash, cash equivalents and short-term investments is $1,905.3 million as of January 31, 2023.', ' Cash, cash equivalents and short-term investments are $1,905.3 million as of January 31, 2023.', ' Cash, cash equivalents and short-term investments is $1,905.3 million as of January 31, 2023.', ' Cash, cash equivalents and short-term investments is $1,905.3 million as of January 31, 2023.', ' Cash, cash equivalents and short-term investments is $1,905.3 million as of January 31, 2023.', ' Cash, cash equivalents and short-term investments is $1,905.3 million as of January 31, 2023.']]\n",
      "\n",
      "\n",
      "ORIGINAL SENTENCE\n",
      " Story continues.\n",
      "PREDICTED PARAPHRASE\n",
      "\n"
     ]
    },
    {
     "data": {
      "application/vnd.jupyter.widget-view+json": {
       "model_id": "60ff95d8ae9740d5a37d5feb8ad7d3ac",
       "version_major": 2,
       "version_minor": 0
      },
      "text/plain": [
       "Generating outputs:   0%|          | 0/1 [00:00<?, ?it/s]"
      ]
     },
     "metadata": {},
     "output_type": "display_data"
    },
    {
     "name": "stdout",
     "output_type": "stream",
     "text": [
      "[['Story continues.', 'Story continues.', 'Story continues.', 'Story continues.', 'Story continues.', 'Story continues.', 'Story continues.', 'Story continues.', 'Story continues.', 'Story continues.']]\n",
      "\n",
      "\n",
      "ORIGINAL SENTENCE\n",
      "  Recent Business Highlights.\n",
      "PREDICTED PARAPHRASE\n",
      "\n"
     ]
    },
    {
     "data": {
      "application/vnd.jupyter.widget-view+json": {
       "model_id": "3222ed06825841eba1ffe9d31bb138c4",
       "version_major": 2,
       "version_minor": 0
      },
      "text/plain": [
       "Generating outputs:   0%|          | 0/1 [00:00<?, ?it/s]"
      ]
     },
     "metadata": {},
     "output_type": "display_data"
    },
    {
     "name": "stdout",
     "output_type": "stream",
     "text": [
      "[[' Recent Business Highlights.', ' Recent Business Highlights.', ' Recent Business Highlights.', ' Recent Business Highlights.', ' Recent Business Highlights.', ' Recent Business Highlights.', ' Recent Business Highlights.', ' Recent Business Highlights.', ' Recent Business Highlights.', ' Recent Business Highlights.']]\n",
      "\n",
      "\n",
      "ORIGINAL SENTENCE\n",
      "  Achieved a rating of AA in the MSCI ESG Ratings assessment, putting Zscaler in the leader category for its ability to manage ESG risks relative to industry peers.\n",
      "PREDICTED PARAPHRASE\n",
      "\n"
     ]
    },
    {
     "data": {
      "application/vnd.jupyter.widget-view+json": {
       "model_id": "ef97b3e417d94275ba5548e29e0643a9",
       "version_major": 2,
       "version_minor": 0
      },
      "text/plain": [
       "Generating outputs:   0%|          | 0/1 [00:00<?, ?it/s]"
      ]
     },
     "metadata": {},
     "output_type": "display_data"
    },
    {
     "name": "stdout",
     "output_type": "stream",
     "text": [
      "[[' Achieved a rating of AA in the MSCI ESG Ratings assessment, putting Zscaler in the leader category for its ability to manage ESG risks relative to industry peers.', ' Achieved a rating of AA in the MSCI ESG Ratings assessment, putting Zscaler in the leader category for its ability to manage ESG risks relative to industry peers.', ' Achieved a rating of AA in the MSCI ESG Ratings assessment, putting Zscaler in the leader category for its ability to manage ESG risks relative to industry peers.', ' Achieved a rating of AA in the MSCI ESG Ratings assessment, putting Zscaler in the leader category for its ability to manage ESG risks relative to industry peers.', ' Achieved a rating of AA in the MSCI ESG Ratings assessment, putting Zscaler in the leader category for its ability to manage ESG risks relative to industry peers.', ' Achieved a rating of AA in the MSCI ESG Ratings assessment, putting Zscaler in the leader category for its ability to manage ESG risks relative to industry peers.', ' Achieved a rating of AA in the MSCI ESG Ratings assessment, putting Zscaler in the leader category for its ability to manage ESG risks relative to industry peers.', ' Achieved a rating of AA in the MSCI ESG Ratings assessment, putting Zscaler in the leader category for its ability to manage ESG risks relative to industry peers.', ' Achieved a rating of AA in the MSCI ESG Ratings assessment, putting Zscaler in the leader category for its ability to manage ESG risks relative to industry peers.', ' Achieved a rating of AA in the MSCI ESG Ratings assessment, putting Zscaler in the leader category for its ability to manage ESG risks relative to industry peers.']]\n",
      "\n",
      "\n",
      "ORIGINAL SENTENCE\n",
      "  Released new integrations with Zoom Video Communications, Inc. Quality of Service Subscription offering and Zscaler Digital Experience™ monitoring service to deliver IT and helpdesk teams near real-time quality performance metrics and analytics to quickly troubleshoot issues within devices, networks, or services that impact employee collaboration.\n",
      "PREDICTED PARAPHRASE\n",
      "\n"
     ]
    },
    {
     "data": {
      "application/vnd.jupyter.widget-view+json": {
       "model_id": "650813b5921f4c32a96ee049122a785b",
       "version_major": 2,
       "version_minor": 0
      },
      "text/plain": [
       "Generating outputs:   0%|          | 0/1 [00:00<?, ?it/s]"
      ]
     },
     "metadata": {},
     "output_type": "display_data"
    },
    {
     "name": "stdout",
     "output_type": "stream",
     "text": [
      "[[' Released new integrations with Zoom Video Communications, Inc. Quality of Service Subscription offering and Zscaler Digital Experience™ monitoring service to deliver IT and helpdesk teams near real-time quality performance metrics and analytics to quickly troubleshoot issues within devices, networks, or services that impact employee collaboration.', ' Released new integrations with Zoom Video Communications, Inc. Quality of Service Subscription offering and Zscaler Digital Experience™ monitoring service to deliver IT and helpdesk teams near real-time quality performance metrics and analytics to quickly troubleshoot issues within devices, networks, or services that impact employee collaboration.', ' Released new integrations with Zoom Video Communications, Inc. Quality of Service Subscription offering and Zscaler Digital Experience™ monitoring service to deliver IT and helpdesk teams near real-time quality performance metrics and analytics to quickly troubleshoot issues within devices, networks, or services that impact employee collaboration.', ' Released new integrations with Zoom Video Communications, Inc. Quality of Service Subscription offering and Zscaler Digital Experience™ monitoring service to deliver IT and helpdesk teams near real-time quality performance metrics and analytics to quickly troubleshoot issues within devices, networks, or services that impact employee collaboration.', ' Released new integrations with Zoom Video Communications, Inc. Quality of Service Subscription offering and Zscaler Digital Experience™ monitoring service to deliver IT and helpdesk teams near real-time quality performance metrics and analytics to quickly troubleshoot issues within devices, networks, or services that impact employee collaboration.', ' Released new integrations with Zoom Video Communications, Inc. Quality of Service Subscription offering and Zscaler Digital Experience™ monitoring service to deliver IT and helpdesk teams near real-time quality performance metrics and analytics to quickly troubleshoot issues within devices, networks, or services that impact employee collaboration.', ' Released new integrations with Zoom Video Communications, Inc. Quality of Service Subscription offering and Zscaler Digital Experience™ monitoring service to deliver IT and helpdesk teams near real-time quality performance metrics and analytics to quickly troubleshoot issues within devices, networks, or services that impact employee collaboration.', ' Released new integrations with Zoom Video Communications, Inc. Quality of Service Subscription offering and Zscaler Digital Experience™ monitoring service to deliver IT and helpdesk teams near real-time quality performance metrics and analytics to quickly troubleshoot issues within devices, networks, or services that impact employee collaboration.', ' Released new integrations with Zoom Video Communications, Inc. Quality of Service Subscription offering and Zscaler Digital Experience™ monitoring service to deliver IT and helpdesk teams near real-time quality performance metrics and analytics to quickly troubleshoot issues within devices, networks, or services that impact employee collaboration.', ' Released new integrations with Zoom Video Communications, Inc. Quality of Service Subscription offering and Zscaler Digital Experience™ monitoring service to deliver IT and helpdesk teams near real-time quality performance metrics and analytics to quickly troubleshoot issues within devices, networks, or services that impact employee collaboration.']]\n",
      "\n",
      "\n",
      "ORIGINAL SENTENCE\n",
      "  Announced that Zscaler Private Access™ has achieved FedRAMP Moderate authorization, making Zscaler the only cloud security service provider to have its core services now authorized through the U.S. Federal government’s FedRAMP program at High and Moderate levels.\n",
      "PREDICTED PARAPHRASE\n",
      "\n"
     ]
    },
    {
     "data": {
      "application/vnd.jupyter.widget-view+json": {
       "model_id": "ef284c4f376c40e4828d5ed5e0cbcb02",
       "version_major": 2,
       "version_minor": 0
      },
      "text/plain": [
       "Generating outputs:   0%|          | 0/1 [00:00<?, ?it/s]"
      ]
     },
     "metadata": {},
     "output_type": "display_data"
    },
    {
     "name": "stdout",
     "output_type": "stream",
     "text": [
      "[[' Announced that Zscaler Private Access™ has achieved FedRAMP Moderate authorization, making Zscaling the only cloud security service provider to have its core services now authorized through the U.S. Federal government’s FedRamp program at High and Moderate levels.', ' Announced that Zscaler Private Access™ has achieved FedRAMP Moderate authorization, making Zscal the only cloud security service provider to have its core services now authorized through the U.S. Federal government’s FedRamp program at High and Moderate levels.', ' Announced that Zscaler Private Access™ has achieved FedRAMP Moderate authorization, making Zscal the only cloud security service provider to have its core services now authorized through the U.S. Federal government’s FedRamp program at High and Moderate levels.', ' Announced that Zscaler Private Access™ has achieved FedRAMP Moderate authorization, making Zscal the only cloud security service provider to have its core services now authorized through the U.S. Federal government’s FedRamp program at High and Moderate levels.', ' Announced that Zscaler Private Access™ has achieved FedRAMP Moderate authorization, making Zscaling the only cloud security service provider to have its core services now authorized through the U.S. Federal government’s FedRamp program at High and Moderate levels.', ' Announced that Zscaler Private Access™ has achieved FedRAMP Moderate authorization, making Zscal the only cloud security service provider to have its core services now authorized through the U.S. Federal government’s FedRamp program at High and Moderate levels.', ' Announced that Zscaler Private Access™ has achieved FedRAMP Moderate authorization, making Zscaling the only cloud security service provider to have its core services now authorized through the U.S. Federal government’s FedRamp program at High and Moderate levels.', ' Announced that Zscaler Private Access™ has achieved FedRAMP Moderate authorization, making Zscal the only cloud security service provider to have its core services now authorized through the U.S. Federal government’s FedRamp program at High and Moderate levels.', ' Announced that Zscaler Private Access™ has achieved FedRAMP Moderate authorization, making Zscal the only cloud security service provider to have its core services now authorized through the U.S. Federal government’s FedRamp program at High and Moderate levels.', ' Announced that Zscaler Private Access™ has achieved FedRAMP Moderate authorization, making Zscaling the only cloud security service provider to have its core services now authorized through the U.S. Federal government’s FedRamp program at High and Moderate levels.']]\n",
      "\n",
      "\n",
      "ORIGINAL SENTENCE\n",
      " Government agencies and their contractors can use the Zscaler Zero Trust Exchange™ platform for systems that manage their most sensitive information and protect against cyber threats.\n",
      "PREDICTED PARAPHRASE\n",
      "\n"
     ]
    },
    {
     "data": {
      "application/vnd.jupyter.widget-view+json": {
       "model_id": "341b3f69e3e049f2a18fa7c296839670",
       "version_major": 2,
       "version_minor": 0
      },
      "text/plain": [
       "Generating outputs:   0%|          | 0/1 [00:00<?, ?it/s]"
      ]
     },
     "metadata": {},
     "output_type": "display_data"
    },
    {
     "name": "stdout",
     "output_type": "stream",
     "text": [
      "[['Government agencies and their contractors can use the Zscaler Zero Trust Exchange™ platform for systems that manage their most sensitive information and protect against cyber threats.', 'Government agencies and their contractors can use the Zscaler Zero Trust Exchange™ platform for systems that manage their most sensitive information and protect against cyber threats.', 'Government agencies and their contractors can use the Zscaler Zero Trust Exchange™ platform for systems that manage their most sensitive information and protect against cyber threats.', 'Government agencies and their contractors can use the Zscaler Zero Trust Exchange™ platform for systems that manage their most sensitive information and protect against cyber threats.', 'Government agencies and their contractors can use the Zscaler Zero Trust Exchange™ platform for systems that manage their most sensitive information and protect against cyber threats.', 'Government agencies and their contractors can use the Zscaler Zero Trust Exchange™ platform for systems that manage their most sensitive information and protect against cyber threats.', 'Government agencies and their contractors can use the Zscaler Zero Trust Exchange™ platform for systems that manage their most sensitive information and protect against cyber threats.', 'Government agencies and their contractors can use the Zscaler Zero Trust Exchange™ platform for systems that manage their most sensitive information and protect against cyber threats.', 'Government agencies and their contractors can use the Zscaler Zero Trust Exchange™ platform for systems that manage their most sensitive information and protect against cyber threats.', 'Government agencies and their contractors can use the Zscaler Zero Trust Exchange™ platform for systems that manage their most sensitive information and protect against cyber threats.']]\n",
      "\n",
      "\n",
      "ORIGINAL SENTENCE\n",
      "  Released annual State of Encrypted Attacks Report, which details the analysis of more than 24 billion threats to track trends of HTTPS-based attacks.\n",
      "PREDICTED PARAPHRASE\n",
      "\n"
     ]
    },
    {
     "data": {
      "application/vnd.jupyter.widget-view+json": {
       "model_id": "652cbbc401b2464c9a7814a3ed1edeb0",
       "version_major": 2,
       "version_minor": 0
      },
      "text/plain": [
       "Generating outputs:   0%|          | 0/1 [00:00<?, ?it/s]"
      ]
     },
     "metadata": {},
     "output_type": "display_data"
    },
    {
     "name": "stdout",
     "output_type": "stream",
     "text": [
      "[[' Released annual State of Encrypted Attacks Report, which details the analysis of more than 24 billion threats to track trends of HTTPS-based attacks.', ' Released annual State of Encrypted Attacks Report, which details the analysis of more than 24 billion threats to track trends of HTTPS-based attacks.', ' Released annual State of Encrypted Attacks Report, which details the analysis of more than 24 billion threats to track trends of HTTPS-based attacks.', ' Released annual State of Encrypted Attacks Report, which details the analysis of more than 24 billion threats to track trends of HTTPS-based attacks.', ' Released annual State of Encrypted Attacks Report, which details the analysis of more than 24 billion threats to track trends of HTTPS-based attacks.', ' Released annual State of Encrypted Attacks Report, which details the analysis of more than 24 billion threats to track trends of HTTPS-based attacks.', ' Released annual State of Encrypted Attacks Report, which details the analysis of more than 24 billion threats to track trends of HTTPS-based attacks.', ' Released annual State of Encrypted Attacks Report, which details the analysis of more than 24 billion threats to track trends of HTTPS-based attacks.', ' Released annual State of Encrypted Attacks Report, which details the analysis of more than 24 billion threats to track trends of HTTPS-based attacks.', ' Released annual State of Encrypted Attacks Report, which details the analysis of more than 24 billion threats to track trends of HTTPS-based attacks.']]\n",
      "\n",
      "\n",
      "ORIGINAL SENTENCE\n",
      " The research leveraged insights from more than 300 trillion daily signals and 270 billion daily transactions in the Zscaler Zero Trust Exchange™.\n",
      "PREDICTED PARAPHRASE\n",
      "\n"
     ]
    },
    {
     "data": {
      "application/vnd.jupyter.widget-view+json": {
       "model_id": "baf4ef2e343e4bd5a8421fd755ff3620",
       "version_major": 2,
       "version_minor": 0
      },
      "text/plain": [
       "Generating outputs:   0%|          | 0/1 [00:00<?, ?it/s]"
      ]
     },
     "metadata": {},
     "output_type": "display_data"
    },
    {
     "name": "stdout",
     "output_type": "stream",
     "text": [
      "[['The research leveraged insights from more than 300 trillion daily signals and 270 billion daily transactions in the Zscaler Zero Trust Exchange™.', 'The research leveraged insights from more than 300 trillion daily signals and 270 billion daily transactions in the Zscaler Zero Trust Exchange™.', 'The research leveraged insights from more than 300 trillion daily signals and 270 billion daily transactions in the Zscaler Zero Trust Exchange™.', 'The research leveraged insights from more than 300 trillion daily signals and 270 billion daily transactions in the Zscaler Zero Trust Exchange™.', 'The research leveraged insights from more than 300 trillion daily signals and 270 billion daily transactions in the Zscaler Zero Trust Exchange™.', 'The research leveraged insights from more than 300 trillion daily signals and 270 billion daily transactions in the Zscaler Zero Trust Exchange™.', 'The research leveraged insights from more than 300 trillion daily signals and 270 billion daily transactions in the Zscaler Zero Trust Exchange™.', 'The research leveraged insights from more than 300 trillion daily signals and 270 billion daily transactions in the Zscaler Zero Trust Exchange™.', 'The research leveraged insights from more than 300 trillion daily signals and 270 billion daily transactions in the Zscaler Zero Trust Exchange™.', 'The research leveraged insights from more than 300 trillion daily signals and 270 billion daily transactions in the Zscaler Zero Trust Exchange™.']]\n",
      "\n",
      "\n",
      "ORIGINAL SENTENCE\n",
      "  Reinforced commitment to improving the nation’s cyber resiliency by joining the Joint Cyber Defense Collaborative (JCDC).\n",
      "PREDICTED PARAPHRASE\n",
      "\n"
     ]
    },
    {
     "data": {
      "application/vnd.jupyter.widget-view+json": {
       "model_id": "e7ee484e5e894a6e94a5979f4a15a118",
       "version_major": 2,
       "version_minor": 0
      },
      "text/plain": [
       "Generating outputs:   0%|          | 0/1 [00:00<?, ?it/s]"
      ]
     },
     "metadata": {},
     "output_type": "display_data"
    },
    {
     "name": "stdout",
     "output_type": "stream",
     "text": [
      "[[' Reinforced commitment to improving the nation’s cyber resiliency by joining the Joint Cyber Defense Collaborative (JCDC).', ' Reinforced commitment to improving the nation’s cyber resiliency by joining the Joint Cyber Defense Collaborative (JCDC).', ' Reinforced commitment to improving the nation’s cyber resiliency by joining the Joint Cyber Defense Collaborative (JCDC).', ' Reinforced commitment to improving the nation’s cyber resiliency by joining the Joint Cyber Defense Collaborative (JCDC).', ' Reinforced commitment to improving the nation’s cyber resiliency by joining the Joint Cyber Defense Collaborative (JCDC).', ' Reinforced commitment to improving the nation’s cyber resiliency by joining the Joint Cyber Defense Collaborative (JCDC).', ' Reinforced commitment to improving the nation’s cyber resiliency by joining the Joint Cyber Defense Collaborative (JCDC).', ' Reinforced commitment to improving the nation’s cyber resiliency by joining the Joint Cyber Defense Collaborative (JCDC).', ' Reinforced commitment to improving the nation’s cyber resiliency by joining the Joint Cyber Defense Collaborative (JCDC).', ' Reinforced commitment to improving the nation’s cyber resiliency by joining the Joint Cyber Defense Collaborative (JCDC).']]\n",
      "\n",
      "\n",
      "ORIGINAL SENTENCE\n",
      " The JCDC leads the development and implementation of joint cyber defense plans and operations through critical partnerships with the private sector, Federal government and state, local, tribal and territorial governments.\n",
      "PREDICTED PARAPHRASE\n",
      "\n"
     ]
    },
    {
     "data": {
      "application/vnd.jupyter.widget-view+json": {
       "model_id": "205f693cfa5d4e89917225f9057d6c32",
       "version_major": 2,
       "version_minor": 0
      },
      "text/plain": [
       "Generating outputs:   0%|          | 0/1 [00:00<?, ?it/s]"
      ]
     },
     "metadata": {},
     "output_type": "display_data"
    },
    {
     "name": "stdout",
     "output_type": "stream",
     "text": [
      "[['The JCDC leads the development and implementation of joint cyber defense plans and operations through critical partnerships with the private sector, Federal government and state, local, tribal and territorial governments.', 'The JCDC leads the development and implementation of joint cyber defense plans and operations through critical partnerships with the private sector, Federal government and state, local, tribal and territorial governments.', 'The JCDC leads the development and implementation of joint cyber defense plans and operations through critical partnerships with the private sector, Federal government and state, local, tribal and territorial governments.', 'The JCDC leads the development and implementation of joint cyber defense plans and operations through critical partnerships with the private sector, Federal government and state, local, tribal and territorial governments.', 'The JCDC leads the development and implementation of joint cyber defense plans and operations through critical partnerships with the private sector, Federal government and state, local, tribal and territorial governments.', 'The JCDC leads the development and implementation of joint cyber defense plans and operations through critical partnerships with the private sector, Federal government and state, local, tribal and territorial governments.', 'The JCDC leads the development and implementation of joint cyber defense plans and operations through critical partnerships with the private sector, Federal government and state, local, tribal and territorial governments.', 'The JCDC leads the development and implementation of joint cyber defense plans and operations through critical partnerships with the private sector, Federal government and state, local, tribal and territorial governments.', 'The JCDC leads the development and implementation of joint cyber defense plans and operations through critical partnerships with the private sector, Federal government and state, local, tribal and territorial governments.', 'The JCDC leads the development and implementation of joint cyber defense plans and operations through critical partnerships with the private sector, Federal government and state, local, tribal and territorial governments.']]\n",
      "\n",
      "\n",
      "ORIGINAL SENTENCE\n",
      "  Introduced Zscaler Resilience™, the industry’s first cloud resilience for SSE to ensure nonstop cloud security operations.\n",
      "PREDICTED PARAPHRASE\n",
      "\n"
     ]
    },
    {
     "data": {
      "application/vnd.jupyter.widget-view+json": {
       "model_id": "99555c69ecec43be84f31d7e83cf7e84",
       "version_major": 2,
       "version_minor": 0
      },
      "text/plain": [
       "Generating outputs:   0%|          | 0/1 [00:00<?, ?it/s]"
      ]
     },
     "metadata": {},
     "output_type": "display_data"
    },
    {
     "name": "stdout",
     "output_type": "stream",
     "text": [
      "[[' Introduced Zscaler Resilience™, the industry’s first cloud resilience for SSE to ensure nonstop cloud security operations.', ' Introduced Zscaler Resilience™, the industry’s first cloud resilience for SSE to ensure nonstop cloud security operations.', ' Introduced Zscaler Resilience™, the industry’s first cloud resilience for SSE to ensure nonstop cloud security operations.', ' Introduced Zscaler Resilience™, the industry’s first cloud resilience for SSE to ensure nonstop cloud security operations.', ' Introduced Zscaler Resilience™, the industry’s first cloud resilience for SSE to ensure nonstop cloud security operations.', ' Introduced Zscaler Resilience™, the industry’s first cloud resilience for SSE to ensure nonstop cloud security operations.', ' Introduced Zscaler Resilience™, the industry’s first cloud resilience for SSE to ensure nonstop cloud security operations.', ' Introduced Zscaler Resilience™, the industry’s first cloud resilience for SSE to ensure nonstop cloud security operations.', ' Introduced Zscaler Resilience™, the industry’s first cloud resilience for SSE to ensure nonstop cloud security operations.', ' Introduced Zscaler Resilience™, the industry’s first cloud resilience for SSE to ensure nonstop cloud security operations.']]\n",
      "\n",
      "\n",
      "ORIGINAL SENTENCE\n",
      " New capabilities extend the resilience of Zscaler’s architecture and maintain interconnections with critical cloud-based applications for customers to prepare for and quickly recover from black swan events that could otherwise disrupt or stop business operations.\n",
      "PREDICTED PARAPHRASE\n",
      "\n"
     ]
    },
    {
     "data": {
      "application/vnd.jupyter.widget-view+json": {
       "model_id": "458ba075b7084f51ae91e4cf2799195e",
       "version_major": 2,
       "version_minor": 0
      },
      "text/plain": [
       "Generating outputs:   0%|          | 0/1 [00:00<?, ?it/s]"
      ]
     },
     "metadata": {},
     "output_type": "display_data"
    },
    {
     "name": "stdout",
     "output_type": "stream",
     "text": [
      "[['New capabilities extend the resilience of Zscaler’s architecture and maintain interconnections with critical cloud-based applications for customers to prepare for and quickly recover from black swan events that could otherwise disrupt or stop business operations.', 'New capabilities extend the resilience of Zscaler’s architecture and maintain interconnections with critical cloud-based applications for customers to prepare for and quickly recover from black swan events that could otherwise disrupt or stop business operations.', 'New capabilities extend the resilience of Zscaler’s architecture and maintain interconnections with critical cloud-based applications for customers to prepare for and quickly recover from black swan events that could otherwise disrupt or stop business operations.', 'New capabilities extend the resilience of Zscaler’s architecture and maintain interconnections with critical cloud-based applications for customers to prepare for and quickly recover from black swan events that could otherwise disrupt or stop business operations.', 'New capabilities extend the resilience of Zscaler’s architecture and maintain interconnections with critical cloud-based applications for customers to prepare for and quickly recover from black swan events that could otherwise disrupt or stop business operations.', 'New capabilities extend the resilience of Zscaler’s architecture and maintain interconnections with critical cloud-based applications for customers to prepare for and quickly recover from black swan events that could otherwise disrupt or stop business operations.', 'New capabilities extend the resilience of Zscaler’s architecture and maintain interconnections with critical cloud-based applications for customers to prepare for and quickly recover from black swan events that could otherwise disrupt or stop business operations.', 'New capabilities extend the resilience of Zscaler’s architecture and maintain interconnections with critical cloud-based applications for customers to prepare for and quickly recover from black swan events that could otherwise disrupt or stop business operations.', 'New capabilities extend the resilience of Zscaler’s architecture and maintain interconnections with critical cloud-based applications for customers to prepare for and quickly recover from black swan events that could otherwise disrupt or stop business operations.', 'New capabilities extend the resilience of Zscaler’s architecture and maintain interconnections with critical cloud-based applications for customers to prepare for and quickly recover from black swan events that could otherwise disrupt or stop business operations.']]\n",
      "\n",
      "\n",
      "ORIGINAL SENTENCE\n",
      "  Acquired Canonic Security™ in February 2023, a SaaS application security platform innovator.\n",
      "PREDICTED PARAPHRASE\n",
      "\n"
     ]
    },
    {
     "data": {
      "application/vnd.jupyter.widget-view+json": {
       "model_id": "c4b9afffad564df0ad97e05891490299",
       "version_major": 2,
       "version_minor": 0
      },
      "text/plain": [
       "Generating outputs:   0%|          | 0/1 [00:00<?, ?it/s]"
      ]
     },
     "metadata": {},
     "output_type": "display_data"
    },
    {
     "name": "stdout",
     "output_type": "stream",
     "text": [
      "[[' Acquired Canonic Security™ in February 2023, a SaaS application security platform innovator.', ' Acquired Canonic Security™ in February 2023, a SaaS application security platform innovator.', ' Acquired Canonic Security™ in February 2023, a SaaS application security platform innovator.', ' Acquired Canonic Security™ in February 2023, a SaaS application security platform innovator.', ' Acquired Canonic Security™ in February 2023, a SaaS application security platform innovator.', ' Acquired Canonic Security™ in February 2023, a SaaS application security platform innovator.', ' Acquired Canonic Security™ in February 2023, a SaaS application security platform innovator.', ' Acquired Canonic Security™ in February 2023, a SaaS application security platform innovator.', ' Acquired Canonic Security™ in February 2023, a SaaS application security platform innovator.', ' Acquired Canonic Security™ in February 2023, a SaaS application security platform innovator.']]\n",
      "\n",
      "\n",
      "ORIGINAL SENTENCE\n",
      " Canonic’s platform is designed to prevent organizations' growing risks of SaaS supply chain attacks.\n",
      "PREDICTED PARAPHRASE\n",
      "\n"
     ]
    },
    {
     "data": {
      "application/vnd.jupyter.widget-view+json": {
       "model_id": "19dbc9124b914ad1a766069b50232f8b",
       "version_major": 2,
       "version_minor": 0
      },
      "text/plain": [
       "Generating outputs:   0%|          | 0/1 [00:00<?, ?it/s]"
      ]
     },
     "metadata": {},
     "output_type": "display_data"
    },
    {
     "name": "stdout",
     "output_type": "stream",
     "text": [
      "[[\"Canonic’s platform is designed to prevent organizations' growing risks of SaaS supply chain attacks.\", \"Canonic’s platform is designed to prevent organizations' growing risks of SaaS supply chain attacks.\", \"Canonic’s platform is designed to prevent organizations' growing risks of SaaS supply chain attacks.\", \"Canonic’s platform is designed to prevent organizations' growing risks of SaaS supply chain attacks.\", \"Canonic’s platform is designed to prevent organizations' growing risks of SaaS supply chain attacks.\", \"Canonic’s platform is designed to prevent organizations' growing risks of SaaS supply chain attacks.\", \"Canonic’s platform is designed to prevent organizations' growing risks of SaaS supply chain attacks.\", \"Canonic’s platform is designed to prevent organizations' growing risks of SaaS supply chain attacks.\", \"Canonic’s platform is designed to prevent organizations' growing risks of SaaS supply chain attacks.\", \"Canonic’s platform is designed to prevent organizations' growing risks of SaaS supply chain attacks.\"]]\n",
      "\n",
      "\n",
      "ORIGINAL SENTENCE\n",
      " These new capabilities further expand the Zscaler Zero Trust Exchange™ data protection set of services enabling enterprises to protect data being accessed through third-party applications and integrations.\n",
      "PREDICTED PARAPHRASE\n",
      "\n"
     ]
    },
    {
     "data": {
      "application/vnd.jupyter.widget-view+json": {
       "model_id": "e25e263679de480cb2abef9f890b564e",
       "version_major": 2,
       "version_minor": 0
      },
      "text/plain": [
       "Generating outputs:   0%|          | 0/1 [00:00<?, ?it/s]"
      ]
     },
     "metadata": {},
     "output_type": "display_data"
    },
    {
     "name": "stdout",
     "output_type": "stream",
     "text": [
      "[['These new capabilities further expand the Zscaler Zero Trust Exchange™ data protection set of services enabling enterprises to protect data being accessed through third-party applications and integrations.', 'These new capabilities further expand the Zscaler Zero Trust Exchange™ data protection set of services enabling enterprises to protect data being accessed through third-party applications and integrations.', 'These new capabilities further expand the Zscaler Zero Trust Exchange™ data protection set of services enabling enterprises to protect data being accessed through third-party applications and integrations.', 'These new capabilities further expand the Zscaler Zero Trust Exchange™ data protection set of services enabling enterprises to protect data being accessed through third-party applications and integrations.', 'These new capabilities further expand the Zscaler Zero Trust Exchange™ data protection set of services enabling enterprises to protect data being accessed through third-party applications and integrations.', 'These new capabilities further expand the Zscaler Zero Trust Exchange™ data protection set of services enabling enterprises to protect data being accessed through third-party applications and integrations.', 'These new capabilities further expand the Zscaler Zero Trust Exchange™ data protection set of services enabling enterprises to protect data being accessed through third-party applications and integrations.', 'These new capabilities further expand the Zscaler Zero Trust Exchange™ data protection set of services enabling enterprises to protect data being accessed through third-party applications and integrations.', 'These new capabilities further expand the Zscaler Zero Trust Exchange™ data protection set of services enabling enterprises to protect data being accessed through third-party applications and integrations.', 'These new capabilities further expand the Zscaler Zero Trust Exchange™ data protection set of services enabling enterprises to protect data being accessed through third-party applications and integrations.']]\n",
      "\n",
      "\n",
      "ORIGINAL SENTENCE\n",
      "  Recently Issued Accounting Pronouncements.\n",
      "PREDICTED PARAPHRASE\n",
      "\n"
     ]
    },
    {
     "data": {
      "application/vnd.jupyter.widget-view+json": {
       "model_id": "1686e03ee2714ede9563d7a119580788",
       "version_major": 2,
       "version_minor": 0
      },
      "text/plain": [
       "Generating outputs:   0%|          | 0/1 [00:00<?, ?it/s]"
      ]
     },
     "metadata": {},
     "output_type": "display_data"
    },
    {
     "name": "stdout",
     "output_type": "stream",
     "text": [
      "[[' Recently Issued Accounting Pronouncements.', ' Recently Issued Accounting Pronouncements.', ' Recently Issued Accounting Pronouncements.', ' Recently Issued Accounting Pronouncements.', ' Recently Issued Accounting Pronouncements.', ' Recently Issued Accounting Pronouncements.', ' Recently Issued Accounting Pronouncements.', ' Recently Issued Accounting Pronouncements.', ' Recently Issued Accounting Pronouncements.', ' Recently Issued Accounting Pronouncements.']]\n",
      "\n",
      "\n",
      "ORIGINAL SENTENCE\n",
      "  Effective August 1, 2022, the beginning of our fiscal year ending July 31, 2023, we adopted Accounting Standards Update No.\n",
      "PREDICTED PARAPHRASE\n",
      "\n"
     ]
    },
    {
     "data": {
      "application/vnd.jupyter.widget-view+json": {
       "model_id": "f58f31837f2f47ac889d3752ffde5031",
       "version_major": 2,
       "version_minor": 0
      },
      "text/plain": [
       "Generating outputs:   0%|          | 0/1 [00:00<?, ?it/s]"
      ]
     },
     "metadata": {},
     "output_type": "display_data"
    },
    {
     "name": "stdout",
     "output_type": "stream",
     "text": [
      "[[' Effective August 1, 2022, the beginning of our fiscal year ending July 31, 2023, we adopted Accounting Standards Update No.', ' Effective August 1, 2022, the beginning of our fiscal year ending July 31, 2023, we adopted Accounting Standards Update No.', ' Effective August 1, 2022, the beginning of our fiscal year ending July 31, 2023, we adopted Accounting Standards Update No.', ' Effective August 1, 2022, the beginning of our fiscal year ending July 31, 2023, we adopted Accounting Standards Update No.', ' Effective August 1, 2022, the beginning of our fiscal year ending July 31, 2023, we adopted Accounting Standards Update No.', ' Effective August 1, 2022, the beginning of our fiscal year ending July 31, 2023, we adopted Accounting Standards Update No.', ' Effective August 1, 2022, the beginning of our fiscal year ending July 31, 2023, we adopted Accounting Standards Update No.', ' Effective August 1, 2022, the beginning of our fiscal year ending July 31, 2023, we adopted Accounting Standards Update No.', ' Effective August 1, 2022, the beginning of our fiscal year ending July 31, 2023, we adopted Accounting Standards Update No.', ' Effective August 1, 2022, the beginning of our fiscal year ending July 31, 2023, we adopted Accounting Standards Update No.']]\n",
      "\n",
      "\n",
      "ORIGINAL SENTENCE\n",
      " 2020-06, Debt with Conversion and Other Options (Subtopic 470-20) and Derivatives and Hedging - Contracts in Entity’s Own Equity (Subtopic 815-40) (ASU 2020-06), using the modified retrospective transition method.\n",
      "PREDICTED PARAPHRASE\n",
      "\n"
     ]
    },
    {
     "data": {
      "application/vnd.jupyter.widget-view+json": {
       "model_id": "9dc17e6f9e754506bee02c29c67e10cc",
       "version_major": 2,
       "version_minor": 0
      },
      "text/plain": [
       "Generating outputs:   0%|          | 0/1 [00:00<?, ?it/s]"
      ]
     },
     "metadata": {},
     "output_type": "display_data"
    },
    {
     "name": "stdout",
     "output_type": "stream",
     "text": [
      "[['2020-06, Debt with Conversion and Other Options (Subtopic 470-20) and Derivatives and Hedging - Contracts in Entity’s Own Equity (SubTopic 815-40) (ASU 2020-06), using the modified retrospective transition method.', '2020-06, Debt with Conversion and Other Options (Subtopic 470-20) and Derivatives and Hedging - Contracts in Entity’s Own Equity (SubTopic 815-40) (ASU 2020-06), using the modified retrospective transition method.', '2020-06, Debt with Conversion and Other Options (Subtopic 470-20) and Derivatives and Hedging - Contracts in Entity’s Own Equity (SubTopic 815-40) (ASU 2020-06), using the modified retrospective transition method.', '2020-06, Debt with Conversion and Other Options (Subtopic 470-20) and Derivatives and Hedging - Contracts in Entity’s Own Equity (SubTopic 815-40) (ASU 2020-06), using the modified retrospective transition method.', '2020-06, Debt with Conversion and Other Options (Subtopic 470-20) and Derivatives and Hedging - Contracts in Entity’s Own Equity (SubTopic 815-40) (ASU 2020-06), using the modified retrospective transition method.', '2020-06, Debt with Conversion and Other Options (Subtopic 470-20) and Derivatives and Hedging - Contracts in Entity’s Own Equity (SubTopic 815-40) (ASU 2020-06), using the modified retrospective transition method.', '2020-06, Debt with Conversion and Other Options (Subtopic 470-20) and Derivatives and Hedging - Contracts in Entity’s Own Equity (SubTopic 815-40) (ASU 2020-06), using the modified retrospective transition method.', '2020-06, Debt with Conversion and Other Options (Subtopic 470-20) and Derivatives and Hedging - Contracts in Entity’s Own Equity (SubTopic 815-40) (ASU 2020-06), using the modified retrospective transition method.', '2020-06, Debt with Conversion and Other Options (Subtopic 470-20) and Derivatives and Hedging - Contracts in Entity’s Own Equity (SubTopic 815-40) (ASU 2020-06), using the modified retrospective transition method.', '2020-06, Debt with Conversion and Other Options (Subtopic 470-20) and Derivatives and Hedging - Contracts in Entity’s Own Equity (SubTopic 815-40) (ASU 2020-06), using the modified retrospective transition method.']]\n",
      "\n",
      "\n",
      "ORIGINAL SENTENCE\n",
      " The adoption of this standard resulted in the elimination of the debt discount and related amortization as interest expense and the classification of the portion of the debt issuance costs initially allocated to equity within the carrying amount of our senior convertible notes, which will be amortized as interest expense.\n",
      "PREDICTED PARAPHRASE\n",
      "\n"
     ]
    },
    {
     "data": {
      "application/vnd.jupyter.widget-view+json": {
       "model_id": "8dffc60f374344a6b51adf6d664e94a3",
       "version_major": 2,
       "version_minor": 0
      },
      "text/plain": [
       "Generating outputs:   0%|          | 0/1 [00:00<?, ?it/s]"
      ]
     },
     "metadata": {},
     "output_type": "display_data"
    },
    {
     "name": "stdout",
     "output_type": "stream",
     "text": [
      "[['The adoption of this standard resulted in the elimination of the debt discount and related amortization as interest expense and the classification of the portion of the Debt issuance costs initially allocated to equity within the carrying amount of our senior convertible notes, which will be amortized as interest rate.', 'The adoption of this standard resulted in the elimination of the debt discount and related amortization as interest expense and the classification of the portion of the Debt issuance costs initially allocated to equity within the carrying amount of our senior convertible notes, which will be amortized as interest income.', 'The adoption of this standard resulted in the elimination of the debt discount and related amortization as interest expense and the classification of the portion of the revenue issuance costs initially allocated to equity within the carrying amount of our senior convertible notes, which will be amortized as interest expenditure.', 'The adoption of this standard resulted in the elimination of the debt discount and related amortization as interest expense and the classification of the portion of the Debt issuance costs initially allocated to equity within the carrying amount of our senior convertible notes, which will be amortized as interest costs.', 'The adoption of this standard resulted in the elimination of the debt discount and related amortization as interest expense and the classification of the portion of the Debt issuance costs initially allocated to equity within the carrying amount of our senior convertible notes, which will be amortized as interest expenses.', 'The adoption of this standard resulted in the elimination of the debt discount and related amortization as interest expense and the classification of the portion of the Debt issuance costs initially allocated to equity within the carrying amount of our senior convertible notes, which will be amortized as interest interest.', 'The adoption of this standard resulted in the elimination of the debt discount and related amortization as interest expense and the classification of the portion of the $100 million debt issuance costs initially allocated to equity within the carrying amount of our senior convertible notes, which will be amortized as interest expenses.', 'The adoption of this standard resulted in the elimination of the debt discount and related amortization as interest expense and the classification of the portion of the Debt issuance costs initially allocated to equity within the carrying amount of our senior convertible notes, which will be amortized as interest expenses.', 'The adoption of this standard resulted in the elimination of the debt discount and related amortization as interest expense and the classification of the portion of the Debt issuance costs initially allocated to equity within the carrying amount of our senior convertible notes, which will be amortized as interest expenditure.', 'The adoption of this standard resulted in the elimination of the debt discount and related amortization as interest expense and the classification of the portion of the Debt issuance costs initially allocated to equity within the carrying amount of our senior convertible notes, which will be amortized as interest expenses.']]\n",
      "\n",
      "\n",
      "ORIGINAL SENTENCE\n",
      " Additionally, ASU 2020-06 amended the calculation of diluted earnings per share for certain convertible debt instruments, eliminating the treasury stock method and requiring the use of the if-converted method to compute the underlying potentially diluted shares.\n",
      "PREDICTED PARAPHRASE\n",
      "\n"
     ]
    },
    {
     "data": {
      "application/vnd.jupyter.widget-view+json": {
       "model_id": "76021d0908bf44a99b1879a0c4ecea48",
       "version_major": 2,
       "version_minor": 0
      },
      "text/plain": [
       "Generating outputs:   0%|          | 0/1 [00:00<?, ?it/s]"
      ]
     },
     "metadata": {},
     "output_type": "display_data"
    },
    {
     "name": "stdout",
     "output_type": "stream",
     "text": [
      "[['Additionally, ASU 2020-06 amended the calculation of diluted earnings per share for certain convertible debt instruments, eliminating the treasury stock method and requiring the use of the if-converted method to compute the underlying potentially diluted shares.', 'Additionally, ASU 2020-06 amended the calculation of diluted earnings per share for certain convertible debt instruments, eliminating the treasury stock method and requiring the use of the if-converted method to compute the underlying potentially diluted shares.', 'Additionally, ASU 2020-06 amended the calculation of diluted earnings per share for certain convertible debt instruments, eliminating the treasury stock method and requiring the use of the if-converted method to compute the underlying potentially diluted shares.', 'Additionally, ASU 2020-06 amended the calculation of diluted earnings per share for certain convertible debt instruments, eliminating the treasury stock method and requiring the use of the if-converted method to compute the underlying potentially diluted shares.', 'Additionally, ASU 2020-06 amended the calculation of diluted earnings per share for certain convertible debt instruments, eliminating the treasury stock method and requiring the use of the if-converted method to compute the underlying potentially diluted shares.', 'Additionally, ASU 2020-06 amended the calculation of diluted earnings per share for certain convertible debt instruments, eliminating the treasury stock method and requiring the use of the if-converted method to compute the underlying potentially diluted shares.', 'Additionally, ASU 2020-06 amended the calculation of diluted earnings per share for certain convertible debt instruments, eliminating the treasury stock method and requiring the use of the if-converted method to compute the underlying potentially diluted shares.', 'Additionally, ASU 2020-06 amended the calculation of diluted earnings per share for certain convertible debt instruments, eliminating the treasury stock method and requiring the use of the if-converted method to compute the underlying potentially diluted shares.', 'Additionally, ASU 2020-06 amended the calculation of diluted earnings per share for certain convertible debt instruments, eliminating the treasury stock method and requiring the use of the if-converted method to compute the underlying potentially diluted shares.', 'Additionally, ASU 2020-06 amended the calculation of diluted earnings per share for certain convertible debt instruments, eliminating the treasury stock method and requiring the use of the if-converted method to compute the underlying potentially diluted shares.']]\n",
      "\n",
      "\n",
      "ORIGINAL SENTENCE\n",
      " Accordingly, to account for the potentially diluted shares related to our senior convertible notes, we are required to add back the non-GAAP interest expense to our non-GAAP net income and include approximately 7.63 million shares related to our senior convertible notes beginning in our first quarter of fiscal year 2023.\n",
      "PREDICTED PARAPHRASE\n",
      "\n"
     ]
    },
    {
     "data": {
      "application/vnd.jupyter.widget-view+json": {
       "model_id": "882be2cc7197484e90e6ea23240de430",
       "version_major": 2,
       "version_minor": 0
      },
      "text/plain": [
       "Generating outputs:   0%|          | 0/1 [00:00<?, ?it/s]"
      ]
     },
     "metadata": {},
     "output_type": "display_data"
    },
    {
     "name": "stdout",
     "output_type": "stream",
     "text": [
      "[['Accordingly, to account for the potentially diluted shares related to our senior convertible notes, we are required to add back the non-GAAP interest expense to our non- GAAP net income and include approximately 7.63 million shares related is expected to be between 7.58 million and 7.65 million', 'Accordingly, to account for the potentially diluted shares related to our senior convertible notes, we are required to add back the non-GAAP interest expense to our non- GAAP net income and include approximately 7.63 million shares related for our senior Convert notes beginning in our first quarter of fiscal year 20', 'Accordingly, to account for the potentially diluted shares related to our senior convertible notes, we are required to add back the non-GAAP interest expense to our non- GAAP net income and include approximately 7.63 million shares related in our first quarter of fiscal year 2023.', 'Accordingly, to account for the potentially diluted shares related to our senior convertible notes, we are required to add back the non-GAAP interest expense to our non- GAAP net income and include approximately 7.63 million shares related thereto for our senior convert notes beginning in our first quarter of fiscal year', 'Accordingly, to account for the potentially diluted shares related to our senior convertible notes, we are required to add back the non-GAAP interest expense to our non- GAAP net income and include approximately 7.63 million shares related that our senior convert notes beginning in our first quarter of fiscal year 20', 'Accordingly, to account for the potentially diluted shares related to our senior convertible notes, we are required to add back the non-GAAP interest expense to our non- GAAP net income and include approximately 7.63 million shares related in our first quarter of fiscal year 2023.', 'Accordingly, to account for the potentially diluted shares related to our senior convertible notes, we are required to add back the non-GAAP interest expense to our non- GAAP net income and include approximately 7.63 million shares related due to our Senior convertible notes beginning in our first quarter of fiscal year', 'Accordingly, to account for the potentially diluted shares related to our senior convertible notes, we are required to add back the non-GAAP interest expense to our non- GAAP net income and include approximately 7.63 million shares related of our senior convert notes beginning in our first quarter of fiscal year 20', 'Accordingly, to account for the potentially diluted shares related to our senior convertible notes, we are required to add back the non-GAAP interest expense to our non- GAAP net income and include approximately 7.63 million shares related in our first quarter of fiscal year 2023.', 'Accordingly, to account for the potentially diluted shares related to our senior convertible notes, we are required to add back the non-GAAP interest expense to our non- GAAP net income and include approximately 7.63 million shares related due to our Senior convertible notes beginning in our first quarter of fiscal year']]\n",
      "\n",
      "\n",
      "ORIGINAL SENTENCE\n",
      "  Financial Outlook.\n",
      "PREDICTED PARAPHRASE\n",
      "\n"
     ]
    },
    {
     "data": {
      "application/vnd.jupyter.widget-view+json": {
       "model_id": "1b3f540e659948f18a026201e0c40bca",
       "version_major": 2,
       "version_minor": 0
      },
      "text/plain": [
       "Generating outputs:   0%|          | 0/1 [00:00<?, ?it/s]"
      ]
     },
     "metadata": {},
     "output_type": "display_data"
    },
    {
     "name": "stdout",
     "output_type": "stream",
     "text": [
      "[[' Financial Outlook.', ' Financial Outlook.', ' Financial Outlook.', ' Financial Outlook.', ' Financial Outlook.', ' Financial Outlook.', ' Financial Outlook.', ' Financial Outlook.', ' Financial Outlook.', ' Financial Outlook.']]\n",
      "\n",
      "\n",
      "ORIGINAL SENTENCE\n",
      "  For the third quarter of fiscal 2023, we expect:.\n",
      "PREDICTED PARAPHRASE\n",
      "\n"
     ]
    },
    {
     "data": {
      "application/vnd.jupyter.widget-view+json": {
       "model_id": "00fa0eed84b44d9d97bf4e106310a3e1",
       "version_major": 2,
       "version_minor": 0
      },
      "text/plain": [
       "Generating outputs:   0%|          | 0/1 [00:00<?, ?it/s]"
      ]
     },
     "metadata": {},
     "output_type": "display_data"
    },
    {
     "name": "stdout",
     "output_type": "stream",
     "text": [
      "[[' For the third quarter of fiscal 2023, we expect:.', ' For the third quarter of fiscal 2023, we expect:.', ' For the third quarter of fiscal 2023, we expect:.', ' For the third quarter of fiscal 2023, we expect:.', ' For the third quarter of fiscal 2023, we expect:.', ' For the third quarter of fiscal 2023, we expect:.', ' For the third quarter of fiscal 2023, we expect:.', ' For the third quarter of fiscal 2023, we expect:.', ' For the third quarter of fiscal 2023, we expect:.', ' For the third quarter of fiscal 2023, we expect:.']]\n",
      "\n",
      "\n",
      "ORIGINAL SENTENCE\n",
      "  Total revenue of $396 million to $398 million.\n",
      "PREDICTED PARAPHRASE\n",
      "\n"
     ]
    },
    {
     "data": {
      "application/vnd.jupyter.widget-view+json": {
       "model_id": "2ffeb96736fa41b8bf64bb3152848305",
       "version_major": 2,
       "version_minor": 0
      },
      "text/plain": [
       "Generating outputs:   0%|          | 0/1 [00:00<?, ?it/s]"
      ]
     },
     "metadata": {},
     "output_type": "display_data"
    },
    {
     "name": "stdout",
     "output_type": "stream",
     "text": [
      "[[' Total revenue is expected to be between $396 million and $398 million.', ' Total revenue is expected to be between $396 million and $398 million.', ' Total revenue is expected to be between $396 million and $398 million.', ' Total revenue is expected to be between $396 million to $398 million.', ' Total revenue is expected to be between $396 million and $398 million.', ' Total revenue is expected to be between $396 million and $398 million.', ' Total revenue is expected to be between $396 million and $398 million.', ' Total revenue is expected to be between $396 million and $398 million.', ' Total revenue is expected to be between $396 million and $398 million.', ' Total revenue is expected to be between $396 million and $398 million.']]\n",
      "\n",
      "\n",
      "ORIGINAL SENTENCE\n",
      "  Non-GAAP income from operations of $55 million to $56 million.\n",
      "PREDICTED PARAPHRASE\n",
      "\n"
     ]
    },
    {
     "data": {
      "application/vnd.jupyter.widget-view+json": {
       "model_id": "ead86c62d0a548d7b4039a47a37b4a8e",
       "version_major": 2,
       "version_minor": 0
      },
      "text/plain": [
       "Generating outputs:   0%|          | 0/1 [00:00<?, ?it/s]"
      ]
     },
     "metadata": {},
     "output_type": "display_data"
    },
    {
     "name": "stdout",
     "output_type": "stream",
     "text": [
      "[[' Non-GAAP income from operations is expected to be between $55 million and $56 million.', ' Non-GAAP income from operations is expected to be between $55 million and $56 million.', ' Non-GAAP income from operations is expected to be between $55 million and $56 million.', ' Non-GAAP income from operations is expected to be between $55 million and $56 million.', ' Non-GAAP income from operations is expected to be between $55 million and $56 million.', ' Non-GAAP income from operations is expected to be between $55 million to $56 million.', ' Non-GAAP income from operations is expected to be between $55 million and $56 million.', ' Non-GAAP income from operations is expected to be between $55 million to $56 million.', ' Non-GAAP income from operations is expected to be between $55 million and $56 million.', ' Non-GAAP income from operations is expected to be between $55 million and $56 million.']]\n",
      "\n",
      "\n",
      "ORIGINAL SENTENCE\n",
      "  Non-GAAP net income per share of approximately $0.39, assuming approximately 156 million fully diluted shares outstanding using the \"if-converted\" method for our senior convertible notes.\n",
      "PREDICTED PARAPHRASE\n",
      "\n"
     ]
    },
    {
     "data": {
      "application/vnd.jupyter.widget-view+json": {
       "model_id": "462fb94c47d344e7870e399c3b037b2e",
       "version_major": 2,
       "version_minor": 0
      },
      "text/plain": [
       "Generating outputs:   0%|          | 0/1 [00:00<?, ?it/s]"
      ]
     },
     "metadata": {},
     "output_type": "display_data"
    },
    {
     "name": "stdout",
     "output_type": "stream",
     "text": [
      "[[' Non-GAAP net income per share is expected to be between $0.39 and approximately 156 million fully diluted shares outstanding using the \"if-converted\" method for our senior convertible notes.', ' Non-GAAP net income per share is expected to be between $0.39 and $039 using the \"if-converted\" method for our senior convertible notes.', ' Non-GAAP net income per share is approximately $0.39, assuming approximately 156 million fully diluted shares outstanding using the \"if-converted\" method for our senior convertible notes.', ' Non-GAAP net income per share is expected to be between $0.39 and approximately 156 million fully diluted shares outstanding using the \"if-converted\" method for our senior convertible notes.', ' Non-GAAP net income per share is expected to be between $0.39 and approximately 156 million fully diluted shares outstanding using the \"if-converted\" method for our senior convertible notes.', ' Non-GAAP net income per share is expected to be between $0.39 and $0 per share using the \"if-converted\" method for our senior convertible notes.', ' Non-GAAP net income per share is $0.39, assuming approximately 156 million fully diluted shares outstanding using the \"if-converted\" method for our senior convertible notes.', ' Non-GAAP net income per share is expected to be between $0.39 and $0:39, assuming approximately 156 million fully diluted shares outstanding using the \"if-converted\" method for our senior convertible notes.', ' Non-GAAP net income per share is expected to be between $0.39 and $00.42.', ' Non-GAAP net income per share is expected to be between $0.39 and approximately 156 million fully diluted shares outstanding using the \"if-converted\" method for our senior convertible notes.']]\n",
      "\n",
      "\n",
      "ORIGINAL SENTENCE\n",
      "  For the full year fiscal 2023, we expect:.\n",
      "PREDICTED PARAPHRASE\n",
      "\n"
     ]
    },
    {
     "data": {
      "application/vnd.jupyter.widget-view+json": {
       "model_id": "fb4b021cb8eb455aafb36dd443ff5bdb",
       "version_major": 2,
       "version_minor": 0
      },
      "text/plain": [
       "Generating outputs:   0%|          | 0/1 [00:00<?, ?it/s]"
      ]
     },
     "metadata": {},
     "output_type": "display_data"
    },
    {
     "name": "stdout",
     "output_type": "stream",
     "text": [
      "[[' For the full year fiscal 2023, we expect:.', ' For the full year fiscal 2023, we expect:.', ' For the full year fiscal 2023, we expect:.', ' For the full year fiscal 2023, we expect:.', ' For the full year fiscal 2023, we expect:.', ' For the full year fiscal 2023, we expect:.', ' For the full year fiscal 2023, we expect:.', ' For the full year fiscal 2023, we expect:.', ' For the full year fiscal 2023, we expect:.', ' For the full year fiscal 2023, we expect:.']]\n",
      "\n",
      "\n",
      "ORIGINAL SENTENCE\n",
      "  Total revenue of approximately $1.558 billion to $1.563 billion.\n",
      "PREDICTED PARAPHRASE\n",
      "\n"
     ]
    },
    {
     "data": {
      "application/vnd.jupyter.widget-view+json": {
       "model_id": "885d942fd9ff456c9bf289c0623370bc",
       "version_major": 2,
       "version_minor": 0
      },
      "text/plain": [
       "Generating outputs:   0%|          | 0/1 [00:00<?, ?it/s]"
      ]
     },
     "metadata": {},
     "output_type": "display_data"
    },
    {
     "name": "stdout",
     "output_type": "stream",
     "text": [
      "[[' Total revenue is expected to be between $1.558 billion and $1,563 billion.', ' Total revenue is expected to be between $1.558 billion and $1:563 billion.', ' Total revenue is expected to be between $1.558 billion and $1-563 billion.', ' Total revenue is expected to be between $1.558 billion and $1,563 billion.', ' Total revenue is expected to be between $1.558 billion and $1 billion.', ' Total revenue is expected to be between $1.558 billion and $1,563 billion.', ' Total revenue is expected to be between $1.558 billion and $1 million.', ' Total revenue is expected to be between $1.558 billion and $1,563 billion.', ' Total revenue is expected to be between $1.558 billion and $1 and563 billion.', ' Total revenue is expected to be between $1.558 billion to $1 million.']]\n",
      "\n",
      "\n",
      "ORIGINAL SENTENCE\n",
      "  Calculated billings of $1.935 billion to $1.945 billion.\n",
      "PREDICTED PARAPHRASE\n",
      "\n"
     ]
    },
    {
     "data": {
      "application/vnd.jupyter.widget-view+json": {
       "model_id": "f84c77ce8432435ab93e746d49e0fcc2",
       "version_major": 2,
       "version_minor": 0
      },
      "text/plain": [
       "Generating outputs:   0%|          | 0/1 [00:00<?, ?it/s]"
      ]
     },
     "metadata": {},
     "output_type": "display_data"
    },
    {
     "name": "stdout",
     "output_type": "stream",
     "text": [
      "[[' Calculated billings is expected to be between $1.935 billion and $1,945 billion.', ' Calculated billings is expected to be between $1.935 billion and $1,945 billion.', ' Calculated billings is expected to be between $1.935 billion to $1,945 billion.', ' Calculated billings are expected to be between $1.935 billion and $1,945 billion.', ' Calculated billings are expected to be between $1.935 billion and $1,945 billion.', ' Calculated billings is expected to be between $1.935 billion and $1,945 billion.', ' Calculated billings are expected to be between $1.935 billion and $1,945 billion.', ' Calculated billings is expected to be between $1.935 billion and $1,945 billion.', ' Calculated billings is expected to be between $1.935 billion and $1,945 billion.', ' Calculated billings is expected to be between $1.935 billion and $1,945 billion.']]\n",
      "\n",
      "\n",
      "ORIGINAL SENTENCE\n",
      "  Non-GAAP income from operations of $213 million to $215 million.\n",
      "PREDICTED PARAPHRASE\n",
      "\n"
     ]
    },
    {
     "data": {
      "application/vnd.jupyter.widget-view+json": {
       "model_id": "a15a7aa1efb0421ca825df133c353df8",
       "version_major": 2,
       "version_minor": 0
      },
      "text/plain": [
       "Generating outputs:   0%|          | 0/1 [00:00<?, ?it/s]"
      ]
     },
     "metadata": {},
     "output_type": "display_data"
    },
    {
     "name": "stdout",
     "output_type": "stream",
     "text": [
      "[[' Non-GAAP income from operations is expected to be between $213 million and $215 million.', ' Non-GAAP income from operations is expected to be between $213 million and $215 million.', ' Non-GAAP income from operations is expected to be between $213 million and $215 million.', ' Non-GAAP income from operations is expected to be between $213 million and $215 million.', ' Non-GAAP income from operations is expected to be between $213 million and $215 million.', ' Non-GAAP income from operations is expected to be between $213 million and $215 million.', ' Non-GAAP income from operations is expected to be between $213 million and $215 million.', ' Non-GAAP income from operations is expected to be between $213 million to $215 million.', ' Non-GAAP income from operations is expected to be between $213 million and $215 million.', ' Non-GAAP income from operations is expected to be between $213 million and $215 million.']]\n",
      "\n",
      "\n",
      "ORIGINAL SENTENCE\n",
      "  Non-GAAP net income per share of $1.52 to $1.53, assuming approximately 156 million fully diluted shares outstanding using the \"if-converted\" method for our senior convertible notes.\n",
      "PREDICTED PARAPHRASE\n",
      "\n"
     ]
    },
    {
     "data": {
      "application/vnd.jupyter.widget-view+json": {
       "model_id": "3335c69b1d8a43d3be0e9bec11d700a4",
       "version_major": 2,
       "version_minor": 0
      },
      "text/plain": [
       "Generating outputs:   0%|          | 0/1 [00:00<?, ?it/s]"
      ]
     },
     "metadata": {},
     "output_type": "display_data"
    },
    {
     "name": "stdout",
     "output_type": "stream",
     "text": [
      "[[' Non-GAAP net income per share is expected to be between $1.52 and $1,53, assuming approximately 156 million fully diluted shares outstanding using the \"if-converted\" method for our senior convertible notes.', ' Non-GAAP net income per share is expected to be between $1.52 and $1,53, assuming approximately 156 million fully diluted shares outstanding using the \"if-converted\" method for our senior convertible notes.', ' Non-GAAP net income per share is expected to be between $1.52 and $1,53, assuming approximately 156 million fully diluted shares outstanding using the \"if-converted\" method for our senior convertible notes.', ' Non-GAAP net income per share is expected to be between $1.52 and $1 to53, assuming approximately 156 million fully diluted shares outstanding using the \"if-converted\" method for our senior convertible notes.', ' Non-GAAP net income per share is expected to be between $1.52 and $1 to53, assuming approximately 156 million fully diluted shares outstanding using the \"if-converted\" method for our senior convertible notes.', ' Non-GAAP net income per share is expected to be between $1.52 to $1,53, assuming approximately 156 million fully diluted shares outstanding using the \"if-converted\" method for our senior convertible notes.', ' Non-GAAP net income per share is expected to be between $1.52 and $1,53, assuming approximately 156 million fully diluted shares outstanding using the \"if-converted\" method for our senior convertible notes.', ' Non-GAAP net income per share is expected to be between $1.52 and $1,53, assuming approximately 156 million fully diluted shares outstanding using the \"if-converted\" method for our senior convertible notes.', ' Non-GAAP net income per share is expected to be between $1.52 and $1:53, assuming approximately 156 million fully diluted shares outstanding using the \"if-converted\" method for our senior convertible notes.', ' Non-GAAP net income per share is expected to be between $1.52 and $1:53, assuming approximately 156 million fully diluted shares outstanding using the \"if-converted\" method for our senior convertible notes.']]\n",
      "\n",
      "\n",
      "ORIGINAL SENTENCE\n",
      "  These statements are forward-looking and actual results may differ materially.\n",
      "PREDICTED PARAPHRASE\n",
      "\n"
     ]
    },
    {
     "data": {
      "application/vnd.jupyter.widget-view+json": {
       "model_id": "488d249f9fa24fa29a03ca2125e3e4b8",
       "version_major": 2,
       "version_minor": 0
      },
      "text/plain": [
       "Generating outputs:   0%|          | 0/1 [00:00<?, ?it/s]"
      ]
     },
     "metadata": {},
     "output_type": "display_data"
    },
    {
     "name": "stdout",
     "output_type": "stream",
     "text": [
      "[[' These statements are forward-looking and actual results may differ materially.', ' These statements are forward-looking and actual results may differ materially.', ' These statements are forward-looking and actual results may differ materially.', ' These statements are forward-looking and actual results may differ materially.', ' These statements are forward-looking and actual results may differ materially.', ' These statements are forward-looking and actual results may differ materially.', ' These statements are forward-looking and actual results may differ materially.', ' These statements are forward-looking and actual results may differ materially.', ' These statements are forward-looking and actual results may differ materially.', ' These statements are forward-looking and actual results may differ materially.']]\n",
      "\n",
      "\n",
      "ORIGINAL SENTENCE\n",
      " Refer to the Forward-Looking Statements safe harbor below for information on the factors that could cause our actual results to differ materially from these forward-looking statements.\n",
      "PREDICTED PARAPHRASE\n",
      "\n"
     ]
    },
    {
     "data": {
      "application/vnd.jupyter.widget-view+json": {
       "model_id": "b834bf6dab5c48b88dd7f60ff30f06cd",
       "version_major": 2,
       "version_minor": 0
      },
      "text/plain": [
       "Generating outputs:   0%|          | 0/1 [00:00<?, ?it/s]"
      ]
     },
     "metadata": {},
     "output_type": "display_data"
    },
    {
     "name": "stdout",
     "output_type": "stream",
     "text": [
      "[['Refer to the Forward-Looking Statements safe harbor below for information on the factors that could cause our actual results to differ materially from these forward-looking statements.', 'Refer to the Forward-Looking Statements safe harbor below for information on the factors that could cause our actual results to differ materially from these forward-looking statements.', 'Refer to the Forward-Looking Statements safe harbor below for information on the factors that could cause our actual results to differ materially from these forward-looking statements.', 'Refer to the Forward-Looking Statements safe harbor below for information on the factors that could cause our actual results to differ materially from these forward-looking statements.', 'Refer to the Forward-Looking Statements safe harbor below for information on the factors that could cause our actual results to differ materially from these forward-looking statements.', 'Refer to the Forward-Looking Statements safe harbor below for information on the factors that could cause our actual results to differ materially from these forward-looking statements.', 'Refer to the Forward-Looking Statements safe harbor below for information on the factors that could cause our actual results to differ materially from these forward-looking statements.', 'Refer to the Forward-Looking Statements safe harbor below for information on the factors that could cause our actual results to differ materially from these forward-looking statements.', 'Refer to the Forward-Looking Statements safe harbor below for information on the factors that could cause our actual results to differ materially from these forward-looking statements.', 'Refer to the Forward-Looking Statements safe harbor below for information on the factors that could cause our actual results to differ materially from these forward-looking statements.']]\n",
      "\n",
      "\n",
      "ORIGINAL SENTENCE\n",
      "  Guidance for non-GAAP income from operations excludes stock-based compensation expense and related employer payroll taxes, amortization expense of acquired intangible assets, amortization of debt discount and issuance costs.\n",
      "PREDICTED PARAPHRASE\n",
      "\n"
     ]
    },
    {
     "data": {
      "application/vnd.jupyter.widget-view+json": {
       "model_id": "ea39bf4aa4c84743ac2771afb143e5f3",
       "version_major": 2,
       "version_minor": 0
      },
      "text/plain": [
       "Generating outputs:   0%|          | 0/1 [00:00<?, ?it/s]"
      ]
     },
     "metadata": {},
     "output_type": "display_data"
    },
    {
     "name": "stdout",
     "output_type": "stream",
     "text": [
      "[[' Guidance for non-GAAP income from operations excludes stock-based compensation expense and related employer payroll taxes, amortization of acquired intangible assets, amortsization of debt discount and issuance costs.', ' Guidance for non-GAAP income from operations excludes stock-based compensation expense and related employer payroll taxes, amortization of acquired intangible assets, amORTization of debt discount and issuance costs.', ' Guidance for non-GAAP income from operations excludes stock-based compensation expense and related employer payroll taxes, amortization expense of acquired intangible assets, amORTization of debt discount and issuance costs.', ' Guidance for non-GAAP income from operations excludes stock-based compensation expense and related employer payroll taxes, amortization expense of acquired intangible assets, amORTization of debt discount and issuance costs.', ' Guidance for non-GAAP income from operations excludes stock-based compensation expense and related employer payroll taxes, amortization of acquired intangible assets, amORTization of debt discount and issuance costs.', ' Guidance for non-GAAP income from operations excludes stock-based compensation expense and related employer payroll taxes, amortization of acquired intangible assets, amortsization of debt discount and issuance costs.', ' Guidance for non-GAAP income from operations excludes stock-based compensation expense and related employer payroll taxes, amortization of acquired intangible assets, amORTization of debt discount and issuance costs.', ' Guidance for non-GAAP income from operations excludes stock-based compensation expense and related employer payroll taxes, amortization of acquired intangible assets, amORTization of debt discount and issuance costs.', ' Guidance for non-GAAP income from operations excludes stock-based compensation expense and related employer payroll taxes, amortization of acquired intangible assets, amORTization of debt discount and issuance costs.', ' Guidance for non-GAAP income from operations excludes stock-based compensation expense and related employer payroll taxes, amortization of acquired intangible assets, amORTization of debt discount and issuance costs.']]\n",
      "\n",
      "\n",
      "ORIGINAL SENTENCE\n",
      " As a result of the adoption of ASU 2020-06 on August 1, 2022, guidance for non-GAAP net income per share uses the if-converted method to calculate the potentially diluted shares related to the convertible senior notes.\n",
      "PREDICTED PARAPHRASE\n",
      "\n"
     ]
    },
    {
     "data": {
      "application/vnd.jupyter.widget-view+json": {
       "model_id": "fe240f353cbd4709abb3b3209ee671e8",
       "version_major": 2,
       "version_minor": 0
      },
      "text/plain": [
       "Generating outputs:   0%|          | 0/1 [00:00<?, ?it/s]"
      ]
     },
     "metadata": {},
     "output_type": "display_data"
    },
    {
     "name": "stdout",
     "output_type": "stream",
     "text": [
      "[['As a result of the adoption of ASU 2020-06 on August 1, 2022, guidance for non-GAAP net income per share uses the if-converted method to calculate the potentially diluted shares related to the convertible senior notes.', 'As a result of the adoption of ASU 2020-06 on August 1, 2022, guidance for non-GAAP net income per share uses the if-converted method to calculate the potentially diluted shares related to the convertible senior notes.', 'As a result of the adoption of ASU 2020-06 on August 1, 2022, guidance for non-GAAP net income per share uses the if-converted method to calculate the potentially diluted shares related to the convertible senior notes.', 'As a result of the adoption of ASU 2020-06 on August 1, 2022, guidance for non-GAAP net income per share uses the if-converted method to calculate the potentially diluted shares related to the convertible senior notes.', 'As a result of the adoption of ASU 2020-06 on August 1, 2022, guidance for non-GAAP net income per share uses the if-converted method to calculate the potentially diluted shares related to the convertible senior notes.', 'As a result of the adoption of ASU 2020-06 on August 1, 2022, guidance for non-GAAP net income per share uses the if-converted method to calculate the potentially diluted shares related to the convertible senior notes.', 'As a result of the adoption of ASU 2020-06 on August 1, 2022, guidance for non-GAAP net income per share uses the if-converted method to calculate the potentially diluted shares related to the convertible senior notes.', 'As a result of the adoption of ASU 2020-06 on August 1, 2022, guidance for non-GAAP net income per share uses the if-converted method to calculate the potentially diluted shares related to the convertible senior notes.', 'As a result of the adoption of ASU 2020-06 on August 1, 2022, guidance for non-GAAP net income per share uses the if-converted method to calculate the potentially diluted shares related to the convertible senior notes.', 'As a result of the adoption of ASU 2020-06 on August 1, 2022, guidance for non-GAAP net income per share uses the if-converted method to calculate the potentially diluted shares related to the convertible senior notes.']]\n",
      "\n",
      "\n",
      "ORIGINAL SENTENCE\n",
      " Accordingly, we are required to add back the non-GAAP interest expense to our non-GAAP net income and include approximately 7.63 million shares related to our senior convertible notes.\n",
      "PREDICTED PARAPHRASE\n",
      "\n"
     ]
    },
    {
     "data": {
      "application/vnd.jupyter.widget-view+json": {
       "model_id": "3a20ff55fb834934aecabe0859221b78",
       "version_major": 2,
       "version_minor": 0
      },
      "text/plain": [
       "Generating outputs:   0%|          | 0/1 [00:00<?, ?it/s]"
      ]
     },
     "metadata": {},
     "output_type": "display_data"
    },
    {
     "name": "stdout",
     "output_type": "stream",
     "text": [
      "[['Accordingly, we are required to add back the non-GAAP interest expense to our non- GAAP net income and include approximately 7.63 million shares related to our senior convertible notes.', 'Accordingly, we are required to add back the non-GAAP interest expense to our non- GAAP net income and include approximately 7.63 million shares related to our senior convertible notes.', 'Accordingly, we are required to add back the non-GAAP interest expense to our non- GAAP net income and include approximately 7.63 million shares related to our senior convertible notes.', 'Accordingly, we are required to add back the non-GAAP interest expense to our non- GAAP net income and include approximately 7.63 million shares related to our senior convertible notes.', 'Accordingly, we are required to add back the non-GAAP interest expense to our non- GAAP net income and include approximately 7.63 million shares related to our senior convertible notes.', 'Accordingly, we are required to add back the non-GAAP interest expense to our non- GAAP net income and include approximately 7.63 million shares related to our senior convertible notes.', 'Accordingly, we are required to add back the non-GAAP interest expense to our non- GAAP net income and include approximately 7.63 million shares related to our senior convertible notes.', 'Accordingly, we are required to add back the non-GAAP interest expense to our non- GAAP net income and include approximately 7.63 million shares related to our senior convertible notes.', 'Accordingly, we are required to add back the non-GAAP interest expense to our non- GAAP net income and include approximately 7.63 million shares related to our senior convertible notes.', 'Accordingly, we are required to add back the non-GAAP interest expense to our non- GAAP net income and include approximately 7.63 million shares related to our senior convertible notes.']]\n",
      "\n",
      "\n",
      "ORIGINAL SENTENCE\n",
      " Additionally, we include the anti-dilutive impact of the capped call transactions entered into in connection with the convertible senior notes.\n",
      "PREDICTED PARAPHRASE\n",
      "\n"
     ]
    },
    {
     "data": {
      "application/vnd.jupyter.widget-view+json": {
       "model_id": "da0af4c642c841a0b6cd22e633d827fa",
       "version_major": 2,
       "version_minor": 0
      },
      "text/plain": [
       "Generating outputs:   0%|          | 0/1 [00:00<?, ?it/s]"
      ]
     },
     "metadata": {},
     "output_type": "display_data"
    },
    {
     "name": "stdout",
     "output_type": "stream",
     "text": [
      "[['Additionally, we include the anti-dilutive impact of the capped call transactions entered into in connection with the convertible senior notes.', 'Additionally, we include the anti-dilutive impact of the capped call transactions entered into in connection with the convertible senior notes.', 'Additionally, we include the anti-dilutive impact of the capped call transactions entered into in connection with the convertible senior notes.', 'Additionally, we include the anti-dilutive impact of the capped call transactions entered into in connection with the convertible senior notes.', 'Additionally, we include the anti-dilutive impact of the capped call transactions entered into in connection with the convertible senior notes.', 'Additionally, we include the anti-dilutive impact of the capped call transactions entered into in connection with the convertible senior notes.', 'Additionally, we include the anti-dilutive impact of the capped call transactions entered into in connection with the convertible senior notes.', 'Additionally, we include the anti-dilutive impact of the capped call transactions entered into in connection with the convertible senior notes.', 'Additionally, we include the anti-dilutive impact of the capped call transactions entered into in connection with the convertible senior notes.', 'Additionally, we include the anti-dilutive impact of the capped call transactions entered into in connection with the convertible senior notes.']]\n",
      "\n",
      "\n",
      "ORIGINAL SENTENCE\n",
      " We have not reconciled our expectations to non-GAAP income from operations and non-GAAP net income per share to their most directly comparable GAAP measures because certain items are out of our control or cannot be reasonably predicted.\n",
      "PREDICTED PARAPHRASE\n",
      "\n"
     ]
    },
    {
     "data": {
      "application/vnd.jupyter.widget-view+json": {
       "model_id": "d7df0b2cdc29407da75c60c185e75752",
       "version_major": 2,
       "version_minor": 0
      },
      "text/plain": [
       "Generating outputs:   0%|          | 0/1 [00:00<?, ?it/s]"
      ]
     },
     "metadata": {},
     "output_type": "display_data"
    },
    {
     "name": "stdout",
     "output_type": "stream",
     "text": [
      "[['We have not reconciled our expectations to non-GAAP income from operations and non- GAAP net income per share to their most directly comparable GAAP measures because certain items are out of our control or cannot be reasonably predicted.', 'We have not reconciled our expectations to non-GAAP income from operations and non- GAAP net income per share to their most directly comparable GAAP measures because certain items are out of our control or cannot be reasonably predicted.', 'We have not reconciled our expectations to non-GAAP income from operations and non- GAAP net income per share to their most directly comparable GAAP measures because certain items are out of our control or cannot be reasonably predicted.', 'We have not reconciled our expectations to non-GAAP income from operations and non- GAAP net income per share to their most directly comparable GAAP measures because certain items are out of our control or cannot be reasonably predicted.', 'We have not reconciled our expectations to non-GAAP income from operations and non- GAAP net income per share to their most directly comparable GAAP measures because certain items are out of our control or cannot be reasonably predicted.', 'We have not reconciled our expectations to non-GAAP income from operations and non- GAAP net income per share to their most directly comparable GAAP measures because certain items are out of our control or cannot be reasonably predicted.', 'We have not reconciled our expectations to non-GAAP income from operations and non- GAAP net income per share to their most directly comparable GAAP measures because certain items are out of our control or cannot be reasonably predicted.', 'We have not reconciled our expectations to non-GAAP income from operations and non- GAAP net income per share to their most directly comparable GAAP measures because certain items are out of our control or cannot be reasonably predicted.', 'We have not reconciled our expectations to non-GAAP income from operations and non- GAAP net income per share to their most directly comparable GAAP measures because certain items are out of our control or cannot be reasonably predicted.', 'We have not reconciled our expectations to non-GAAP income from operations and non- GAAP net income per share to their most directly comparable GAAP measures because certain items are out of our control or cannot be reasonably predicted.']]\n",
      "\n",
      "\n",
      "ORIGINAL SENTENCE\n",
      " For those reasons, we are also unable to address the probable significance of the unavailable information, the variability of which may have a significant impact on future results.\n",
      "PREDICTED PARAPHRASE\n",
      "\n"
     ]
    },
    {
     "data": {
      "application/vnd.jupyter.widget-view+json": {
       "model_id": "4526bdbce8f24f0b9c29b20fc21138c2",
       "version_major": 2,
       "version_minor": 0
      },
      "text/plain": [
       "Generating outputs:   0%|          | 0/1 [00:00<?, ?it/s]"
      ]
     },
     "metadata": {},
     "output_type": "display_data"
    },
    {
     "name": "stdout",
     "output_type": "stream",
     "text": [
      "[['For those reasons, we are also unable to address the probable significance of the unavailable information, the variability of which may have a significant impact on future results.', 'For those reasons, we are also unable to address the probable significance of the unavailable information, the variability of which may have a significant impact on future results.', 'For those reasons, we are also unable to address the probable significance of the unavailable information, the variability of which may have a significant impact on future results.', 'For those reasons, we are also unable to address the probable significance of the unavailable information, the variability of which may have a significant impact on future results.', 'For those reasons, we are also unable to address the probable significance of the unavailable information, the variability of which may have a significant impact on future results.', 'For those reasons, we are also unable to address the probable significance of the unavailable information, the variability of which may have a significant impact on future results.', 'For those reasons, we are also unable to address the probable significance of the unavailable information, the variability of which may have a significant impact on future results.', 'For those reasons, we are also unable to address the probable significance of the unavailable information, the variability of which may have a significant impact on future results.', 'For those reasons, we are also unable to address the probable significance of the unavailable information, the variability of which may have a significant impact on future results.', 'For those reasons, we are also unable to address the probable significance of the unavailable information, the variability of which may have a significant impact on future results.']]\n",
      "\n",
      "\n",
      "ORIGINAL SENTENCE\n",
      " Accordingly, a reconciliation for the guidance for non-GAAP income from operations and non-GAAP net income per share is not available without unreasonable effort.\n",
      "PREDICTED PARAPHRASE\n",
      "\n"
     ]
    },
    {
     "data": {
      "application/vnd.jupyter.widget-view+json": {
       "model_id": "4688c6cf5a6b40aea7700038ec213a47",
       "version_major": 2,
       "version_minor": 0
      },
      "text/plain": [
       "Generating outputs:   0%|          | 0/1 [00:00<?, ?it/s]"
      ]
     },
     "metadata": {},
     "output_type": "display_data"
    },
    {
     "name": "stdout",
     "output_type": "stream",
     "text": [
      "[['Accordingly, a reconciliation for the guidance for non-GAAP income from operations and non- GAAP net income per share is not available without unreasonable effort.', 'Accordingly, a reconciliation for the guidance for non-GAAP income from operations and non- GAAP net income per share is not available without unreasonable effort.', 'Accordingly, a reconciliation for the guidance for non-GAAP income from operations and non- GAAP net income per share is not available without unreasonable effort.', 'Accordingly, a reconciliation for the guidance for non-GAAP income from operations and non- GAAP net income per share is not available without unreasonable effort.', 'Accordingly, a reconciliation for the guidance for non-GAAP income from operations and non- GAAP net income per share is not available without unreasonable effort.', 'Accordingly, a reconciliation for the guidance for non-GAAP income from operations and non- GAAP net income per share is not available without unreasonable effort.', 'Accordingly, a reconciliation for the guidance for non-GAAP income from operations and non- GAAP net income per share is not available without unreasonable effort.', 'Accordingly, a reconciliation for the guidance for non-GAAP income from operations and non- GAAP net income per share is not available without unreasonable effort.', 'Accordingly, a reconciliation for the guidance for non-GAAP income from operations and non- GAAP net income per share is not available without unreasonable effort.', 'Accordingly, a reconciliation for the guidance for non-GAAP income from operations and non- GAAP net income per share is not available without unreasonable effort.']]\n",
      "\n",
      "\n"
     ]
    }
   ],
   "source": [
    "createTrainingData(testDir, model)"
   ]
  },
  {
   "cell_type": "code",
   "execution_count": null,
   "metadata": {},
   "outputs": [],
   "source": [
    "logging.basicConfig(level=logging.INFO)\n",
    "transformers_logger = logging.getLogger(\"transformers\")\n",
    "transformers_logger.setLevel(logging.ERROR)\n",
    "\n",
    "model = Seq2SeqModel(\n",
    "    encoder_decoder_type=\"bart\", encoder_decoder_name=\"outputs\"\n",
    ")\n",
    "\n",
    "\n",
    "while True:\n",
    "    original = input(\"Enter text to paraphrase: \")\n",
    "    to_predict = [original]\n",
    "\n",
    "    preds = model.predict(to_predict)\n",
    "\n",
    "    print(\"---------------------------------------------------------\")\n",
    "    print(original)\n",
    "\n",
    "    print()\n",
    "    print(\"Predictions >>>\")\n",
    "    for pred in preds[0]:\n",
    "        print(pred)\n",
    "\n",
    "    print(\"---------------------------------------------------------\")\n",
    "    print()"
   ]
  },
  {
   "cell_type": "code",
   "execution_count": 10,
   "metadata": {},
   "outputs": [],
   "source": [
    "def load_data(file_path, input_text_column, target_text_column, label_column, keep_label=1):\n",
    "    df = pd.read_csv(file_path, sep=\"\\t\", error_bad_lines=False)\n",
    "    df = df.loc[df[label_column] == keep_label]\n",
    "    df = df.rename(\n",
    "        columns={input_text_column: \"input_text\", target_text_column: \"target_text\"}\n",
    "    )\n",
    "    df = df[[\"input_text\", \"target_text\"]]\n",
    "    df[\"prefix\"] = \"paraphrase\"\n",
    "\n",
    "    return df"
   ]
  },
  {
   "cell_type": "code",
   "execution_count": 6,
   "metadata": {},
   "outputs": [],
   "source": [
    "train_df = pd.read_csv(\"../../Summary/ParaPhrase/final/train.tsv\", sep=\"\\t\").astype(str)\n",
    "eval_df = pd.read_csv(\"../../Summary/ParaPhrase/final/dev.tsv\", sep=\"\\t\").astype(str)\n",
    "\n",
    "train_df = train_df.loc[train_df[\"label\"] == \"1\"]\n",
    "eval_df = eval_df.loc[eval_df[\"label\"] == \"1\"]\n",
    "\n",
    "train_df = train_df.rename(\n",
    "    columns={\"sentence1\": \"input_text\", \"sentence2\": \"target_text\"}\n",
    ")\n",
    "eval_df = eval_df.rename(\n",
    "    columns={\"sentence1\": \"input_text\", \"sentence2\": \"target_text\"}\n",
    ")\n",
    "\n",
    "train_df = train_df[[\"input_text\", \"target_text\"]]\n",
    "eval_df = eval_df[[\"input_text\", \"target_text\"]]\n",
    "\n",
    "train_df[\"prefix\"] = \"paraphrase\"\n",
    "eval_df[\"prefix\"] = \"paraphrase\""
   ]
  },
  {
   "cell_type": "code",
   "execution_count": 7,
   "metadata": {},
   "outputs": [
    {
     "name": "stderr",
     "output_type": "stream",
     "text": [
      "INFO:numexpr.utils:Note: NumExpr detected 12 cores but \"NUMEXPR_MAX_THREADS\" not set, so enforcing safe limit of 8.\n",
      "INFO:numexpr.utils:NumExpr defaulting to 8 threads.\n"
     ]
    },
    {
     "name": "stdout",
     "output_type": "stream",
     "text": [
      "         prefix                                         input_text  \\\n",
      "1    paraphrase  They were there to enjoy us and they were ther...   \n",
      "2    paraphrase  After the end of the war in June 1902, Higgins...   \n",
      "3    paraphrase  From the merger of the Four Rivers Council and...   \n",
      "4    paraphrase  The group toured extensively and became famous...   \n",
      "5    paraphrase  Kathy and her husband Pete Beale ( Peter Dean ...   \n",
      "..          ...                                                ...   \n",
      "990  paraphrase  After his service Lockhart lived in Texas but ...   \n",
      "991  paraphrase  After medical treatment, Strozzi started takin...   \n",
      "992  paraphrase  In December 1969 became the 49th Army - Divisi...   \n",
      "993  paraphrase  In `` The Stand '' by Glen Pequod Bateman, Woo...   \n",
      "996  paraphrase  Dora Rangelova is the current captain of the B...   \n",
      "\n",
      "                                           target_text  \n",
      "1    They were there for us to enjoy and they were ...  \n",
      "2    In August, after the end of the war in June 19...  \n",
      "3    Shawnee Trails Council was formed from the mer...  \n",
      "4    The group toured extensively and was famous in...  \n",
      "5    Kathy and her husband Peter Dean ( Pete Beale ...  \n",
      "..                                                 ...  \n",
      "990  After his service, Lockhart lived in Texas, bu...  \n",
      "991  Strozzi started taking private acting lessons ...  \n",
      "992  In December 1969, 49th Army Division became 29...  \n",
      "993  In `` The Stand '' by Glen Pequod Bateman, Woo...  \n",
      "996  Dora Rangelova is the current captain of the B...  \n",
      "\n",
      "[451 rows x 3 columns]\n"
     ]
    }
   ],
   "source": [
    "train_df = train_df[[\"prefix\", \"input_text\", \"target_text\"]]\n",
    "eval_df = eval_df[[\"prefix\", \"input_text\", \"target_text\"]]\n",
    "\n",
    "train_df = train_df.dropna()\n",
    "eval_df = eval_df.dropna()\n",
    "train_df[\"input_text\"] = train_df[\"input_text\"].apply(clean_unnecessary_spaces)\n",
    "train_df[\"target_text\"] = train_df[\"target_text\"].apply(clean_unnecessary_spaces)\n",
    "\n",
    "eval_df[\"input_text\"] = eval_df[\"input_text\"].apply(clean_unnecessary_spaces)\n",
    "eval_df[\"target_text\"] = eval_df[\"target_text\"].apply(clean_unnecessary_spaces)\n",
    "\n",
    "train_df = (train_df.loc[1:10000])\n",
    "eval_df = (eval_df.loc[1:1000])\n",
    "print(eval_df)"
   ]
  },
  {
   "cell_type": "code",
   "execution_count": 8,
   "metadata": {
    "scrolled": true
   },
   "outputs": [
    {
     "name": "stderr",
     "output_type": "stream",
     "text": [
      "INFO:simpletransformers.seq2seq.seq2seq_utils: Creating features from dataset file at cache_dir/\n"
     ]
    },
    {
     "data": {
      "application/vnd.jupyter.widget-view+json": {
       "model_id": "bfe9ad91807a474698868cdd13b6c2bf",
       "version_major": 2,
       "version_minor": 0
      },
      "text/plain": [
       "  0%|          | 0/4491 [00:00<?, ?it/s]"
      ]
     },
     "metadata": {},
     "output_type": "display_data"
    },
    {
     "name": "stderr",
     "output_type": "stream",
     "text": [
      "INFO:simpletransformers.seq2seq.seq2seq_model: Training started\n"
     ]
    },
    {
     "data": {
      "application/vnd.jupyter.widget-view+json": {
       "model_id": "b0edfec68e0440a297995d3793dc0947",
       "version_major": 2,
       "version_minor": 0
      },
      "text/plain": [
       "Epoch:   0%|          | 0/2 [00:00<?, ?it/s]"
      ]
     },
     "metadata": {},
     "output_type": "display_data"
    },
    {
     "data": {
      "application/vnd.jupyter.widget-view+json": {
       "model_id": "98e9307374ab4d238fd7650bc4a01440",
       "version_major": 2,
       "version_minor": 0
      },
      "text/plain": [
       "Running Epoch 0 of 2:   0%|          | 0/1123 [00:00<?, ?it/s]"
      ]
     },
     "metadata": {},
     "output_type": "display_data"
    },
    {
     "name": "stderr",
     "output_type": "stream",
     "text": [
      "INFO:simpletransformers.seq2seq.seq2seq_utils: Creating features from dataset file at cache_dir/\n"
     ]
    },
    {
     "data": {
      "application/vnd.jupyter.widget-view+json": {
       "model_id": "067d9866f391495380e5d471d86927a2",
       "version_major": 2,
       "version_minor": 0
      },
      "text/plain": [
       "  0%|          | 0/451 [00:00<?, ?it/s]"
      ]
     },
     "metadata": {},
     "output_type": "display_data"
    },
    {
     "name": "stderr",
     "output_type": "stream",
     "text": [
      "INFO:simpletransformers.seq2seq.seq2seq_model:{'eval_loss': 0.5714342097441355}\n",
      "INFO:simpletransformers.seq2seq.seq2seq_model:Saving model into outputs/best_model\n",
      "INFO:simpletransformers.seq2seq.seq2seq_model:Saving model into outputs/checkpoint-1123-epoch-1\n",
      "INFO:simpletransformers.seq2seq.seq2seq_utils: Creating features from dataset file at cache_dir/\n"
     ]
    },
    {
     "data": {
      "application/vnd.jupyter.widget-view+json": {
       "model_id": "c4b00ecd79304b09a9f802bb44c6642a",
       "version_major": 2,
       "version_minor": 0
      },
      "text/plain": [
       "  0%|          | 0/451 [00:00<?, ?it/s]"
      ]
     },
     "metadata": {},
     "output_type": "display_data"
    },
    {
     "name": "stderr",
     "output_type": "stream",
     "text": [
      "INFO:simpletransformers.seq2seq.seq2seq_model:{'eval_loss': 0.5561367531617483}\n",
      "INFO:simpletransformers.seq2seq.seq2seq_model:Saving model into outputs/best_model\n"
     ]
    },
    {
     "data": {
      "application/vnd.jupyter.widget-view+json": {
       "model_id": "bd21cb1fcdc24d5f84a8dabb805ae8b5",
       "version_major": 2,
       "version_minor": 0
      },
      "text/plain": [
       "Running Epoch 1 of 2:   0%|          | 0/1123 [00:00<?, ?it/s]"
      ]
     },
     "metadata": {},
     "output_type": "display_data"
    },
    {
     "name": "stderr",
     "output_type": "stream",
     "text": [
      "INFO:simpletransformers.seq2seq.seq2seq_utils: Creating features from dataset file at cache_dir/\n"
     ]
    },
    {
     "data": {
      "application/vnd.jupyter.widget-view+json": {
       "model_id": "5c2a34c3d6db471f91f6a94a3232e6cf",
       "version_major": 2,
       "version_minor": 0
      },
      "text/plain": [
       "  0%|          | 0/451 [00:00<?, ?it/s]"
      ]
     },
     "metadata": {},
     "output_type": "display_data"
    },
    {
     "name": "stderr",
     "output_type": "stream",
     "text": [
      "INFO:simpletransformers.seq2seq.seq2seq_model:{'eval_loss': 0.5267087161540985}\n",
      "INFO:simpletransformers.seq2seq.seq2seq_model:Saving model into outputs/best_model\n",
      "INFO:simpletransformers.seq2seq.seq2seq_model:Saving model into outputs/checkpoint-2246-epoch-2\n",
      "INFO:simpletransformers.seq2seq.seq2seq_utils: Creating features from dataset file at cache_dir/\n"
     ]
    },
    {
     "data": {
      "application/vnd.jupyter.widget-view+json": {
       "model_id": "1b29806947ef4abf97e157b00fd62a60",
       "version_major": 2,
       "version_minor": 0
      },
      "text/plain": [
       "  0%|          | 0/451 [00:00<?, ?it/s]"
      ]
     },
     "metadata": {},
     "output_type": "display_data"
    },
    {
     "name": "stderr",
     "output_type": "stream",
     "text": [
      "INFO:simpletransformers.seq2seq.seq2seq_model:{'eval_loss': 0.52150759100914}\n",
      "INFO:simpletransformers.seq2seq.seq2seq_model:Saving model into outputs/best_model\n",
      "INFO:simpletransformers.seq2seq.seq2seq_model:Saving model into outputs/\n",
      "INFO:simpletransformers.seq2seq.seq2seq_model: Training of facebook/bart-base model complete. Saved to outputs/.\n"
     ]
    },
    {
     "data": {
      "application/vnd.jupyter.widget-view+json": {
       "model_id": "15cc7e268d4b4085967d228fe5ec00a9",
       "version_major": 2,
       "version_minor": 0
      },
      "text/plain": [
       "Generating outputs:   0%|          | 0/15 [00:00<?, ?it/s]"
      ]
     },
     "metadata": {},
     "output_type": "display_data"
    },
    {
     "ename": "RuntimeError",
     "evalue": "CUDA out of memory. Tried to allocate 222.00 MiB (GPU 0; 4.00 GiB total capacity; 2.68 GiB already allocated; 0 bytes free; 3.44 GiB reserved in total by PyTorch) If reserved memory is >> allocated memory try setting max_split_size_mb to avoid fragmentation.  See documentation for Memory Management and PYTORCH_CUDA_ALLOC_CONF",
     "output_type": "error",
     "traceback": [
      "\u001b[1;31m---------------------------------------------------------------------------\u001b[0m",
      "\u001b[1;31mRuntimeError\u001b[0m                              Traceback (most recent call last)",
      "\u001b[1;32m<ipython-input-8-19f3c7fea0ab>\u001b[0m in \u001b[0;36m<module>\u001b[1;34m\u001b[0m\n\u001b[0;32m     42\u001b[0m \u001b[0mtruth\u001b[0m \u001b[1;33m=\u001b[0m \u001b[0meval_df\u001b[0m\u001b[1;33m[\u001b[0m\u001b[1;34m\"target_text\"\u001b[0m\u001b[1;33m]\u001b[0m\u001b[1;33m.\u001b[0m\u001b[0mtolist\u001b[0m\u001b[1;33m(\u001b[0m\u001b[1;33m)\u001b[0m\u001b[1;33m\u001b[0m\u001b[1;33m\u001b[0m\u001b[0m\n\u001b[0;32m     43\u001b[0m \u001b[1;33m\u001b[0m\u001b[0m\n\u001b[1;32m---> 44\u001b[1;33m \u001b[0mpreds\u001b[0m \u001b[1;33m=\u001b[0m \u001b[0mmodel\u001b[0m\u001b[1;33m.\u001b[0m\u001b[0mpredict\u001b[0m\u001b[1;33m(\u001b[0m\u001b[0mto_predict\u001b[0m\u001b[1;33m)\u001b[0m\u001b[1;33m\u001b[0m\u001b[1;33m\u001b[0m\u001b[0m\n\u001b[0m",
      "\u001b[1;32mc:\\users\\ankan\\appdata\\local\\programs\\python\\python37\\lib\\site-packages\\simpletransformers\\seq2seq\\seq2seq_model.py\u001b[0m in \u001b[0;36mpredict\u001b[1;34m(self, to_predict)\u001b[0m\n\u001b[0;32m   1311\u001b[0m                     \u001b[0mtop_k\u001b[0m\u001b[1;33m=\u001b[0m\u001b[0mself\u001b[0m\u001b[1;33m.\u001b[0m\u001b[0margs\u001b[0m\u001b[1;33m.\u001b[0m\u001b[0mtop_k\u001b[0m\u001b[1;33m,\u001b[0m\u001b[1;33m\u001b[0m\u001b[1;33m\u001b[0m\u001b[0m\n\u001b[0;32m   1312\u001b[0m                     \u001b[0mtop_p\u001b[0m\u001b[1;33m=\u001b[0m\u001b[0mself\u001b[0m\u001b[1;33m.\u001b[0m\u001b[0margs\u001b[0m\u001b[1;33m.\u001b[0m\u001b[0mtop_p\u001b[0m\u001b[1;33m,\u001b[0m\u001b[1;33m\u001b[0m\u001b[1;33m\u001b[0m\u001b[0m\n\u001b[1;32m-> 1313\u001b[1;33m                     \u001b[0mnum_return_sequences\u001b[0m\u001b[1;33m=\u001b[0m\u001b[0mself\u001b[0m\u001b[1;33m.\u001b[0m\u001b[0margs\u001b[0m\u001b[1;33m.\u001b[0m\u001b[0mnum_return_sequences\u001b[0m\u001b[1;33m,\u001b[0m\u001b[1;33m\u001b[0m\u001b[1;33m\u001b[0m\u001b[0m\n\u001b[0m\u001b[0;32m   1314\u001b[0m                 )\n\u001b[0;32m   1315\u001b[0m             \u001b[1;32melif\u001b[0m \u001b[0mself\u001b[0m\u001b[1;33m.\u001b[0m\u001b[0margs\u001b[0m\u001b[1;33m.\u001b[0m\u001b[0mmodel_type\u001b[0m \u001b[1;32min\u001b[0m \u001b[1;33m[\u001b[0m\u001b[1;34m\"mbart\"\u001b[0m\u001b[1;33m]\u001b[0m\u001b[1;33m:\u001b[0m\u001b[1;33m\u001b[0m\u001b[1;33m\u001b[0m\u001b[0m\n",
      "\u001b[1;32mc:\\users\\ankan\\appdata\\local\\programs\\python\\python37\\lib\\site-packages\\torch\\autograd\\grad_mode.py\u001b[0m in \u001b[0;36mdecorate_context\u001b[1;34m(*args, **kwargs)\u001b[0m\n\u001b[0;32m     25\u001b[0m         \u001b[1;32mdef\u001b[0m \u001b[0mdecorate_context\u001b[0m\u001b[1;33m(\u001b[0m\u001b[1;33m*\u001b[0m\u001b[0margs\u001b[0m\u001b[1;33m,\u001b[0m \u001b[1;33m**\u001b[0m\u001b[0mkwargs\u001b[0m\u001b[1;33m)\u001b[0m\u001b[1;33m:\u001b[0m\u001b[1;33m\u001b[0m\u001b[1;33m\u001b[0m\u001b[0m\n\u001b[0;32m     26\u001b[0m             \u001b[1;32mwith\u001b[0m \u001b[0mself\u001b[0m\u001b[1;33m.\u001b[0m\u001b[0mclone\u001b[0m\u001b[1;33m(\u001b[0m\u001b[1;33m)\u001b[0m\u001b[1;33m:\u001b[0m\u001b[1;33m\u001b[0m\u001b[1;33m\u001b[0m\u001b[0m\n\u001b[1;32m---> 27\u001b[1;33m                 \u001b[1;32mreturn\u001b[0m \u001b[0mfunc\u001b[0m\u001b[1;33m(\u001b[0m\u001b[1;33m*\u001b[0m\u001b[0margs\u001b[0m\u001b[1;33m,\u001b[0m \u001b[1;33m**\u001b[0m\u001b[0mkwargs\u001b[0m\u001b[1;33m)\u001b[0m\u001b[1;33m\u001b[0m\u001b[1;33m\u001b[0m\u001b[0m\n\u001b[0m\u001b[0;32m     28\u001b[0m         \u001b[1;32mreturn\u001b[0m \u001b[0mcast\u001b[0m\u001b[1;33m(\u001b[0m\u001b[0mF\u001b[0m\u001b[1;33m,\u001b[0m \u001b[0mdecorate_context\u001b[0m\u001b[1;33m)\u001b[0m\u001b[1;33m\u001b[0m\u001b[1;33m\u001b[0m\u001b[0m\n\u001b[0;32m     29\u001b[0m \u001b[1;33m\u001b[0m\u001b[0m\n",
      "\u001b[1;32mc:\\users\\ankan\\appdata\\local\\programs\\python\\python37\\lib\\site-packages\\transformers\\generation_utils.py\u001b[0m in \u001b[0;36mgenerate\u001b[1;34m(self, inputs, max_length, min_length, do_sample, early_stopping, num_beams, temperature, top_k, top_p, typical_p, repetition_penalty, bad_words_ids, force_words_ids, bos_token_id, pad_token_id, eos_token_id, length_penalty, no_repeat_ngram_size, encoder_no_repeat_ngram_size, num_return_sequences, max_time, max_new_tokens, decoder_start_token_id, use_cache, num_beam_groups, diversity_penalty, prefix_allowed_tokens_fn, logits_processor, renormalize_logits, stopping_criteria, constraints, output_attentions, output_hidden_states, output_scores, return_dict_in_generate, forced_bos_token_id, forced_eos_token_id, remove_invalid_values, synced_gpus, exponential_decay_length_penalty, **model_kwargs)\u001b[0m\n\u001b[0;32m   1397\u001b[0m                 \u001b[0mreturn_dict_in_generate\u001b[0m\u001b[1;33m=\u001b[0m\u001b[0mreturn_dict_in_generate\u001b[0m\u001b[1;33m,\u001b[0m\u001b[1;33m\u001b[0m\u001b[1;33m\u001b[0m\u001b[0m\n\u001b[0;32m   1398\u001b[0m                 \u001b[0msynced_gpus\u001b[0m\u001b[1;33m=\u001b[0m\u001b[0msynced_gpus\u001b[0m\u001b[1;33m,\u001b[0m\u001b[1;33m\u001b[0m\u001b[1;33m\u001b[0m\u001b[0m\n\u001b[1;32m-> 1399\u001b[1;33m                 \u001b[1;33m**\u001b[0m\u001b[0mmodel_kwargs\u001b[0m\u001b[1;33m,\u001b[0m\u001b[1;33m\u001b[0m\u001b[1;33m\u001b[0m\u001b[0m\n\u001b[0m\u001b[0;32m   1400\u001b[0m             )\n\u001b[0;32m   1401\u001b[0m \u001b[1;33m\u001b[0m\u001b[0m\n",
      "\u001b[1;32mc:\\users\\ankan\\appdata\\local\\programs\\python\\python37\\lib\\site-packages\\transformers\\generation_utils.py\u001b[0m in \u001b[0;36mbeam_sample\u001b[1;34m(self, input_ids, beam_scorer, logits_processor, stopping_criteria, logits_warper, max_length, pad_token_id, eos_token_id, output_attentions, output_hidden_states, output_scores, return_dict_in_generate, synced_gpus, **model_kwargs)\u001b[0m\n\u001b[0;32m   2529\u001b[0m             \u001b[0mnext_token_scores_processed\u001b[0m \u001b[1;33m=\u001b[0m \u001b[0mlogits_processor\u001b[0m\u001b[1;33m(\u001b[0m\u001b[0minput_ids\u001b[0m\u001b[1;33m,\u001b[0m \u001b[0mnext_token_scores\u001b[0m\u001b[1;33m)\u001b[0m\u001b[1;33m\u001b[0m\u001b[1;33m\u001b[0m\u001b[0m\n\u001b[0;32m   2530\u001b[0m             \u001b[0mnext_token_scores\u001b[0m \u001b[1;33m=\u001b[0m \u001b[0mnext_token_scores_processed\u001b[0m \u001b[1;33m+\u001b[0m \u001b[0mbeam_scores\u001b[0m\u001b[1;33m[\u001b[0m\u001b[1;33m:\u001b[0m\u001b[1;33m,\u001b[0m \u001b[1;32mNone\u001b[0m\u001b[1;33m]\u001b[0m\u001b[1;33m.\u001b[0m\u001b[0mexpand_as\u001b[0m\u001b[1;33m(\u001b[0m\u001b[0mnext_token_scores\u001b[0m\u001b[1;33m)\u001b[0m\u001b[1;33m\u001b[0m\u001b[1;33m\u001b[0m\u001b[0m\n\u001b[1;32m-> 2531\u001b[1;33m             \u001b[0mnext_token_scores\u001b[0m \u001b[1;33m=\u001b[0m \u001b[0mlogits_warper\u001b[0m\u001b[1;33m(\u001b[0m\u001b[0minput_ids\u001b[0m\u001b[1;33m,\u001b[0m \u001b[0mnext_token_scores\u001b[0m\u001b[1;33m)\u001b[0m\u001b[1;33m\u001b[0m\u001b[1;33m\u001b[0m\u001b[0m\n\u001b[0m\u001b[0;32m   2532\u001b[0m \u001b[1;33m\u001b[0m\u001b[0m\n\u001b[0;32m   2533\u001b[0m             \u001b[1;31m# Store scores, attentions and hidden_states when required\u001b[0m\u001b[1;33m\u001b[0m\u001b[1;33m\u001b[0m\u001b[1;33m\u001b[0m\u001b[0m\n",
      "\u001b[1;32mc:\\users\\ankan\\appdata\\local\\programs\\python\\python37\\lib\\site-packages\\transformers\\generation_logits_process.py\u001b[0m in \u001b[0;36m__call__\u001b[1;34m(self, input_ids, scores, **kwargs)\u001b[0m\n\u001b[0;32m     90\u001b[0m                 \u001b[0mscores\u001b[0m \u001b[1;33m=\u001b[0m \u001b[0mprocessor\u001b[0m\u001b[1;33m(\u001b[0m\u001b[0minput_ids\u001b[0m\u001b[1;33m,\u001b[0m \u001b[0mscores\u001b[0m\u001b[1;33m,\u001b[0m \u001b[1;33m**\u001b[0m\u001b[0mkwargs\u001b[0m\u001b[1;33m)\u001b[0m\u001b[1;33m\u001b[0m\u001b[1;33m\u001b[0m\u001b[0m\n\u001b[0;32m     91\u001b[0m             \u001b[1;32melse\u001b[0m\u001b[1;33m:\u001b[0m\u001b[1;33m\u001b[0m\u001b[1;33m\u001b[0m\u001b[0m\n\u001b[1;32m---> 92\u001b[1;33m                 \u001b[0mscores\u001b[0m \u001b[1;33m=\u001b[0m \u001b[0mprocessor\u001b[0m\u001b[1;33m(\u001b[0m\u001b[0minput_ids\u001b[0m\u001b[1;33m,\u001b[0m \u001b[0mscores\u001b[0m\u001b[1;33m)\u001b[0m\u001b[1;33m\u001b[0m\u001b[1;33m\u001b[0m\u001b[0m\n\u001b[0m\u001b[0;32m     93\u001b[0m         \u001b[1;32mreturn\u001b[0m \u001b[0mscores\u001b[0m\u001b[1;33m\u001b[0m\u001b[1;33m\u001b[0m\u001b[0m\n\u001b[0;32m     94\u001b[0m \u001b[1;33m\u001b[0m\u001b[0m\n",
      "\u001b[1;32mc:\\users\\ankan\\appdata\\local\\programs\\python\\python37\\lib\\site-packages\\transformers\\generation_logits_process.py\u001b[0m in \u001b[0;36m__call__\u001b[1;34m(self, input_ids, scores)\u001b[0m\n\u001b[0;32m    192\u001b[0m \u001b[1;33m\u001b[0m\u001b[0m\n\u001b[0;32m    193\u001b[0m     \u001b[1;32mdef\u001b[0m \u001b[0m__call__\u001b[0m\u001b[1;33m(\u001b[0m\u001b[0mself\u001b[0m\u001b[1;33m,\u001b[0m \u001b[0minput_ids\u001b[0m\u001b[1;33m:\u001b[0m \u001b[0mtorch\u001b[0m\u001b[1;33m.\u001b[0m\u001b[0mLongTensor\u001b[0m\u001b[1;33m,\u001b[0m \u001b[0mscores\u001b[0m\u001b[1;33m:\u001b[0m \u001b[0mtorch\u001b[0m\u001b[1;33m.\u001b[0m\u001b[0mFloatTensor\u001b[0m\u001b[1;33m)\u001b[0m \u001b[1;33m->\u001b[0m \u001b[0mtorch\u001b[0m\u001b[1;33m.\u001b[0m\u001b[0mFloatTensor\u001b[0m\u001b[1;33m:\u001b[0m\u001b[1;33m\u001b[0m\u001b[1;33m\u001b[0m\u001b[0m\n\u001b[1;32m--> 194\u001b[1;33m         \u001b[0msorted_logits\u001b[0m\u001b[1;33m,\u001b[0m \u001b[0msorted_indices\u001b[0m \u001b[1;33m=\u001b[0m \u001b[0mtorch\u001b[0m\u001b[1;33m.\u001b[0m\u001b[0msort\u001b[0m\u001b[1;33m(\u001b[0m\u001b[0mscores\u001b[0m\u001b[1;33m,\u001b[0m \u001b[0mdescending\u001b[0m\u001b[1;33m=\u001b[0m\u001b[1;32mTrue\u001b[0m\u001b[1;33m)\u001b[0m\u001b[1;33m\u001b[0m\u001b[1;33m\u001b[0m\u001b[0m\n\u001b[0m\u001b[0;32m    195\u001b[0m         \u001b[0mcumulative_probs\u001b[0m \u001b[1;33m=\u001b[0m \u001b[0msorted_logits\u001b[0m\u001b[1;33m.\u001b[0m\u001b[0msoftmax\u001b[0m\u001b[1;33m(\u001b[0m\u001b[0mdim\u001b[0m\u001b[1;33m=\u001b[0m\u001b[1;33m-\u001b[0m\u001b[1;36m1\u001b[0m\u001b[1;33m)\u001b[0m\u001b[1;33m.\u001b[0m\u001b[0mcumsum\u001b[0m\u001b[1;33m(\u001b[0m\u001b[0mdim\u001b[0m\u001b[1;33m=\u001b[0m\u001b[1;33m-\u001b[0m\u001b[1;36m1\u001b[0m\u001b[1;33m)\u001b[0m\u001b[1;33m\u001b[0m\u001b[1;33m\u001b[0m\u001b[0m\n\u001b[0;32m    196\u001b[0m \u001b[1;33m\u001b[0m\u001b[0m\n",
      "\u001b[1;31mRuntimeError\u001b[0m: CUDA out of memory. Tried to allocate 222.00 MiB (GPU 0; 4.00 GiB total capacity; 2.68 GiB already allocated; 0 bytes free; 3.44 GiB reserved in total by PyTorch) If reserved memory is >> allocated memory try setting max_split_size_mb to avoid fragmentation.  See documentation for Memory Management and PYTORCH_CUDA_ALLOC_CONF"
     ]
    }
   ],
   "source": [
    "#os.environ[\"PYTORCH_CUDA_ALLOC_CONF\"] = \"max_split_size_mb:64\"\n",
    "model_args = Seq2SeqArgs()\n",
    "model_args.do_sample = True\n",
    "#model_args.eval_batch_size = 64\n",
    "model_args.eval_batch_size = 32\n",
    "model_args.evaluate_during_training = True\n",
    "#model_args.evaluate_during_training_steps = 2500\n",
    "model_args.evaluate_during_training_steps = 1000\n",
    "model_args.evaluate_during_training_verbose = True\n",
    "model_args.fp16 = False\n",
    "model_args.learning_rate = 5e-5\n",
    "#model_args.max_length = 128\n",
    "model_args.max_length = 32\n",
    "#model_args.max_seq_length = 128\n",
    "model_args.max_seq_length = 32\n",
    "model_args.num_beams = None\n",
    "model_args.num_return_sequences = 3\n",
    "model_args.num_train_epochs = 2\n",
    "model_args.overwrite_output_dir = True\n",
    "model_args.reprocess_input_data = True\n",
    "model_args.save_eval_checkpoints = False\n",
    "model_args.save_steps = -1\n",
    "model_args.top_k = 50\n",
    "model_args.top_p = 0.95\n",
    "#model_args.train_batch_size = 8\n",
    "model_args.train_batch_size = 4\n",
    "model_args.use_multiprocessing = False\n",
    "#model_args.wandb_project = \"Paraphrasing with BART\"\n",
    "\n",
    "\n",
    "model = Seq2SeqModel(\n",
    "    encoder_decoder_type=\"bart\",\n",
    "    encoder_decoder_name=\"facebook/bart-base\",\n",
    "    args=model_args,\n",
    ")\n",
    "model.train_model(train_df, eval_data=eval_df)\n",
    "\n",
    "to_predict = [\n",
    "    prefix + \": \" + str(input_text)\n",
    "    for prefix, input_text in zip(eval_df[\"prefix\"].tolist(), eval_df[\"input_text\"].tolist())\n",
    "]\n",
    "truth = eval_df[\"target_text\"].tolist()\n",
    "\n",
    "preds = model.predict(to_predict)"
   ]
  },
  {
   "cell_type": "code",
   "execution_count": null,
   "metadata": {},
   "outputs": [],
   "source": [
    "print(preds)"
   ]
  }
 ],
 "metadata": {
  "kernelspec": {
   "display_name": "Python 3",
   "language": "python",
   "name": "python3"
  },
  "language_info": {
   "codemirror_mode": {
    "name": "ipython",
    "version": 3
   },
   "file_extension": ".py",
   "mimetype": "text/x-python",
   "name": "python",
   "nbconvert_exporter": "python",
   "pygments_lexer": "ipython3",
   "version": "3.7.9"
  }
 },
 "nbformat": 4,
 "nbformat_minor": 4
}
