{
 "cells": [
  {
   "cell_type": "code",
   "execution_count": 29,
   "metadata": {},
   "outputs": [],
   "source": [
    "import os\n",
    "from datetime import datetime\n",
    "import logging\n",
    "\n",
    "import pandas as pd\n",
    "from sklearn.model_selection import train_test_split\n",
    "from simpletransformers.seq2seq import Seq2SeqModel, Seq2SeqArgs\n",
    "import warnings\n",
    "import pandas as pd\n",
    "import os\n",
    "from datetime import datetime\n",
    "import logging\n",
    "import glob\n",
    "from pathlib import Path"
   ]
  },
  {
   "cell_type": "code",
   "execution_count": 41,
   "metadata": {},
   "outputs": [
    {
     "name": "stdout",
     "output_type": "stream",
     "text": [
      "Input file ../../Summary/DATA/PARAPHRASE/Dev\\APPN_2023-02-16_EP_YH.txt\n",
      "Phrase file ../../Summary/DATA/PARAPHRASE/Dev/APPN_2023-02-16_EP_YH_phrase.txt\n",
      "Phrase file ..\\..\\Summary\\DATA\\PARAPHRASE\\Dev\\APPN_2023-02-16_EP_YH_phrase.txt already exists\n"
     ]
    }
   ],
   "source": [
    "devDir = \"../../Summary/DATA/PARAPHRASE/Dev\"\n",
    "rplStr = [\"PG***\", \"CS***\", \"ED***\", \"SCHQ***\", \"SCBQ***\", \"SCBF***\", \"SCHF***\", \"SCG***\", \"GF***\", \"GQ***\"]\n",
    "\n",
    "files = glob.glob(devDir+\"/*_EP_YH.txt\")\n",
    "#print(files)\n",
    "#print(devDir)\n",
    "if(len(files) > 0):\n",
    "    for file in (files):\n",
    "        print(\"Input file \" + file)\n",
    "        basefile = os.path.basename(file)\n",
    "        inputfile = os.path.splitext(basefile)[0]\n",
    "        #print(inputfile)\n",
    "        outfilePath = inputfile + \"_phrase.txt\"\n",
    "        outfilePath = devDir + \"/\" + outfilePath\n",
    "        print(\"Phrase file \" + outfilePath)\n",
    "        outfile = Path(outfilePath)\n",
    "        if outfile.is_file():\n",
    "            print(\"Phrase file \" + str(outfile) + \" already exists\")\n",
    "            continue\n",
    "        with open(outfile, \"w\") as of:\n",
    "            with open(file, encoding=\"utf-8\") as f:\n",
    "                line = f.readline()\n",
    "                while line:\n",
    "                    for s in rplStr:\n",
    "                        line = line.replace(s, \"\")\n",
    "                    if(\"@@@\" in line or line == \"\\n\" or \"https://finance.yahoo.com\" in line):\n",
    "                        line = f.readline()\n",
    "                        continue\n",
    "                    #print(line)\n",
    "                    of.write(line + \"\\n\")\n",
    "                    line = f.readline()"
   ]
  },
  {
   "cell_type": "code",
   "execution_count": 2,
   "metadata": {},
   "outputs": [],
   "source": [
    "def load_data(file_path, input_text_column, target_text_column, label_column, keep_label=1):\n",
    "    df = pd.read_csv(file_path, sep=\"\\t\", error_bad_lines=False)\n",
    "    df = df.loc[df[label_column] == keep_label]\n",
    "    df = df.rename(\n",
    "        columns={input_text_column: \"input_text\", target_text_column: \"target_text\"}\n",
    "    )\n",
    "    df = df[[\"input_text\", \"target_text\"]]\n",
    "    df[\"prefix\"] = \"paraphrase\"\n",
    "\n",
    "    return df"
   ]
  },
  {
   "cell_type": "code",
   "execution_count": 3,
   "metadata": {},
   "outputs": [],
   "source": [
    "def clean_unnecessary_spaces(out_string):\n",
    "    if not isinstance(out_string, str):\n",
    "        warnings.warn(f\">>> {out_string} <<< is not a string.\")\n",
    "        out_string = str(out_string)\n",
    "    out_string = (\n",
    "        out_string.replace(\" .\", \".\")\n",
    "        .replace(\" ?\", \"?\")\n",
    "        .replace(\" !\", \"!\")\n",
    "        .replace(\" ,\", \",\")\n",
    "        .replace(\" ' \", \"'\")\n",
    "        .replace(\" n't\", \"n't\")\n",
    "        .replace(\" 'm\", \"'m\")\n",
    "        .replace(\" 's\", \"'s\")\n",
    "        .replace(\" 've\", \"'ve\")\n",
    "        .replace(\" 're\", \"'re\")\n",
    "    )\n",
    "    return out_string"
   ]
  },
  {
   "cell_type": "code",
   "execution_count": 4,
   "metadata": {},
   "outputs": [],
   "source": [
    "logging.basicConfig(level=logging.INFO)\n",
    "transformers_logger = logging.getLogger(\"transformers\")\n",
    "transformers_logger.setLevel(logging.ERROR)"
   ]
  },
  {
   "cell_type": "code",
   "execution_count": 5,
   "metadata": {},
   "outputs": [],
   "source": [
    "train_df = pd.read_csv(\"../../Summary/ParaPhrase/final/train.tsv\", sep=\"\\t\").astype(str)\n",
    "eval_df = pd.read_csv(\"../../Summary/ParaPhrase/final/dev.tsv\", sep=\"\\t\").astype(str)\n",
    "\n",
    "train_df = train_df.loc[train_df[\"label\"] == \"1\"]\n",
    "eval_df = eval_df.loc[eval_df[\"label\"] == \"1\"]\n",
    "\n",
    "train_df = train_df.rename(\n",
    "    columns={\"sentence1\": \"input_text\", \"sentence2\": \"target_text\"}\n",
    ")\n",
    "eval_df = eval_df.rename(\n",
    "    columns={\"sentence1\": \"input_text\", \"sentence2\": \"target_text\"}\n",
    ")\n",
    "\n",
    "train_df = train_df[[\"input_text\", \"target_text\"]]\n",
    "eval_df = eval_df[[\"input_text\", \"target_text\"]]\n",
    "\n",
    "train_df[\"prefix\"] = \"paraphrase\"\n",
    "eval_df[\"prefix\"] = \"paraphrase\""
   ]
  },
  {
   "cell_type": "code",
   "execution_count": 6,
   "metadata": {},
   "outputs": [
    {
     "name": "stderr",
     "output_type": "stream",
     "text": [
      "INFO:numexpr.utils:Note: NumExpr detected 12 cores but \"NUMEXPR_MAX_THREADS\" not set, so enforcing safe limit of 8.\n",
      "INFO:numexpr.utils:NumExpr defaulting to 8 threads.\n"
     ]
    },
    {
     "name": "stdout",
     "output_type": "stream",
     "text": [
      "          prefix                                         input_text  \\\n",
      "1     paraphrase  The NBA season of 1975 -- 76 was the 30th seas...   \n",
      "3     paraphrase  When comparable rates of flow can be maintaine...   \n",
      "4     paraphrase  It is the seat of Zerendi District in Akmola R...   \n",
      "5     paraphrase  William Henry Henry Harman was born on 17 Febr...   \n",
      "7     paraphrase  With a discrete amount of probabilities Formul...   \n",
      "...          ...                                                ...   \n",
      "9992  paraphrase  The 500 Hispanic settlers who had lived near L...   \n",
      "9996  paraphrase  In the wake of the Herat affair, Great Britain...   \n",
      "9997  paraphrase  Psalm 79 ( Greek numbering : Psalm 78 ) is the...   \n",
      "9998  paraphrase  It is located in the Annapolis Valley in Kings...   \n",
      "9999  paraphrase  The team kits for the 2005 -- 06 season are pr...   \n",
      "\n",
      "                                            target_text  \n",
      "1     The 1975 -- 76 season of the National Basketba...  \n",
      "3     The results are high when comparable flow rate...  \n",
      "4     It is the seat of the district of Zerendi in A...  \n",
      "5     William Henry Harman was born in Waynesboro, V...  \n",
      "7     Given a discrete set of probabilities formula ...  \n",
      "...                                                 ...  \n",
      "9992  The 500 Hispanic settlers who had lived near L...  \n",
      "9996  After the Herat affair, Britain would remove i...  \n",
      "9997  Psalm 79 ( Greek numbering : Psalm 78 ) is the...  \n",
      "9998  It is located in Annapolis Valley in the Kings...  \n",
      "9999  The 2005 -- 06 team kits are produced by Uhlsp...  \n",
      "\n",
      "[4491 rows x 3 columns]\n"
     ]
    }
   ],
   "source": [
    "train_df = train_df[[\"prefix\", \"input_text\", \"target_text\"]]\n",
    "eval_df = eval_df[[\"prefix\", \"input_text\", \"target_text\"]]\n",
    "\n",
    "train_df = train_df.dropna()\n",
    "eval_df = eval_df.dropna()\n",
    "train_df[\"input_text\"] = train_df[\"input_text\"].apply(clean_unnecessary_spaces)\n",
    "train_df[\"target_text\"] = train_df[\"target_text\"].apply(clean_unnecessary_spaces)\n",
    "\n",
    "eval_df[\"input_text\"] = eval_df[\"input_text\"].apply(clean_unnecessary_spaces)\n",
    "eval_df[\"target_text\"] = eval_df[\"target_text\"].apply(clean_unnecessary_spaces)\n",
    "\n",
    "train_df = (train_df.loc[1:10000])\n",
    "eval_df = (eval_df.loc[1:1000])\n",
    "print(train_df)"
   ]
  },
  {
   "cell_type": "code",
   "execution_count": null,
   "metadata": {},
   "outputs": [
    {
     "name": "stderr",
     "output_type": "stream",
     "text": [
      "INFO:simpletransformers.seq2seq.seq2seq_utils: Creating features from dataset file at cache_dir/\n"
     ]
    },
    {
     "data": {
      "application/vnd.jupyter.widget-view+json": {
       "model_id": "eabb6dfd00a348e98dd3d0bd05fb889c",
       "version_major": 2,
       "version_minor": 0
      },
      "text/plain": [
       "  0%|          | 0/4491 [00:00<?, ?it/s]"
      ]
     },
     "metadata": {},
     "output_type": "display_data"
    },
    {
     "name": "stderr",
     "output_type": "stream",
     "text": [
      "INFO:simpletransformers.seq2seq.seq2seq_model: Training started\n"
     ]
    },
    {
     "data": {
      "application/vnd.jupyter.widget-view+json": {
       "model_id": "3ef8a10ce3d24b548168df54c4dd1abc",
       "version_major": 2,
       "version_minor": 0
      },
      "text/plain": [
       "Epoch:   0%|          | 0/2 [00:00<?, ?it/s]"
      ]
     },
     "metadata": {},
     "output_type": "display_data"
    },
    {
     "name": "stderr",
     "output_type": "stream",
     "text": [
      "ERROR:wandb.jupyter:Failed to detect the name of this notebook, you can set it manually with the WANDB_NOTEBOOK_NAME environment variable to enable code saving.\n",
      "wandb: Currently logged in as: ankan-ghosh. Use `wandb login --relogin` to force relogin\n"
     ]
    },
    {
     "data": {
      "text/html": [
       "wandb version 0.14.2 is available!  To upgrade, please run:\n",
       " $ pip install wandb --upgrade"
      ],
      "text/plain": [
       "<IPython.core.display.HTML object>"
      ]
     },
     "metadata": {},
     "output_type": "display_data"
    },
    {
     "data": {
      "text/html": [
       "Tracking run with wandb version 0.14.1"
      ],
      "text/plain": [
       "<IPython.core.display.HTML object>"
      ]
     },
     "metadata": {},
     "output_type": "display_data"
    },
    {
     "data": {
      "text/html": [
       "Run data is saved locally in <code>C:\\Users\\ankan\\Documents\\Software\\fastai\\apnatec\\apnatec\\wandb\\run-20230409_110805-4jwdjxod</code>"
      ],
      "text/plain": [
       "<IPython.core.display.HTML object>"
      ]
     },
     "metadata": {},
     "output_type": "display_data"
    },
    {
     "data": {
      "text/html": [
       "Syncing run <strong><a href='https://wandb.ai/ankan-ghosh/Paraphrasing%20with%20BART/runs/4jwdjxod' target=\"_blank\">ancient-snow-18</a></strong> to <a href='https://wandb.ai/ankan-ghosh/Paraphrasing%20with%20BART' target=\"_blank\">Weights & Biases</a> (<a href='https://wandb.me/run' target=\"_blank\">docs</a>)<br/>"
      ],
      "text/plain": [
       "<IPython.core.display.HTML object>"
      ]
     },
     "metadata": {},
     "output_type": "display_data"
    },
    {
     "data": {
      "text/html": [
       " View project at <a href='https://wandb.ai/ankan-ghosh/Paraphrasing%20with%20BART' target=\"_blank\">https://wandb.ai/ankan-ghosh/Paraphrasing%20with%20BART</a>"
      ],
      "text/plain": [
       "<IPython.core.display.HTML object>"
      ]
     },
     "metadata": {},
     "output_type": "display_data"
    },
    {
     "data": {
      "text/html": [
       " View run at <a href='https://wandb.ai/ankan-ghosh/Paraphrasing%20with%20BART/runs/4jwdjxod' target=\"_blank\">https://wandb.ai/ankan-ghosh/Paraphrasing%20with%20BART/runs/4jwdjxod</a>"
      ],
      "text/plain": [
       "<IPython.core.display.HTML object>"
      ]
     },
     "metadata": {},
     "output_type": "display_data"
    },
    {
     "data": {
      "application/vnd.jupyter.widget-view+json": {
       "model_id": "0340550afbf8456ab1122159bac8751e",
       "version_major": 2,
       "version_minor": 0
      },
      "text/plain": [
       "Running Epoch 0 of 2:   0%|          | 0/1123 [00:00<?, ?it/s]"
      ]
     },
     "metadata": {},
     "output_type": "display_data"
    },
    {
     "name": "stderr",
     "output_type": "stream",
     "text": [
      "INFO:simpletransformers.seq2seq.seq2seq_utils: Creating features from dataset file at cache_dir/\n"
     ]
    },
    {
     "data": {
      "application/vnd.jupyter.widget-view+json": {
       "model_id": "3793325cb9044a53b9517726962c9024",
       "version_major": 2,
       "version_minor": 0
      },
      "text/plain": [
       "  0%|          | 0/451 [00:00<?, ?it/s]"
      ]
     },
     "metadata": {},
     "output_type": "display_data"
    },
    {
     "name": "stderr",
     "output_type": "stream",
     "text": [
      "INFO:simpletransformers.seq2seq.seq2seq_model:{'eval_loss': 0.5751085778077444}\n",
      "INFO:simpletransformers.seq2seq.seq2seq_model:Saving model into outputs/best_model\n",
      "INFO:simpletransformers.seq2seq.seq2seq_model:Saving model into outputs/checkpoint-1123-epoch-1\n",
      "INFO:simpletransformers.seq2seq.seq2seq_utils: Creating features from dataset file at cache_dir/\n"
     ]
    },
    {
     "data": {
      "application/vnd.jupyter.widget-view+json": {
       "model_id": "dc223dc615cb48d7846cb0150c82994d",
       "version_major": 2,
       "version_minor": 0
      },
      "text/plain": [
       "  0%|          | 0/451 [00:00<?, ?it/s]"
      ]
     },
     "metadata": {},
     "output_type": "display_data"
    },
    {
     "name": "stderr",
     "output_type": "stream",
     "text": [
      "INFO:simpletransformers.seq2seq.seq2seq_model:{'eval_loss': 0.5639134407043457}\n",
      "INFO:simpletransformers.seq2seq.seq2seq_model:Saving model into outputs/best_model\n"
     ]
    },
    {
     "data": {
      "application/vnd.jupyter.widget-view+json": {
       "model_id": "ec626fdd135a4b209fd0c6381d6dff86",
       "version_major": 2,
       "version_minor": 0
      },
      "text/plain": [
       "Running Epoch 1 of 2:   0%|          | 0/1123 [00:00<?, ?it/s]"
      ]
     },
     "metadata": {},
     "output_type": "display_data"
    }
   ],
   "source": [
    "os.environ[\"PYTORCH_CUDA_ALLOC_CONF\"] = \"max_split_size_mb:64\"\n",
    "model_args = Seq2SeqArgs()\n",
    "model_args.do_sample = True\n",
    "#model_args.eval_batch_size = 64\n",
    "model_args.eval_batch_size = 32\n",
    "model_args.evaluate_during_training = True\n",
    "#model_args.evaluate_during_training_steps = 2500\n",
    "model_args.evaluate_during_training_steps = 1000\n",
    "model_args.evaluate_during_training_verbose = True\n",
    "model_args.fp16 = False\n",
    "model_args.learning_rate = 5e-5\n",
    "#model_args.max_length = 128\n",
    "model_args.max_length = 32\n",
    "#model_args.max_seq_length = 128\n",
    "model_args.max_seq_length = 32\n",
    "model_args.num_beams = None\n",
    "model_args.num_return_sequences = 3\n",
    "model_args.num_train_epochs = 2\n",
    "model_args.overwrite_output_dir = True\n",
    "model_args.reprocess_input_data = True\n",
    "model_args.save_eval_checkpoints = False\n",
    "model_args.save_steps = -1\n",
    "model_args.top_k = 50\n",
    "model_args.top_p = 0.95\n",
    "#model_args.train_batch_size = 8\n",
    "model_args.train_batch_size = 4\n",
    "model_args.use_multiprocessing = False\n",
    "model_args.wandb_project = \"Paraphrasing with BART\"\n",
    "\n",
    "\n",
    "model = Seq2SeqModel(\n",
    "    encoder_decoder_type=\"bart\",\n",
    "    encoder_decoder_name=\"facebook/bart-base\",\n",
    "    args=model_args,\n",
    ")\n",
    "model.train_model(train_df, eval_data=eval_df)\n",
    "\n",
    "to_predict = [\n",
    "    prefix + \": \" + str(input_text)\n",
    "    for prefix, input_text in zip(eval_df[\"prefix\"].tolist(), eval_df[\"input_text\"].tolist())\n",
    "]\n",
    "truth = eval_df[\"target_text\"].tolist()\n",
    "\n",
    "preds = model.predict(to_predict)"
   ]
  },
  {
   "cell_type": "code",
   "execution_count": 8,
   "metadata": {},
   "outputs": [
    {
     "name": "stdout",
     "output_type": "stream",
     "text": [
      "[['paraphrase: They were there to enjoy us and they were there for pray for us.', 'paraphrase: They were there to enjoy us and they were there for pray for us.', 'paraphrase: They were there to enjoy us and they were there for pray for us.'], [\"paraphrase: After the end of the war in June 1902, Higgins left Southampton in the `` SSBavarian '' and returned to Southampton\", \"paraphrase: After the end of the war in June 1902, Higgins left Southampton in the `` SSBavarian '' and returned to Southampton\", \"paraphrase: After the end of the war in June 1902, Higgins left Southampton in the `` SSBavarian '' and returned to Southampton\"], ['paraphrase: From the merger of the Four Rivers Council and the Audubon Council, the Shawnee Trails Council was born.', 'paraphrase: From the merger of the Four Rivers Council and the Audubon Council, the Shawnee Trails Council was born.', 'paraphrase: From the merger of the Four Rivers Council and the Audubon Council, the Shawnee Trails Council was born.'], ['paraphrase: The group toured extensively and became famous in Israel, and even played in New York City in 2007.', 'paraphrase: The group toured extensively and became famous in Israel, and even played in New York City in 2007.', 'paraphrase: The group toured extensively and became famous in Israel, and even played in New York City in 2007.'], ['paraphrase: Kathy and her husband Pete Beale ( Peter Dean ) are stable financially.', 'paraphrase: Kathy and her husband Pete Beale ( Peter Dean ) are stable financially.', 'paraphrase: Kathy and her husband Pete Beale ( Peter Dean ) are stable financially.'], ['paraphrase: Timora diarhoda is a species of moth of the Noctuidae family, which is found in Africa, including', 'paraphrase: Timora diarhoda is a species of moth of the Noctuidae family, which is found in Africa, including', 'paraphrase: Timora diarhoda is a species of moth of the Noctuidae family, which is found in Africa, including'], ['paraphrase: Joe R. Campa Jr. is a former sailor of the United States Navy who served as the eleventh master', 'paraphrase: Joe R. Campa Jr. is a former sailor of the United States Navy who served as the eleventh master', 'paraphrase: Joe R. Campa Jr. is a former sailor of the United States Navy who served as the eleventh master'], ['paraphrase: The exception was between late 2005 and 2009 when he played in Sweden with Carlstad United BK, Serbia with FK Bor', 'paraphrase: The exception was between late 2005 and 2009 when he played in Sweden with Carlstad United BK, Serbia with FK Bor', 'paraphrase: The exception was between late 2005 and 2009 when he played in Sweden with Carlstad United BK, Serbia with FK Bor'], ['paraphrase: The family moved to Camp Hill in 1972, where he attended Trinity High School in Harrisburg, Pennsylvania.', 'paraphrase: The family moved to Camp Hill in 1972, where he attended Trinity High School in Harrisburg, Pennsylvania.', 'paraphrase: The family moved to Camp Hill in 1972, where he attended Trinity High School in Harrisburg, Pennsylvania.'], ['paraphrase: A recording of folk songs done for Columbia society in 1942 was largely arranged by Pjetër Dungu.', 'paraphrase: A recording of folk songs done for Columbia society in 1942 was largely arranged by Pjetër Dungu.', 'paraphrase: A recording of folk songs done for Columbia society in 1942 was largely arranged by Pjetër Dungu.'], ['paraphrase: Components of elastic potential systems store mechanical energy if they are deformed when forces are applied to the system.', 'paraphrase: Components of elastic potential systems store mechanical energy if they are deformed when forces are applied to the system.', 'paraphrase: Components of elastic potential systems store mechanical energy if they are deformed when forces are applied to the system.'], ['paraphrase: Earl St Vincent was a British ship captured in 1803 and became a French trade man.', 'paraphrase: Earl St Vincent was a British ship captured in 1803 and became a French trade man.', 'paraphrase: Earl St Vincent was a British ship captured in 1803 and became a French trade man.'], ['paraphrase: Steam can also be used, and does not need to be pumped.', 'paraphrase: Steam can also be used, and does not need to be pumped.', 'paraphrase: Steam can also be used, and does not need to be pumped.'], ['paraphrase: In mathematical astronomy, his fame is due to the introduction of the astronomical globe and his early contributions to understanding the movement of the', 'paraphrase: In mathematical astronomy, his fame is due to the introduction of the astronomical globe and his early contributions to understanding the movement of the', 'paraphrase: In mathematical astronomy, his fame is due to the introduction of the astronomical globe and his early contributions to understanding the movement of the'], ['paraphrase: Winarsky is a member of the IEEE, Phi Beta Kappa, ACM and Sigma Xi.', 'paraphrase: Winarsky is a member of the IEEE, Phi Beta Kappa, ACM and Sigma Xi.', 'paraphrase: Winarsky is a member of the IEEE, Phi Beta Kappa, ACM and Sigma Xi.'], ['paraphrase: Mandarin Chinese has specific terms and racial euphemisms for different races and ethnicities, and some discriminatory attacks against representatives of certain governments', 'paraphrase: Mandarin Chinese has specific terms and racial euphemisms for different races and ethnicities, and some discriminatory attacks against representatives of certain governments', 'paraphrase: Mandarin Chinese has specific terms and racial euphemisms for different races and ethnicities, and some discriminatory attacks against representatives of certain governments'], ['paraphrase: The solar approach to this requirement is the use of solar panels in a conventional-powered aircraft.', 'paraphrase: The solar approach to this requirement is the use of solar panels in a conventional-powered aircraft.', 'paraphrase: The solar approach to this requirement is the use of solar panels in a conventional-powered aircraft.'], ['paraphrase: The police also questioned singer Rimi Tomy and actor Kavya Madhavan, both close friends of Siddique and', 'paraphrase: The police also questioned singer Rimi Tomy and actor Kavya Madhavan, both close friends of Siddique and', 'paraphrase: The police also questioned singer Rimi Tomy and actor Kavya Madhavan, both close friends of Siddique and'], ['paraphrase: Its music critics included Julius Korngold ( 1864 -- 1904 ) and Eduard Hanslick ( 1904 -- 1934 ).', 'paraphrase: Its music critics included Julius Korngold ( 1864 -- 1904 ) and Eduard Hanslick ( 1904 -- 1934 ).', 'paraphrase: Its music critics included Julius Korngold ( 1864 -- 1904 ) and Eduard Hanslick ( 1904 -- 1934 ).'], ['paraphrase: Holly was musically influenced by Elton John.', 'paraphrase: Holly was musically influenced by Elton John.', 'paraphrase: Holly was musically influenced by Elton John.'], ['paraphrase: It was that Easipower said,', 'paraphrase: It was that Easipower said,', 'paraphrase: It was that Easipower said,'], ['paraphrase: The Tabaci River is a tributary of the Leurda River in Romania.', 'paraphrase: The Tabaci River is a tributary of the Leurda River in Romania.', 'paraphrase: The Tabaci River is a tributary of the Leurda River in Romania.'], [\"paraphrase: Aamir Khan agreed to act immediately after reading Mehra's screenplay in `` Rang De Basanti ''.\", \"paraphrase: Aamir Khan agreed to act immediately after reading Mehra's screenplay in `` Rang De Basanti ''.\", \"paraphrase: Aamir Khan agreed to act immediately after reading Mehra's screenplay in `` Rang De Basanti ''.\"], [\"paraphrase: Loyang's team defeated Xinmin Secondary School in the opening round and Raffles Institution in the quarter-finals before losing\", \"paraphrase: Loyang's team defeated Xinmin Secondary School in the opening round and Raffles Institution in the quarter-finals before losing\", \"paraphrase: Loyang's team defeated Xinmin Secondary School in the opening round and Raffles Institution in the quarter-finals before losing\"], ['paraphrase: Retzius was born in Stockholm, son of the anatomist Anders Jahan Retzio ( and grandson of the', 'paraphrase: Retzius was born in Stockholm, son of the anatomist Anders Jahan Retzio ( and grandson of the', 'paraphrase: Retzius was born in Stockholm, son of the anatomist Anders Jahan Retzio ( and grandson of the'], [\"paraphrase: The `` Fallbeil '' was used for the last time in 1949 in West Germany, in East Germany in 1966.\", \"paraphrase: The `` Fallbeil '' was used for the last time in 1949 in West Germany, in East Germany in 1966.\", \"paraphrase: The `` Fallbeil '' was used for the last time in 1949 in East Germany in 1966.\"], ['paraphrase: In 2009 he moved back to Philadelphia and lives in New York City today.', 'paraphrase: In 2009 he moved back to Philadelphia and lives in New York City today.', 'paraphrase: In 2009 he moved back to Philadelphia and lives in New York City today.'], ['paraphrase: Stipsits was born in Korneuburg, Germany and spent his childhood in Stammersdorf, Vienna.', 'paraphrase: Stipsits was born in Korneuburg, Germany and spent his childhood in Stammersdorf, Vienna.', 'paraphrase: Stipsits was born in Korneuburg, Germany and spent his childhood in Stammersdorf, Vienna.'], ['paraphrase: Daudkhali is a village in Barisal Division in the Pirojpur district of southwestern Bangladesh.', 'paraphrase: Daudkhali is a village in Barisal Division in the Pirojpur district of southwestern Bangladesh.', 'paraphrase: Daudkhali is a village in Barisal Division in the Pirojpur district of southwestern Bangladesh.'], ['paraphrase: The temple serves as a cultural and religious center for Korean Hindus and immigrants from South Asian countries.', 'paraphrase: The temple serves as a cultural and religious center for Korean Hindus and immigrants from South Asian countries.', 'paraphrase: The temple serves as a cultural and religious center for Korean Hindus and immigrants from South Asian countries.'], ['paraphrase: When a surface has a constant zero developable curvature, then it is a Euclidean surface and the geometry of the', 'paraphrase: When a surface has a constant zero developable curvature, then it is a Euclidean surface and the geometry of the', 'paraphrase: When a surface has a constant zero developable curvature, then it is a Euclidean surface and the geometry of the'], ['paraphrase: The following is a list of fouls established by the states that regulate MMA, as outlined by the Nevada State Athletic Commission.', 'paraphrase: The following is a list of fouls established by the states that regulate MMA, as outlined by the Nevada State Athletic Commission.', 'paraphrase: The following is a list of fouls established by the states that regulate MMA, as outlined by the Nevada State Athletic Commission.'], ['paraphrase: The Keita dynasty ruled pre-imperial and imperial Mali from the 12th century into the early 17th century.', 'paraphrase: The Keita dynasty ruled pre-imperial and imperial Mali from the 12th century into the early 17th century.', 'paraphrase: The Keita dynasty ruled pre-imperial and imperial Mali from the 12th century into the early 17th century.'], ['paraphrase: The compound was patented by Dr. Patrick Page and his team in 2007 and was invented by Genkyotex in 2007.', 'paraphrase: The compound was patented by Dr. Patrick Page and his team in 2007 and was invented by Genkyotex in 2007.', 'paraphrase: The compound was patented by Dr. Patrick Page and his team in 2007 and was invented by Genkyotex in 2007.'], [\"paraphrase: When Phil Spector heard `` Stubborn Kind of Fellow '' for the first time, he was so excited that he lost control\", \"paraphrase: When Phil Spector heard `` Stubborn Kind of Fellow '' for the first time, he was so excited that he lost control\", \"paraphrase: When Phil Spector heard `` Stubborn Kind of Fellow '' for the first time, he was so excited that he lost control\"], ['paraphrase: This genus is presently in the family of lizards known as Iguanidae, subfamily Polychrotinae,', 'paraphrase: This genus is presently in the family of lizards known as Iguanidae, subfamily Polychrotinae,', 'paraphrase: This genus is presently in the family of lizards known as Iguanidae, subfamily Polychrotinae,'], [\"paraphrase: Iyer next appeared in the Kannada film `` Darshan '' with actor Jaggu Dada.\", \"paraphrase: Iyer next appeared in the Kannada film `` Darshan '' with actor Jaggu Dada.\", \"paraphrase: Iyer next appeared in the Kannada film `` Darshan '' with actor Jaggu Dada.\"], ['paraphrase: Born in South Korea, he lived in Brazil for 9 years since 2002 and played football there for 5 years. He started his', 'paraphrase: Born in South Korea, he lived in Brazil for 9 years since 2002 and played football there for 5 years. He started his', 'paraphrase: Born in South Korea, he lived in Brazil for 9 years since 2002 and played football there for 5 years. He started his'], ['paraphrase: Michel Soro lost to Tapia on May 8, 2015.', 'paraphrase: Michel Soro lost to Tapia on May 8, 2015.', 'paraphrase: Michel Soro lost to Tapia on May 8, 2015.'], ['paraphrase: The music was written by Shyam and lyrics was composed by Sreekumaran Thampi and Sathyan Anthikk', 'paraphrase: The music was written by Shyam and lyrics was composed by Sreekumaran Thampi and Sathyan Anthikk', 'paraphrase: The music was written by Shyam and lyrics was composed by Sreekumaran Thampi and Sathyan Anthikk'], [\"paraphrase: Ned Evett released `` Treehouse '', his sixth solo record produced in Nashville, Tennessee by musician Adrian Bele\", \"paraphrase: Ned Evett released `` Treehouse '', his sixth solo record produced in Nashville, Tennessee by musician Adrian Bele\", \"paraphrase: Ned Evett released `` Treehouse '', his sixth solo record produced in Nashville, Tennessee by musician Adrian Bele\"], ['paraphrase: North Northamptonshire was a county constituency in Northampton, represented in the House of Commons of the Parliament of', 'paraphrase: North Northamptonshire was a county constituency in Northampton, represented in the House of Commons of the Parliament of', 'paraphrase: North Northamptonshire was a county constituency in Northampton, represented in the House of Commons of the Parliament of'], ['paraphrase: In February 2014, Network Ten announced that Hugh Riminton would replace Danielle Isdale as the sports presenter and Victoria Murphy would become', 'paraphrase: In February 2014, Network Ten announced that Hugh Riminton would replace Danielle Isdale as presenter and Victoria Murphy would become the sports', 'paraphrase: In February 2014, Network Ten announced that Hugh Riminton would replace Danielle Isdale as presenter and Victoria Murphy would become the sports'], ['paraphrase: The crash of Aerosucre Flight 4544 was the second aviation incident involving Aerosure, the first being the', 'paraphrase: The crash of Aerosucre Flight 4544 was the second aviation incident involving Aerosure, the first being the', 'paraphrase: The crash of Aerosucre Flight 4544 was the second aviation incident involving Aerosure, the first being the'], ['paraphrase: Among them are Marie Teresa Rios, composer of Boleros, Julita Ross, author, and Sylvia Rexach, a', 'paraphrase: Among them are Marie Teresa Rios, composer of Boleros, Julita Ross, author, and Sylvia Rexach, a', 'paraphrase: Among them are Marie Teresa Rios, composer of Boleros, Julita Ross, author, and Sylvia Rexach, a'], [\"paraphrase: Kabir asks Sarika to reveal his plan to end Ranvir's game.\", \"paraphrase: Kabir asks Sarika to reveal his plan to end Ranvir's game.\", \"paraphrase: Kabir asks Sarika to reveal his plan to end Ranvir's game.\"], [\"paraphrase: `` Trust in Me '' is a song written by Ned Wever, Milton Ager and Jean Schwartz.\", \"paraphrase: `` Trust in Me '' is a song written by Ned Wever, Milton Ager and Jean Schwartz.\", \"paraphrase: `` Trust in Me '' is a song written by Ned Wever, Milton Ager and Jean Schwartz.\"], [\"paraphrase: Jason Thornton is the orchestra's Artistic Director, Peter Donohoe the Principal Guest Conductor and Gavin Carr the Associate Cond\", \"paraphrase: Jason Thornton is the orchestra's Artistic Director, Peter Donohoe the Principal Guest Conductor and Gavin Carr the Associate Cond\", \"paraphrase: Jason Thornton is the orchestra's Artistic Director, Peter Donohoe the Principal Guest Conductor and Gavin Carr the Associate Cond\"], [\"paraphrase: Bob and Ted were brothers. Ted is John's son.\", \"paraphrase: Bob and Ted were brothers. Ted is John's son.\", \"paraphrase: Bob and Ted were brothers. Ted is John's son.\"], ['paraphrase: It was released on December 22, 2011 and was announced in February 2012.', 'paraphrase: It was released on December 22, 2011 and was announced in February 2012.', 'paraphrase: It was released on December 22, 2011 and was announced in February 2012.'], ['paraphrase: From the west end of the bridge, Pennsylvania Route 268 leads south to Parker and north to Emlenton.', 'paraphrase: From the west end of the bridge, Pennsylvania Route 268 leads south to Parker and north to Emlenton.', 'paraphrase: From the west end of the bridge, Pennsylvania Route 268 leads south to Parker and north to Emlenton.'], ['paraphrase: The Loyang team defeated the Raffles Institution in the opening round and the Xinmin Secondary School in the quarter-finals', 'paraphrase: The Loyang team defeated the Raffles Institution in the opening round and the Xinmin Secondary School in the quarter-finals', 'paraphrase: The Loyang team defeated the Raffles Institution in the opening round and the Xinmin Secondary School in the quarter-finals'], ['paraphrase: Alston was born on December 21, 1965 in Oxon Hill, Maryland. He attended Oxon Hills High School in New', 'paraphrase: Alston was born on December 21, 1965 in Oxon Hill, Maryland. He attended Oxonhill High School in New', 'paraphrase: Alston was born on December 21, 1965 in Oxon Hill, Maryland. He attended Oxon Hills High School in New'], ['paraphrase: Total US casualties were 28 killed, while Viet Cong losses were 345 killed and a further 192 estimated killed.', 'paraphrase: Total US casualties were 28 killed, while Viet Cong losses were 345 killed and a further 192 estimated killed.', 'paraphrase: Total US casualties were 28 killed, while Viet Cong losses were 345 killed and a further 192 estimated killed.'], ['paraphrase: In CA, the title of chartered accountant ( Sri Lanka Sri Lanka ) can only be used by members of the Institute of', 'paraphrase: In CA, the title of chartered accountant ( Sri Lanka Sri Lanka ) can only be used by members of the Institute of', 'paraphrase: In CA, the title of chartered accountant ( Sri Lanka Sri Lanka ) can only be used by members of the Institute of'], ['paraphrase: Simyo belongs to the Dutch telecommunications group KPN after the acquisition of the remainder of E-Plus on March 14.', 'paraphrase: Simyo belongs to the Dutch telecommunications group KPN after the acquisition of the remainder of E-Plus on March 14.', 'paraphrase: Simyo belongs to the Dutch telecommunications group KPN after the acquisition of the remainder of E-Plus on March 14.'], ['paraphrase: Worcester is a town and county city of Worcestershire in England.', 'paraphrase: Worcester is a town and county city of Worcestershire in England.', 'paraphrase: Worcester is a town and county city of Worcestershire in England.'], ['paraphrase: Besides Kuykendall, Robert White and Joshua Soule Zimmerman served as Chancery Commissioner for Hampshire County.', 'paraphrase: Besides Kuykendall, Robert White and Joshua Soule Zimmerman served as Chancery Commissioner for Hampshire County.', 'paraphrase: Besides Kuykendall, Robert White and Joshua Soule Zimmerman served as Chancery Commissioner for Hampshire County.'], ['paraphrase: In Sri Lanka, the title of Chartered Accountant ( CA Sri Lanka ) can be used only by members of the Institute', 'paraphrase: In Sri Lanka, the title of Chartered Accountant ( CA Sri Lanka ) can be used only by members of the Institute', 'paraphrase: In Sri Lanka, the title of Chartered Accountant ( CA Sri Lanka ) can be used only by members of the Institute'], ['paraphrase: July is the coldest month on average, the hottest in January.', 'paraphrase: July is the coldest month on average, the hottest in January.', 'paraphrase: July is the coldest month on average, the hottest in January.'], ['paraphrase: He was born in Carter County, Tennessee and later moved to Arkansas.', 'paraphrase: He was born in Carter County, Tennessee and later moved to Arkansas.', 'paraphrase: He was born in Carter County, Tennessee and later moved to Arkansas.'], ['paraphrase: These views were often expressed during the emergence of Protestant, Puritan and Evangelical movements.', 'paraphrase: These views were often expressed during the emergence of Protestant, Puritan and Evangelical movements.', 'paraphrase: These views were often expressed during the emergence of Protestant, Puritan and Evangelical movements.'], ['paraphrase: He died in Madrid on 6 January 1976 and was buried in the church of the in Alicante.', 'paraphrase: He died in Madrid on 6 January 1976 and was buried in the church of the in Alicante.', 'paraphrase: He died in Madrid on 6 January 1976 and was buried in the church of the in Alicante.'], ['paraphrase: In 1876, he moved to San Diego, California and moved to Dallas, Texas.', 'paraphrase: In 1876, he moved to San Diego, California and moved to Dallas, Texas.', 'paraphrase: In 1876, he moved to San Diego, California and moved to Dallas, Texas.'], ['paraphrase: The UEFA Cup 1973 -- 74 was won by Feyenoord Rotterdam on Tottenham Hotspur 4 : 2.', 'paraphrase: The UEFA Cup 1973 -- 74 was won by Feyenoord Rotterdam on Tottenham Hotspur 4 : 2.', 'paraphrase: The UEFA Cup 1973 -- 74 was won by Feyenoord Rotterdam on Tottenham Hotspur 4 : 2.'], ['paraphrase: He married Marie Magdalene Schweigaard, daughter of Tellef Dahll Schweigaarde, niece of leading politician', 'paraphrase: He married Marie Magdalene Schweigaard, daughter of Tellef Dahll Schweigaarde, niece of leading politician', 'paraphrase: He married Marie Magdalene Schweigaard, daughter of Tellef Dahll Schweigaarde, niece of leading politician'], ['paraphrase: Rõuge Valgjärv is a lake in the southeastern county of Voru in Estonia, close to', 'paraphrase: Rõuge Valgjärv is a lake in the southeastern county of Voru in Estonia, close to', 'paraphrase: Rõuge Valgjärv is a lake in the southeastern county of Voru in Estonia, close to'], ['paraphrase: The Central Baptist Association is an association of churches located from South Carolina to Indiana, with most of the churches being located in eastern', 'paraphrase: The Central Baptist Association is an association of churches located from South Carolina to Indiana, with most of the churches being located in eastern', 'paraphrase: The Central Baptist Association is an association of churches located from South Carolina to Indiana, with most of the churches being located in eastern'], ['paraphrase: It was part of Hanover Township, then Chatham Township before being recorded as Florham Park in 1899.', 'paraphrase: It was part of Hanover Township, then Chatham Township before being recorded as Florham Park in 1899.', 'paraphrase: It was part of Hanover Township, then Chatham Township before being recorded as Florham Park in 1899.'], [\"paraphrase: They also released the second track on the album `` Vices '', as the 5th single from the album on June 13\", \"paraphrase: They also released the second track on the album `` Vices '', as the 5th single from the album on June 13\", \"paraphrase: They also released the second track on the album `` Vices '', as the 5th single from the album on June 13\"], ['paraphrase: The loyalists had camped on the west side of the Catawba River, while the army of General Charles Cornwalli', 'paraphrase: The loyalists had camped on the west side of the Catawba River, while the army of General Charles Cornwalli', 'paraphrase: The loyalists had camped on the west side of the Catawba River, while the army of General Charles Cornwalli'], ['paraphrase: The Sydney Water Board had taken over the water supply for Sydney from the City Council in 1888.', 'paraphrase: The Sydney Water Board had taken over the water supply for Sydney from the City Council in 1888.', 'paraphrase: The Sydney Water Board had taken over the water supply for Sydney from the City Council in 1888.'], ['paraphrase : Mohammad Shafiq ( variants : Mohammed, Shafik, Shafeek, Shafieeq, Sh', 'paraphrase : Mohammad Shafiq ( variants : Mohammed, Shafik, Shafeek, Shafieeq, Sh', 'paraphrase : Mohammad Shafiq ( variants : Mohammed, Shafik, Shafeek, Shafieeq, Sh'], [\"paraphrase: `` T '' is similar to a matrix whose canonical entries are on the superdiagonal, by the Jordan only nonzero form\", \"paraphrase: `` T '' is similar to a matrix whose canonical entries are on the superdiagonal, by the Jordan only nonzero form\", \"paraphrase: `` T '' is similar to a matrix whose canonical entries are on the superdiagonal, by the Jordan only nonzero form\"], ['paraphrase: Fanwood is located in the 22nd Congressional District and is part of the 12th New Jersey Legislative District.', 'paraphrase: Fanwood is located in the 22nd Congressional District and is part of the 12th New Jersey Legislative District.', 'paraphrase: Fanwood is located in the 22nd Congressional District and is part of the 12th New Jersey Legislative District.'], ['paraphrase: In 1994 Rodrigo Leão left the band to start a solo career, being replaced by Carlos Maria Trindade ( keyboard synthes', 'paraphrase: In 1994 Rodrigo Leão left the band to start a solo career, being replaced by Carlos Maria Trindade ( keyboard synthes', 'paraphrase: In 1994 Rodrigo Leão left the band to start a solo career, being replaced by Carlos Maria Trindade ( keyboard synthes'], [\"paraphrase: Note also that `` not NFL '' implies only that algorithms are inequivalent overall by `` some '' measure of performance.\", \"paraphrase: Note also that `` not NFL '' implies only that algorithms are inequivalent overall by `` some '' measure of performance.\", \"paraphrase: Note also that `` not NFL '' implies only that algorithms are inequivalent overall by `` some '' measure of performance.\"], ['paraphrase: Ned Lambton and McEwen divorced in 1995. She has since married the musician Jools Holland.', 'paraphrase: Ned Lambton and McEwen divorced in 1995. She has since married the musician Jools Holland.', 'paraphrase: Ned Lambton and McEwen divorced in 1995. She has since married the musician Jools Holland.'], ['paraphrase: Rob Taylor travelled with Barber to Scotland and Norway in 1977 to climb waterfalls.', 'paraphrase: Rob Taylor travelled with Barber to Scotland and Norway in 1977 to climb waterfalls.', 'paraphrase: Rob Taylor travelled with Barber to Scotland and Norway in 1977 to climb waterfalls.'], ['paraphrase: It then crosses over the Washita River arm of Lake Texoma.', 'paraphrase: It then crosses over the Washita River arm of Lake Texoma.', 'paraphrase: It then crosses over the Washita River arm of Lake Texoma.'], ['paraphrase: Cattell wrote in 1933 that, of all the Nordic races, `` the European race was the most evolved in intelligence and stability', 'paraphrase: Cattell wrote in 1933 that, of all the Nordic races, `` the European race was the most evolved in intelligence and stability', 'paraphrase: Cattell wrote in 1933 that, of all the Nordic races, `` the European race was the most evolved in intelligence and stability'], ['paraphrase: Podkriváň is a village and municipality in the region of Banská Bystrica, in the district', 'paraphrase: Podkriváň is a village and municipality in the region of Banská Bystrica, in the district', 'paraphrase: Podkriváň is a village and municipality in the region of Banská Bystrica, in the district'], ['paraphrase: The Russian cavalry withdrew behind the main line and exposed the French to artillery fire from Russian batteries.', 'paraphrase: The Russian cavalry withdrew behind the main line and exposed the French to artillery fire from Russian batteries.', 'paraphrase: The Russian cavalry withdrew behind the main line and exposed the French to artillery fire from Russian batteries.'], [\"paraphrase: In 2016, `` Forbes '' ranked California Maritime Academy as the 95th best university in the nation and 516th in the\", \"paraphrase: In 2016, `` Forbes '' ranked California Maritime Academy as the 95th best university in the nation and 516th in the\", \"paraphrase: In 2016, `` Forbes '' ranked California Maritime Academy as the 95th best university in the nation and 516th in the\"], [\"paraphrase: Callum O 'brien ( born November 4, 1982 in Cambridge, New Zealand ) is a professional squash player.\", \"paraphrase: Callum O 'brien ( born November 4, 1982 in Cambridge, New Zealand ) is a professional squash player.\", \"paraphrase: Callum O 'brien ( born November 4, 1982 in Cambridge, New Zealand ) is a professional squash player.\"], ['paraphrase: Abies lasiocarpa, commonly called the western North American fir or Rocky Mountain fir, is a subalpine', 'paraphrase: Abies lasiocarpa, commonly called the western North American fir or Rocky Mountain fir, is a subalpine', 'paraphrase: Abies lasiocarpa, commonly called the western North American fir or Rocky Mountain fir, is a subalpine'], ['paraphrase: In malignant hypertension these hyperplastic changes are often accompanied by fibrinoid necrosis of the arterial intima', 'paraphrase: In malignant hypertension these hyperplastic changes are often accompanied by fibrinoid necrosis of the arterial intima', 'paraphrase: In malignant hypertension these hyperplastic changes are often accompanied by fibrinoid necrosis of the arterial intima'], ['paraphrase: American Motors provided only technical support in the form of limited aid.', 'paraphrase: American Motors provided only technical support in the form of limited aid.', 'paraphrase: American Motors provided only technical support in the form of limited aid.'], ['paraphrase: It then crosses over the Washita River arm of Lake Texoma.', 'paraphrase: It then crosses over the Washita River arm of Lake Texoma.', 'paraphrase: It then crosses over the Washita River arm of Lake Texoma.'], ['paraphrase: The Houston Main Building ( HMB ) earlier the Prudential Building was a skyscraper at the Texas Medical Center in Houston', 'paraphrase: The Houston Main Building ( HMB ) earlier the Prudential Building was a skyscraper at the Texas Medical Center in Houston', 'paraphrase: The Houston Main Building ( HMB ) earlier the Prudential Building was a skyscraper at the Texas Medical Center in Houston'], ['paraphrase: The UEFA Cup 1973 -- 74 was won by Tottenham Hotspur over Feyenoord Rotterdam 4 : 2.', 'paraphrase: The UEFA Cup 1973 -- 74 was won by Tottenham Hotspur over Feyenoord Rotterdam 4 : 2.', 'paraphrase: The UEFA Cup 1973 -- 74 was won by Tottenham Hotspur over Feyenoord Rotterdam 4 : 2.'], ['paraphrase: In 1974 Lao PDR established the Stage II fund with the help of the United Nations, the Asian Development Bank and the', 'paraphrase: In 1974 Lao PDR established the Stage II fund with the help of the United Nations, the Asian Development Bank and the', 'paraphrase: In 1974 Lao PDR established the Stage II fund with the help of the United Nations, the Asian Development Bank and the'], ['paraphrase: The third line of the last verse was changed to `` Kralja Aleksandra, Bože hrani', 'paraphrase: The third line of the last verse was changed to `` Kralja Aleksandra, Bože hrani', 'paraphrase: The third line of the last verse was changed to `` Kralja Aleksandra, Bože hrani'], ['paraphrase: Ray Bloch was the announcer and John Reed King led the orchestra.', 'paraphrase: Ray Bloch was the announcer and John Reed King led the orchestra.', 'paraphrase: Ray Bloch was the announcer and John Reed King led the orchestra.'], ['paraphrase: Archbishop Seóighe was appointed on 16 May 1485 and consecrated in 1487. He died on either the 20', 'paraphrase: Archbishop Seóighe was appointed on 16 May 1485 and consecrated in 1487. He died on either the 20', 'paraphrase: Archbishop Seóighe was appointed on 16 May 1485 and consecrated in 1487. He died on either the 20'], ['paraphrase: Another way to regulate the population of deer is to control the birth rate.', 'paraphrase: Another way to regulate the population of deer is to control the birth rate.', 'paraphrase: Another way to regulate the population of deer is to control the birth rate.'], ['paraphrase: The Hudeasa River is a tributary of the Bradu River in Romania.', 'paraphrase: The Hudeasa River is a tributary of the Bradu River in Romania.', 'paraphrase: The Hudeasa River is a tributary of the Bradu River in Romania.'], [\"paraphrase: The Loyalists had camped on the west side of the Catawba River while General Charles Cornwalli's army were camp\", \"paraphrase: The Loyalists had camped on the west side of the Catawba River while General Charles Cornwalli's army were camp\", \"paraphrase: The Loyalists had camped on the west side of the Catawba River while General Charles Cornwalli's army were camp\"], ['paraphrase: His father Patrick Byrne was an MP, TD, Senator and Lord Mayor of Dublin. His brother Alfie Byrne was also a', 'paraphrase: His father Patrick Byrne was an MP, TD, Senator and Lord Mayor of Dublin. His brother Alfie Byrne was also a', 'paraphrase: His father Patrick Byrne was an MP, TD, Senator and Lord Mayor of Dublin. His brother Alfie Byrne was also a'], ['paraphrase: Holly was musically influenced by Elton John.', 'paraphrase: Holly was musically influenced by Elton John.', 'paraphrase: Holly was musically influenced by Elton John.'], [\"paraphrase: Fishman holds a bachelor's degree from Columbia University and a master's degree in economics from Brown University.\", \"paraphrase: Fishman holds a bachelor's degree from Columbia University and a master's degree in economics from Brown University.\", \"paraphrase: Fishman holds a bachelor's degree from Columbia University and a master's degree in economics from Brown University.\"], ['paraphrase: An analysis comparing millions of RSA public keys gathered from the Internet was announced in 2012 by Lenstra, Hughes, Augier,', 'paraphrase: An analysis comparing millions of RSA public keys gathered from the Internet was announced in 2012 by Lenstra, Hughes, Augier,', 'paraphrase: An analysis comparing millions of RSA public keys gathered from the Internet was announced in 2012 by Lenstra, Hughes, Augier,'], ['paraphrase: According to the United States Census Bureau, Kennesaw is a total area of, of which is land and or 1.', 'paraphrase: According to the United States Census Bureau, Kennesaw is a total area of, of which is land and or 1.', 'paraphrase: According to the United States Census Bureau, Kennesaw is a total area of, of which is land and or 1.'], ['paraphrase: King Qi met with King Zhao of Qin in western Zhou in 284 BC to form an alliance against Xi.', 'paraphrase: King Qi met with King Zhao of Qin in western Zhou in 284 BC to form an alliance against Xi.', 'paraphrase: King Qi met with King Zhao of Qin in western Zhou in 284 BC to form an alliance against Xi.'], ['paraphrase: The Chenzhou Administrative Region in the Tang Dynasty is under the administration of modern Henan in the east of Zhoukou :', 'paraphrase: The Chenzhou Administrative Region in the Tang Dynasty is under the administration of modern Henan in the east of Zhoukou :', 'paraphrase: The Chenzhou Administrative Region in the Tang Dynasty is under the administration of modern Henan in the east of Zhoukou :'], ['paraphrase: The species was first formally described in 1846 by the botanist Stephan Endlicher as part of Johann Georg Christian Leh', 'paraphrase: The species was first formally described in 1846 by the botanist Stephan Endlicher as part of Johann Georg Christian Leh', 'paraphrase: The species was first formally described in 1846 by the botanist Stephan Endlicher as part of Johann Georg Christian Leh'], ['paraphrase: It was designed by architects Philip Johnson ( alumnus of the University ) and John Burgee in 1983.', 'paraphrase: It was designed by architects Philip Johnson ( alumnus of the University ) and John Burgee in 1983.', 'paraphrase: It was designed by architects Philip Johnson ( alumnus of the University ) and John Burgee in 1983.'], ['paraphrase: This song was written and produced by the gala composed by Filippo Andrea Carmeni and Maurizio Molella.', 'paraphrase: This song was written and produced by the gala composed by Filippo Andrea Carmeni and Maurizio Molella.', 'paraphrase: This song was written and produced by the gala composed by Filippo Andrea Carmeni and Maurizio Molella.'], ['paraphrase: From 1863 to 1866 Dunedin and Suburbs North were parliamentary electorate in the city of Dunedin, Otago', 'paraphrase: From 1863 to 1866 Dunedin and Suburbs North were parliamentary electorate in the city of Dunedin, Otago', 'paraphrase: From 1863 to 1866 Dunedin and Suburbs North were parliamentary electorate in the city of Dunedin, Otago'], ['paraphrase: Kudlago Island is one of many uninhabited Canadian arctic islands in the Qikiqtaaluk Region', 'paraphrase: Kudlago Island is one of many uninhabited Canadian arctic islands in the Qikiqtaaluk Region', 'paraphrase: Kudlago Island is one of many uninhabited Canadian arctic islands in the Qikiqtaaluk Region'], ['paraphrase: The Jiul de Vest River is a tributary of the Jidanul River in Romania.', 'paraphrase: The Jiul de Vest River is a tributary of the Jidanul River in Romania.', 'paraphrase: The Jiul de Vest River is a tributary of the Jidanul River in Romania.'], ['paraphrase: Tipico Co. Ltd and Tipico Casino Ltd were founded in 2004 as international trading companies in the commercial register of the Malta', 'paraphrase: Tipico Co. Ltd and Tipico Casino Ltd were founded in 2004 as international trading companies in the commercial register of the Malta', 'paraphrase: Tipico Co. Ltd and Tipico Casino Ltd were founded in 2004 as international trading companies in the commercial register of the Malta'], ['paraphrase: Lovey and Dude Romeo from Pittsburgh, Pennsylvania have published extensively online and in YouTube Videos Puli PrayingOriginally published by Green', 'paraphrase: Lovey and Dude Romeo from Pittsburgh, Pennsylvania have published extensively online and in YouTube Videos Puli PrayingOriginally published by Green', 'paraphrase: Lovey and Dude Romeo from Pittsburgh, Pennsylvania have published extensively online and in YouTube Videos Puli PrayingOriginally published by Green'], ['paraphrase: Tim Tim Henman won against Pete Sampras in the final 6 -- 7, 6 -- 4, 7 -- 6.', 'paraphrase: Tim Tim Henman won against Pete Sampras in the final 6 -- 7, 6 -- 4, 7 -- 6.', 'paraphrase: Tim Tim Henman won against Pete Sampras in the final 6 -- 7, 6 -- 4, 7 -- 6.'], ['paraphrase: Katz was born in 1947 in Sweden and moved to New York City at the age of 1.', 'paraphrase: Katz was born in 1947 in Sweden and moved to New York City at the age of 1.', 'paraphrase: Katz was born in 1947 in Sweden and moved to New York City at the age of 1.'], ['paraphrase: Most releases of the album outside of North America had the same audio content, but located the track markers differently depending on which label', 'paraphrase: Most releases of the album outside of North America had the same audio content, but located the track markers differently depending on which label', 'paraphrase: Most releases of the album outside of North America had the same audio content, but located the track markers differently depending on which label'], [\"paraphrase: The album was recorded in Los Angeles by Aníbal Kerpel and mixed in `` La Casa '' studies in Los\", \"paraphrase: The album was recorded in Los Angeles by Aníbal Kerpel and mixed in `` La Casa '' studies in Los\", \"paraphrase: The album was recorded in Los Angeles by Aníbal Kerpel and mixed in `` La Casa '' studies in Los\"], ['paraphrase: The crane was used to unload the lorries and to launch the craft after completion, a total of over 2000 lifts', 'paraphrase: The crane was used to unload the lorries and to launch the craft after completion, a total of over 2000 lifts', 'paraphrase: The crane was used to unload the lorries and to launch the craft after completion, a total of over 2000 lifts'], ['paraphrase: It is limited to three very native areas in Santa Cruz, Monterey Peninsula and San Luis Obispo Counties.', 'paraphrase: It is limited to three very native areas in Santa Cruz, Monterey Peninsula and San Luis Obispo Counties.', 'paraphrase: It is limited to three very native areas in Santa Cruz, Monterey Peninsula and San Luis Obispo Counties.'], ['paraphrase: The event was attended by Boutique @ hs Ambassador Kyly Clarke, Australian actress Teresa Palmer and Michala Banas.', 'paraphrase: The event was attended by Boutique Ambassador Kyly Clarke, Australian actress Teresa Palmer and Michala Banas.', 'paraphrase: The event was attended by Boutique @ hs Ambassador Kyly Clarke, Australian actress Teresa Palmer and Michala Banas.'], ['paraphrase: Although rugby union in Croatia was the main centre for the sport in the former Yugoslavia, there was still quite a bit of rugby', 'paraphrase: Although rugby union in Croatia was the main centre for the sport in the former Yugoslavia, there was still quite a bit of rugby', 'paraphrase: Although rugby union in Croatia was the main centre for the sport in the former Yugoslavia, there was still quite a bit of rugby'], ['paraphrase: ACVM is based in Glasgow and has offices in Edinburgh, Aberdeen, Newcastle, Manchester and Milton Keynes.', 'paraphrase: ACVM is based in Glasgow and has offices in Edinburgh, Aberdeen, Newcastle, Manchester and Milton Keynes.', 'paraphrase: ACVM is based in Glasgow and has offices in Edinburgh, Aberdeen, Newcastle, Manchester and Milton Keynes.'], ['paraphrase: Lang was signed by the Washington Wizards on September 14, 2006 and released by the Wizards in July 2017.', 'paraphrase: Lang was signed by the Washington Wizards on September 14, 2006 and released by the Wizards in July 2017.', 'paraphrase: Lang was signed by the Washington Wizards on September 14, 2006 and released by the Wizards in July 2017.'], ['paraphrase: Vermont South is bordered by Mitcham to the north, Nunawading and Forest Hill to the west, Vermont to the', 'paraphrase: Vermont South is bordered by Mitcham to the north, Nunawading and Forest Hill to the west, Vermont to the', 'paraphrase: Vermont South is bordered by Mitcham to the north, Nunawading and Forest Hill to the west, Vermont to the'], ['paraphrase: It is also worth noting that the following code would work without ADL ( it will be applied to it anyway ).', 'paraphrase: It is also worth noting that the following code would work without ADL ( it will be applied to it anyway ).', 'paraphrase: It is also worth noting that the following code would work without ADL ( it will be applied to it anyway ).'], ['paraphrase: It is found in North America, where it was recorded from Newfoundland and Labrador west to British Columbia, north to Alaska and the', 'paraphrase: It is found in North America, where it was recorded from Newfoundland and Labrador west to British Columbia, north to Alaska and the', 'paraphrase: It is found in North America, where it was recorded from Newfoundland and Labrador west to British Columbia, north to Alaska and the'], [\"paraphrase: Bus service began between Overlea and Belair in 1915 with `` Jitney buses '', which operated for several years\", \"paraphrase: Bus service began between Overlea and Belair in 1915 with `` Jitney buses '', which operated for several years\", \"paraphrase: Bus service began between Overlea and Belair in 1915 with `` Jitney buses '', which operated for several years\"], ['paraphrase: The species are members of various ecological groups, including tropical shrubs, lianas and trees, xerophytic plants', 'paraphrase: The species are members of various ecological groups, including tropical shrubs, lianas and trees, xerophytic plants', 'paraphrase: The species are members of various ecological groups, including tropical shrubs, lianas and trees, xerophytic plants'], ['paraphrase: This western Randallstown district includes Woodlawn, Milford Mill and Baltimore County.', 'paraphrase: This western Randallstown district includes Woodlawn, Milford Mill and Baltimore County.', 'paraphrase: This western Randallstown district includes Woodlawn, Milford Mill and Baltimore County.'], ['paraphrase: The studios, which opened in 2008, were designed by Martin Pilchner and supervised by chief engineer Zach Hancock.', 'paraphrase: The studios, which opened in 2008, were designed by Martin Pilchner and supervised by chief engineer Zach Hancock.', 'paraphrase: The studios, which opened in 2008, were designed by Martin Pilchner and supervised by chief engineer Zach Hancock.'], ['paraphrase: During his time in Savannah, Charles Celestine learned from a newspaper that his son Sherman had died during the Savannah campaign.', 'paraphrase: During his time in Savannah, Charles Celestine learned from a newspaper that his son Sherman had died during the Savannah campaign,', 'paraphrase: During his time in Savannah, Charles Celestine learned from a newspaper that his son Sherman had died during the Savannah campaign,'], ['paraphrase: The guitar was mastered by Bettencourt and Chris Gehringer played it at Sterling Sound Studios in New York City.', 'paraphrase: The guitar was mastered by Bettencourt and Chris Gehringer played it at Sterling Sound Studios in New York City.', 'paraphrase: The guitar was mastered by Bettencourt and Chris Gehringer played it at Sterling Sound Studios in New York City.'], ['paraphrase: Until 1951, he was active as a socialist in post-war legislation, when he decided to focus on local politics.', 'paraphrase: Until 1951, he was active as a socialist in post-war legislation, when he decided to focus on local politics.', 'paraphrase: Until 1951, he was active as a socialist in post-war legislation, when he decided to focus on local politics.'], ['paraphrase: Tapia lost to Michel Soro on May 8, 2015.', 'paraphrase: Tapia lost to Michel Soro on May 8, 2015.', 'paraphrase: Tapia lost to Michel Soro on May 8, 2015.'], ['paraphrase: He is the half-brother of Lord Clarence Paget, Lord Alfred Paget and Lord George Paget.', 'paraphrase: He is the half-brother of Lord Clarence Paget, Lord Alfred Paget and Lord George Paget.', 'paraphrase: He is the half-brother of Lord Clarence Paget, Lord Alfred Paget and Lord George Paget.'], ['paraphrase: Wright moved from Chapel Hill, NC to New York.', 'paraphrase: Wright moved from Chapel Hill, NC to New York.', 'paraphrase: Wright moved from Chapel Hill, NC to New York.'], ['paraphrase: European activities became part of Ebel while the Asian activities were sold to Hong Kong entrepreneur Joseph Wong and now belong to St', 'paraphrase: European activities became part of Ebel while the Asian activities were sold to Hong Kong entrepreneur Joseph Wong and now belong to St', 'paraphrase: European activities became part of Ebel while the Asian activities were sold to Hong Kong entrepreneur Joseph Wong and now belong to St'], ['paraphrase: On November 13, 2016, David Machado was murdered in Fox Grove Park near the city of Hughson by Dennis Wallace.', 'paraphrase: On November 13, 2016, David Machado was murdered in Fox Grove Park near the city of Hughson by Dennis Wallace.', 'paraphrase: On November 13, 2016, David Machado was murdered in Fox Grove Park near the city of Hughson by Dennis Wallace.'], ['paraphrase: Sacramento is located in ( 38.651254, -121.259279 ), between Fair Oaks and Folsom.', 'paraphrase: Sacramento is located in ( 38.651254, -121.259279 ), between Fair Oaks and Folsom.', 'paraphrase: Sacramento is located in ( 38.651254, -121.259279 ), between Fair Oaks and Folsom.'], ['paraphrase: Early advisory board members included Alistair Cooke, Saul Bellow, Walter Cronkite, Norman Cousins, Gore Vidal', 'paraphrase: Early advisory board members included Alistair Cooke, Saul Bellow, Walter Cronkite, Norman Cousins, Gore Vidal', 'paraphrase: Early advisory board members included Alistair Cooke, Saul Bellow, Walter Cronkite, Norman Cousins, Gore Vidal'], ['paraphrase: Massé was born in Holland, Michigan, grew up in Westchester County, New York, and lived during her youth in', 'paraphrase: Massé was born in Holland, Michigan, grew up in Westchester County, New York, and lived during her youth in', 'paraphrase: Massé was born in Holland, Michigan, grew up in Westchester County, New York, and lived during her youth in'], ['paraphrase: He also wrote a large number of vocal arrangements and orchestral accompaniments to varieties.', 'paraphrase: He also wrote a large number of vocal arrangements and orchestral accompaniments to varieties.', 'paraphrase: He also wrote a large number of vocal arrangements and orchestral accompaniments to varieties.'], [\"paraphrase: Immediately after reading Aamir Khan's script, Mehra agreed to play in `` Rang De Basanti ''.\", \"paraphrase: Immediately after reading Aamir Khan's script, Mehra agreed to play in `` Rang De Basanti ''.\", \"paraphrase: Immediately after reading Aamir Khan's script, Mehra agreed to play in `` Rang De Basanti ''.\"], [\"paraphrase: They also published the 5th track on the album `` Vices '', as the second single from the album on June 13\", \"paraphrase: They also published the 5th track on the album `` Vices '', as the second single from the album on June 13\", \"paraphrase: They also published the 5th track on the album `` Vices '', as the second single from the album on June 13\"], ['paraphrase: Vijay lives happily with his wife Gouthami ( Aarthi ) and his daughter Sowmiya.', 'paraphrase: Vijay lives happily with his wife Gouthami ( Aarthi ) and his daughter Sowmiya.', 'paraphrase: Vijay lives happily with his wife Gouthami ( Aarthi ) and his daughter Sowmiya.'], ['paraphrase: Dotty was born in Boston in 1923 and died in 2014 in Gloucester.', 'paraphrase: Dotty was born in Boston in 1923 and died in 2014 in Gloucester.', 'paraphrase: Dotty was born in Boston in 1923 and died in 2014 in Gloucester.'], ['paraphrase: Flavia Gleske, better known as Flavia Alejandra Gleska Fajin ( born May 15,', 'paraphrase: Flavia Gleske, better known as Flavia Alejandra Gleska Fajin ( born May 15,', 'paraphrase: Flavia Gleske, better known as Flavia Alejandra Gleska Fajin ( born May 15,'], [\"paraphrase: 43 people were rescued, 40 saved in the lifeboats and three of the `` Delaware '' rescued.\", \"paraphrase: 43 people were rescued, 40 saved in the lifeboats and three of the `` Delaware ''.\", \"paraphrase: 43 people were rescued, 40 saved in the lifeboats and three of the `` Delaware ''.\"], [\"paraphrase: Pearson's strict stance against racial and political egalitarianism also manifested himself in a consistent opposition to Marxism and socialism.\", \"paraphrase: Pearson's strict stance against racial and political egalitarianism also manifested himself in a consistent opposition to Marxism and socialism.\", \"paraphrase: Pearson's strict stance against racial and political egalitarianism also manifested himself in a consistent opposition to Marxism and socialism.\"], ['paraphrase: Shook was an electronic music magazine based in London, which covered various forms of British and black music underground.', 'paraphrase: Shook was an electronic music magazine based in London, which covered various forms of British and black music underground.', 'paraphrase: Shook was an electronic music magazine based in London, which covered various forms of British and black music underground.'], [\"paraphrase: It's also worth noting that the following code would work without ADL ( it is applied to it anyway ).\", \"paraphrase: It's also worth noting that the following code would work without ADL ( it is applied to it anyway ).\", \"paraphrase: It's also worth noting that the following code would work without ADL ( it is applied to it anyway ).\"], ['paraphrase: All productions are written by Graham Spicer and designed by Carlo Orlandi.', 'paraphrase: All productions are written by Graham Spicer and designed by Carlo Orlandi.', 'paraphrase: All productions are written by Graham Spicer and designed by Carlo Orlandi.'], ['paraphrase: Benjamin Hough was to be married Elizabeth Core on 29 August 1806, by Stephen Ford, justice of the peace in Jefferson', 'paraphrase: Benjamin Hough was to be married Elizabeth Core on 29 August 1806, by Stephen Ford, justice of the peace in Jefferson', 'paraphrase: Benjamin Hough was to be married Elizabeth Core on 29 August 1806, by Stephen Ford, justice of the peace in Jefferson'], ['paraphrase: Proposals from the Met to extend south from Paddington to South Kensington and east from Moorgate to Tower', 'paraphrase: Proposals from the Met to extend south from Paddington to South Kensington and east from Moorgate to Tower', 'paraphrase: Proposals from the Met to extend south from Paddington to South Kensington and east from Moorgate to Tower'], ['paraphrase: Lobethal Bierhaus is a German beer brewery with regional style influences.', 'paraphrase: Lobethal Bierhaus is a German beer brewery with regional style influences.', 'paraphrase: Lobethal Bierhaus is a German beer brewery with regional style influences.'], ['paraphrase: At JADMC, KDF established a training centre for public and private midwives in Pampanga for initial education and', 'paraphrase: At JADMC, KDF established a training centre for public and private midwives in Pampanga for initial education and', 'paraphrase: At JADMC, KDF established a training centre for public and private midwives in Pampanga for initial education and'], ['paraphrase: The 20th present pontiff of the Math is Pradyumnanand Swamiji.', 'paraphrase: The 20th present pontiff of the Math is Pradyumnanand Swamiji.', 'paraphrase: The 20th present pontiff of the Math is Pradyumnanand Swamiji.'], ['paraphrase: An international independent group of experts examined the impact of the accident and concluded that no one was killed or poisoned as a result of', 'paraphrase: An international independent group of experts examined the impact of the accident and concluded that no one was killed or poisoned as a result of', 'paraphrase: An international independent group of experts examined the impact of the accident and concluded that no one was killed or poisoned as a result of'], [\"paraphrase: This album was recorded in Los Angeles, California by Aníbal Kerpel, mixed in `` La Casa '' studies in\", \"paraphrase: This album was recorded in Los Angeles, California by Aníbal Kerpel, mixed in `` La Casa '' studies in\", \"paraphrase: This album was recorded in Los Angeles, California by Aníbal Kerpel, mixed in `` La Casa '' studies in\"], ['paraphrase: There is also an isolated narrow gauge railway on the Eyre Peninsula from Ceduna to Port Lincoln.', 'paraphrase: There is also an isolated narrow gauge railway on the Eyre Peninsula from Ceduna to Port Lincoln.', 'paraphrase: There is also an isolated narrow gauge railway on the Eyre Peninsula from Ceduna to Port Lincoln.'], ['paraphrase: It is centered on a stretch of Main Street, roughly between Depot Street and Brook Road.', 'paraphrase: It is centered on a stretch of Main Street, roughly between Depot Street and Brook Road.', 'paraphrase: It is centered on a stretch of Main Street, roughly between Depot Street and Brook Road.'], [\"paraphrase: The regime left Philadelphia in October 1777 to join General George Washington's main army outside Boston.\", \"paraphrase: The regime left Philadelphia in October 1777 to join General George Washington's main army outside Boston.\", \"paraphrase: The regime left Philadelphia in October 1777 to join General George Washington's main army outside Boston.\"], ['paraphrase: In 1974 Lao PDR established the Stage II fund with the help of the World Bank, the United Nations and the Asian', 'paraphrase: In 1974 Lao PDR established the Stage II fund with the help of the World Bank, the United Nations and the Asian', 'paraphrase: In 1974 Lao PDR established the Stage II fund with the help of the World Bank, the United Nations and the Asian'], [\"paraphrase: Adam Surat ( `` Inner Strength '' ) is a documentary film directed by Sheikh Mohammed Sultan in 1989 about the Bangladeshi\", \"paraphrase: Adam Surat ( `` Inner Strength '' ) is a documentary film directed by Sheikh Mohammed Sultan in 1989 about the Bangladeshi\", \"paraphrase: Adam Surat ( `` Inner Strength '' ) is a documentary film directed by Sheikh Mohammed Sultan in 1989 about the Bangladeshi\"], ['paraphrase: When the transaction was first announced in 1994, Classicomm had 102,000 subscribers ; when it was finalized the following year,', 'paraphrase: When the transaction was first announced in 1994, Classicomm had 102,000 subscribers ; when it was finalized the following year,', 'paraphrase: When the transaction was first announced in 1994, Classicomm had 102,000 subscribers ; when it was finalized the following year,'], ['paraphrase: On 9 August Lloyd was selected with 51.1 % of the vote. Andy Burnham placed second with 29.1', 'paraphrase: On 9 August Lloyd was selected with 51.1 % of the vote. Andy Burnham placed second with 29.1', 'paraphrase: On 9 August Lloyd was selected with 51.1 % of the vote. Andy Burnham placed second with 29.1'], ['paraphrase: The uvular ejective is a type of consonantal sound used in some spoken languages. The symbol in the International', 'paraphrase: The uvular ejective is a type of consonantal sound used in some spoken languages. The symbol in the International', 'paraphrase: The uvular ejective is a type of consonantal sound used in some spoken languages. The symbol in the International'], ['paraphrase: Montreal Stars won the Clarkson Cup by defeating 3 -- 1 the WWHL ( Minnesota Whitecaps ).', 'paraphrase: Montreal Stars won the Clarkson Cup by defeating 3 -- 1 the WWHL ( Minnesota Whitecaps ).', 'paraphrase: Montreal Stars won the Clarkson Cup by defeating 3 -- 1 the WWHL ( Minnesota Whitecaps ).'], [\"paraphrase: He is married to Elizabeth `` Betsy '' Katz. He is the father of Adam, Nathaniel and Sara Hundt.\", \"paraphrase: He is married to Elizabeth `` Betsy '' Katz. He is the father of Adam, Nathaniel and Sara Hundt.\", \"paraphrase: He is married to Elizabeth `` Betsy '' Katz. He is the father of Adam, Nathaniel and Sara Hundt.\"], ['paraphrase: While Oros worked under Walker on Ford car and truck designs, Engel concentrated on Lincoln and Mercury vehicles.', 'paraphrase: While Oros worked under Walker on Ford car and truck designs, Engel concentrated on Lincoln and Mercury vehicles.', 'paraphrase: While Oros worked under Walker on Ford car and truck designs, Engel concentrated on Lincoln and Mercury vehicles.'], ['paraphrase: He was active as a socialist in post-war legislation until 1951, when he decided to focus on local politics.', 'paraphrase: He was active as a socialist in post-war legislation until 1951, when he decided to focus on local politics.', 'paraphrase: He was active as a socialist in post-war legislation until 1951, when he decided to focus on local politics.'], ['paraphrase: The BAC presents three annual performances by the Minnesota Orchestra and has recently commissioned works by Diavolo and Merce Cunningham Dance', 'paraphrase: The BAC presents three annual performances by the Minnesota Orchestra and has recently commissioned works by Diavolo and Merce Cunningham Dance', 'paraphrase: The BAC presents three annual performances by the Minnesota Orchestra and has recently commissioned works by Diavolo and Merce Cunningham Dance'], ['paraphrase: In Luzon the provinces of Catanduanes, Albay, Sorsogon, Masbate, Burias', 'paraphrase: In Luzon the provinces of Catanduanes, Albay, Sorsogon, Masbate, Burias', 'paraphrase: In Luzon the provinces of Catanduanes, Albay, Sorsogon, Masbate, Burias'], ['paraphrase: If villagers do not accept a poon choi feast, this means that a village does not approve', 'paraphrase: If villagers do not accept a poon choi feast, this means that a village does not approve', 'paraphrase: If villagers do not accept a poon choi feast, this means that a village does not approve'], ['paraphrase: In years two and three, they specialize in a major : humanities, behavioural & social sciences, economics & business, or life', 'paraphrase: In years two and three, they specialize in a major : humanities, behavioural & social sciences, economics & business, or life', 'paraphrase: In years two and three, they specialize in a major : humanities, behavioural & social sciences, economics & business, or life'], ['paraphrase: The City Council had taken over the water supply for Sydney from the Sydney Water Board in 1888.', 'paraphrase: The City Council had taken over the water supply for Sydney from the Sydney Water Board in 1888.', 'paraphrase: The City Council had taken over the water supply for Sydney from the Sydney Water Board in 1888.'], ['paraphrase: This was recorded in two separate inscriptions from his Medinet Habu mortuary temple, which are physically long and somewhat different', 'paraphrase: This was recorded in two separate inscriptions from his Medinet Habu mortuary temple, which are physically long and somewhat different', 'paraphrase: This was recorded in two separate inscriptions from his Medinet Habu mortuary temple, which are physically long and somewhat different'], ['paraphrase: Premalignant lesions are apparently a typical tissue which appears abnormal under microscopic examination, and in which cancer is more likely to occur', 'paraphrase: Premalignant lesions are apparently a typical tissue which appears abnormal under microscopic examination, and in which cancer is more likely to occur', 'paraphrase: Premalignant lesions are apparently a typical tissue which appears abnormal under microscopic examination, and in which cancer is more likely to occur'], ['paraphrase: Abu Halifa or Abu Hulayfah or Abu Haleifah is a small town in the', 'paraphrase: Abu Halifa or Abu Hulayfah or Abu Haleifah is a small town in the', 'paraphrase: Abu Halifa or Abu Hulayfah or Abu Haleifah is a small town in the'], ['paraphrase: Israel is an album by American jazz trombonists Kai Winding and J. J. Johnson, released in 1968 and', 'paraphrase: Israel is an album by American jazz trombonists Kai Winding and J. J. Johnson, released in 1968 and', 'paraphrase: Israel is an album by American jazz trombonists Kai Winding and J. J. Johnson, released in 1968 and'], ['paraphrase: He collaborated with contemporary architects such as Francesco Grimaldi, Bartolomeo Picchiatti and Giovan Giacomo', 'paraphrase: He collaborated with contemporary architects such as Francesco Grimaldi, Bartolomeo Picchiatti and Giovan Giacomo', 'paraphrase: He collaborated with contemporary architects such as Francesco Grimaldi, Bartolomeo Picchiatti and Giovan Giacomo'], ['paraphrase: June 22, 2012 Decree of Russian President Titov appointed Vladimir Putin to protect the rights of the Russian Federation', 'paraphrase: June 22, 2012 Decree of Russian President Titov appointed Vladimir Putin under the President of the Russian Federation to protect the rights', 'paraphrase: June 22, 2012 Decree of Russian President Titov appointed Vladimir Putin to protect the rights of the Russian Federation.'], ['paraphrase: In 2014, Adam wrote a Gothic Trilogy revisions of classic stories Frankenstein, The Corruption of Dorian Gray and Jekyll Hyde', 'paraphrase: In 2014, Adam wrote a Gothic Trilogy revisions of classic stories Frankenstein, The Corruption of Dorian Gray and Jekyll Hyde', 'paraphrase: In 2014, Adam wrote a Gothic Trilogy revisions of classic stories Frankenstein, The Corruption of Dorian Gray and Jekyll Hyde'], ['paraphrase: Mrs. Glad had worked in Ovamboland in 1901 -- 1919 and 1926 -- and was there as the first inspector of', 'paraphrase: Mrs. Glad had worked in Ovamboland in 1901 -- 1919 and 1926 -- and was there as the first inspector of', 'paraphrase: Mrs. Glad had worked in Ovamboland in 1901 -- 1919 and 1926 -- and was there as the first inspector of'], ['paraphrase: The line-up is mainly focused on indie music and alternative music.', 'paraphrase: The line-up is mainly focused on indie music and alternative music.', 'paraphrase: The line-up is mainly focused on indie music and alternative music.'], ['paraphrase: His best positions in the competition were eighth in 1960 and tenth in 1968.', 'paraphrase: His best positions in the competition were eighth in 1960 and tenth in 1968.', 'paraphrase: His best positions in the competition were eighth in 1960 and tenth in 1968.'], ['paraphrase: He was an unsuccessful candidate for election to the Twenty-seventh Congress in 1840 and to the twenty-ninth Congress in', 'paraphrase: He was an unsuccessful candidate for election to the Twenty-seventh Congress in 1840 and to the twenty-ninth Congress in', 'paraphrase: He was an unsuccessful candidate for election to the Twenty-seventh Congress in 1840 and to the twenty-ninth Congress in'], ['paraphrase: In 1953, the team toured in Australia and Asia, and toured in August 1959.', 'paraphrase: In 1953, the team toured in Australia and Asia, and toured in August 1959.', 'paraphrase: In 1953, the team toured in Australia and in Asia in August 1959.'], ['paraphrase: Ronnie Fields did not play a single game in the NBA or in the NCAA.', 'paraphrase: Ronnie Fields did not play a single game in the NBA or in the NCAA.', 'paraphrase: Ronnie Fields did not play a single game in the NBA or in the NCAA.'], ['paraphrase: On June 25, 1866, he was appointed titular bishop of `` Nisa in Lycia and Bishop of Vel', 'paraphrase: On June 25, 1866, he was appointed titular bishop of `` Nisa in Lycia and Bishop of Vel', 'paraphrase: On June 25, 1866, he was appointed titular bishop of `` Nisa in Lycia and Bishop of Vel'], ['paraphrase: As part of his attempt to bend the Austrian right, Dessaix ordered a battalion to move near Tairier and Cr', 'paraphrase: As part of his attempt to bend the Austrian right, Dessaix ordered a battalion to move near Tairier and Cr', 'paraphrase: As part of his attempt to bend the Austrian right, Dessaix ordered a battalion to move near Tairier and Cr'], ['paraphrase: It was bought in 1834 by Robert Curzon in the monastery of Saba. C. R. Gregory saw it in', 'paraphrase: It was bought in 1834 by Robert Curzon in the monastery of Saba. C. R. Gregory saw it in', 'paraphrase: It was bought in 1834 by Robert Curzon in the monastery of Saba. C. R. Gregory saw it in'], ['paraphrase: The 8th Coast Artillery Regiment was a Coast Artillerist Corps regiment in the United States Army.', 'paraphrase: The 8th Coast Artillery Regiment was a Coast Artiller Corps regiment in the United States Army.', 'paraphrase: The 8th Coast Artillery Regiment was a Coast Artillerist Corps regiment in the United States Army.'], ['paraphrase: The breed standard describes the dog as having a sharp temperament and strong individuality, distrustful of strangers.', 'paraphrase: The breed standard describes the dog as having a sharp temperament and strong individuality, distrustful of strangers.', 'paraphrase: The breed standard describes the dog as having a sharp temperament and strong individuality, distrustful of strangers.'], ['paraphrase: The degree of distinction between Protestant and Catholic tendencies within the specific Anglican tradition is routinely a matter of debate both within the Anglic', 'paraphrase: The degree of distinction between Protestant and Catholic tendencies within the specific Anglican tradition is routinely a matter of debate both within the Anglic', 'paraphrase: The degree of distinction between Protestant and Catholic tendencies within the specific Anglican tradition is routinely a matter of debate both within the Anglic'], ['paraphrase: Slough High School was a selective school for girls in Slough, Buckinghamshire, now Berkshire.', 'paraphrase: Slough High School was a selective school for girls in Slough, Buckinghamshire, now Berkshire.', 'paraphrase: Slough High School was a selective school for girls in Slough, Buckinghamshire, now Berkshire.'], ['paraphrase: White White Heat is the twelfth studio album recorded by singer Dusty Springfield and was released in the eleventh year of the', 'paraphrase: White White Heat is the twelfth studio album recorded by singer Dusty Springfield and was released in the eleventh month of the', 'paraphrase: White White Heat is the twelfth studio album recorded by singer Dusty Springfield and was released in the eleventh month of the'], ['paraphrase: Phones with WVGA such display resolution have become common. This is a list of mobile phones with native displays.', 'paraphrase: Phones with WVGA such display resolution have become common. This is a list of mobile phones with native displays.', 'paraphrase: Phones with WVGA such display resolution have become common. This is a list of mobile phones with native displays.'], ['paraphrase: William Llewelyn Williams, better known as Lle Welyn Williams ( March 10, 1867 - April 22,', 'paraphrase: William Llewelyn Williams, better known as Lle Welyn Williams ( March 10, 1867 - April 22,', 'paraphrase: William Llewelyn Williams, better known as Lle Welyn Williams ( March 10, 1867 - April 22,'], ['paraphrase: Lobethal Bierhaus is a regional brewery with influences of German style.', 'paraphrase: Lobethal Bierhaus is a regional brewery with influences of German style.', 'paraphrase: Lobethal Bierhaus is a regional brewery with influences of German style.'], ['paraphrase: The company was originally located in Prescott Valley, Arizona and later moved to Tucson, Arizona.', 'paraphrase: The company was originally located in Prescott Valley, Arizona and later moved to Tucson, Arizona.', 'paraphrase: The company was originally located in Prescott Valley, Arizona and later moved to Tucson, Arizona.'], ['paraphrase: The New Ways to Work Foundation was founded in 1972. It is a non-profit organization founded in the San Francisco Bay area', 'paraphrase: The New Ways to Work Foundation was founded in 1972. It is a non-profit organization founded in the San Francisco Bay area', 'paraphrase: The New Ways to Work Foundation was founded in 1972, it is a non-profit organization founded in the San Francisco Bay area'], ['paraphrase: The exception was between late 2005 and 2009 when he played in Sweden with Carlstad United BK, Serbia with FK Bor', 'paraphrase: The exception was between late 2005 and 2009 when he played in Sweden with Carlstad United BK, Serbia with FK Bor', 'paraphrase: The exception was between late 2005 and 2009 when he played in Sweden with Carlstad United BK, Serbia with FK Bor'], [\"paraphrase: Later, Richard would be Adhemar's forces during the attack on Andrew, count of Angoulême.\", \"paraphrase: Later, Richard would be Adhemar's forces during the attack on Andrew, count of Angoulême.\", \"paraphrase: Later, Richard would be Adhemar's forces during the attack on Andrew, count of Angoulême.\"], [\"paraphrase: That project became `` Nobody's Daughter '', which was released as a Hole album in 2010, but without any former members of\", \"paraphrase: That project became `` Nobody's Daughter '', which was released as a Hole album in 2010, but without any former members of\", \"paraphrase: That project became `` Nobody's Daughter '', which was released as a Hole album in 2010, but without any former members of\"], ['paraphrase: Taylor remained active until his death as a scout for the Chicago White Sox and the Milwaukee and Atlanta Braves in the baseball.', 'paraphrase: Taylor remained active until his death as a scout for the Chicago White Sox and the Milwaukee and Atlanta Braves in the baseball.', 'paraphrase: Taylor remained active until his death as a scout for the Chicago White Sox and the Milwaukee and Atlanta Braves in the baseball.'], ['paraphrase: Siebenberg described the song as his favourite on the album `` because it is so pure and so personal.', 'paraphrase: Siebenberg described the song as his favourite on the album `` because it is so pure and so personal.', 'paraphrase: Siebenberg described the song as his favourite on the album `` because it is so pure and so personal.'], [\"paraphrase: Heyer's parents are William J. and Merlyn M. Heyer. She attended California Lutheran University and then Moorpark\", \"paraphrase: Heyer's parents are William J. and Merlyn M. Heyer. She attended California Lutheran University and then Moorpark\", \"paraphrase: Heyer's parents are William J. and Merlyn M. Heyer. She attended California Lutheran University and then Moorpark\"], [\"paraphrase: The Valea lui Lambă or `` unk '' imon river is a tributary of the L\", \"paraphrase: The Valea lui Lambă or `` unk '' imon river is a tributary of the L\", \"paraphrase: The Valea lui Lambă or `` unk '' imon river is a tributary of the L\"], ['paraphrase: But in 1926 the left leadership in New York forfeited everything they had when they lost a strike of 40,000 cloakmakers', 'paraphrase: But in 1926 the left leadership in New York forfeited everything they had when they lost a strike of 40,000 cloakmakers', 'paraphrase: But in 1926 the left leadership in New York forfeited everything they had when they lost a strike of 40,000 cloakmakers'], ['paraphrase: The completed fence is located mainly in Texas, with the construction in New Mexico, Arizona and California.', 'paraphrase: The completed fence is located mainly in Texas, with the construction in New Mexico, Arizona and California.', 'paraphrase: The completed fence is located mainly in Texas, with the construction in New Mexico, Arizona and California.'], ['paraphrase: Both daughters died before he did, in Tosca in 1976 and in Janear 1981.', 'paraphrase: Both daughters died before he did, in Tosca in 1976 and in Janear 1981.', 'paraphrase: Both daughters died before he did, in Tosca in 1976 and in Janear 1981.'], ['paraphrase: According to the United States Census Bureau, Southport is a total area of, of which is land and, or 0.', 'paraphrase: According to the United States Census Bureau, Southport is a total area of, of which is land and, or 0.', 'paraphrase: According to the United States Census Bureau, Southport is a total area of, of which is land and, or 0.'], ['paraphrase: Somatherapy ( or Soma ) was created by the Freire in the 1970s as a group therapy based on the', 'paraphrase: Somatherapy ( or Soma ) was created by the Freire in the 1970s as a group therapy based on the', 'paraphrase: Somatherapy ( or Soma ) was created by the Freire in the 1970s as a group therapy based on the'], ['paraphrase: In December 1969, 49th Army Division became 29th Army division.', 'paraphrase: In December 1969, 49th Army Division became 29th Army division.', 'paraphrase: In December 1969, 49th Army Division became 29th Army division.'], ['paraphrase: Adamsville is bordered to the west of Coleman, to the east of Sumterville, to to the north of Wild', 'paraphrase: Adamsville is bordered to the west of Coleman, to the east of Sumterville, to to the north of Wild', 'paraphrase: Adamsville is bordered to the west of Coleman, to the east of Sumterville, to to the north of Wild'], ['paraphrase: The Giuroc River is a tributary of the Măgheruş River in Romania.', 'paraphrase: The Giuroc River is a tributary of the Măgheruş River in Romania.', 'paraphrase: The Giuroc River is a tributary of the Măgheruş River in Romania.'], ['paraphrase: Grant Connell and Glenn Michibata won the title and defeated Wayne Ferreira and Jim Grabb 6 -- 4,', 'paraphrase: Grant Connell and Glenn Michibata won the title and defeated Wayne Ferreira and Jim Grabb 6 -- 4,', 'paraphrase: Grant Connell and Glenn Michibata won the title and defeated Wayne Ferreira and Jim Grabb 6 -- 4,'], ['paraphrase: Indonesian official representative in Rome was established in March 1952, while the Italian Republic had established its official representative at Jakarta in October 1952', 'paraphrase: Indonesian official representative in Rome was established in March 1952, while the Italian Republic had established its official representative at Jakarta in October 1952', 'paraphrase: Indonesian official representative in Rome was established in March 1952, while the Italian Republic had established its official representative at Jakarta in October 1952'], ['paraphrase: The album contains a remix of the material originally released by Nurse With Wound in 2007 and mixed by Disconnected in 2007.', 'paraphrase: The album contains a remix of the material originally released by Nurse With Wound in 2007 and mixed by Disconnected in 2007.', 'paraphrase: The album contains a remix of the material originally released by Nurse With Wound in 2007 and mixed by Disconnected in 2007.'], ['paraphrase: Rıza Maksut İşman ( 1915 in Istanbul -- December 30, 2004 in İzmir )', 'paraphrase: Rıza Maksut İşman ( 1915 in Istanbul -- December 30, 2004 in İzmir )', 'paraphrase: Rıza Maksut İşman ( 1915 in Istanbul -- December 30, 2004 in İzmir )'], ['paraphrase: He made his official debut in the A PFG with Botev Plovdiv in a match against Spartak Varna', 'paraphrase: He made his official debut in the A PFG with Botev Plovdiv in a match against Spartak Varna', 'paraphrase: He made his official debut in the A PFG with Botev Plovdiv in a match against Spartak Varna'], ['paraphrase: In 2010, New York University defeated Harvard University 3-1-1 in order to win its first National Championship.', 'paraphrase: In 2010, New York University defeated Harvard University 3-1-1 in order to win its first National Championship.', 'paraphrase: In 2010, New York University defeated Harvard University 3-1-1 in order to win its first National Championship.']]\n"
     ]
    }
   ],
   "source": [
    "print(preds)"
   ]
  },
  {
   "cell_type": "code",
   "execution_count": 9,
   "metadata": {},
   "outputs": [
    {
     "name": "stdout",
     "output_type": "stream",
     "text": [
      "Enter text to paraphrase: Revenue: Total revenue was $637.4 million, a 48% increase, compared to $431.0 million in the fourth quarter of fiscal 2022.\n"
     ]
    },
    {
     "data": {
      "application/vnd.jupyter.widget-view+json": {
       "model_id": "3179d55a58454c4f8cad417b6600a676",
       "version_major": 2,
       "version_minor": 0
      },
      "text/plain": [
       "Generating outputs:   0%|          | 0/1 [00:00<?, ?it/s]"
      ]
     },
     "metadata": {},
     "output_type": "display_data"
    },
    {
     "name": "stdout",
     "output_type": "stream",
     "text": [
      "---------------------------------------------------------\n",
      "Revenue: Total revenue was $637.4 million, a 48% increase, compared to $431.0 million in the fourth quarter of fiscal 2022.\n",
      "\n",
      "Predictions >>>\n",
      "Revenue: Total revenue was $637.4 million, a 48% increase, compared to $431.0 million in the fourth quarter\n",
      "Revenue: Total revenue was $637.4 million, a 48% increase, compared to $431.0 million in the fourth quarter\n",
      "Revenue: Total revenue was $637.4 million, a 48% increase, compared to $431.0 million in the fourth quarter\n",
      "---------------------------------------------------------\n",
      "\n",
      "Enter text to paraphrase: Income/Loss from Operations: GAAP loss from operations was $61.5 million, compared to $23.5 million in the fourth quarter of fiscal 2022.\n"
     ]
    },
    {
     "data": {
      "application/vnd.jupyter.widget-view+json": {
       "model_id": "39b2f462a105400cbc0bc6b4083daeee",
       "version_major": 2,
       "version_minor": 0
      },
      "text/plain": [
       "Generating outputs:   0%|          | 0/1 [00:00<?, ?it/s]"
      ]
     },
     "metadata": {},
     "output_type": "display_data"
    },
    {
     "name": "stdout",
     "output_type": "stream",
     "text": [
      "---------------------------------------------------------\n",
      "Income/Loss from Operations: GAAP loss from operations was $61.5 million, compared to $23.5 million in the fourth quarter of fiscal 2022.\n",
      "\n",
      "Predictions >>>\n",
      "Income/Loss from Operations: GAAP loss from operations was $61.5 million, compared to $23.5m in the\n",
      "Income/Loss from Operations: GAAP loss from operations was $61.5 million, compared to $23.5m in the\n",
      "Income/Loss from Operations: GAAP loss from operations was $61.5 million, compared to $23.5m in the\n",
      "---------------------------------------------------------\n",
      "\n"
     ]
    },
    {
     "ename": "KeyboardInterrupt",
     "evalue": "Interrupted by user",
     "output_type": "error",
     "traceback": [
      "\u001b[1;31m---------------------------------------------------------------------------\u001b[0m",
      "\u001b[1;31mKeyboardInterrupt\u001b[0m                         Traceback (most recent call last)",
      "\u001b[1;32m<ipython-input-9-e7be13bd37ac>\u001b[0m in \u001b[0;36m<module>\u001b[1;34m\u001b[0m\n\u001b[0;32m      9\u001b[0m \u001b[1;33m\u001b[0m\u001b[0m\n\u001b[0;32m     10\u001b[0m \u001b[1;32mwhile\u001b[0m \u001b[1;32mTrue\u001b[0m\u001b[1;33m:\u001b[0m\u001b[1;33m\u001b[0m\u001b[1;33m\u001b[0m\u001b[0m\n\u001b[1;32m---> 11\u001b[1;33m     \u001b[0moriginal\u001b[0m \u001b[1;33m=\u001b[0m \u001b[0minput\u001b[0m\u001b[1;33m(\u001b[0m\u001b[1;34m\"Enter text to paraphrase: \"\u001b[0m\u001b[1;33m)\u001b[0m\u001b[1;33m\u001b[0m\u001b[1;33m\u001b[0m\u001b[0m\n\u001b[0m\u001b[0;32m     12\u001b[0m     \u001b[0mto_predict\u001b[0m \u001b[1;33m=\u001b[0m \u001b[1;33m[\u001b[0m\u001b[0moriginal\u001b[0m\u001b[1;33m]\u001b[0m\u001b[1;33m\u001b[0m\u001b[1;33m\u001b[0m\u001b[0m\n\u001b[0;32m     13\u001b[0m \u001b[1;33m\u001b[0m\u001b[0m\n",
      "\u001b[1;32mc:\\users\\ankan\\appdata\\local\\programs\\python\\python37\\lib\\site-packages\\ipykernel\\kernelbase.py\u001b[0m in \u001b[0;36mraw_input\u001b[1;34m(self, prompt)\u001b[0m\n\u001b[0;32m    861\u001b[0m             \u001b[0mself\u001b[0m\u001b[1;33m.\u001b[0m\u001b[0m_parent_ident\u001b[0m\u001b[1;33m,\u001b[0m\u001b[1;33m\u001b[0m\u001b[1;33m\u001b[0m\u001b[0m\n\u001b[0;32m    862\u001b[0m             \u001b[0mself\u001b[0m\u001b[1;33m.\u001b[0m\u001b[0m_parent_header\u001b[0m\u001b[1;33m,\u001b[0m\u001b[1;33m\u001b[0m\u001b[1;33m\u001b[0m\u001b[0m\n\u001b[1;32m--> 863\u001b[1;33m             \u001b[0mpassword\u001b[0m\u001b[1;33m=\u001b[0m\u001b[1;32mFalse\u001b[0m\u001b[1;33m,\u001b[0m\u001b[1;33m\u001b[0m\u001b[1;33m\u001b[0m\u001b[0m\n\u001b[0m\u001b[0;32m    864\u001b[0m         )\n\u001b[0;32m    865\u001b[0m \u001b[1;33m\u001b[0m\u001b[0m\n",
      "\u001b[1;32mc:\\users\\ankan\\appdata\\local\\programs\\python\\python37\\lib\\site-packages\\ipykernel\\kernelbase.py\u001b[0m in \u001b[0;36m_input_request\u001b[1;34m(self, prompt, ident, parent, password)\u001b[0m\n\u001b[0;32m    902\u001b[0m             \u001b[1;32mexcept\u001b[0m \u001b[0mKeyboardInterrupt\u001b[0m\u001b[1;33m:\u001b[0m\u001b[1;33m\u001b[0m\u001b[1;33m\u001b[0m\u001b[0m\n\u001b[0;32m    903\u001b[0m                 \u001b[1;31m# re-raise KeyboardInterrupt, to truncate traceback\u001b[0m\u001b[1;33m\u001b[0m\u001b[1;33m\u001b[0m\u001b[1;33m\u001b[0m\u001b[0m\n\u001b[1;32m--> 904\u001b[1;33m                 \u001b[1;32mraise\u001b[0m \u001b[0mKeyboardInterrupt\u001b[0m\u001b[1;33m(\u001b[0m\u001b[1;34m\"Interrupted by user\"\u001b[0m\u001b[1;33m)\u001b[0m \u001b[1;32mfrom\u001b[0m \u001b[1;32mNone\u001b[0m\u001b[1;33m\u001b[0m\u001b[1;33m\u001b[0m\u001b[0m\n\u001b[0m\u001b[0;32m    905\u001b[0m             \u001b[1;32mexcept\u001b[0m \u001b[0mException\u001b[0m \u001b[1;32mas\u001b[0m \u001b[0me\u001b[0m\u001b[1;33m:\u001b[0m\u001b[1;33m\u001b[0m\u001b[1;33m\u001b[0m\u001b[0m\n\u001b[0;32m    906\u001b[0m                 \u001b[0mself\u001b[0m\u001b[1;33m.\u001b[0m\u001b[0mlog\u001b[0m\u001b[1;33m.\u001b[0m\u001b[0mwarning\u001b[0m\u001b[1;33m(\u001b[0m\u001b[1;34m\"Invalid Message:\"\u001b[0m\u001b[1;33m,\u001b[0m \u001b[0mexc_info\u001b[0m\u001b[1;33m=\u001b[0m\u001b[1;32mTrue\u001b[0m\u001b[1;33m)\u001b[0m\u001b[1;33m\u001b[0m\u001b[1;33m\u001b[0m\u001b[0m\n",
      "\u001b[1;31mKeyboardInterrupt\u001b[0m: Interrupted by user"
     ]
    }
   ],
   "source": [
    "logging.basicConfig(level=logging.INFO)\n",
    "transformers_logger = logging.getLogger(\"transformers\")\n",
    "transformers_logger.setLevel(logging.ERROR)\n",
    "\n",
    "model = Seq2SeqModel(\n",
    "    encoder_decoder_type=\"bart\", encoder_decoder_name=\"outputs\"\n",
    ")\n",
    "\n",
    "\n",
    "while True:\n",
    "    original = input(\"Enter text to paraphrase: \")\n",
    "    to_predict = [original]\n",
    "\n",
    "    preds = model.predict(to_predict)\n",
    "\n",
    "    print(\"---------------------------------------------------------\")\n",
    "    print(original)\n",
    "\n",
    "    print()\n",
    "    print(\"Predictions >>>\")\n",
    "    for pred in preds[0]:\n",
    "        print(pred)\n",
    "\n",
    "    print(\"---------------------------------------------------------\")\n",
    "    print()"
   ]
  }
 ],
 "metadata": {
  "kernelspec": {
   "display_name": "Python 3",
   "language": "python",
   "name": "python3"
  },
  "language_info": {
   "codemirror_mode": {
    "name": "ipython",
    "version": 3
   },
   "file_extension": ".py",
   "mimetype": "text/x-python",
   "name": "python",
   "nbconvert_exporter": "python",
   "pygments_lexer": "ipython3",
   "version": "3.7.9"
  }
 },
 "nbformat": 4,
 "nbformat_minor": 4
}
