{
 "cells": [
  {
   "cell_type": "code",
   "execution_count": 1,
   "metadata": {},
   "outputs": [],
   "source": [
    "from transformers import AutoModelForSeq2SeqLM, AutoTokenizer\n",
    "import spacy\n",
    "from spacy.language import Language\n",
    "from spacy import displacy\n",
    "import time\n",
    "import glob\n",
    "import re\n",
    "import math\n",
    "import statistics\n",
    "import os\n",
    "import json\n",
    "import calendar\n",
    "import holidays\n",
    "from pathlib import Path\n",
    "from datetime import date\n",
    "from datetime import datetime\n",
    "import pandas as pd\n",
    "import numpy as np\n",
    "import collections\n",
    "import hashlib\n",
    "from dateutil.parser import parse\n",
    "import shutil\n",
    "import ast\n",
    "from io import StringIO\n",
    "import requests"
   ]
  },
  {
   "cell_type": "code",
   "execution_count": 2,
   "metadata": {},
   "outputs": [],
   "source": [
    "import hashlib\n",
    "def getHash(sent):\n",
    "    hash_object = hashlib.sha1(sent.upper().encode(\"UTF-8\"))\n",
    "    hex_dig = hash_object.hexdigest()\n",
    "    return(hex_dig)"
   ]
  },
  {
   "cell_type": "code",
   "execution_count": 6,
   "metadata": {},
   "outputs": [],
   "source": [
    "def getRelationFromER(sym):\n",
    "    entityFile = \"../../Summary/entities/\"+sym+\"-ENTITIES.json\"\n",
    "    print(entityFile)\n",
    "    #search = \"Q\\d+-[0-9][0-9][0-9][0-9]|ALL-[0-9][0-9][0-9][0-9]\"\n",
    "    search = \"Q\\d+-[0-9][0-9][0-9][0-9]\"\n",
    "    print(search)\n",
    "    cnt = 0\n",
    "    sentER = dict()\n",
    "    with open(entityFile, encoding=\"utf-8\") as f:\n",
    "        entity = json.load(f)\n",
    "    if(entity):\n",
    "        for key in entity[sym].keys():\n",
    "            if(re.search(search, key)):\n",
    "                if(\"ALL\" not in key):\n",
    "                    cnt = cnt + 1\n",
    "                #if(cnt == 1):\n",
    "                #    continue\n",
    "                if(cnt > 5):\n",
    "                    break\n",
    "                for ent in entity[sym][key]:\n",
    "                    if(\"PREV\" not in ent and type(entity[sym][key][ent]) == dict and \"RELATION\" in entity[sym][key][ent] and len(entity[sym][key][ent][\"RELATION\"]) > 0):\n",
    "                        for r in entity[sym][key][ent][\"RELATION\"]:\n",
    "                            newent = ent.replace(\"-GUIDEFULL\",\"\")\n",
    "                            newent = newent.replace(\"-GUIDE\",\"\")\n",
    "                            newent = re.sub(\"-\"+search, \"\", newent)\n",
    "                            sent = r.split(\":::\")[2]\n",
    "                            sent = sent.strip()\n",
    "                            hexDig = getHash(sent)\n",
    "                            relation = \"{METRIC:\"+newent+\",\"\n",
    "                            if hexDig not in sentER:\n",
    "                                sentER[hexDig] = dict()\n",
    "                            else:\n",
    "                                if(\"RELATION\" in sentER[hexDig] and relation in sentER[hexDig][\"RELATION\"][0]):\n",
    "                                    print(\"SAME RELATION \" + relation + \" ALREADY PRESENT FOR \" + sent)\n",
    "                                    continue\n",
    "                            if(\"RTEXT-MONEY\" in entity[sym][key][ent] and \"RTEXT-RANGEM1\" in entity[sym][key][ent]):\n",
    "                                relation = relation + \"MONEY:\"+entity[sym][key][ent][\"RTEXT-MONEY\"]+\",RANGEM1:\"+entity[sym][key][ent][\"RTEXT-RANGEM1\"]+\",RELATION:KVRANGE}\"\n",
    "                            elif(\"RTEXT-CD\" in entity[sym][key][ent] and \"RTEXT-RANGEM1\" in entity[sym][key][ent]):\n",
    "                                relation = relation + \"CD:\"+entity[sym][key][ent][\"RTEXT-CD\"]+\",RANGEM1:\"+entity[sym][key][ent][\"RTEXT-RANGEM1\"]+\",RELATION:KVRANGE}\"\n",
    "                            elif(\"RTEXT-PCT\" in entity[sym][key][ent] and \"RTEXT-RANGEM1\" in entity[sym][key][ent]):\n",
    "                                relation = relation + \"PCT:\"+entity[sym][key][ent][\"RTEXT-PCT\"]+\",RANGEM1:\"+entity[sym][key][ent][\"RTEXT-RANGEM1\"]+\",RELATION:KVRANGE}\"\n",
    "                            elif(\"RTEXT-MONEY\" in entity[sym][key][ent]):\n",
    "                                relation = relation + \"MONEY:\"+entity[sym][key][ent][\"RTEXT-MONEY\"]+\",RELATION:KV}\"\n",
    "                            elif(\"RTEXT-CD\" in entity[sym][key][ent]):\n",
    "                                relation = relation + \"CD:\"+entity[sym][key][ent][\"RTEXT-CD\"]+\",RELATION:KV}\"\n",
    "                            elif(\"RTEXT-PCT\" in entity[sym][key][ent]):\n",
    "                                relation = relation + \"PCT:\"+entity[sym][key][ent][\"RTEXT-PCT\"]+\",RELATION:KV}\"\n",
    "                            #print(key, sent+\"\\t\"+relation, hexDig)\n",
    "                            sentER[hexDig][\"ORIGSENT\"] = sent\n",
    "                            sentER[hexDig][\"KEY\"] = key\n",
    "                            if(\"RELATION\" not in sentER[hexDig]):\n",
    "                                sentER[hexDig][\"RELATION\"] = list()\n",
    "                            sentER[hexDig][\"RELATION\"].append(relation)\n",
    "    print(sentER)\n",
    "    return(sentER)"
   ]
  },
  {
   "cell_type": "code",
   "execution_count": 11,
   "metadata": {},
   "outputs": [],
   "source": [
    "def getFileSortTimestamp(csym, src=\"REFINED\"):\n",
    "    if(src == \"POSTREFINED\"):\n",
    "        path = \"../../Summary/PostRefined\"\n",
    "    else:\n",
    "        path = \"../../Summary/Refined\"\n",
    "    files = glob.glob(path+\"/\"+csym+\"/*\")   \n",
    "    files.sort(reverse=True, key=os.path.getmtime)\n",
    "    return(files)"
   ]
  },
  {
   "cell_type": "code",
   "execution_count": 21,
   "metadata": {},
   "outputs": [],
   "source": [
    "def getOrgData(org):\n",
    "    orgDataPath = \"../../Summary/orgData/\"+org+\".txt\"\n",
    "    file = Path(orgDataPath)\n",
    "    if file.is_file():\n",
    "        #print(True)\n",
    "        with open(orgDataPath) as f:\n",
    "            data = json.load(f)\n",
    "        #print(data)\n",
    "        return data\n",
    "    return None"
   ]
  },
  {
   "cell_type": "code",
   "execution_count": 22,
   "metadata": {},
   "outputs": [],
   "source": [
    "def getOrgAttr(orgData, attr):\n",
    "    if not orgData:\n",
    "        return None\n",
    "    asplit = attr.split(\"|\")\n",
    "    parent = asplit[0]\n",
    "    if \"SOURCE\" in orgData[parent]:\n",
    "        src = orgData[parent][\"SOURCE\"]\n",
    "        if src == \"YH\" or (parent == \"ORGPROFILE\" and src == \"AD\"):\n",
    "            p = orgData\n",
    "            for i in range(0, len(asplit)):\n",
    "                if asplit[i] not in p:\n",
    "                    return None\n",
    "                p = p[asplit[i]]\n",
    "            #print(p)\n",
    "            return(p)\n",
    "    return None"
   ]
  },
  {
   "cell_type": "code",
   "execution_count": 23,
   "metadata": {},
   "outputs": [],
   "source": [
    "def getQtrs(org, edate, fynd):\n",
    "    #print(edate)\n",
    "    dateObj = datetime.strptime(edate, '%Y-%m-%d')\n",
    "    #print(dateObj.month)\n",
    "    emonth = dateObj.month\n",
    "    eyr = dateObj.year\n",
    "    k = 1\n",
    "    qend = fynd\n",
    "    qstart = 0\n",
    "    year = eyr\n",
    "    #print(year)\n",
    "    qtrs = dict()\n",
    "    while(k!=5):\n",
    "        #print(k)\n",
    "        qstart = (qend + 1)%12\n",
    "        qend = (qend + 3)%12\n",
    "        if qstart == 0:\n",
    "            qstart = 12\n",
    "        if qend == 0:\n",
    "            qend = 12\n",
    "        if((emonth >= qstart and emonth <= qend) or (qstart > qend and (emonth >= qstart or emonth <= qend))):\n",
    "            #print(\"CQTR:\", \"Q\"+str(k))\n",
    "            qtrs[\"CQTR\"] = \"Q\"+str(k)\n",
    "            qtrs[\"GQTR\"] = \"Q\"+str(k) # Guidance qtr is same as current qtr\n",
    "            qtrs[\"CYR\"] = str(year)\n",
    "            qtrs[\"GYR\"] = str(year) # Guidance year same as current year\n",
    "            eqtr = (k-1)%4\n",
    "            if(eqtr == 0):\n",
    "                eqtr = 4\n",
    "            nqtr = (k+1)%4\n",
    "            if(nqtr == 0):\n",
    "                nqtr = 4\n",
    "            pqtr = (k-2)%4\n",
    "            if(pqtr == 0):\n",
    "                pqtr = 4\n",
    "            qtrs[\"EQTR\"] = \"Q\"+str(eqtr)\n",
    "            qtrs[\"PQTR\"] = \"Q\"+str(pqtr)\n",
    "            #print(\"EQTR:\", \"Q\"+str(eqtr))\n",
    "            #print(\"PQTR:\", \"Q\"+str(pqtr))\n",
    "            #print(\"NQTR:\", \"Q\"+str(nqtr))\n",
    "        #print(\"Q\"+str(k), \"START\", qstart)\n",
    "        #print(\"Q\"+str(k), \"END\", qend)\n",
    "        qtr = \"Q\"+str(k)\n",
    "        if (qtr not in qtrs):\n",
    "            qtrs[qtr] = dict()\n",
    "        qtrs[qtr][\"START\"] = qstart\n",
    "        qtrs[qtr][\"SM\"] = calendar.month_abbr[qstart].upper()\n",
    "        qtrs[qtr][\"END\"] = qend\n",
    "        qtrs[qtr][\"EM\"] = calendar.month_abbr[qend].upper()\n",
    "        #print(\"Q\"+str(k), \"YEAR\", year)\n",
    "        k = k + 1\n",
    "    \n",
    "    #print(eyr)   \n",
    "    if(\"EQTR\" in qtrs and \"CQTR\" in qtrs and \"PQTR\" in qtrs):\n",
    "        eqtrEnd = qtrs[qtrs[\"EQTR\"]][\"END\"]\n",
    "        cqtrEnd = qtrs[qtrs[\"CQTR\"]][\"END\"]\n",
    "        pqtrEnd = qtrs[qtrs[\"PQTR\"]][\"END\"]\n",
    "        #print(eqtrEnd, cqtrEnd, pqtrEnd)\n",
    "        qtrs[\"EYR\"] = str(eyr)\n",
    "        qtrs[\"PYR\"] = str(eyr)\n",
    "        #print(eqtrEnd, cqtrEnd, qtrs[qtrs[\"CQTR\"]][\"START\"], qtrs[qtrs[\"CQTR\"]][\"END\"])\n",
    "        if(eqtrEnd > cqtrEnd):\n",
    "            if(qtrs[qtrs[\"CQTR\"]][\"START\"] > qtrs[qtrs[\"CQTR\"]][\"END\"] and emonth > fynd):\n",
    "                gyr = year + 1\n",
    "                qtrs[\"GYR\"] = str(gyr)\n",
    "                qtrs[\"EYR\"] = str(gyr - 1)\n",
    "            else:\n",
    "                qtrs[\"EYR\"] = str(eyr - 1)\n",
    "                qtrs[\"PYR\"] = str(eyr - 1)\n",
    "        if(pqtrEnd > eqtrEnd):\n",
    "            qtrs[\"PYR\"] = str(int(qtrs[\"EYR\"]) - 1)\n",
    "    if(emonth <= fynd):\n",
    "        qtrs[\"CFYR\"] = str(year)\n",
    "    else:\n",
    "        qtrs[\"CFYR\"] = str(year + 1)\n",
    "    qtrs[\"FYR\"] = qtrs[\"CFYR\"]\n",
    "    if(qtrs[qtrs[\"EQTR\"]][\"END\"] <= fynd and qtrs[\"EQTR\"] > qtrs[\"CQTR\"]):\n",
    "        qtrs[\"FYR\"] = str(int(qtrs[\"FYR\"]) - 1)\n",
    "    qtrs[\"EFYR\"] = qtrs[\"FYR\"]\n",
    "    qtrs[\"PFYR\"] = qtrs[\"FYR\"]\n",
    "    if(qtrs[\"PQTR\"] > qtrs[\"EQTR\"]):\n",
    "        qtrs[\"PFYR\"] = str(int(qtrs[\"FYR\"]) - 1)\n",
    "    qtrs[\"GFYR\"] = qtrs[\"CFYR\"]\n",
    "    #qtrs[\"EYR\"] = qtrs[\"FYR\"]\n",
    "    #qtrs[\"CYR\"] = qtrs[\"CFYR\"]\n",
    "    #qtrs[\"PYR\"] = qtrs[\"FYR\"]\n",
    "    qtrs[\"CYR\"] = qtrs[\"GYR\"]\n",
    "    #print(qtrs)\n",
    "    return (qtrs)"
   ]
  },
  {
   "cell_type": "code",
   "execution_count": 43,
   "metadata": {},
   "outputs": [
    {
     "name": "stdout",
     "output_type": "stream",
     "text": [
      "['../../Summary/Refined/APPN\\\\APPN_2023-08-03_EP_YH.txt', '../../Summary/Refined/APPN\\\\APPN_2023-05-09_EP_YH.txt', '../../Summary/Refined/APPN\\\\APPN_2023-02-16_EP_YH.txt', '../../Summary/Refined/APPN\\\\APPN_2022-11-03_EP_YH.txt', '../../Summary/Refined/APPN\\\\APPN_2022-08-04_EP_YH.txt', '../../Summary/Refined/APPN\\\\APPN_2022-05-06_EP_YH.txt']\n",
      "['../../Summary/PostRefined/APPN\\\\APPN_2023-08-03_EP_YH.txt', '../../Summary/PostRefined/APPN\\\\APPN_2023-05-09_EP_YH.txt', '../../Summary/PostRefined/APPN\\\\APPN_2023-02-16_EP_YH.txt', '../../Summary/PostRefined/APPN\\\\APPN_2022-11-03_EP_YH.txt', '../../Summary/PostRefined/APPN\\\\APPN_2022-08-04_EP_YH.txt']\n",
      "2023-08-03 APPN Q2-2023 ../../Summary/PostRefined/APPN/APPN_2023-08-03_EP_YH.txt\n",
      "2023-05-09 APPN Q1-2023 ../../Summary/Refined/APPN\\APPN_2023-05-09_EP_YH.txt\n",
      "2023-02-16 APPN Q4-2022 ../../Summary/Refined/APPN\\APPN_2023-02-16_EP_YH.txt\n",
      "2022-11-03 APPN Q3-2022 ../../Summary/Refined/APPN\\APPN_2022-11-03_EP_YH.txt\n",
      "2022-08-04 APPN Q2-2022 ../../Summary/Refined/APPN\\APPN_2022-08-04_EP_YH.txt\n"
     ]
    }
   ],
   "source": [
    "csym = \"APPN\"\n",
    "files = getFileSortTimestamp(csym)\n",
    "print(files)\n",
    "pfiles = getFileSortTimestamp(csym, \"POSTREFINED\")\n",
    "print(pfiles)\n",
    "\n",
    "#entityFile = \"../../Summary/entities/\"+csym+\"-ENTITIES.json\"\n",
    "#print(entityFile)\n",
    "#with open(entityFile, encoding=\"utf-8\") as f:\n",
    "#    entity = json.load(f)\n",
    "\n",
    "orgData = getOrgData(csym)\n",
    "if orgData:\n",
    "    val = getOrgAttr(orgData, \"ORGPROFILE|FiscalYearEnd\")\n",
    "\n",
    "cnt = 0\n",
    "cdate = \"2023-06-30\"\n",
    "for file in files:\n",
    "    cnt = cnt + 1\n",
    "    if(cnt > 5):\n",
    "        break\n",
    "    basefile = os.path.basename(file)\n",
    "    filename = os.path.splitext(basefile)[0]\n",
    "    #print(filename)\n",
    "    edate = filename.split(\"_\")[1]\n",
    "    rtype = filename.split(\"_\")[0]\n",
    "    estr = None\n",
    "    if orgData:\n",
    "        if(val):\n",
    "            dobj = datetime.strptime(val, \"%B\")\n",
    "            fynd = (dobj.month)\n",
    "            qtrs = getQtrs(csym, edate, fynd)\n",
    "            eqtr = qtrs[\"EQTR\"]\n",
    "            eyr = qtrs[\"EYR\"]\n",
    "            estr = eqtr+\"-\"+eyr\n",
    "    if(estr):\n",
    "        nedate = time.strptime(edate, \"%Y-%m-%d\")\n",
    "        ncdate = time.strptime(cdate, \"%Y-%m-%d\")\n",
    "        if(nedate > ncdate):\n",
    "            nfile = \"../../Summary/PostRefined/\"+csym+\"/\"+basefile\n",
    "            print(edate, rtype, estr, nfile)\n",
    "        else:\n",
    "            nfile = file\n",
    "            print(edate, rtype, estr, nfile)\n",
    "        continue"
   ]
  },
  {
   "cell_type": "code",
   "execution_count": 2,
   "metadata": {},
   "outputs": [
    {
     "data": {
      "application/vnd.jupyter.widget-view+json": {
       "model_id": "7423f36f8d044262bb2013cfac2d7443",
       "version_major": 2,
       "version_minor": 0
      },
      "text/plain": [
       "Downloading:   0%|          | 0.00/662 [00:00<?, ?B/s]"
      ]
     },
     "metadata": {},
     "output_type": "display_data"
    },
    {
     "data": {
      "application/vnd.jupyter.widget-view+json": {
       "model_id": "36bba8477bc64ae0a812ab722ef30688",
       "version_major": 2,
       "version_minor": 0
      },
      "text/plain": [
       "Downloading:   0%|          | 0.00/2.92G [00:00<?, ?B/s]"
      ]
     },
     "metadata": {},
     "output_type": "display_data"
    },
    {
     "data": {
      "application/vnd.jupyter.widget-view+json": {
       "model_id": "06fa45eb4b414992acd89b7a04f4dc20",
       "version_major": 2,
       "version_minor": 0
      },
      "text/plain": [
       "Downloading:   0%|          | 0.00/2.48k [00:00<?, ?B/s]"
      ]
     },
     "metadata": {},
     "output_type": "display_data"
    },
    {
     "data": {
      "application/vnd.jupyter.widget-view+json": {
       "model_id": "300e837dc5a042149c336d2dac9c303d",
       "version_major": 2,
       "version_minor": 0
      },
      "text/plain": [
       "Downloading:   0%|          | 0.00/773k [00:00<?, ?B/s]"
      ]
     },
     "metadata": {},
     "output_type": "display_data"
    },
    {
     "data": {
      "application/vnd.jupyter.widget-view+json": {
       "model_id": "5bea489e104b4b79887d8cae5878d7d7",
       "version_major": 2,
       "version_minor": 0
      },
      "text/plain": [
       "Downloading:   0%|          | 0.00/2.31M [00:00<?, ?B/s]"
      ]
     },
     "metadata": {},
     "output_type": "display_data"
    },
    {
     "data": {
      "application/vnd.jupyter.widget-view+json": {
       "model_id": "cd0f93dc84a44ac08a2acdefec6b24a6",
       "version_major": 2,
       "version_minor": 0
      },
      "text/plain": [
       "Downloading:   0%|          | 0.00/2.15k [00:00<?, ?B/s]"
      ]
     },
     "metadata": {},
     "output_type": "display_data"
    }
   ],
   "source": [
    "model = AutoModelForSeq2SeqLM.from_pretrained(\"google/flan-t5-large\")\n",
    "tokenizer = AutoTokenizer.from_pretrained(\"google/flan-t5-large\")"
   ]
  },
  {
   "cell_type": "code",
   "execution_count": 3,
   "metadata": {},
   "outputs": [
    {
     "name": "stdout",
     "output_type": "stream",
     "text": [
      "['Toss the pasta with the sauce, then add the meat and toss again.']\n"
     ]
    }
   ],
   "source": [
    "inputs = tokenizer(\"A step by step recipe to make bolognese pasta:\", return_tensors=\"pt\")\n",
    "outputs = model.generate(**inputs)\n",
    "print(tokenizer.batch_decode(outputs, skip_special_tokens=True))"
   ]
  },
  {
   "cell_type": "code",
   "execution_count": 4,
   "metadata": {},
   "outputs": [
    {
     "name": "stdout",
     "output_type": "stream",
     "text": [
      "['Total revenue']\n"
     ]
    }
   ],
   "source": [
    "inputs = tokenizer(\"Get the Named entity from this sentence: Total revenue is expected to be between $115.0 million and $117.0 million, representing a year-over-year increase of 24% to 27%.\", return_tensors=\"pt\")\n",
    "outputs = model.generate(**inputs)\n",
    "print(tokenizer.batch_decode(outputs, skip_special_tokens=True))"
   ]
  },
  {
   "cell_type": "code",
   "execution_count": 5,
   "metadata": {},
   "outputs": [
    {
     "name": "stdout",
     "output_type": "stream",
     "text": [
      "['[Company]: Apple, [Founded]: 1976, [Founders]:']\n"
     ]
    }
   ],
   "source": [
    "advanced_ner = \"\"\"Microsoft Corporation is a company that makes computer software and video games. Bill Gates and Paul Allen founded the company in 1975 \n",
    "[Company]: Microsoft, [Founded]: 1975, [Founders]: Bill Gates, Paul Allen \n",
    " \n",
    "Amazon.com, Inc., known as Amazon , is an American online business and cloud computing company. It was founded on July 5, 1994 by Jeff Bezos \n",
    "[Company]: Amazon, [Founded]: 1994, [Founders]: Jeff Bezos \n",
    " \n",
    "Apple Inc. is a multinational company that makes personal computers, mobile devices, and software. Apple was started in 1976 by Steve Jobs and Steve Wozniak.\"\"\"\n",
    "inputs = tokenizer(advanced_ner, return_tensors=\"pt\")\n",
    "outputs = model.generate(**inputs)\n",
    "print(tokenizer.batch_decode(outputs, skip_special_tokens=True))"
   ]
  },
  {
   "cell_type": "code",
   "execution_count": 6,
   "metadata": {},
   "outputs": [
    {
     "name": "stdout",
     "output_type": "stream",
     "text": [
      "['\"Revenue is $503MN up 77% year over year [Metric]:']\n"
     ]
    }
   ],
   "source": [
    "report_ner = \"\"\"\"Revenue is $503MN up 77% year over year\n",
    "[Metric]: Revenue, [Money]: $503MN, [PCT]: 77%, [CALENDAR]: year over year\n",
    "\n",
    "Revenue is $603MN up 87% year over year\n",
    "[Metric]: Revenue, [Money]: $603MN, [PCT]: 87%, [CALENDAR]: year over year\n",
    "\n",
    "Revenue is $63MN down 12% year over year.\n",
    "\"\"\"\n",
    "inputs = tokenizer(report_ner, return_tensors=\"pt\")\n",
    "outputs = model.generate(**inputs)\n",
    "print(tokenizer.batch_decode(outputs, skip_special_tokens=True))"
   ]
  }
 ],
 "metadata": {
  "kernelspec": {
   "display_name": "Python 3",
   "language": "python",
   "name": "python3"
  },
  "language_info": {
   "codemirror_mode": {
    "name": "ipython",
    "version": 3
   },
   "file_extension": ".py",
   "mimetype": "text/x-python",
   "name": "python",
   "nbconvert_exporter": "python",
   "pygments_lexer": "ipython3",
   "version": "3.7.9"
  }
 },
 "nbformat": 4,
 "nbformat_minor": 4
}
