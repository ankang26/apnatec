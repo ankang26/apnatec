{
 "cells": [
  {
   "cell_type": "code",
   "execution_count": 1,
   "metadata": {},
   "outputs": [],
   "source": [
    "from transformers import AutoModelForSeq2SeqLM, AutoTokenizer\n",
    "import spacy\n",
    "from spacy.language import Language\n",
    "from spacy import displacy\n",
    "import time\n",
    "import glob\n",
    "import re\n",
    "import math\n",
    "import statistics\n",
    "import os\n",
    "import json\n",
    "import calendar\n",
    "import holidays\n",
    "from pathlib import Path\n",
    "from datetime import date\n",
    "from datetime import datetime\n",
    "import pandas as pd\n",
    "import numpy as np\n",
    "import collections\n",
    "import hashlib\n",
    "from dateutil.parser import parse\n",
    "import shutil\n",
    "import ast\n",
    "from io import StringIO\n",
    "import requests"
   ]
  },
  {
   "cell_type": "code",
   "execution_count": 2,
   "metadata": {},
   "outputs": [],
   "source": [
    "import hashlib\n",
    "def getHash(sent):\n",
    "    hash_object = hashlib.sha1(sent.upper().encode(\"UTF-8\"))\n",
    "    hex_dig = hash_object.hexdigest()\n",
    "    return(hex_dig)"
   ]
  },
  {
   "cell_type": "code",
   "execution_count": 4,
   "metadata": {},
   "outputs": [
    {
     "name": "stdout",
     "output_type": "stream",
     "text": [
      "../../Summary/entities/APPN-ENTITIES.json\n",
      "Q\\d+-[0-9][0-9][0-9][0-9]\n",
      "{'c437f9d89e3898b63db59ec5b036ec7191aae864': {'ORIGSENT': 'GAAP Net Loss Per Share is $(0.58) in second quarter 2023 @@@', 'KEY': 'Q2-2023', 'RELATION': ['{METRIC:GAAP-EPS,MONEY:-$0.58,RELATION:KV}']}, 'bcccbc5915db9fff595745a8c0d90b4d90379ce7': {'ORIGSENT': 'GAAP net loss per share is $(.58) for the second quarter of 2023.', 'KEY': 'Q2-2023', 'RELATION': ['{METRIC:GAAP-EPS,MONEY:-$0.58,RELATION:KV}']}, '610d85027497d0398976315ce0edfab7975a701a': {'ORIGSENT': 'GAAP Gross Profit is $90870 T in second quarter 2023 @@@', 'KEY': 'Q2-2023', 'RELATION': ['{METRIC:GAAP GROSS PROFIT,MONEY:$90.9MN,RELATION:KV}']}, '72f4930f4c3b5cbfb78c8ba4c2febf86983c1a4c': {'ORIGSENT': 'GAAP Gross Margin is 71.15% in second quarter 2023 @@@', 'KEY': 'Q2-2023', 'RELATION': ['{METRIC:GAAP GROSS MARGIN,PCT:71.15%,RELATION:KV}']}, '57bf919828be26218e1528a50fca02dbf1c6bfbe': {'ORIGSENT': 'Cloud subscription revenue is $74.4 million.', 'KEY': 'Q2-2023', 'RELATION': ['{METRIC:SUBSCRIPTION REVENUE-Cloud,MONEY:$74.4MN,RELATION:KV}']}, '5d58785994a7dd011dc0f1b551e7551c86f450de': {'ORIGSENT': 'Cloud subscription revenue is expected to be between $75.5 million and $76.5 million .', 'KEY': 'Q2-2023', 'RELATION': ['{METRIC:SUBSCRIPTION REVENUE-Cloud,MONEY:$75.5MN,RANGEM1:$76.5MN,RELATION:KVRANGE}']}, '3728a58c6a1484adf9a79d83e3d16d168a77661d': {'ORIGSENT': 'Cloud subscription revenue is expected to be between $299.0 million and $301.0 million .', 'KEY': 'Q2-2023', 'RELATION': ['{METRIC:SUBSCRIPTION REVENUE-Cloud,MONEY:$299.0MN,RANGEM1:$301.0MN,RELATION:KVRANGE}']}, 'b6b817015a1ba667fb318abcac96d79e8e4526e0': {'ORIGSENT': 'Total subscriptions revenue is $93.8 million.', 'KEY': 'Q2-2023', 'RELATION': ['{METRIC:SUBSCRIPTIONS REVENUE,MONEY:$93.8MN,RELATION:KV}']}, '07da34c8f5e90185855473f927210dd472a62be6': {'ORIGSENT': 'Professional services revenue is $33.9 million.', 'KEY': 'Q2-2023', 'RELATION': ['{METRIC:PROFESSIONAL SERVICES REVENUE,MONEY:$33.9MN,RELATION:KV}']}, '985ca28986cf397d66ebb15dfc66b6f495c591f3': {'ORIGSENT': 'Total revenue is $127.7 million.', 'KEY': 'Q2-2023', 'RELATION': ['{METRIC:REVENUE,MONEY:$127.7MN,RELATION:KV}']}, '97718a973ccbb3b094264ab892844690dafd3c57': {'ORIGSENT': 'Total revenue is expected to be between $134.0 million and $136.0 million .', 'KEY': 'Q2-2023', 'RELATION': ['{METRIC:REVENUE,MONEY:$134.0MN,RANGEM1:$136.0MN,RELATION:KVRANGE}']}, 'af86b155af27dc58926618b40012c368cb704151': {'ORIGSENT': 'Total revenue is expected to be between $538.0 million and $543.0 million .', 'KEY': 'Q2-2023', 'RELATION': ['{METRIC:REVENUE,MONEY:$538.0MN,RANGEM1:$543.0MN,RELATION:KVRANGE}']}, '547d89272f124267f1c13b986dd1daef3db1ecbf': {'ORIGSENT': 'Cloud subscription revenue retention rate is 115% as of June 30, 2023 .', 'KEY': 'Q2-2023', 'RELATION': ['{METRIC:NET DOLLAR EXPANSION,PCT:115.0%,RELATION:KV}']}, 'ca9e8bcbfb6e1a47546069eb3b1237108a0ea1dc': {'ORIGSENT': 'GAAP operating loss is $(40.7) million.', 'KEY': 'Q2-2023', 'RELATION': ['{METRIC:GAAP OPERATING INCOME,MONEY:-$40.7MN,RELATION:KV}']}, '005724446ceca0b660fed7ed64ed96c7be0f58ee': {'ORIGSENT': 'Non-GAAP operating loss is $(27.1) million .', 'KEY': 'Q2-2023', 'RELATION': ['{METRIC:NON-GAAP OPERATING INCOME,MONEY:-$27.1MN,RELATION:KV}']}, '826d4388b5255feb3ec495f771c769bc38b32397': {'ORIGSENT': 'GAAP net loss is $(42.4) million.', 'KEY': 'Q2-2023', 'RELATION': ['{METRIC:GAAP NET INCOME,MONEY:-$42.4MN,RELATION:KV}']}, '3abd5a9541ab9c3613a60bfdb1790678dab93cfc': {'ORIGSENT': 'Non-GAAP net loss is $(28.5) million.', 'KEY': 'Q2-2023', 'RELATION': ['{METRIC:NON-GAAP NET INCOME,MONEY:-$28.5MN,RELATION:KV}']}, '8b7c8c3efbe564e17a381ab1a25feb10deb4b715': {'ORIGSENT': 'Non-GAAP net loss per share is $(.39).', 'KEY': 'Q2-2023', 'RELATION': ['{METRIC:EPS,MONEY:-$0.39,RELATION:KV}']}, 'd69189543ea09e2809c6b34f0e726538b9c509d6': {'ORIGSENT': 'Non-GAAP net loss per share is expected to be between $(.28) and $(.23), assuming weighted average common shares outstanding of 73.3 million .', 'KEY': 'Q2-2023', 'RELATION': ['{METRIC:EPS,MONEY:-$0.28,RANGEM1:-$0.23,RELATION:KVRANGE}']}, '4d30781ef111af3d2e1c213781a80df6838b1056': {'ORIGSENT': 'Non-GAAP net loss per share is expected to be between $(1.16) and $(1.10), assuming weighted average common shares outstanding of 73.2 million .', 'KEY': 'Q2-2023', 'RELATION': ['{METRIC:EPS,MONEY:-$1.16,RANGEM1:-$1.1,RELATION:KVRANGE}']}, 'f2a6edfbfc7e8b804843762f4e9199608458ee6c': {'ORIGSENT': 'Adjusted EBITDA loss is $(24.7) million .', 'KEY': 'Q2-2023', 'RELATION': ['{METRIC:ADJUSTED EBITDA,MONEY:-$24.7MN,RELATION:KV}']}, '0b31482d21a7352ab6d8fe03c0327d2df715088a': {'ORIGSENT': 'Adjusted EBITDA loss is expected to be between $(16.0) million and $(12.0) million .', 'KEY': 'Q2-2023', 'RELATION': ['{METRIC:ADJUSTED EBITDA,MONEY:-$16.0MN,RANGEM1:-$12.0MN,RELATION:KVRANGE}']}, '59df063e3b55632811888c128e14d23f4d8e4d7c': {'ORIGSENT': 'Adjusted EBITDA loss is expected to be between $(67.0) million and $(63.0) million .', 'KEY': 'Q2-2023', 'RELATION': ['{METRIC:ADJUSTED EBITDA,MONEY:-$67.0MN,RANGEM1:-$63.0MN,RELATION:KVRANGE}']}, 'd3ff3a090426370a22d63c8df7bee3cf3780c0ca': {'ORIGSENT': 'As of June 30, 2023, Appian has total cash, cash equivalents, and investments of $237.0 million.', 'KEY': 'Q2-2023', 'RELATION': ['{METRIC:CASH AND EQUIVALENTS,MONEY:$237.0MN,RELATION:KV}']}, 'fab206caf74b20b8a13f6950301fb8770939fa68': {'ORIGSENT': 'Net cash used by operating activities is $(11.9) million for the three months ended June 30, 2023 .', 'KEY': 'Q2-2023', 'RELATION': ['{METRIC:OPERATING CASH FLOW,MONEY:-$11.9MN,RELATION:KV}']}, 'af6d5e5b2ae9df8cb5ea01c5dde7a5ae513298d9': {'ORIGSENT': 'GAAP Net Loss Per Share is $(0.51) in first quarter 2023 @@@', 'KEY': 'Q1-2023', 'RELATION': ['{METRIC:GAAP-EPS,MONEY:-$0.51,RELATION:KV}']}, '2e5d7299de08b1f7161b5109f13976707ec53153': {'ORIGSENT': 'GAAP net loss per share was $(0.51) for the first quarter of 2023, compared to $(0.32) for the first quarter of 2022.', 'KEY': 'Q1-2023', 'RELATION': ['{METRIC:GAAP-EPS,MONEY:-$0.51,RELATION:KV}']}, 'c176f71e983f8dc3b205084cf20d1b812bfbc955': {'ORIGSENT': 'GAAP Gross Profit is $99142 T in first quarter 2023 @@@', 'KEY': 'Q1-2023', 'RELATION': ['{METRIC:GAAP GROSS PROFIT,MONEY:$99.1MN,RELATION:KV}']}, '404d1220d000e4c8bf0ba62c2e14ed57d7eded81': {'ORIGSENT': 'GAAP Gross Margin is 73.31% in first quarter 2023 @@@', 'KEY': 'Q1-2023', 'RELATION': ['{METRIC:GAAP GROSS MARGIN,PCT:73.31%,RELATION:KV}']}, '2a8e6521b50e0086e966f552edb0bdc19fdf1293': {'ORIGSENT': 'Revenue: Cloud subscription revenue was $69.7 million, up 31% compared to the first quarter of 2022.', 'KEY': 'Q1-2023', 'RELATION': ['{METRIC:SUBSCRIPTION REVENUE-Cloud,MONEY:$69.7MN,RELATION:KV}']}, 'fdfcb43451c50e60774d7baab06fbbf8fb2d3a57': {'ORIGSENT': 'Cloud subscription revenue is expected to be between $72.0 million and $74.0 million, representing year-over-year growth of 26% to 30%.', 'KEY': 'Q1-2023', 'RELATION': ['{METRIC:SUBSCRIPTION REVENUE-Cloud,MONEY:$72.0MN,RANGEM1:$74.0MN,RELATION:KVRANGE}']}, '123a8ff941bfb59d028561e5e33b9f708c45301e': {'ORIGSENT': 'Cloud subscription revenue is expected to be between $296.0 million and $298.0 million, representing year-over-year growth of 25% to 26%.', 'KEY': 'Q1-2023', 'RELATION': ['{METRIC:SUBSCRIPTION REVENUE-Cloud,MONEY:$296.0MN,RANGEM1:$298.0MN,RELATION:KVRANGE}']}, 'b5333c603e32ff15101e1bbf33cf9632f91bd5ea': {'ORIGSENT': 'Total subscriptions revenue increased 18% year-over-year to $99.0 million.', 'KEY': 'Q1-2023', 'RELATION': ['{METRIC:SUBSCRIPTIONS REVENUE,MONEY:$99.0MN,RELATION:KV}']}, 'fadc0591c00b527787990d4e18f08e2e2637a46e': {'ORIGSENT': 'Professional services revenue was $36.3 million, an increase of 19% compared to the first quarter of 2022.', 'KEY': 'Q1-2023', 'RELATION': ['{METRIC:PROFESSIONAL SERVICES REVENUE,MONEY:$36.3MN,RELATION:KV}']}, 'f23bca9bda8652ad96cd59246ac6ac99f6217a2a': {'ORIGSENT': 'Total revenue was $135.2 million, up 18% compared to the first quarter of 2022.', 'KEY': 'Q1-2023', 'RELATION': ['{METRIC:REVENUE,MONEY:$135.2MN,RELATION:KV}']}, '6ab5526c04a1d263fb97da7757c1e3843919ec23': {'ORIGSENT': 'Total revenue is expected to be between $123.0 million and $125.0 million, representing a year-over-year increase of 12% to 14%.', 'KEY': 'Q1-2023', 'RELATION': ['{METRIC:REVENUE,MONEY:$123.0MN,RANGEM1:$125.0MN,RELATION:KVRANGE}']}, '4600309c282b22f1b92e6439b75e4ade7b742a96': {'ORIGSENT': 'Total revenue is expected to be between $533.0 million and $538.0 million, representing a year-over-year increase of 14% to 15%.', 'KEY': 'Q1-2023', 'RELATION': ['{METRIC:REVENUE,MONEY:$533.0MN,RANGEM1:$538.0MN,RELATION:KVRANGE}']}, '31ce5f3b9bc62888e3aa390f5d1dfed376f33435': {'ORIGSENT': 'Cloud subscription revenue retention rate was 115% as of March 31, 2023.', 'KEY': 'Q1-2023', 'RELATION': ['{METRIC:NET DOLLAR EXPANSION,PCT:115.0%,RELATION:KV}']}, '921da43f9a2947af4587e8ee4c3addd0c31dd547': {'ORIGSENT': 'Operating loss and non-GAAP operating loss: GAAP operating loss was $(35.3) million, compared to $(23.9) million for the first quarter of 2022.', 'KEY': 'Q1-2023', 'RELATION': ['{METRIC:GAAP OPERATING INCOME,MONEY:-$35.3MN,RELATION:KV}']}, '3971fcd44a97e32453961e34bb75cd0432a8cfc4': {'ORIGSENT': 'Non-GAAP operating loss was $(18.2) million, compared to $(5.1) million for the first quarter of 2022.', 'KEY': 'Q1-2023', 'RELATION': ['{METRIC:NON-GAAP OPERATING INCOME,MONEY:-$18.2MN,RELATION:KV}']}, '37f4b5c979200ae38ead4819f433bf33844a073d': {'ORIGSENT': 'Net loss and non-GAAP net loss: GAAP net loss was $(36.8) million, compared to $(23.2) million for the first quarter of 2022.', 'KEY': 'Q1-2023', 'RELATION': ['{METRIC:GAAP NET INCOME,MONEY:-$36.8MN,RELATION:KV}']}, '257ea9d4416a914d1b754094bcd459baede88e2d': {'ORIGSENT': 'Non-GAAP net loss was $(19.7) million, compared to $(4.4) million for the first quarter of 2022.', 'KEY': 'Q1-2023', 'RELATION': ['{METRIC:NON-GAAP NET INCOME,MONEY:-$19.7MN,RELATION:KV}']}, '511a2567715d5b96c4fc423141982be160d68a73': {'ORIGSENT': 'Non-GAAP net loss per share was $(0.27), compared to the $(0.06) net loss per share for the first quarter of 2022.', 'KEY': 'Q1-2023', 'RELATION': ['{METRIC:EPS,MONEY:-$0.27,RELATION:KV}']}, '67ed8d465eab137cbf8aaf88a3689c8fe7ebd79f': {'ORIGSENT': 'Non-GAAP net loss per share is expected to be between $(0.46) and $(0.40), assuming weighted average common shares outstanding of 73.0 million.', 'KEY': 'Q1-2023', 'RELATION': ['{METRIC:EPS,MONEY:-$0.46,RANGEM1:-$0.4,RELATION:KVRANGE}']}, '046677b08d432a5220a3a54795dd233d5b8ab9f7': {'ORIGSENT': 'Non-GAAP net loss per share is expected to be between $(1.16) and $(1.09), assuming weighted average common shares outstanding of 73.2 million.', 'KEY': 'Q1-2023', 'RELATION': ['{METRIC:EPS,MONEY:-$1.16,RANGEM1:-$1.09,RELATION:KVRANGE}']}, 'c080795a95aed3af98f3bb25ee567cb91516f349': {'ORIGSENT': 'Adjusted EBITDA: Adjusted EBITDA loss was $(15.8) million, compared to adjusted EBITDA loss of $(3.4) million for the first quarter of 2022.', 'KEY': 'Q1-2023', 'RELATION': ['{METRIC:ADJUSTED EBITDA,MONEY:-$15.8MN,RELATION:KV}']}, '787b51fd56559e0ab3a303463cbb4ca499fd2967': {'ORIGSENT': 'Adjusted EBITDA loss is expected to be between $(30.0) million and $(26.0) million.', 'KEY': 'Q1-2023', 'RELATION': ['{METRIC:ADJUSTED EBITDA,MONEY:-$30.0MN,RANGEM1:-$26.0MN,RELATION:KVRANGE}']}, 'a309f8d1ee600355b1bfe50d6a1484436cd15a40': {'ORIGSENT': 'Adjusted EBITDA loss is expected to be between $(70.0) million and $(65.0) million.', 'KEY': 'Q1-2023', 'RELATION': ['{METRIC:ADJUSTED EBITDA,MONEY:-$70.0MN,RANGEM1:-$65.0MN,RELATION:KVRANGE}']}, '22c40b9dbe0838be51a9c50d2dff95c6e3652aa5': {'ORIGSENT': 'Balance sheet and cash flows: As of March 31, 2023, Appian had total cash, cash equivalents, and investments of $254.5 million.', 'KEY': 'Q1-2023', 'RELATION': ['{METRIC:CASH AND EQUIVALENTS,MONEY:$254.5MN,RELATION:KV}']}, '5810bb9ba8ec2a985b38688d7612cd75921d4562': {'ORIGSENT': 'Net cash used by operating activities was $(25.3) million for the three months ended March 31, 2023 compared to $(20.6) million of net cash used by operating activities for the same period in 2022.', 'KEY': 'Q1-2023', 'RELATION': ['{METRIC:OPERATING CASH FLOW,MONEY:-$25.3MN,RELATION:KV}']}, '2903eacc02b00552e4b424baab1018f38e2b51d3': {'ORIGSENT': 'GAAP Net Loss Per Share is $(0.47) in fourth quarter 2022 @@@', 'KEY': 'Q4-2022', 'RELATION': ['{METRIC:GAAP-EPS,MONEY:-$0.47,RELATION:KV}']}, 'fe08dacb484f67240375d8f8812f3527914b21dc': {'ORIGSENT': 'GAAP net loss per share was $(0.47) for the fourth quarter of 2022, compared to $(0.36) for the fourth quarter of 2021.', 'KEY': 'Q4-2022', 'RELATION': ['{METRIC:GAAP-EPS,MONEY:-$0.47,RELATION:KV}']}, 'c253c7402589bcf341d6aa9c3f0fc762f76b8c44': {'ORIGSENT': 'GAAP net loss per share was $(2.08) for the full year 2022, compared to $(1.25) for the full year 2021.', 'KEY': 'Q4-2022', 'RELATION': ['{METRIC:GAAP-EPS-FULLYEAR,MONEY:-$2.08,RELATION:KV}']}, 'fff61be20aad90ac1495d0794d899fab36573819': {'ORIGSENT': 'Cash And Cash Equivalents is $148132 T in fourth quarter 2022 @@@', 'KEY': 'Q4-2022', 'RELATION': ['{METRIC:CASH AND EQUIVALENTS,MONEY:$148MN,RELATION:KV}']}, '78e43cc246cd25d54fba72e3b4e383b6fb92ce3a': {'ORIGSENT': 'Balance sheet and cash flows: As of December 31, 2022, Appian had total cash, cash equivalents, and investments of $196.0 million.', 'KEY': 'Q4-2022', 'RELATION': ['{METRIC:CASH AND EQUIVALENTS-FULLYEAR,MONEY:$196.0MN,RELATION:KV}']}, 'dc71ba4515bf643736adbd65971172ce0ee178ce': {'ORIGSENT': 'GAAP Gross Profit is $90555 T in fourth quarter 2022 @@@', 'KEY': 'Q4-2022', 'RELATION': ['{METRIC:GAAP GROSS PROFIT,MONEY:$90.6MN,RELATION:KV}']}, '7c33dded0647d69ecd752a2d53ec455710ba6959': {'ORIGSENT': 'GAAP Gross Margin is 71.99% in fourth quarter 2022 @@@', 'KEY': 'Q4-2022', 'RELATION': ['{METRIC:GAAP GROSS MARGIN,PCT:71.99%,RELATION:KV}']}, '83645a520baf5bcf401c3e1b2034aed3f151dcd6': {'ORIGSENT': 'Full year cloud subscription revenue increased 32% year-over year to $236.9 million.', 'KEY': 'Q4-2022', 'RELATION': ['{METRIC:SUBSCRIPTION REVENUE-cloud-FULLYEAR,MONEY:$236.9MN,RELATION:KV}']}, '4e2fc76d4043abd8079f18db6ef2655ce822adfb': {'ORIGSENT': 'Revenue: Cloud subscription revenue was $65.8 million, up 29% compared to the fourth quarter of 2021.', 'KEY': 'Q4-2022', 'RELATION': ['{METRIC:SUBSCRIPTION REVENUE-Cloud,MONEY:$65.8MN,RELATION:KV}']}, '7e1813feeae4f6b2809919c597ac1107e3dfa581': {'ORIGSENT': 'Cloud subscription revenue is expected to be between $67.0 million and $69.0 million, representing year-over-year growth of 26% to 29%.', 'KEY': 'Q4-2022', 'RELATION': ['{METRIC:SUBSCRIPTION REVENUE-Cloud,MONEY:$67.0MN,RANGEM1:$69.0MN,RELATION:KVRANGE}']}, '5f105809cb37bcb446ebe9bb5927ddbd9eacb8df': {'ORIGSENT': 'Cloud subscription revenue is expected to be between $294.0 million and $296.0 million, representing year-over-year growth of 24% to 25%.', 'KEY': 'Q4-2022', 'RELATION': ['{METRIC:SUBSCRIPTION REVENUE-Cloud,MONEY:$294.0MN,RANGEM1:$296.0MN,RELATION:KVRANGE}']}, '48fa53da297be0d2c1110a87f4b367f99ace75f1': {'ORIGSENT': 'Total subscriptions revenue, increased 23% year-over-year to $93.2 million.', 'KEY': 'Q4-2022', 'RELATION': ['{METRIC:SUBSCRIPTIONS REVENUE,MONEY:$93.2MN,RELATION:KV}']}, 'ab73e8b98a0c9a1892d29fab65e4fa874cb6614e': {'ORIGSENT': 'Total subscriptions revenue increased 29% year-over-year to $340.2 million for the full year 2022.', 'KEY': 'Q4-2022', 'RELATION': ['{METRIC:SUBSCRIPTIONS REVENUE-FULLYEAR,MONEY:$340.2MN,RELATION:KV}']}, '5f64afea4e75dc7eea7f3d79e2fb8af8dfb9e6ba': {'ORIGSENT': 'Professional services revenue was $32.5 million, an increase of 11% compared to the fourth quarter of 2021.', 'KEY': 'Q4-2022', 'RELATION': ['{METRIC:PROFESSIONAL SERVICES REVENUE,MONEY:$32.5MN,RELATION:KV}']}, '5b61d94a9c45907511ab09f40f1b467e1e2f9d8d': {'ORIGSENT': 'Professional services revenue was $127.8 million for the full year 2022, compared to $105.5 million for the full year 2021.', 'KEY': 'Q4-2022', 'RELATION': ['{METRIC:PROFESSIONAL SERVICES REVENUE-FULLYEAR,MONEY:$127.8MN,RELATION:KV}']}, 'd6220e12b4d959942c8695344f0aa19294ef3bab': {'ORIGSENT': 'Total revenue was $125.8 million, up 20% compared to the fourth quarter of 2021.', 'KEY': 'Q4-2022', 'RELATION': ['{METRIC:REVENUE,MONEY:$125.8MN,RELATION:KV}']}, '1aec2fce8c46811f27dcf2d20500e89df4123218': {'ORIGSENT': 'Total revenue was $468.0 million for the full year 2022, up 27% compared to the full year 2021.', 'KEY': 'Q4-2022', 'RELATION': ['{METRIC:REVENUE-FULLYEAR,MONEY:$468.0MN,RELATION:KV}']}, '6479c799a9f086e569c64f53d2c244e305288ddd': {'ORIGSENT': 'Total revenue is expected to be between $130.0 million and $132.0 million, representing a year-over-year increase of 14% to 16%.', 'KEY': 'Q4-2022', 'RELATION': ['{METRIC:REVENUE,MONEY:$130.0MN,RANGEM1:$132.0MN,RELATION:KVRANGE}']}, 'd484955adb8b0b50bf17c75b38c74f8f21754f79': {'ORIGSENT': 'Total revenue is expected to be between $530.0 million and $535.0 million, representing a year-over-year increase of 13% to 14%.', 'KEY': 'Q4-2022', 'RELATION': ['{METRIC:REVENUE,MONEY:$530.0MN,RANGEM1:$535.0MN,RELATION:KVRANGE}']}, '090da4fcff54754104142a16ed2499999648a06b': {'ORIGSENT': 'Cloud subscription revenue retention rate was 115% as of December 31, 2022.', 'KEY': 'Q4-2022', 'RELATION': ['{METRIC:NET DOLLAR EXPANSION,PCT:115.0%,RELATION:KV}']}, '96aed0cb96d9eb90b86036d13a9612457b767d57': {'ORIGSENT': 'Operating loss and non-GAAP operating loss: GAAP operating loss was $(40.6) million, compared to $(25.9) million for the fourth quarter of 2021.', 'KEY': 'Q4-2022', 'RELATION': ['{METRIC:GAAP OPERATING INCOME,MONEY:-$40.6MN,RELATION:KV}']}, '506b5d5db24d4a8876f83263752f6a7f6cffee23': {'ORIGSENT': 'Operating loss and non-GAAP operating loss: GAAP operating loss was $(145.0) million for the full year 2022, compared to $(83.9) million for the full year 2021.', 'KEY': 'Q4-2022', 'RELATION': ['{METRIC:GAAP OPERATING INCOME-FULLYEAR,MONEY:-$145.0MN,RELATION:KV}']}, '31d693671a8d717e05fc1f76cd231c5fb6457fb3': {'ORIGSENT': 'Non-GAAP operating loss was $(26.8) million, compared to $(11.7) million for the fourth quarter of 2021.', 'KEY': 'Q4-2022', 'RELATION': ['{METRIC:NON-GAAP OPERATING INCOME,MONEY:-$26.8MN,RELATION:KV}']}, '00642abaedec9069d4a41e825076476c861a4ed3': {'ORIGSENT': 'Non-GAAP operating loss was $(83.3) million for the full year 2022, compared to $(43.7) million for the full year 2021.', 'KEY': 'Q4-2022', 'RELATION': ['{METRIC:NON-GAAP OPERATING INCOME-FULLYEAR,MONEY:-$83.3MN,RELATION:KV}']}, 'e4542a04bcb8d6c8dc4d32a12d3c37628f2ade18': {'ORIGSENT': 'Net loss and non-GAAP net loss: GAAP net loss was $(34.4) million, compared to $(25.8) million for the fourth quarter of 2021.', 'KEY': 'Q4-2022', 'RELATION': ['{METRIC:GAAP NET INCOME,MONEY:-$34.4MN,RELATION:KV}']}, '24a47264abe1a91dc188d38464d96d90de96a076': {'ORIGSENT': 'Net loss and non-GAAP net loss: GAAP net loss was $(150.9) million for the full year 2022, compared to $(88.6) million for the full year 2021.', 'KEY': 'Q4-2022', 'RELATION': ['{METRIC:GAAP NET INCOME-FULLYEAR,MONEY:-$150.9MN,RELATION:KV}']}, '16569b72f6450311f87af42da502fe1473ddc7b3': {'ORIGSENT': 'Non-GAAP net loss was $(20.6) million, compared to $(11.6) million for the fourth quarter of 2021.', 'KEY': 'Q4-2022', 'RELATION': ['{METRIC:NON-GAAP NET INCOME,MONEY:-$20.6MN,RELATION:KV}']}, 'dc6a5636722f94635b4daedaab391a6601630198': {'ORIGSENT': 'Non-GAAP net loss was $(89.2) million for the full year 2022, compared to $(48.3) million for the full year 2021.', 'KEY': 'Q4-2022', 'RELATION': ['{METRIC:NON-GAAP NET INCOME-FULLYEAR,MONEY:-$89.2MN,RELATION:KV}']}, '2f66cf7ede3e0626be134eabe58f568803de87b2': {'ORIGSENT': 'Non-GAAP net loss per share was $(0.28), compared to the $(0.16) net loss per share for the fourth quarter of 2021.', 'KEY': 'Q4-2022', 'RELATION': ['{METRIC:EPS,MONEY:-$0.28,RELATION:KV}']}, '73ba3dd727ad46adff6811626ff5e3161ea59c9e': {'ORIGSENT': 'Non-GAAP net loss per share was $(1.23) for the full year 2022, compared to the $(0.68) net loss per share for the full year 2021.', 'KEY': 'Q4-2022', 'RELATION': ['{METRIC:EPS-FULLYEAR,MONEY:-$1.23,RELATION:KV}']}, '9973f33f8046924cfa859d3ee13395d4c0829a41': {'ORIGSENT': 'Non-GAAP net loss per share is expected to be between $(0.33) and $(0.27), assuming weighted average common shares outstanding of 72.8 million.', 'KEY': 'Q4-2022', 'RELATION': ['{METRIC:EPS,MONEY:-$0.33,RANGEM1:-$0.27,RELATION:KVRANGE}']}, '2896247ebc46ae52369a62126c075d5476e2ca9c': {'ORIGSENT': 'Non-GAAP net loss per share is expected to be between $(1.14) and $(1.07), assuming weighted average common shares outstanding of 73.2 million.', 'KEY': 'Q4-2022', 'RELATION': ['{METRIC:EPS,MONEY:-$1.14,RANGEM1:-$1.07,RELATION:KVRANGE}']}, '1fc8fc22089979c7c6adabf323f2aac805e93ab8': {'ORIGSENT': 'GAAP and non-GAAP net loss for the fourth quarter of 2022 included $8.5 million, or $0.12 per share, of foreign currency exchange gains.', 'KEY': 'Q4-2022', 'RELATION': ['{METRIC:NON-GAAP PER SHARE FOREIGN CURRENCY EXCHANGE NET INCOME,MONEY:-$8.5MN,RELATION:KV}']}, '9e6c5c3ecdb99d16dd1988b6cfc92be0c9a06d0f': {'ORIGSENT': 'Adjusted EBITDA: Adjusted EBITDA loss was $(24.8) million, compared to adjusted EBITDA loss of $(10.0) million for the fourth quarter of 2021.', 'KEY': 'Q4-2022', 'RELATION': ['{METRIC:ADJUSTED EBITDA,MONEY:-$24.8MN,RELATION:KV}']}, '3cf166013ea4786a0867d9d7638dd6d882443f2e': {'ORIGSENT': 'Adjusted EBITDA : Adjusted EBITDA loss was $(76.0) million for the full year 2022, compared to adjusted EBITDA loss of $(37.9) million for the full year 2021.', 'KEY': 'Q4-2022', 'RELATION': ['{METRIC:ADJUSTED EBITDA-FULLYEAR,MONEY:-$76.0MN,RELATION:KV}']}, '3e00dcfad7a050c56618bb8b7f2ba6727d02b9b2': {'ORIGSENT': 'Adjusted EBITDA loss is expected to be between $(21.0) million and $(17.0) million.', 'KEY': 'Q4-2022', 'RELATION': ['{METRIC:ADJUSTED EBITDA,MONEY:-$21.0MN,RANGEM1:-$17.0MN,RELATION:KVRANGE}']}, '6640ec327d3c232ee3b6a1373598df4957791148': {'ORIGSENT': 'Adjusted EBITDA loss is expected to be between $(75.0) million and $(70.0) million.', 'KEY': 'Q4-2022', 'RELATION': ['{METRIC:ADJUSTED EBITDA,MONEY:-$75.0MN,RANGEM1:-$70.0MN,RELATION:KVRANGE}']}, 'd564a5b30327a688a5b2ae5e02396b5a20cf213b': {'ORIGSENT': 'Cash flows : Net cash used in operating activities was $(12.6) million for the three months ended December 31, 2022 compared to $(19.4) million of net cash used in operating activities for the same period in 2021.', 'KEY': 'Q4-2022', 'RELATION': ['{METRIC:OPERATING CASH FLOW,MONEY:-$12.6MN,RELATION:KV}']}, 'd500888409dda4e4daa8ddb8057c853d07398851': {'ORIGSENT': 'Net cash used in operating activities was $(106.6) million for the full year 2022 compared to $(53.9) million of net cash used in operating activities for the full year in 2021.', 'KEY': 'Q4-2022', 'RELATION': ['{METRIC:OPERATING CASH FLOW-FULLYEAR,MONEY:-$106.6MN,RELATION:KV}']}, 'cd2f4cd7bc4a48ed98e2f94cddfd6db2d459c671': {'ORIGSENT': 'GAAP Net Loss Per Share is $(0.61) in third quarter 2022 @@@', 'KEY': 'Q3-2022', 'RELATION': ['{METRIC:GAAP-EPS,MONEY:-$0.61,RELATION:KV}']}, 'daf57e02cdcb91325a940efa823051a60b635693': {'ORIGSENT': 'GAAP net loss per share was $(0.61) for the third quarter of 2022, compared to $(0.36) for the third quarter of 2021.', 'KEY': 'Q3-2022', 'RELATION': ['{METRIC:GAAP-EPS,MONEY:-$0.61,RELATION:KV}']}, '422c3b0516d0ab50c374d26be37f7be7ad0f235e': {'ORIGSENT': 'Cash And Cash Equivalents is $51802 T in third quarter 2022 @@@', 'KEY': 'Q3-2022', 'RELATION': ['{METRIC:CASH AND EQUIVALENTS,MONEY:$92.7MN,RELATION:KV}']}, 'cdfbaffc49ca5b948e0918f889bdae82abdabb3d': {'ORIGSENT': 'Balance sheet and cash flows: As of September 30, 2022, Appian had total unencumbered cash and investments of $92.7 million.', 'KEY': 'Q3-2022', 'RELATION': ['{METRIC:CASH AND EQUIVALENTS,MONEY:$92.7MN,RELATION:KV}']}, 'f01a1c9d1605118f5a680a0f0db4acc0c0f01dc6': {'ORIGSENT': 'GAAP Gross Profit is $84116 T in third quarter 2022 @@@', 'KEY': 'Q3-2022', 'RELATION': ['{METRIC:GAAP GROSS PROFIT,MONEY:$84.1MN,RELATION:KV}']}, 'cff5e1e970f6952209b3bd5735baaad9abba4c6e': {'ORIGSENT': 'GAAP Gross Margin is 71.36% in third quarter 2022 @@@', 'KEY': 'Q3-2022', 'RELATION': ['{METRIC:GAAP GROSS MARGIN,PCT:71.36%,RELATION:KV}']}, '06eeaceaf33b5779447f06663778d1601d14175c': {'ORIGSENT': 'Revenue: Cloud subscription revenue was $60.6 million, up 30% compared to the third quarter of 2021.', 'KEY': 'Q3-2022', 'RELATION': ['{METRIC:SUBSCRIPTION REVENUE-Cloud,MONEY:$60.6MN,RELATION:KV}']}, 'fdab4ec513151caed43f037edd188fed72d40838': {'ORIGSENT': 'Cloud subscription revenue is expected to be between $63.5 million and $64.5 million, representing year-over-year growth of 24% to 26%.', 'KEY': 'Q3-2022', 'RELATION': ['{METRIC:SUBSCRIPTION REVENUE-Cloud,MONEY:$63.5MN,RANGEM1:$64.5MN,RELATION:KVRANGE}']}, 'bea9f6a879c5488a3894fcb50c715d5b81f98dc4': {'ORIGSENT': 'Cloud subscription revenue is expected to be between $235.0 million and $236.0 million, representing year-over-year growth of 31% to 32%.', 'KEY': 'Q3-2022', 'RELATION': ['{METRIC:SUBSCRIPTION REVENUE-Cloud,MONEY:$235.0MN,RANGEM1:$236.0MN,RELATION:KVRANGE}']}, '2532a8b64903dab424b497ed733e2eff5560486a': {'ORIGSENT': 'Total subscriptions revenue increased 29% year-over-year to $86.5 million.', 'KEY': 'Q3-2022', 'RELATION': ['{METRIC:SUBSCRIPTIONS REVENUE,MONEY:$86.5MN,RELATION:KV}']}, 'f7aaed835763eaea8c779ea116c5646abe4a9398': {'ORIGSENT': 'Professional services revenue was $31.4 million, an increase of 25% compared to the third quarter of 2021.', 'KEY': 'Q3-2022', 'RELATION': ['{METRIC:PROFESSIONAL SERVICES REVENUE,MONEY:$31.4MN,RELATION:KV}']}, '5cf51f1aee4859deed26a0611953ac28414e21a8': {'ORIGSENT': 'Total revenue was $117.9 million, up 28% compared to the third quarter of 2021.', 'KEY': 'Q3-2022', 'RELATION': ['{METRIC:REVENUE,MONEY:$117.9MN,RELATION:KV}']}, '31304028be20a2d8a20202c7894e7a3472e0ccfc': {'ORIGSENT': 'Total revenue is expected to be between $121.5 million and $123.5 million, representing a year-over-year increase of 16% to 18%.', 'KEY': 'Q3-2022', 'RELATION': ['{METRIC:REVENUE,MONEY:$121.5MN,RANGEM1:$123.5MN,RELATION:KVRANGE}']}, 'b9f393fdd421f0e12e43066db50fc09f85683910': {'ORIGSENT': 'Total revenue is expected to be between $461.0 million and $466.0 million, representing a year-over-year increase of 25% to 26%.', 'KEY': 'Q3-2022', 'RELATION': ['{METRIC:REVENUE,MONEY:$461.0MN,RANGEM1:$466.0MN,RELATION:KVRANGE}']}, '5d316a2a20217babe4c8b44b618f119b29f3d75c': {'ORIGSENT': 'Cloud subscription revenue retention rate was 115% as of September 30, 2022.', 'KEY': 'Q3-2022', 'RELATION': ['{METRIC:NET DOLLAR EXPANSION,PCT:115.0%,RELATION:KV}']}, 'ccf286bd52ca3e20ac271cc37a4ee2a78291cb67': {'ORIGSENT': 'Operating loss and non-GAAP operating loss: GAAP operating loss was $(37.8) million, compared to $(22.9) million for the third quarter of 2021.', 'KEY': 'Q3-2022', 'RELATION': ['{METRIC:GAAP OPERATING INCOME,MONEY:-$37.8MN,RELATION:KV}']}, '971da453a4a7f48aad7255d7aaf7bd77927088d7': {'ORIGSENT': 'Non-GAAP operating loss was $(24.6) million, compared to $(13.5) million for the third quarter of 2021.', 'KEY': 'Q3-2022', 'RELATION': ['{METRIC:NON-GAAP OPERATING INCOME,MONEY:-$24.6MN,RELATION:KV}']}, 'b019becd36551e8109a040b2ddb575631039e56b': {'ORIGSENT': 'Net loss and non-GAAP net loss: GAAP net loss was $(44.0) million, compared to $(25.4) million for the third quarter of 2021.', 'KEY': 'Q3-2022', 'RELATION': ['{METRIC:GAAP NET INCOME,MONEY:-$44.0MN,RELATION:KV}']}, 'b57c7fd605131fc72d725e3927430783199dced1': {'ORIGSENT': 'Non-GAAP net loss was $(30.9) million, compared to $(15.9) million for the third quarter of 2021.', 'KEY': 'Q3-2022', 'RELATION': ['{METRIC:NON-GAAP NET INCOME,MONEY:-$30.9MN,RELATION:KV}']}, 'b8d0d44bd566150125d0ed8f9fc29e34c432e906': {'ORIGSENT': 'Non-GAAP net loss per share was $(0.43), compared to the $(0.22) net loss per share for the third quarter of 2021.', 'KEY': 'Q3-2022', 'RELATION': ['{METRIC:EPS,MONEY:-$0.43,RELATION:KV}']}, '2309b939695ae088f8e7a9c4af6f81d67ba11fee': {'ORIGSENT': 'Non-GAAP net loss per share is expected to be between $(0.36) and $(0.42), assuming weighted average common shares outstanding of 72.7 million.', 'KEY': 'Q3-2022', 'RELATION': ['{METRIC:EPS,MONEY:-$0.36,RANGEM1:-$0.42,RELATION:KVRANGE}']}, '751ff694db40f3a6f76c325d26af23d7b00d7754': {'ORIGSENT': 'Non-GAAP net loss per share is expected to be between $(1.30) and $(1.36), assuming weighted average common shares outstanding of 72.5 million.', 'KEY': 'Q3-2022', 'RELATION': ['{METRIC:EPS,MONEY:-$1.3,RANGEM1:-$1.36,RELATION:KVRANGE}']}, '14463289390b05eadceae0a1e71b98283f4b3c47': {'ORIGSENT': 'Adjusted EBITDA: Adjusted EBITDA loss was $(22.9) million, compared to adjusted EBITDA loss of $(12.0) million for the third quarter of 2021.', 'KEY': 'Q3-2022', 'RELATION': ['{METRIC:ADJUSTED EBITDA,MONEY:-$22.9MN,RELATION:KV}']}, 'a544eaa63a0b13b4153dfbdba9f3f6b5e41212d9': {'ORIGSENT': 'Adjusted EBITDA loss is expected to be between $(24.0) million and $(29.0) million.', 'KEY': 'Q3-2022', 'RELATION': ['{METRIC:ADJUSTED EBITDA,MONEY:-$24.0MN,RANGEM1:-$29.0MN,RELATION:KVRANGE}']}, 'fffd1c94fb75e2d78f4418b719922aaf05bc77ba': {'ORIGSENT': 'Adjusted EBITDA loss is expected to be between $(75.0) million and $(80.0) million.', 'KEY': 'Q3-2022', 'RELATION': ['{METRIC:ADJUSTED EBITDA,MONEY:-$75.0MN,RANGEM1:-$80.0MN,RELATION:KVRANGE}']}, '08b7860e4c7c73f2872fc8c1c32312b46e76195f': {'ORIGSENT': 'Net cash used in operating activities was $(43.7) million for the three months ended September 30, 2022 compared to $(25.1) million of net cash used in operating activities for the same period in 2021.', 'KEY': 'Q3-2022', 'RELATION': ['{METRIC:OPERATING CASH FLOW,MONEY:-$43.7MN,RELATION:KV}']}, 'd668bf763f9718ecf6c04f85c009b4184c406582': {'ORIGSENT': 'GAAP Net Loss Per Share is $(0.68) in second quarter 2022 @@@', 'KEY': 'Q2-2022', 'RELATION': ['{METRIC:GAAP-EPS,MONEY:-$0.68,RELATION:KV}']}, '86aa27979388c9df28d3005be03664219962fe54': {'ORIGSENT': 'GAAP net loss per share was $(0.68) for the second quarter of 2022, compared to $(0.34) for the second quarter of 2021.', 'KEY': 'Q2-2022', 'RELATION': ['{METRIC:GAAP-EPS,MONEY:-$0.68,RELATION:KV}']}, 'c3030c76201c61a2cda0bf2986188f2a504f46ad': {'ORIGSENT': 'Cash And Cash Equivalents is $76185 T in second quarter 2022 @@@', 'KEY': 'Q2-2022', 'RELATION': ['{METRIC:CASH AND EQUIVALENTS,MONEY:$138.0MN,RELATION:KV}']}, '2bfe9d5554109bb7b0ec6be77ced537f0e50bca1': {'ORIGSENT': 'Balance sheet and cash flows: As of June 30, 2022, Appian had total cash and investments of $138.0 million.', 'KEY': 'Q2-2022', 'RELATION': ['{METRIC:CASH AND EQUIVALENTS,MONEY:$138.0MN,RELATION:KV}']}, 'e09ab4d3bfc8d5bc8b9c4a853e0fdae92117e18f': {'ORIGSENT': 'GAAP Gross Profit is $76770 T in second quarter 2022 @@@', 'KEY': 'Q2-2022', 'RELATION': ['{METRIC:GAAP GROSS PROFIT,MONEY:$76.8MN,RELATION:KV}']}, '4a559f0e5dd0641adf51c533f435487158293e65': {'ORIGSENT': 'GAAP Gross Margin is 69.75% in second quarter 2022 @@@', 'KEY': 'Q2-2022', 'RELATION': ['{METRIC:GAAP GROSS MARGIN,PCT:69.75%,RELATION:KV}']}, '0335135a3ac7f8aa7ef912cc465a85812e257dad': {'ORIGSENT': 'Revenue: Cloud subscription revenue was $57.1 million for the second quarter of 2022, up 34% compared to the second quarter of 2021.', 'KEY': 'Q2-2022', 'RELATION': ['{METRIC:SUBSCRIPTION REVENUE-Cloud,MONEY:$57.1MN,RELATION:KV}']}, '54024601527f4cc38c6c14fabcd9cff00235e5ba': {'ORIGSENT': 'Cloud subscription revenue is expected to be between $60.8 million and $61.3 million, representing year-over-year growth of 30% to 31%.', 'KEY': 'Q2-2022', 'RELATION': ['{METRIC:SUBSCRIPTION REVENUE-Cloud,MONEY:$60.8MN,RANGEM1:$61.3MN,RELATION:KVRANGE}']}, '85c96f73b3da7fe379d4dc65c7a167fdcd10a456': {'ORIGSENT': 'Cloud subscription revenue is expected to be between $236.0 million and $238.0 million, representing year-over-year growth of 32% to 33%.', 'KEY': 'Q2-2022', 'RELATION': ['{METRIC:SUBSCRIPTION REVENUE-Cloud,MONEY:$236.0MN,RANGEM1:$238.0MN,RELATION:KVRANGE}']}, '127f8adaaf2cf698a4459f64f246073ba97b590d': {'ORIGSENT': 'Total subscriptions revenue increased 35% year-over-year to $76.7 million.', 'KEY': 'Q2-2022', 'RELATION': ['{METRIC:SUBSCRIPTIONS REVENUE,MONEY:$76.7MN,RELATION:KV}']}, '2915821beda536def442688e10c3f5f6e88795de': {'ORIGSENT': 'Professional services revenue was $33.4 million, an increase of 28% compared to the second quarter of 2021.', 'KEY': 'Q2-2022', 'RELATION': ['{METRIC:PROFESSIONAL SERVICES REVENUE,MONEY:$33.4MN,RELATION:KV}']}, '40254f612ecb610270285dfddf7d53bd28bec014': {'ORIGSENT': 'Total revenue was $110.1 million, up 33% compared to the second quarter of 2021.', 'KEY': 'Q2-2022', 'RELATION': ['{METRIC:REVENUE,MONEY:$110.1MN,RELATION:KV}']}, '4902e18532a58ab1cc566578c3cee839f5698a74': {'ORIGSENT': 'Total revenue is expected to be between $115.0 million and $117.0 million, representing a year-over-year increase of 24% to 27%.', 'KEY': 'Q2-2022', 'RELATION': ['{METRIC:REVENUE,MONEY:$115.0MN,RANGEM1:$117.0MN,RELATION:KVRANGE}']}, '994fa12ef26955b61aa1faaaf4117352106d564f': {'ORIGSENT': 'Total revenue is expected to be between $466.0 million and $470.0 million, representing a year-over-year increase of 26% to 27%.', 'KEY': 'Q2-2022', 'RELATION': ['{METRIC:REVENUE,MONEY:$466.0MN,RANGEM1:$470.0MN,RELATION:KVRANGE}']}, '596282ff962fe64702520a494ee901f6378c16eb': {'ORIGSENT': 'Cloud subscription revenue retention rate was 116% as of June 30, 2022.', 'KEY': 'Q2-2022', 'RELATION': ['{METRIC:NET DOLLAR EXPANSION,PCT:116.0%,RELATION:KV}']}, 'c9f806740aecf0440814591fa146c5683a3df8d2': {'ORIGSENT': 'Operating loss and non-GAAP operating loss: GAAP operating loss was $(42.7) million, compared to $(24.6) million for the second quarter of 2021.', 'KEY': 'Q2-2022', 'RELATION': ['{METRIC:GAAP OPERATING INCOME,MONEY:-$42.7MN,RELATION:KV}']}, 'c0cb98e0780951f10f147a6bb302023ee2520926': {'ORIGSENT': 'Non-GAAP operating loss was $(26.8) million, compared to $(17.6) million for the second quarter of 2021.', 'KEY': 'Q2-2022', 'RELATION': ['{METRIC:NON-GAAP OPERATING INCOME,MONEY:-$26.8MN,RELATION:KV}']}, '26d7deccca6b9a8d461c8bd37cd3f130bca4f1de': {'ORIGSENT': 'Net loss and non-GAAP net loss: GAAP net loss was $(49.4) million, compared to $(23.8) million for the second quarter of 2021.', 'KEY': 'Q2-2022', 'RELATION': ['{METRIC:GAAP NET INCOME,MONEY:-$49.4MN,RELATION:KV}']}, 'b160388127c9c86780a63dbc13fdd952a0cc56a4': {'ORIGSENT': 'Non-GAAP net loss was $(33.4) million, compared to $(16.9) million for the second quarter of 2021.', 'KEY': 'Q2-2022', 'RELATION': ['{METRIC:NON-GAAP NET INCOME,MONEY:-$33.4MN,RELATION:KV}']}, '0302b72fa29589781fc14763ef8c359a1ca9aee1': {'ORIGSENT': 'Non-GAAP net loss per share was $(0.46) for the second quarter of 2022, compared to the $(0.24) net loss per share for the second quarter of 2021.', 'KEY': 'Q2-2022', 'RELATION': ['{METRIC:EPS,MONEY:-$0.46,RELATION:KV}']}, 'e81fdc7a206210cf0da446668f6e81b6bf823478': {'ORIGSENT': 'Non-GAAP net loss per share is expected to be between $(0.23) and $(0.20), assuming weighted average common shares outstanding of 72.5 million.', 'KEY': 'Q2-2022', 'RELATION': ['{METRIC:EPS,MONEY:-$0.23,RANGEM1:-$0.2,RELATION:KVRANGE}']}, '2c36d30e6c30dc66f26fecd4a78e2ba314447b56': {'ORIGSENT': 'Non-GAAP net loss per share is expected to be between $(0.91) and $(0.86), assuming weighted average common shares outstanding of 72.5 million.', 'KEY': 'Q2-2022', 'RELATION': ['{METRIC:EPS,MONEY:-$0.91,RANGEM1:-$0.86,RELATION:KVRANGE}']}, 'c964789702cb4e75b67f15015ae7b4d9fd165125': {'ORIGSENT': 'Adjusted EBITDA: Adjusted EBITDA loss was $(25.0) million, compared to adjusted EBITDA loss of $(16.3) million for the second quarter of 2021.', 'KEY': 'Q2-2022', 'RELATION': ['{METRIC:ADJUSTED EBITDA,MONEY:-$25.0MN,RELATION:KV}']}, '92894fbc0da7b12eb572b3e7d1b13811e95eb326': {'ORIGSENT': 'Adjusted EBITDA loss is expected to be between $(15.0) million and $(13.0) million.', 'KEY': 'Q2-2022', 'RELATION': ['{METRIC:ADJUSTED EBITDA,MONEY:-$15.0MN,RANGEM1:-$13.0MN,RELATION:KVRANGE}']}, 'a1194a049952847e4174b26309901d4100f4dd15': {'ORIGSENT': 'Adjusted EBITDA loss is expected to be between $(53.0) million and $(50.0) million.', 'KEY': 'Q2-2022', 'RELATION': ['{METRIC:ADJUSTED EBITDA,MONEY:-$53.0MN,RANGEM1:-$50.0MN,RELATION:KVRANGE}']}, '962449257416e8ce6e9933de7af0bc19665b8189': {'ORIGSENT': 'Net cash used in operating activities was $(29.7) million for the three months ended June 30, 2022 compared to $(6.6) million of net cash used in operating activities for the same period in 2021.', 'KEY': 'Q2-2022', 'RELATION': ['{METRIC:OPERATING CASH FLOW,MONEY:-$29.7MN,RELATION:KV}']}, '1d84b2ce3ff1b8c8513fd7a92d7652150176de96': {'ORIGSENT': 'GAAP and non-GAAP net loss for the second quarter of 2022 included $6.5 million, or $(0.09) per share, of foreign currency exchange losses.', 'KEY': 'Q2-2022', 'RELATION': ['{METRIC:NON-GAAP PER SHARE FOREIGN CURRENCY EXCHANGE INCOMEES NET INCOME,MONEY:-$6.5MN,RELATION:KV}']}}\n"
     ]
    }
   ],
   "source": [
    "sym = \"APPN\"\n",
    "entityFile = \"../../Summary/entities/\"+sym+\"-ENTITIES.json\"\n",
    "print(entityFile)\n",
    "#search = \"Q\\d+-[0-9][0-9][0-9][0-9]|ALL-[0-9][0-9][0-9][0-9]\"\n",
    "search = \"Q\\d+-[0-9][0-9][0-9][0-9]\"\n",
    "print(search)\n",
    "cnt = 0\n",
    "sentER = dict()\n",
    "with open(entityFile, encoding=\"utf-8\") as f:\n",
    "    entity = json.load(f)\n",
    "if(entity):\n",
    "    for key in entity[sym].keys():\n",
    "        if(re.search(search, key)):\n",
    "            if(\"ALL\" not in key):\n",
    "                cnt = cnt + 1\n",
    "            #if(cnt == 1):\n",
    "            #    continue\n",
    "            if(cnt > 5):\n",
    "                break\n",
    "            for ent in entity[sym][key]:\n",
    "                if(\"PREV\" not in ent and type(entity[sym][key][ent]) == dict and \"RELATION\" in entity[sym][key][ent] and len(entity[sym][key][ent][\"RELATION\"]) > 0):\n",
    "                    for r in entity[sym][key][ent][\"RELATION\"]:\n",
    "                        newent = ent.replace(\"-GUIDEFULL\",\"\")\n",
    "                        newent = newent.replace(\"-GUIDE\",\"\")\n",
    "                        newent = re.sub(\"-\"+search, \"\", newent)\n",
    "                        sent = r.split(\":::\")[2]\n",
    "                        sent = sent.strip()\n",
    "                        hexDig = getHash(sent)\n",
    "                        relation = \"{METRIC:\"+newent+\",\"\n",
    "                        if hexDig not in sentER:\n",
    "                            sentER[hexDig] = dict()\n",
    "                        else:\n",
    "                            if(\"RELATION\" in sentER[hexDig] and relation in sentER[hexDig][\"RELATION\"][0]):\n",
    "                                print(\"SAME RELATION \" + relation + \" ALREADY PRESENT FOR \" + sent)\n",
    "                                continue\n",
    "                        if(\"RTEXT-MONEY\" in entity[sym][key][ent] and \"RTEXT-RANGEM1\" in entity[sym][key][ent]):\n",
    "                            relation = relation + \"MONEY:\"+entity[sym][key][ent][\"RTEXT-MONEY\"]+\",RANGEM1:\"+entity[sym][key][ent][\"RTEXT-RANGEM1\"]+\",RELATION:KVRANGE}\"\n",
    "                        elif(\"RTEXT-CD\" in entity[sym][key][ent] and \"RTEXT-RANGEM1\" in entity[sym][key][ent]):\n",
    "                            relation = relation + \"CD:\"+entity[sym][key][ent][\"RTEXT-CD\"]+\",RANGEM1:\"+entity[sym][key][ent][\"RTEXT-RANGEM1\"]+\",RELATION:KVRANGE}\"\n",
    "                        elif(\"RTEXT-PCT\" in entity[sym][key][ent] and \"RTEXT-RANGEM1\" in entity[sym][key][ent]):\n",
    "                            relation = relation + \"PCT:\"+entity[sym][key][ent][\"RTEXT-PCT\"]+\",RANGEM1:\"+entity[sym][key][ent][\"RTEXT-RANGEM1\"]+\",RELATION:KVRANGE}\"\n",
    "                        elif(\"RTEXT-MONEY\" in entity[sym][key][ent]):\n",
    "                            relation = relation + \"MONEY:\"+entity[sym][key][ent][\"RTEXT-MONEY\"]+\",RELATION:KV}\"\n",
    "                        elif(\"RTEXT-CD\" in entity[sym][key][ent]):\n",
    "                            relation = relation + \"CD:\"+entity[sym][key][ent][\"RTEXT-CD\"]+\",RELATION:KV}\"\n",
    "                        elif(\"RTEXT-PCT\" in entity[sym][key][ent]):\n",
    "                            relation = relation + \"PCT:\"+entity[sym][key][ent][\"RTEXT-PCT\"]+\",RELATION:KV}\"\n",
    "                        #print(key, sent+\"\\t\"+relation, hexDig)\n",
    "                        sentER[hexDig][\"ORIGSENT\"] = sent\n",
    "                        sentER[hexDig][\"KEY\"] = key\n",
    "                        if(\"RELATION\" not in sentER[hexDig]):\n",
    "                            sentER[hexDig][\"RELATION\"] = list()\n",
    "                        sentER[hexDig][\"RELATION\"].append(relation)\n",
    "print(sentER)"
   ]
  },
  {
   "cell_type": "code",
   "execution_count": 2,
   "metadata": {},
   "outputs": [
    {
     "data": {
      "application/vnd.jupyter.widget-view+json": {
       "model_id": "7423f36f8d044262bb2013cfac2d7443",
       "version_major": 2,
       "version_minor": 0
      },
      "text/plain": [
       "Downloading:   0%|          | 0.00/662 [00:00<?, ?B/s]"
      ]
     },
     "metadata": {},
     "output_type": "display_data"
    },
    {
     "data": {
      "application/vnd.jupyter.widget-view+json": {
       "model_id": "36bba8477bc64ae0a812ab722ef30688",
       "version_major": 2,
       "version_minor": 0
      },
      "text/plain": [
       "Downloading:   0%|          | 0.00/2.92G [00:00<?, ?B/s]"
      ]
     },
     "metadata": {},
     "output_type": "display_data"
    },
    {
     "data": {
      "application/vnd.jupyter.widget-view+json": {
       "model_id": "06fa45eb4b414992acd89b7a04f4dc20",
       "version_major": 2,
       "version_minor": 0
      },
      "text/plain": [
       "Downloading:   0%|          | 0.00/2.48k [00:00<?, ?B/s]"
      ]
     },
     "metadata": {},
     "output_type": "display_data"
    },
    {
     "data": {
      "application/vnd.jupyter.widget-view+json": {
       "model_id": "300e837dc5a042149c336d2dac9c303d",
       "version_major": 2,
       "version_minor": 0
      },
      "text/plain": [
       "Downloading:   0%|          | 0.00/773k [00:00<?, ?B/s]"
      ]
     },
     "metadata": {},
     "output_type": "display_data"
    },
    {
     "data": {
      "application/vnd.jupyter.widget-view+json": {
       "model_id": "5bea489e104b4b79887d8cae5878d7d7",
       "version_major": 2,
       "version_minor": 0
      },
      "text/plain": [
       "Downloading:   0%|          | 0.00/2.31M [00:00<?, ?B/s]"
      ]
     },
     "metadata": {},
     "output_type": "display_data"
    },
    {
     "data": {
      "application/vnd.jupyter.widget-view+json": {
       "model_id": "cd0f93dc84a44ac08a2acdefec6b24a6",
       "version_major": 2,
       "version_minor": 0
      },
      "text/plain": [
       "Downloading:   0%|          | 0.00/2.15k [00:00<?, ?B/s]"
      ]
     },
     "metadata": {},
     "output_type": "display_data"
    }
   ],
   "source": [
    "model = AutoModelForSeq2SeqLM.from_pretrained(\"google/flan-t5-large\")\n",
    "tokenizer = AutoTokenizer.from_pretrained(\"google/flan-t5-large\")"
   ]
  },
  {
   "cell_type": "code",
   "execution_count": 3,
   "metadata": {},
   "outputs": [
    {
     "name": "stdout",
     "output_type": "stream",
     "text": [
      "['Toss the pasta with the sauce, then add the meat and toss again.']\n"
     ]
    }
   ],
   "source": [
    "inputs = tokenizer(\"A step by step recipe to make bolognese pasta:\", return_tensors=\"pt\")\n",
    "outputs = model.generate(**inputs)\n",
    "print(tokenizer.batch_decode(outputs, skip_special_tokens=True))"
   ]
  },
  {
   "cell_type": "code",
   "execution_count": 4,
   "metadata": {},
   "outputs": [
    {
     "name": "stdout",
     "output_type": "stream",
     "text": [
      "['Total revenue']\n"
     ]
    }
   ],
   "source": [
    "inputs = tokenizer(\"Get the Named entity from this sentence: Total revenue is expected to be between $115.0 million and $117.0 million, representing a year-over-year increase of 24% to 27%.\", return_tensors=\"pt\")\n",
    "outputs = model.generate(**inputs)\n",
    "print(tokenizer.batch_decode(outputs, skip_special_tokens=True))"
   ]
  },
  {
   "cell_type": "code",
   "execution_count": 5,
   "metadata": {},
   "outputs": [
    {
     "name": "stdout",
     "output_type": "stream",
     "text": [
      "['[Company]: Apple, [Founded]: 1976, [Founders]:']\n"
     ]
    }
   ],
   "source": [
    "advanced_ner = \"\"\"Microsoft Corporation is a company that makes computer software and video games. Bill Gates and Paul Allen founded the company in 1975 \n",
    "[Company]: Microsoft, [Founded]: 1975, [Founders]: Bill Gates, Paul Allen \n",
    " \n",
    "Amazon.com, Inc., known as Amazon , is an American online business and cloud computing company. It was founded on July 5, 1994 by Jeff Bezos \n",
    "[Company]: Amazon, [Founded]: 1994, [Founders]: Jeff Bezos \n",
    " \n",
    "Apple Inc. is a multinational company that makes personal computers, mobile devices, and software. Apple was started in 1976 by Steve Jobs and Steve Wozniak.\"\"\"\n",
    "inputs = tokenizer(advanced_ner, return_tensors=\"pt\")\n",
    "outputs = model.generate(**inputs)\n",
    "print(tokenizer.batch_decode(outputs, skip_special_tokens=True))"
   ]
  },
  {
   "cell_type": "code",
   "execution_count": 6,
   "metadata": {},
   "outputs": [
    {
     "name": "stdout",
     "output_type": "stream",
     "text": [
      "['\"Revenue is $503MN up 77% year over year [Metric]:']\n"
     ]
    }
   ],
   "source": [
    "report_ner = \"\"\"\"Revenue is $503MN up 77% year over year\n",
    "[Metric]: Revenue, [Money]: $503MN, [PCT]: 77%, [CALENDAR]: year over year\n",
    "\n",
    "Revenue is $603MN up 87% year over year\n",
    "[Metric]: Revenue, [Money]: $603MN, [PCT]: 87%, [CALENDAR]: year over year\n",
    "\n",
    "Revenue is $63MN down 12% year over year.\n",
    "\"\"\"\n",
    "inputs = tokenizer(report_ner, return_tensors=\"pt\")\n",
    "outputs = model.generate(**inputs)\n",
    "print(tokenizer.batch_decode(outputs, skip_special_tokens=True))"
   ]
  }
 ],
 "metadata": {
  "kernelspec": {
   "display_name": "Python 3",
   "language": "python",
   "name": "python3"
  },
  "language_info": {
   "codemirror_mode": {
    "name": "ipython",
    "version": 3
   },
   "file_extension": ".py",
   "mimetype": "text/x-python",
   "name": "python",
   "nbconvert_exporter": "python",
   "pygments_lexer": "ipython3",
   "version": "3.7.9"
  }
 },
 "nbformat": 4,
 "nbformat_minor": 4
}
