{
 "cells": [
  {
   "cell_type": "code",
   "execution_count": 1,
   "metadata": {},
   "outputs": [
    {
     "name": "stdout",
     "output_type": "stream",
     "text": [
      "['../../Summary/DATA/SENTAG/TRAIN\\\\APPN\\\\APPN_2022-05-06_EP_YH.txt', '../../Summary/DATA/SENTAG/TRAIN\\\\CFLT\\\\CFLT_2022-05-06_EP_YH.txt', '../../Summary/DATA/SENTAG/TRAIN\\\\PLTR\\\\PLTR_2022-05-09_EP_YH.txt', '../../Summary/DATA/SENTAG/TRAIN\\\\SNOW\\\\SNOW_2022-05-25_EP_YH.txt', '../../Summary/DATA/SENTAG/TRAIN\\\\TTD\\\\TTD_2022-05-10_EP_YH.txt', '../../Summary/DATA/SENTAG/TRAIN\\\\UPST\\\\UPST_2022-05-09_EP_YH.txt', '../../Summary/DATA/SENTAG/TRAIN\\\\ZI\\\\ZI_2022-02-15_EP.txt']\n",
      "../../Summary/DATA/SENTAG/TRAIN\\APPN\\APPN_2022-05-06_EP_YH.txt\n",
      "../../Summary/DATA/SENTAG/TRAIN\\CFLT\\CFLT_2022-05-06_EP_YH.txt\n",
      "../../Summary/DATA/SENTAG/TRAIN\\PLTR\\PLTR_2022-05-09_EP_YH.txt\n",
      "../../Summary/DATA/SENTAG/TRAIN\\SNOW\\SNOW_2022-05-25_EP_YH.txt\n",
      "../../Summary/DATA/SENTAG/TRAIN\\TTD\\TTD_2022-05-10_EP_YH.txt\n",
      "../../Summary/DATA/SENTAG/TRAIN\\UPST\\UPST_2022-05-09_EP_YH.txt\n",
      "../../Summary/DATA/SENTAG/TRAIN\\ZI\\ZI_2022-02-15_EP.txt\n",
      "{'PG': ['Appian Corporation.', 'First quarter cloud subscription revenue increased 37% year-over-year to $53.4 million.', 'MCLEAN, Va., May 05, 2022 (GLOBE NEWSWIRE) -- Appian (Nasdaq: APPN) today announced financial results for the first quarter ended March 31, 2022.', 'Appian Government Cloud received provisional authorization at Impact Level 5. Appian is one of the first companies to ever receive this authorization.', 'As of May 5, 2022, guidance for 2022 is as follows:.', 'Cloud subscription revenue is expected to be in the range of $55.8 million and $56.3 million, representing year-over-year growth of between 31% and 32%.', 'Adjusted EBITDA loss is expected to be in the range of $(53.0) million and $(50.0) million.', 'Customer count grew 86% year-over-year.', 'We are guiding to a base case of $470 million in revenue. There is a wide range of potential upside to our guidance, including those driven by our role in responding to developing geopolitical events.', 'Per long-term guidance policy, as provided by our Chief Executive Officer, Alex Karp, we continue to expect:.', 'Net revenue retention rate of 174%.', 'The following table summarizes our financial results for the first quarter of fiscal 2023:.', 'The following table summarizes our consolidated financial results for the quarters ended March 31, 2022 and 2021 ($ in millions, except per share amounts):.', 'Strong Customer Retention: Customer retention remained over 95% during the first quarter, as it has for the past eight consecutive years.', 'Expanded Partnerships:.', 'Launched OpenPath: Highlights include:.', 'Ability for publishers to integrate directly with The Trade Desk, allowing advertisers direct access to their inventory.', 'FORTUNE: Future 50 list.', 'Adweek Readers’ Choice: Best of Tech awards for both Demand Side Platform and Innovator of the Year categories.', 'Contribution Margin of approximately 45%.', 'Basic Weighted-Average Share Count of approximately 85.0 million shares.', 'ZoomInfo Announces Fourth Quarter and Full-Year 2021 Financial Results.', 'Net Income per share is $0.36 . Adjusted Net Income per share is $0.18 .', 'Based on information available as of February 15, 2022, ZoomInfo is issuing guidance for the first quarter and full-year 2022 as follows:.', 'Free cash flow was $174.6 million compared to $123.0 million in the same period last year.', 'Cash, cash equivalents, restricted cash and investments were $1,063.8 million at the end of the quarter.', 'The company has not reconciled its guidance of non-GAAP financial measures to the corresponding GAAP measures because stock-based compensation expense cannot be reasonably calculated or predicted at this time. Accordingly, a reconciliation has not been provided.'], 'CS': ['“We exceeded guidance and grew cloud subscription revenue by 37% in Q1. Our annual conference was well-attended and full of energy. We feel fortunate to have such a strong community around our low-code platform,” said Matt Calkins, CEO & Founder.', '\"Data streaming is gaining momentum and adoption as a foundational component to delivering real-time customer experiences and optimized operations,\" said Jay Kreps, co-founder and CEO, Confluent. \"With a best-in-class product and differentiated customer go-to-market model, Confluent continues to become the de facto way organizations start and scale their data in motion journey. This has driven 64% revenue growth year over year, a record number of net new customer additions and a fourth consecutive quarter with dollar-based net retention rate of greater than 130%.\".', '\"We delivered a strong first quarter exceeding the high end of our guidance on all metrics. RPO growth accelerated year over year and Confluent Cloud revenue grew 180% year over year, with a world-class dollar-based net retention rate for Confluent Cloud of greater than 150%,\" said Steffan Tomlinson, CFO, Confluent. \"Given our strong unit economics and continued momentum, we are raising our 2022 guidance, and we remain committed to driving high growth and annual improvement in both non-GAAP operating and free cash flow margin.\".', ' \"We delivered solid first-quarter results, growing revenue by 25% year-over-year and adding nearly 67,000 new customers, bringing our total global customer base to 1.24 million. We also bolstered our leadership team with key new hires who, together with our existing team, are ensuring we\\'re well-positioned to grow and scale our business,\" said Dan Springer, CEO of DocuSign. \"With over a billion users worldwide, the proven value of our products, and the significant opportunity we have ahead of us, we\\'re confident in our ability to successfully navigate the challenges of a dynamic global environment.\".'], 'SCHQ': ['First Quarter 2022 Financial Highlights:.', 'Q1 2022 Highlights.', 'Q1 2022 Financial Summary.', 'First Quarter Fiscal 2023 GAAP and Non-GAAP Results:.', 'First Quarter 2022 Financial Highlights:.', 'First Quarter 2022 Financial Highlights.', 'Fourth Quarter 2021 Financial Highlights:.', 'Third Quarter 2022 Financial Summary:.'], 'SCBQ': ['First Quarter 2022 Business Highlights:.', 'First Quarter and Recent Business Highlights:.', 'Recent Business and Operating Highlights:.', 'Operational and Other Financial Highlights.'], 'SCG': ['Financial Outlook:.', 'Financial Outlook For the second quarter and fiscal year 2022, Confluent expects:.', 'Outlook.', 'Financial Outlook:.', 'Financial Guidance:.', 'Financial Outlook.', 'Business Outlook:.'], 'GQ': ['Second Quarter 2022 Guidance:.', 'For Q2 2022:.', 'The following table summarizes our guidance for the second quarter of fiscal 2023:.', 'Second Quarter 2022 outlook summary:.', 'For the second quarter of 2022, Upstart expects:.', 'First Quarter 2021 Financial Guidance:.', 'First Quarter 2021 Financial Outlook:.'], 'GF': ['Full Year 2022 Guidance:.', 'For full year 2022, we continue to expect:.', 'The following table summarizes our guidance for the full-year fiscal 2023:.', 'For the full year 2022, Upstart now expects:.', 'Full Fiscal 2022 Financial Guidance:.'], 'ED': ['Conference Call Information', 'Forward-Looking Statements', 'Non-GAAP Financial Measures', 'About Confluent', 'Earnings Webcast.', 'First Quarter 2022 Financial Results Webcast and Conference Call Details.', 'Key Operating Metrics and Non-GAAP Financial Measures.', 'Conference Call and Webcast.', 'About Upstart.', 'Conference Call and Webcast Information:.'], 'SCHF': ['Full-Year 2021 Financial Highlights:.', 'Full-Year 2022 Financial Highlights:.', 'Fiscal 2023 Financial Highlights:.', 'Full Fiscal 2020 Financial Highlights:.']}\n"
     ]
    }
   ],
   "source": [
    "import glob\n",
    "sdir = \"../../Summary/DATA/SENTAG/TRAIN\"\n",
    "exclude = [\"TBLST***\", \"TBLET***\"]\n",
    "files = glob.glob(sdir+\"/*/*\")\n",
    "data = dict()\n",
    "print(files)\n",
    "for file in files:\n",
    "    print(file)\n",
    "    with open(file, encoding=\"utf-8\") as f:\n",
    "        for line in f:\n",
    "            l = line.strip()\n",
    "            if(l):\n",
    "                #print(l)\n",
    "                s = l.split(\" \")\n",
    "                #print(s)\n",
    "                if(\"***\" in s[0] and s[0] not in exclude):\n",
    "                    stag = (s[0].replace(\"***\",\"\"))\n",
    "                    #print(stag, \" \".join(s[1:]))\n",
    "                    ol = \" \".join(s[1:])\n",
    "                    if(stag not in data):\n",
    "                        data[stag] = list()\n",
    "                    data[stag].append(ol)\n",
    "print(data)"
   ]
  },
  {
   "cell_type": "code",
   "execution_count": null,
   "metadata": {},
   "outputs": [],
   "source": [
    "data = {\n",
    "    \"furniture\": [\"This text is about chairs.\",\n",
    "               \"Couches, benches and televisions.\",\n",
    "               \"I really need to get a new sofa.\"],\n",
    "    \"kitchen\": [\"There also exist things like fridges.\",\n",
    "                \"I hope to be getting a new stove today.\",\n",
    "                \"Do you also have some ovens.\"]\n",
    "}"
   ]
  },
  {
   "cell_type": "code",
   "execution_count": 2,
   "metadata": {},
   "outputs": [
    {
     "name": "stdout",
     "output_type": "stream",
     "text": [
      "Ignore MatMul due to non constant B: /[MatMul_68]\n",
      "Ignore MatMul due to non constant B: /[MatMul_73]\n",
      "Ignore MatMul due to non constant B: /[MatMul_162]\n",
      "Ignore MatMul due to non constant B: /[MatMul_167]\n",
      "Ignore MatMul due to non constant B: /[MatMul_256]\n",
      "Ignore MatMul due to non constant B: /[MatMul_261]\n",
      "Ignore MatMul due to non constant B: /[MatMul_350]\n",
      "Ignore MatMul due to non constant B: /[MatMul_355]\n",
      "Ignore MatMul due to non constant B: /[MatMul_444]\n",
      "Ignore MatMul due to non constant B: /[MatMul_449]\n",
      "Ignore MatMul due to non constant B: /[MatMul_538]\n",
      "Ignore MatMul due to non constant B: /[MatMul_543]\n",
      "Ignore MatMul due to non constant B: /[MatMul_632]\n",
      "Ignore MatMul due to non constant B: /[MatMul_637]\n",
      "Ignore MatMul due to non constant B: /[MatMul_726]\n",
      "Ignore MatMul due to non constant B: /[MatMul_731]\n",
      "Ignore MatMul due to non constant B: /[MatMul_820]\n",
      "Ignore MatMul due to non constant B: /[MatMul_825]\n",
      "Ignore MatMul due to non constant B: /[MatMul_914]\n",
      "Ignore MatMul due to non constant B: /[MatMul_919]\n",
      "Ignore MatMul due to non constant B: /[MatMul_1008]\n",
      "Ignore MatMul due to non constant B: /[MatMul_1013]\n",
      "Ignore MatMul due to non constant B: /[MatMul_1102]\n",
      "Ignore MatMul due to non constant B: /[MatMul_1107]\n"
     ]
    },
    {
     "data": {
      "text/plain": [
       "<classy_classification.classifiers.spacy_few_shot_external.classySpacyFewShotExternal at 0x1b4ed411588>"
      ]
     },
     "execution_count": 2,
     "metadata": {},
     "output_type": "execute_result"
    }
   ],
   "source": [
    "import spacy\n",
    "import torch\n",
    "import classy_classification\n",
    "\n",
    "#spacy.require_gpu()\n",
    "\n",
    "nlp = spacy.blank(\"en\")\n",
    "nlp.add_pipe(\n",
    "    \"text_categorizer\", \n",
    "    config={\n",
    "        \"data\": data, \n",
    "        \"model\": \"sentence-transformers/paraphrase-multilingual-MiniLM-L12-v2\",\n",
    "        \"device\": \"cpu\"\n",
    "    }\n",
    ")"
   ]
  },
  {
   "cell_type": "code",
   "execution_count": 3,
   "metadata": {},
   "outputs": [
    {
     "name": "stdout",
     "output_type": "stream",
     "text": [
      "{'CS': 0.024731463461550182, 'ED': 0.06546156929798198, 'GF': 0.01169655192077103, 'GQ': 0.009244040789155823, 'PG': 0.8434428182188571, 'SCBQ': 0.00687239388811216, 'SCG': 0.01833300622629232, 'SCHF': 0.0030880108158427, 'SCHQ': 0.01713014538143679}\n"
     ]
    }
   ],
   "source": [
    "print(nlp(\"ACB today announced result\")._.cats)"
   ]
  },
  {
   "cell_type": "code",
   "execution_count": 4,
   "metadata": {},
   "outputs": [
    {
     "name": "stdout",
     "output_type": "stream",
     "text": [
      "['../../Summary/DATA/SENTAG/TEST\\\\DOCU\\\\DOCU_2022-06-09_EP_YH.txt']\n",
      "../../Summary/DATA/SENTAG/TEST\\DOCU\\DOCU_2022-06-09_EP_YH.txt\n",
      "SAN FRANCISCO, June 9, 2022 /PRNewswire/ -- DocuSign, Inc. (NASDAQ: DOCU), which offers the world's #1 e-signature solution as part of the DocuSign Agreement Cloud, today announced results for its fiscal quarter ended April 30, 2022.\n",
      "{'CS': 0.08514374468161973, 'ED': 0.06237202060886682, 'GF': 0.052205159323809404, 'GQ': 0.05645446078519982, 'PG': 0.6162660020313627, 'SCBQ': 0.02466868304154807, 'SCG': 0.03946589733873822, 'SCHF': 0.02331765535312284, 'SCHQ': 0.040106376835732184}\n",
      "DocuSign, Inc. (PRNewsFoto/DocuSign, Inc.).\n",
      "{'CS': 0.06942525773382723, 'ED': 0.08650959586558003, 'GF': 0.016030208034685772, 'GQ': 0.03438594723645598, 'PG': 0.652157438928273, 'SCBQ': 0.05199567399606847, 'SCG': 0.055442789439201494, 'SCHF': 0.010001269127770562, 'SCHQ': 0.02405181963813714}\n",
      "\"We delivered solid first-quarter results, growing revenue by 25% year-over-year and adding nearly 67,000 new customers, bringing our total global customer base to 1.24 million. We also bolstered our leadership team with key new hires who, together with our existing team, are ensuring we're well-positioned to grow and scale our business,\" said Dan Springer, CEO of DocuSign. \"With over a billion users worldwide, the proven value of our products, and the significant opportunity we have ahead of us, we're confident in our ability to successfully navigate the challenges of a dynamic global environment.\".\n",
      "{'CS': 0.576500859882302, 'ED': 0.053294511446153985, 'GF': 0.04002901573761019, 'GQ': 0.04426462851150418, 'PG': 0.11682351213527337, 'SCBQ': 0.0520338024250707, 'SCG': 0.05439029242160626, 'SCHF': 0.02420668576821358, 'SCHQ': 0.03845669167226607}\n",
      "First Quarter Financial Highlights.\n",
      "{'CS': 0.024274339962626696, 'ED': 0.15296533992991812, 'GF': 0.010752529913173357, 'GQ': 0.06607814588784133, 'PG': 0.054376895934663834, 'SCBQ': 0.1934700811105407, 'SCG': 0.04421596822468664, 'SCHF': 0.04986452547012106, 'SCHQ': 0.4040021735664284}\n",
      "Total revenue was $588.7 million , an increase of 25% year-over-year. Subscription revenue was $569.3 million , an increase of 26% year-over-year. Professional services and other revenue was $19.4 million , an increase of 13% year-over-year.\n",
      "{'CS': 0.028581013204492894, 'ED': 0.020971552634658167, 'GF': 0.018621611498885363, 'GQ': 0.009615910675308625, 'PG': 0.8672885915485916, 'SCBQ': 0.015464839507932775, 'SCG': 0.012093789884701773, 'SCHF': 0.01153888732915342, 'SCHQ': 0.015823803716275456}\n",
      "Billings were $613.6 million , an increase of 16% year-over-year.\n",
      "{'CS': 0.05000923819047798, 'ED': 0.016839103212499842, 'GF': 0.033830037529875776, 'GQ': 0.009402465415782761, 'PG': 0.8394222208989779, 'SCBQ': 0.007946729129837708, 'SCG': 0.014398659359148048, 'SCHF': 0.011727942036075578, 'SCHQ': 0.01642360422732433}\n",
      "GAAP gross margin was 78% for both periods. Non-GAAP gross margin was 81% for both periods.\n",
      "{'CS': 0.0703877106224629, 'ED': 0.1296409868833219, 'GF': 0.03504198594620437, 'GQ': 0.10571158666400671, 'PG': 0.36218806899443423, 'SCBQ': 0.033199990090065676, 'SCG': 0.06425478399677259, 'SCHF': 0.02818930009872318, 'SCHQ': 0.17138558670400814}\n",
      "GAAP net loss per basic and diluted share was $0.14 on 200 million shares outstanding compared to $0 .04 on 194 million shares outstanding in the same period last year.\n",
      "{'CS': 0.028643299261587853, 'ED': 0.03520093018822797, 'GF': 0.009916835245880716, 'GQ': 0.01320251935389596, 'PG': 0.8189209562038408, 'SCBQ': 0.008275736972378, 'SCG': 0.014536163992154828, 'SCHF': 0.006660931861599624, 'SCHQ': 0.06464262692043453}\n",
      "Non-GAAP net income per diluted share was $0.38 on 206 million shares outstanding compared to $0 .44 on 208 million shares outstanding in the same period last year.\n",
      "{'CS': 0.03515743705526778, 'ED': 0.032663524515421975, 'GF': 0.017328241441796097, 'GQ': 0.021593103161465576, 'PG': 0.812633746539039, 'SCBQ': 0.008463196884690213, 'SCG': 0.02165613189927561, 'SCHF': 0.010782753358341264, 'SCHQ': 0.03972186514470225}\n",
      "Net cash provided by operating activities was $196.3 million compared to $135.6 million in the same period last year.\n",
      "{'CS': 0.02992656876155806, 'ED': 0.027565412231084815, 'GF': 0.01800577413061002, 'GQ': 0.010401876391002514, 'PG': 0.8524029421554296, 'SCBQ': 0.019961654026537382, 'SCG': 0.01514144267381382, 'SCHF': 0.012203632183935983, 'SCHQ': 0.014390697446027763}\n",
      "Free cash flow was $174.6 million compared to $123.0 million in the same period last year.\n",
      "{'CS': 0.035278140204699, 'ED': 0.02412744834210987, 'GF': 0.03076048208463193, 'GQ': 0.02061273182138782, 'PG': 0.8025509133232792, 'SCBQ': 0.01114671239402151, 'SCG': 0.023919729815438183, 'SCHF': 0.01764974158200316, 'SCHQ': 0.03395410043242946}\n",
      "Cash, cash equivalents, restricted cash and investments were $1,063.8 million at the end of the quarter.\n",
      "{'CS': 0.019913526417947074, 'ED': 0.04520946378511472, 'GF': 0.009161118564557693, 'GQ': 0.024087244413170006, 'PG': 0.8010466464350412, 'SCBQ': 0.020490956918298216, 'SCG': 0.029908645118506615, 'SCHF': 0.012712297217263597, 'SCHQ': 0.03747010113010019}\n",
      "A reconciliation of GAAP to non-GAAP financial measures has been provided in the tables included in this press release. An explanation of these measures is also included below under the heading \"Non-GAAP Financial Measures and Other Key Metrics.\".\n",
      "{'CS': 0.0199250610224827, 'ED': 0.13332459553400156, 'GF': 0.0199097092312469, 'GQ': 0.02526827452330914, 'PG': 0.6971913911658599, 'SCBQ': 0.01511895089728052, 'SCG': 0.01805163315311756, 'SCHF': 0.013455730130877794, 'SCHQ': 0.057754654341823856}\n",
      "Story continues.\n",
      "{'CS': 0.10482264255757932, 'ED': 0.34731672146870124, 'GF': 0.03012644283936968, 'GQ': 0.027485041737385005, 'PG': 0.30487505259298536, 'SCBQ': 0.04513341135883851, 'SCG': 0.05835268633743937, 'SCHF': 0.027790152957850853, 'SCHQ': 0.05409784814985056}\n",
      "Operational and Other Financial Highlights.\n",
      "{'CS': 0.031912398809302245, 'ED': 0.09447623586005466, 'GF': 0.020218326824058344, 'GQ': 0.04348181681934469, 'PG': 0.043323657005860855, 'SCBQ': 0.5063537551193682, 'SCG': 0.08531939368873755, 'SCHF': 0.10090796471068919, 'SCHQ': 0.07400645116258438}\n",
      "Executive Appointments. DocuSign appointed the following key new leaders:.\n",
      "{'CS': 0.23210657662877174, 'ED': 0.06222075735298346, 'GF': 0.04074974121915752, 'GQ': 0.04072623207088543, 'PG': 0.4758903457861088, 'SCBQ': 0.05409362986337985, 'SCG': 0.04624664815283752, 'SCHF': 0.01985010866185513, 'SCHQ': 0.028115960264020464}\n",
      "DocuSign CLM Essentials. DocuSign introduced CLM Essentials, a fast, easy and affordable way to get started with CLM. CLM Essentials makes contract management accessible to medium sized businesses and departments that are looking for a quick solution to help automate many of the most common agreement processes — such as document generation, collaboration, workflows and repository.\n",
      "{'CS': 0.09280100215924107, 'ED': 0.07180453565858277, 'GF': 0.018695941407400725, 'GQ': 0.02694123697481505, 'PG': 0.6818658706777344, 'SCBQ': 0.051118451766886855, 'SCG': 0.031117737356556006, 'SCHF': 0.00836665885927818, 'SCHQ': 0.01728856513950492}\n",
      "DocuSign Agreement Cloud 2022 Product Release 1. DocuSign announced many new product capabilities and enhancements with highlights in the following areas:.\n",
      "{'CS': 0.1159542118945286, 'ED': 0.024593988237361374, 'GF': 0.029162343758162918, 'GQ': 0.03571160077255691, 'PG': 0.7089830336640098, 'SCBQ': 0.03048479721123536, 'SCG': 0.01915461442501266, 'SCHF': 0.012150191809330566, 'SCHQ': 0.023805218227801635}\n",
      "Microsoft Partnership Expansion . On June 7, 2022 , DocuSign announced an expansion of its global strategic partnership with Microsoft to offer new DocuSign Agreement Cloud integrations and capabilities across Microsoft's business solutions. As part of the agreement, Microsoft and DocuSign will also expand the use of each other's products within their own organizations. Microsoft will adopt DocuSign's products and services, including DocuSign eSignature and CLM, to streamline select e-signature and contract management workflows.\n",
      "{'CS': 0.18400015451257937, 'ED': 0.03860781357843648, 'GF': 0.025324764231360868, 'GQ': 0.03456054609497198, 'PG': 0.6060575186640476, 'SCBQ': 0.041235287491345314, 'SCG': 0.04139619789312962, 'SCHF': 0.011821093072177867, 'SCHQ': 0.016996624461950813}\n",
      "Outlook.\n",
      "{'CS': 0.026842530343262148, 'ED': 0.09657152128127616, 'GF': 0.02171729226371465, 'GQ': 0.06576925864940766, 'PG': 0.07939771997608298, 'SCBQ': 0.030832152416469735, 'SCG': 0.654448040704865, 'SCHF': 0.01029674123701272, 'SCHQ': 0.014124743127908474}\n",
      "The company currently expects the following guidance:.\n"
     ]
    },
    {
     "name": "stdout",
     "output_type": "stream",
     "text": [
      "{'CS': 0.03200999413472751, 'ED': 0.031657134825834723, 'GF': 0.03714250022083589, 'GQ': 0.08921184464988056, 'PG': 0.5872917299370775, 'SCBQ': 0.05547652126303783, 'SCG': 0.14515482775043273, 'SCHF': 0.00848764424833252, 'SCHQ': 0.013567802969840734}\n",
      "TBLST***  .\n",
      "Quarter ending July 31, 2022 (in millions, except percentages): .\n",
      "{'CS': 0.031798415724267004, 'ED': 0.07084892466382488, 'GF': 0.06418134872523112, 'GQ': 0.0827367112309474, 'PG': 0.5321925229629881, 'SCBQ': 0.017297048038463395, 'SCG': 0.03222995620456096, 'SCHF': 0.035321934241202994, 'SCHQ': 0.13339313820851406}\n",
      "Total revenue $600MN   $604MN  .\n",
      "{'CS': 0.025155606372357274, 'ED': 0.06989103761206088, 'GF': 0.024450916953465393, 'GQ': 0.017213163757178417, 'PG': 0.7975572964630115, 'SCBQ': 0.013553768311320468, 'SCG': 0.02111281928219865, 'SCHF': 0.013509392832231246, 'SCHQ': 0.017555998416175774}\n",
      "Subscription revenue $583MN  $587MN\n",
      "{'CS': 0.02562122143395315, 'ED': 0.050955989898947146, 'GF': 0.008718522350201456, 'GQ': 0.03246578352953813, 'PG': 0.8249530069060317, 'SCBQ': 0.00971987742469047, 'SCG': 0.01702968127440348, 'SCHF': 0.005569230369209579, 'SCHQ': 0.02496668681302463}\n",
      "Billings $599MN  $609MN  .\n",
      "{'CS': 0.046512794379214586, 'ED': 0.3117577705748778, 'GF': 0.02397493665296594, 'GQ': 0.028762527475001364, 'PG': 0.4798910994066345, 'SCBQ': 0.020039550471485153, 'SCG': 0.02443160307161043, 'SCHF': 0.015338947991852304, 'SCHQ': 0.04929076997635766}\n",
      "Non-GAAP gross margin 79%  81% .\n",
      "{'CS': 0.055230760196328985, 'ED': 0.1346542231289758, 'GF': 0.020341832592599134, 'GQ': 0.05004698067893726, 'PG': 0.5849884005647844, 'SCBQ': 0.022009216663189946, 'SCG': 0.05053026218437943, 'SCHF': 0.012424584123756638, 'SCHQ': 0.0697737398670481}\n",
      "Non-GAAP operating margin 16%  18% .\n",
      "{'CS': 0.06133481712450001, 'ED': 0.04685410873216608, 'GF': 0.020144682869620664, 'GQ': 0.03758812956560828, 'PG': 0.686367277976584, 'SCBQ': 0.02388629267852768, 'SCG': 0.033979141370925954, 'SCHF': 0.014883427917217695, 'SCHQ': 0.07496212176484944}\n",
      "Non-GAAP diluted weighted - average shares outstanding 205MN   210MN  .\n",
      "{'CS': 0.05470958382594833, 'ED': 0.0540875226713677, 'GF': 0.03177277376220004, 'GQ': 0.04093003781487733, 'PG': 0.7208693676951915, 'SCBQ': 0.01079548106481688, 'SCG': 0.021444004360423114, 'SCHF': 0.014187534798907277, 'SCHQ': 0.051203694006267675}\n",
      "TBLET***  .\n",
      "TBLST***  .\n",
      "Total Revenue in Year Ending January 31, 2023 (in Millions, Except Percentages): is $2470 MN .\n",
      "{'CS': 0.05024285535009852, 'ED': 0.04936695684325167, 'GF': 0.10696727386542777, 'GQ': 0.03573176966072833, 'PG': 0.551204982976245, 'SCBQ': 0.021205230928773678, 'SCG': 0.02572870309814098, 'SCHF': 0.054650768472928116, 'SCHQ': 0.10490145880440527}\n",
      "Subscription Revenue in Year Ending January 31, 2023 (in Millions, Except Percentages): is $2394 MN .\n",
      "{'CS': 0.0486488459954638, 'ED': 0.04201357817512991, 'GF': 0.04713385165024355, 'GQ': 0.0414222292466062, 'PG': 0.663921769639852, 'SCBQ': 0.015630235314187606, 'SCG': 0.020887212925710833, 'SCHF': 0.022065025234565334, 'SCHQ': 0.09827725181824078}\n",
      "Billings in Year Ending January 31, 2023 (in Millions, Except Percentages): is $2521 MN .\n",
      "{'CS': 0.07499941513667037, 'ED': 0.04608196365070671, 'GF': 0.06410866692982992, 'GQ': 0.027763360235146795, 'PG': 0.6210427769630517, 'SCBQ': 0.014551741700709015, 'SCG': 0.019532010383517793, 'SCHF': 0.02870806780459019, 'SCHQ': 0.10321199719577742}\n",
      "Non-GAAP Gross Margin in Year Ending January 31, 2023 (in Millions, Except Percentages): is 79% .\n",
      "{'CS': 0.050591484121313986, 'ED': 0.08223829871615077, 'GF': 0.05336698879078193, 'GQ': 0.04013465419177676, 'PG': 0.6125408854364468, 'SCBQ': 0.015341716736429947, 'SCG': 0.033409945194218825, 'SCHF': 0.02408197662626545, 'SCHQ': 0.08829405018661544}\n",
      "Non-GAAP Operating Margin in Year Ending January 31, 2023 (in Millions, Except Percentages): is 16% .\n",
      "{'CS': 0.05762124716249494, 'ED': 0.059545915317893466, 'GF': 0.049396722881200755, 'GQ': 0.03944212229936633, 'PG': 0.6433199140210145, 'SCBQ': 0.014931865344393357, 'SCG': 0.027185217618832688, 'SCHF': 0.022162928153276362, 'SCHQ': 0.08639406720152816}\n",
      "Provision For Income Taxes in Year Ending January 31, 2023 (in Millions, Except Percentages): is $7 MN .\n",
      "{'CS': 0.03522222001509009, 'ED': 0.04811201226529127, 'GF': 0.1311629399032733, 'GQ': 0.02512740232375936, 'PG': 0.6595322020761204, 'SCBQ': 0.009873914810299866, 'SCG': 0.02165363245177825, 'SCHF': 0.02602813750013213, 'SCHQ': 0.04328753865425541}\n",
      "Non-GAAP Diluted Weighted-average Shares Outstanding in Year Ending January 31, 2023 (in Millions, Except Percentages): is $205 MN .\n",
      "{'CS': 0.03854731695030886, 'ED': 0.03238529067179733, 'GF': 0.03353598935541215, 'GQ': 0.02366310479299273, 'PG': 0.7624901590516345, 'SCBQ': 0.010600407584088235, 'SCG': 0.017539330284830828, 'SCHF': 0.017922692652228976, 'SCHQ': 0.06331570865670642}\n",
      "TBLET***  .\n",
      "The company has not reconciled its guidance of non-GAAP financial measures to the corresponding GAAP measures because stock-based compensation expense cannot be reasonably calculated or predicted at this time. Accordingly, a reconciliation has not been provided.\n",
      "{'CS': 0.017576899901893348, 'ED': 0.043496453511281216, 'GF': 0.01820476460921949, 'GQ': 0.03255044538991157, 'PG': 0.8067606993170363, 'SCBQ': 0.009517657826284337, 'SCG': 0.019752568086439593, 'SCHF': 0.009222872590216046, 'SCHQ': 0.0429176387677182}\n"
     ]
    }
   ],
   "source": [
    "tdir = \"../../Summary/DATA/SENTAG/TEST\"\n",
    "exclude = [\"TBLST***\", \"TBLET***\"]\n",
    "files = glob.glob(tdir+\"/*/*\")\n",
    "data = dict()\n",
    "print(files)\n",
    "for file in files:\n",
    "    print(file)\n",
    "    with open(file, encoding=\"utf-8\") as f1:\n",
    "        for line in f1:\n",
    "            l = line.strip()\n",
    "            if(l):\n",
    "                print(l)\n",
    "                s = l.split(\" \")\n",
    "                #print(s)\n",
    "                if(s[0] not in exclude):\n",
    "                    print(nlp(l)._.cats)"
   ]
  }
 ],
 "metadata": {
  "kernelspec": {
   "display_name": "Python 3",
   "language": "python",
   "name": "python3"
  },
  "language_info": {
   "codemirror_mode": {
    "name": "ipython",
    "version": 3
   },
   "file_extension": ".py",
   "mimetype": "text/x-python",
   "name": "python",
   "nbconvert_exporter": "python",
   "pygments_lexer": "ipython3",
   "version": "3.7.9"
  }
 },
 "nbformat": 4,
 "nbformat_minor": 4
}
