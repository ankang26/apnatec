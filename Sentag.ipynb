{
 "cells": [
  {
   "cell_type": "code",
   "execution_count": 1,
   "metadata": {},
   "outputs": [
    {
     "name": "stdout",
     "output_type": "stream",
     "text": [
      "['../../Summary/DATA/SENTAG/TRAIN\\\\APPN\\\\APPN_2022-05-06_EP_YH.txt', '../../Summary/DATA/SENTAG/TRAIN\\\\CFLT\\\\CFLT_2022-05-06_EP_YH.txt', '../../Summary/DATA/SENTAG/TRAIN\\\\PLTR\\\\PLTR_2022-05-09_EP_YH.txt', '../../Summary/DATA/SENTAG/TRAIN\\\\SNOW\\\\SNOW_2022-05-25_EP_YH.txt', '../../Summary/DATA/SENTAG/TRAIN\\\\TTD\\\\TTD_2022-05-10_EP_YH.txt', '../../Summary/DATA/SENTAG/TRAIN\\\\UPST\\\\UPST_2022-05-09_EP_YH.txt', '../../Summary/DATA/SENTAG/TRAIN\\\\ZI\\\\ZI_2022-02-15_EP.txt']\n",
      "../../Summary/DATA/SENTAG/TRAIN\\APPN\\APPN_2022-05-06_EP_YH.txt\n",
      "../../Summary/DATA/SENTAG/TRAIN\\CFLT\\CFLT_2022-05-06_EP_YH.txt\n",
      "../../Summary/DATA/SENTAG/TRAIN\\PLTR\\PLTR_2022-05-09_EP_YH.txt\n",
      "../../Summary/DATA/SENTAG/TRAIN\\SNOW\\SNOW_2022-05-25_EP_YH.txt\n",
      "../../Summary/DATA/SENTAG/TRAIN\\TTD\\TTD_2022-05-10_EP_YH.txt\n",
      "../../Summary/DATA/SENTAG/TRAIN\\UPST\\UPST_2022-05-09_EP_YH.txt\n",
      "../../Summary/DATA/SENTAG/TRAIN\\ZI\\ZI_2022-02-15_EP.txt\n",
      "{'PG': ['Appian Corporation.', 'First quarter cloud subscription revenue increased 37% year-over-year to $53.4 million.', 'MCLEAN, Va., May 05, 2022 (GLOBE NEWSWIRE) -- Appian (Nasdaq: APPN) today announced financial results for the first quarter ended March 31, 2022.', 'Appian Government Cloud received provisional authorization at Impact Level 5. Appian is one of the first companies to ever receive this authorization.', 'As of May 5, 2022, guidance for 2022 is as follows:.', 'Cloud subscription revenue is expected to be in the range of $55.8 million and $56.3 million, representing year-over-year growth of between 31% and 32%.', 'Adjusted EBITDA loss is expected to be in the range of $(53.0) million and $(50.0) million.', 'Customer count grew 86% year-over-year.', 'We are guiding to a base case of $470 million in revenue. There is a wide range of potential upside to our guidance, including those driven by our role in responding to developing geopolitical events.', 'Per long-term guidance policy, as provided by our Chief Executive Officer, Alex Karp, we continue to expect:.', 'Net revenue retention rate of 174%.', 'The following table summarizes our financial results for the first quarter of fiscal 2023:.', 'The following table summarizes our consolidated financial results for the quarters ended March 31, 2022 and 2021 ($ in millions, except per share amounts):.', 'Strong Customer Retention: Customer retention remained over 95% during the first quarter, as it has for the past eight consecutive years.', 'Expanded Partnerships:.', 'Launched OpenPath: Highlights include:.', 'Ability for publishers to integrate directly with The Trade Desk, allowing advertisers direct access to their inventory.', 'FORTUNE: Future 50 list.', 'Adweek Readers’ Choice: Best of Tech awards for both Demand Side Platform and Innovator of the Year categories.', 'Contribution Margin of approximately 45%.', 'Basic Weighted-Average Share Count of approximately 85.0 million shares.', 'ZoomInfo Announces Fourth Quarter and Full-Year 2021 Financial Results.', 'These statements are forward-looking and actual results may differ materially. Refer to the Forward-Looking Statements safe harbor below for information on the factors that could cause our actual results to differ materially from these forward-looking statements.', 'Cautionary Language Concerning Forward-Looking StatementsThis press release includes certain \"forward-looking statements\" within the meaning of the Private Securities Litigation Reform Act of 1995, including statements regarding management\\'s expectations of future financial and operational performance and operational expenditures, expected growth, and business outlook, including our financial guidance for the second fiscal quarter of and full year 2022; and statements regarding our positioning for future growth and market leadership; statements regarding expected market trends, future priorities and related investments, and opportunities. These forward-looking statements include, but are not limited to, plans, objectives, expectations and intentions and other statements contained in this press release that are not historical facts and statements identified by words such as \"expects,\" \"anticipates,\" \"intends,\" \"plans,\" \"believes,\" \"seeks,\" \"estimates\" or words of similar meaning. These forward-looking statements reflect our current views about our plans, intentions, expectations, strategies and prospects, which are based on the information currently available to us and on assumptions we have made. Although we believe that our plans, intentions, expectations, strategies and prospects as reflected in or suggested by those forward-looking statements are reasonable, we can give no assurance that the plans, intentions, expectations or strategies will be attained or achieved. Furthermore, actual results may differ materially from those described in the forward-looking statements and will be affected by a variety of risks and factors that are beyond our control including, without limitation, risks associated with our history of losses; our ability to retain existing customers and add new customers; the continued growth of the market for a CRM platform; our ability to differentiate our platform from competing products and technologies; our ability to manage our growth effectively to maintain our high level of service; our ability to maintain and expand relationships with our solutions partners; our ability to successfully recruit and retain highly-qualified personnel; the price volatility of our common stock; the impact of geo-political conflicts, inflation, macroeconomic instability, and the COVID-19 pandemic on our business, the broader economy, our workforce and operations, and our ability to forecast our future financial performance; and other risks set forth under the caption \"Risk Factors\" in our SEC filings. We assume no obligation to update any forward-looking statements contained in this document as a result of new information, future events or otherwise.', 'Revenue.', 'Strong growth of larger customers, with about 2,250 $100k+ ARR customers, up from 1,406 a year ago.', 'Net Income per share is $0.36 . Adjusted Net Income per share is $0.18 .', 'CrowdStrike is providing the following guidance for the second quarter of fiscal 2023 (ending July 31, 2022) and increasing its guidance for fiscal year 2023 (ending January 31, 2023):.', 'Based on information available as of February 15, 2022, ZoomInfo is issuing guidance for the first quarter and full-year 2022 as follows:.', 'GAAP gross margin was 78% for both periods. Non-GAAP gross margin was 81% for both periods.', 'Free cash flow was $174.6 million compared to $123.0 million in the same period last year.', 'Cash, cash equivalents, restricted cash and investments were $1,063.8 million at the end of the quarter.', 'Welcomed human resources and organizational development executive, Michael DeAngelo, as our Chief People Officer.', 'Story continues.', 'The company has not reconciled its guidance of non-GAAP financial measures to the corresponding GAAP measures because stock-based compensation expense cannot be reasonably calculated or predicted at this time. Accordingly, a reconciliation has not been provided.'], 'CS': ['“We exceeded guidance and grew cloud subscription revenue by 37% in Q1. Our annual conference was well-attended and full of energy. We feel fortunate to have such a strong community around our low-code platform,” said Matt Calkins, CEO & Founder.', '\"Data streaming is gaining momentum and adoption as a foundational component to delivering real-time customer experiences and optimized operations,\" said Jay Kreps, co-founder and CEO, Confluent. \"With a best-in-class product and differentiated customer go-to-market model, Confluent continues to become the de facto way organizations start and scale their data in motion journey. This has driven 64% revenue growth year over year, a record number of net new customer additions and a fourth consecutive quarter with dollar-based net retention rate of greater than 130%.\".', '\"We delivered a strong first quarter exceeding the high end of our guidance on all metrics. RPO growth accelerated year over year and Confluent Cloud revenue grew 180% year over year, with a world-class dollar-based net retention rate for Confluent Cloud of greater than 150%,\" said Steffan Tomlinson, CFO, Confluent. \"Given our strong unit economics and continued momentum, we are raising our 2022 guidance, and we remain committed to driving high growth and annual improvement in both non-GAAP operating and free cash flow margin.\".', '\"We delivered solid first-quarter results, growing revenue by 25% year-over-year and adding nearly 67,000 new customers, bringing our total global customer base to 1.24 million. We also bolstered our leadership team with key new hires who, together with our existing team, are ensuring we\\'re well-positioned to grow and scale our business,\" said Dan Springer, CEO of DocuSign. \"With over a billion users worldwide, the proven value of our products, and the significant opportunity we have ahead of us, we\\'re confident in our ability to successfully navigate the challenges of a dynamic global environment.\".', '\"We delivered a great quarter driven by robust demand for our solutions,\" said René Lacerte, Bill.com CEO and Founder. \"We are executing against our strategy to drive organic momentum across our solutions while building a unified platform experience incorporating the strengths of Divvy and Invoice2go. We are excited about the opportunities ahead as we build the de facto solution to serve small businesses’ financial operations needs.\".', '\"We delivered strong revenue growth and a bottom line significantly better than expectations in the third quarter,\" said John Rettig, Bill.com CFO. \"Organic core revenue increased 74% year-over-year and Divvy spend management revenue increased 155% year-over-year. Our revenue outperformance and disciplined execution led to a better-than-expected non-GAAP net loss.\".', '\"CrowdStrike delivered an exceptional first quarter to kick off the fiscal year with $190 million in net new ARR, 61% ending ARR growth at scale and record cash flow. We saw strength across the platform including a record quarter for modules deployed in the public cloud, and over 100% year-over-year ending ARR growth for our emerging product group, which includes our Discover, Spotlight, Identity Protection and Log Management modules. We believe our single agent architecture, frictionless go-to-market, and rapid innovation engine provide CrowdStrike a wide competitive moat along with multiple avenues to drive long-term sustainable growth in both our core and expansion markets,\" said George Kurtz, CrowdStrike’s co-founder and chief executive officer.', '\"We are extremely pleased to report a strong start to the year with first quarter revenue growing 33% year-over-year to a record $182.8 million. This growth continues to be driven primarily by the strength of our Enterprise business where LTM subscription revenue grew 46% year-over-year as a result of our scalable, reliable and secure platform, our successful march up market, and our expanding global presence. Our platform can meet the needs of the largest companies in the world as demonstrated by our record customer win during the quarter with a healthcare conglomerate who is anticipated to roll out tens of thousands of seats with Five9, generating an anticipated annual recurring revenue of over $40 million in software subscription alone. Additionally, we have maintained our focus on balanced and efficient growth, achieving an adjusted EBITDA margin of 13% and operating cash flow margin of 16%, while continuing to make progress on expanding our public cloud footprint and capitalizing on the immutable trends surrounding digital transformation, the shift from premise to cloud and efficiency via AI and Automation.\".', '\"We are pleased with our strong first quarter results, with 83% year-over-year revenue growth and strong profitability,\" said Olivier Pomel, co-founder and CEO of Datadog. \"We continue to see customers of all sizes and in all industries progressing along their digital transformation and cloud migration journeys.\".'], 'SCHQ': ['First Quarter 2022 Financial Highlights:.', 'Q1 2022 Highlights.', 'Q1 2022 Financial Summary.', 'First Quarter Fiscal 2023 GAAP and Non-GAAP Results:.', 'First Quarter 2022 Financial Highlights:.', 'First Quarter 2022 Financial Highlights.', 'Fourth Quarter 2021 Financial Highlights:.', 'Third Quarter 2022 Financial Summary:.', 'Financial highlights for the third quarter of fiscal 2022'], 'SCBQ': ['First Quarter 2022 Business Highlights:.', 'First Quarter and Recent Business Highlights:.', 'Recent Highlights.', 'Recent Business and Operating Highlights:.', 'Operational and Other Financial Highlights.'], 'SCG': ['Financial Outlook:.', 'Financial Outlook For the second quarter and fiscal year 2022, Confluent expects:.', 'Outlook.', 'Financial Outlook:.', 'Financial Guidance:.', 'Financial Outlook.', 'Second Quarter and Full Year 2022 Outlook:.', 'Business Outlook:.'], 'GQ': ['Second Quarter 2022 Guidance:.', 'For Q2 2022:.', 'The following table summarizes our guidance for the second quarter of fiscal 2023:.', 'Second Quarter 2022 outlook summary:.', 'For the second quarter of 2022, Upstart expects:.', 'Based on information available as of May 4, 2022, for the second quarter of 2022 we expect:.', 'For the second quarter of 2022, Five9 expects to report:.', 'First Quarter 2021 Financial Guidance:.', 'First Quarter 2021 Financial Outlook:.'], 'GF': ['Full Year 2022 Guidance:.', 'For full year 2022, we continue to expect:.', 'The following table summarizes our guidance for the full-year fiscal 2023:.', 'For the full year 2022, Upstart now expects:.', 'Full Year 2022 Outlook:.', 'For the full year 2022, Five9 expects to report:.', 'Full Fiscal 2022 Financial Guidance:.'], 'ED': ['Conference Call Information', 'Forward-Looking Statements', 'Non-GAAP Financial Measures', 'About Confluent', 'Earnings Webcast.', 'First Quarter 2022 Financial Results Webcast and Conference Call Details.', 'Key Operating Metrics and Non-GAAP Financial Measures.', 'Conference Call and Webcast.', 'About Upstart.', 'Conference Call and Webcast Information:.'], 'SCHF': ['Full-Year 2021 Financial Highlights:.', 'Full-Year 2022 Financial Highlights:.', 'Fiscal 2023 Financial Highlights:.', 'Full Fiscal 2020 Financial Highlights:.']}\n"
     ]
    }
   ],
   "source": [
    "import glob\n",
    "sdir = \"../../Summary/DATA/SENTAG/TRAIN\"\n",
    "exclude = [\"TBLST***\", \"TBLET***\"]\n",
    "files = glob.glob(sdir+\"/*/*\")\n",
    "data = dict()\n",
    "print(files)\n",
    "for file in files:\n",
    "    print(file)\n",
    "    with open(file, encoding=\"utf-8\") as f:\n",
    "        for line in f:\n",
    "            l = line.strip()\n",
    "            if(l):\n",
    "                #print(l)\n",
    "                s = l.split(\" \")\n",
    "                #print(s)\n",
    "                if(\"***\" in s[0] and s[0] not in exclude):\n",
    "                    stag = (s[0].replace(\"***\",\"\"))\n",
    "                    #print(stag, \" \".join(s[1:]))\n",
    "                    ol = \" \".join(s[1:])\n",
    "                    if(stag not in data):\n",
    "                        data[stag] = list()\n",
    "                    data[stag].append(ol)\n",
    "print(data)"
   ]
  },
  {
   "cell_type": "code",
   "execution_count": null,
   "metadata": {},
   "outputs": [],
   "source": [
    "data = {\n",
    "    \"furniture\": [\"This text is about chairs.\",\n",
    "               \"Couches, benches and televisions.\",\n",
    "               \"I really need to get a new sofa.\"],\n",
    "    \"kitchen\": [\"There also exist things like fridges.\",\n",
    "                \"I hope to be getting a new stove today.\",\n",
    "                \"Do you also have some ovens.\"]\n",
    "}"
   ]
  },
  {
   "cell_type": "code",
   "execution_count": 2,
   "metadata": {},
   "outputs": [
    {
     "name": "stdout",
     "output_type": "stream",
     "text": [
      "Ignore MatMul due to non constant B: /[MatMul_68]\n",
      "Ignore MatMul due to non constant B: /[MatMul_73]\n",
      "Ignore MatMul due to non constant B: /[MatMul_162]\n",
      "Ignore MatMul due to non constant B: /[MatMul_167]\n",
      "Ignore MatMul due to non constant B: /[MatMul_256]\n",
      "Ignore MatMul due to non constant B: /[MatMul_261]\n",
      "Ignore MatMul due to non constant B: /[MatMul_350]\n",
      "Ignore MatMul due to non constant B: /[MatMul_355]\n",
      "Ignore MatMul due to non constant B: /[MatMul_444]\n",
      "Ignore MatMul due to non constant B: /[MatMul_449]\n",
      "Ignore MatMul due to non constant B: /[MatMul_538]\n",
      "Ignore MatMul due to non constant B: /[MatMul_543]\n",
      "Ignore MatMul due to non constant B: /[MatMul_632]\n",
      "Ignore MatMul due to non constant B: /[MatMul_637]\n",
      "Ignore MatMul due to non constant B: /[MatMul_726]\n",
      "Ignore MatMul due to non constant B: /[MatMul_731]\n",
      "Ignore MatMul due to non constant B: /[MatMul_820]\n",
      "Ignore MatMul due to non constant B: /[MatMul_825]\n",
      "Ignore MatMul due to non constant B: /[MatMul_914]\n",
      "Ignore MatMul due to non constant B: /[MatMul_919]\n",
      "Ignore MatMul due to non constant B: /[MatMul_1008]\n",
      "Ignore MatMul due to non constant B: /[MatMul_1013]\n",
      "Ignore MatMul due to non constant B: /[MatMul_1102]\n",
      "Ignore MatMul due to non constant B: /[MatMul_1107]\n"
     ]
    }
   ],
   "source": [
    "import spacy\n",
    "import torch\n",
    "import classy_classification\n",
    "\n",
    "#spacy.require_gpu()\n",
    "\n",
    "nlp = spacy.blank(\"en\")\n",
    "sentag = nlp.add_pipe(\n",
    "    \"text_categorizer\", \n",
    "    config={\n",
    "        \"data\": data, \n",
    "        \"model\": \"sentence-transformers/paraphrase-multilingual-MiniLM-L12-v2\",\n",
    "        \"device\": \"cpu\"\n",
    "    }\n",
    ")"
   ]
  },
  {
   "cell_type": "code",
   "execution_count": 3,
   "metadata": {},
   "outputs": [
    {
     "name": "stdout",
     "output_type": "stream",
     "text": [
      "{'CS': 0.011838500692032274, 'ED': 0.028147254410006962, 'GF': 0.013639719577407186, 'GQ': 0.005572530842259231, 'PG': 0.919029795681713, 'SCBQ': 0.006954045046387733, 'SCG': 0.00499842726971643, 'SCHF': 0.002269922677117941, 'SCHQ': 0.007549803803359708}\n",
      "PG 0.919029795681713\n"
     ]
    }
   ],
   "source": [
    "print(nlp(\"ACB today announced result\")._.cats)\n",
    "cats = nlp(\"ACB today announced result\")._.cats\n",
    "maxVal = max(cats, key=cats.get)\n",
    "print(maxVal, cats[maxVal])"
   ]
  },
  {
   "cell_type": "code",
   "execution_count": 3,
   "metadata": {},
   "outputs": [
    {
     "name": "stdout",
     "output_type": "stream",
     "text": [
      "['../../Summary/DATA/SENTAG/TEST\\\\HUBS\\\\HUBS_2022-05-06_EP_YH.txt']\n",
      "../../Summary/DATA/SENTAG/TEST\\HUBS\\HUBS_2022-05-06_EP_YH.txt\n",
      "CAMBRIDGE, Mass., May 5, 2022 /PRNewswire/ -- HubSpot, Inc. (NYSE: HUBS), the customer relationship management (CRM) platform for scaling companies, today announced financial results for the first quarter ended March 31, 2022. : PG 0.6887001663820935\n",
      "HubSpot, Inc. logo - www.hubspot.com . (PRNewsfoto/HubSpot). : PG 0.6778475915543255\n",
      "Financial Highlights:. : SCBQ 0.2943316869327311\n",
      "Revenue. : PG 0.738820016119407\n",
      "Total revenue was $395.6 million , up 41% compared to Q1'21. : PG 0.8642428964480106\n",
      "Operating Income (Loss). : PG 0.62731139341155\n",
      "GAAP operating margin was (2.8%), compared to (5.3%) in Q1'21. : PG 0.6930460684615041\n",
      "Non-GAAP operating margin was 8.8%, compared to 6.7% in Q1'21. : PG 0.6783449199273709\n",
      "GAAP operating loss was ($11.2) million , compared to ($15.0) million in Q1'21. : PG 0.7960065553370217\n",
      "Non-GAAP operating income was $35.0 million , compared to $18.9 million in Q1'21. : PG 0.803220407296896\n",
      "Net Income (Loss). : PG 0.5870274650092191\n",
      "GAAP net loss was ($9.3) million , or ($0.20) per basic and diluted share, compared to ($23.2) million , or ($0.50) per basic and diluted share in Q1'21. : PG 0.7523497558035015\n",
      "Non-GAAP net income was $27.5 million , or $0.58 per basic and $0.54 per diluted share, compared to $15.7 million , or $0.34 per basic and $0.31 per diluted share in Q1'21. : PG 0.7525720167830534\n",
      "Weighted average basic and diluted shares outstanding for GAAP net loss per share was 47.6 million, compared to 46.4 million basic and diluted shares in Q1'21. : PG 0.8612599082580925\n",
      "Weighted average basic and diluted shares outstanding for non-GAAP net income per share was 47.6 million and 51.2 million respectively, compared to 46.4 million and 50.4 million, respectively in Q1'21. : PG 0.8628561747371986\n",
      "Balance Sheet and Cash Flow. : PG 0.5022525674208004\n",
      "The company's cash, cash equivalents, and short-term and long-term investments balance was $1.4 billion as of March 31, 2022 . : PG 0.7674055036833302\n",
      "During the first quarter, the company generated $82.2 million of operating cash flow, compared to $72.5 million during Q1'21, which excluded the $9.8 million used for the repayment of our convertible notes. : PG 0.7414140483832856\n",
      "During the first quarter, the company generated $62.6 million of free cash flow, compared to $61.2 million during Q1'21. : PG 0.7619018296740581\n",
      "Additional Recent Business Highlights. : SCBQ 0.8521917285246638\n",
      "Grew Customers to 143,689 at March 31, 2022 , up 26% from March 31, 2021 . : PG 0.8523268947668748\n",
      "Average Subscription Revenue Per Customer was $11,030 during the first quarter of 2022, up 12% compared to the first quarter of 2021. : PG 0.843497217532817\n",
      "Story continues. : PG 0.794600487368305\n",
      "\"In the first quarter, we continued to make meaningful progress toward our goal of becoming the #1 CRM platform for scaling companies,\" said Yamini Rangan, Chief Executive Officer at HubSpot. \"Despite uncertainty in the world, we remained resilient and committed to empowering our customers to grow their businesses. I'm particularly excited about the Service Hub relaunch and the robust new features we introduced to help customers deliver even more exceptional service. Looking ahead, 2022 is a year of focus and consistency. We will continue to execute on our key strategy priorities and solve for our customers.\". : CS 0.49263424407039086\n",
      "Business Outlook : SCG 0.7161635857892511\n",
      "Based on information available as of May 5, 2022, HubSpot is issuing guidance for the second quarter of 2022 and full year 2022 as indicated below. : PG 0.5446684571684257\n",
      "Second Quarter 2022:. : GQ 0.6291285971672493\n",
      "Total revenue is expected to be in the range of $409.0 million to $410.0 million . : PG 0.7988254133812993\n",
      "Non-GAAP operating income is expected to be in the range of $27.0 million to $28.0 million . : PG 0.6338635987852542\n",
      "Non-GAAP net income per common share is expected to be in the range of $0.42 to $0.44 . This assumes approximately 51.2 million weighted average diluted shares outstanding. : PG 0.8203101312117215\n",
      "Full Year 2022:. : GF 0.7404420719541411\n",
      "Total revenue is now expected to be in the range of $1.722 billion to $1.728 billion . : PG 0.8415706377736161\n",
      "Non-GAAP operating income is now expected to be in the range of $152.0 million to $154.0 million . : PG 0.746122147825111\n",
      "Non-GAAP net income per common share is now expected to be in the range of $2.40 to $2.42 . This assumes approximately 51.5 million weighted average diluted shares outstanding. : PG 0.7901778497156968\n",
      "Use of Non-GAAP Financial MeasuresIn our earnings press releases, conference calls, slide presentations, and webcasts, we may use or discuss non-GAAP financial measures, as defined by Regulation G. The GAAP financial measure most directly comparable to each non-GAAP financial measure used or discussed, and a reconciliation of the differences between each non-GAAP financial measure and the comparable GAAP financial measure, are included in this press release after the consolidated financial statements. Our earnings press releases containing such non-GAAP reconciliations can be found in the Investors section of our website ir.hubspot.com. : PG 0.6344974636704254\n",
      "Conference Call InformationHubSpot will host a conference call on Thursday, May 5, 2022 at 4:30 p.m. Eastern Time (ET) to discuss the company's first quarter 2022 financial results and its business outlook. To register for this conference call, please use this dial in registration link or visit HubSpot's Investor Relations website at ir.hubspot.com. After registering, a confirmation email will be sent, including dial-in details and a unique code for entry. Participants who wish to register for the conference call webcast please use this link. : PG 0.5505730639769143\n",
      "Following the conference call, a replay will be available at (866) 813-9403 (domestic) or +44 (204) 525-0658 (international). The replay passcode is 734602. An archived webcast of this conference call will also be available on HubSpot's Investor Relations website at ir.hubspot.com. : PG 0.6536944120599941\n",
      "The company has used, and intends to continue to use, the investor relations portion of its website as a means of disclosing material non-public information and for complying with disclosure obligations under Regulation FD. : PG 0.7151707014883382\n",
      "About HubSpot : ED 0.3840230670148217\n",
      "HubSpot is a leading CRM platform that provides software and support to help companies grow better. >>> The platform includes marketing, sales, service, operations, and website management products that start free and scale to meet our customers' needs at any stage of growth. >>> Today, over 143,000 customers across more than 120 countries use HubSpot's powerful and easy-to-use tools and integrations to attract, engage, and delight customers. Learn more at www.hubspot.com. : PG 0.5210876584011302\n"
     ]
    },
    {
     "name": "stdout",
     "output_type": "stream",
     "text": [
      "Cautionary Language Concerning Forward-Looking StatementsThis press release includes certain \"forward-looking statements\" within the meaning of the Private Securities Litigation Reform Act of 1995, including statements regarding management's expectations of future financial and operational performance and operational expenditures, expected growth, and business outlook, including our financial guidance for the second fiscal quarter of and full year 2022; and statements regarding our positioning for future growth and market leadership; statements regarding expected market trends, future priorities and related investments, and opportunities. These forward-looking statements include, but are not limited to, plans, objectives, expectations and intentions and other statements contained in this press release that are not historical facts and statements identified by words such as \"expects,\" \"anticipates,\" \"intends,\" \"plans,\" \"believes,\" \"seeks,\" \"estimates\" or words of similar meaning. These forward-looking statements reflect our current views about our plans, intentions, expectations, strategies and prospects, which are based on the information currently available to us and on assumptions we have made. Although we believe that our plans, intentions, expectations, strategies and prospects as reflected in or suggested by those forward-looking statements are reasonable, we can give no assurance that the plans, intentions, expectations or strategies will be attained or achieved. Furthermore, actual results may differ materially from those described in the forward-looking statements and will be affected by a variety of risks and factors that are beyond our control including, without limitation, risks associated with our history of losses; our ability to retain existing customers and add new customers; the continued growth of the market for a CRM platform; our ability to differentiate our platform from competing products and technologies; our ability to manage our growth effectively to maintain our high level of service; our ability to maintain and expand relationships with our solutions partners; our ability to successfully recruit and retain highly-qualified personnel; the price volatility of our common stock; the impact of geo-political conflicts, inflation, macroeconomic instability, and the COVID-19 pandemic on our business, the broader economy, our workforce and operations, and our ability to forecast our future financial performance; and other risks set forth under the caption \"Risk Factors\" in our SEC filings. We assume no obligation to update any forward-looking statements contained in this document as a result of new information, future events or otherwise. : PG 0.8791594696173086\n"
     ]
    }
   ],
   "source": [
    "tdir = \"../../Summary/DATA/SENTAG/TEST\"\n",
    "exclude = [\"TBLST***\", \"TBLET***\"]\n",
    "files = glob.glob(tdir+\"/*/*\")\n",
    "data = dict()\n",
    "print(files)\n",
    "for file in files:\n",
    "    print(file)\n",
    "    with open(file, encoding=\"utf-8\") as f1:\n",
    "        for line in f1:\n",
    "            l = line.strip()\n",
    "            if(l):\n",
    "                #print(l)\n",
    "                s = l.split(\" \")\n",
    "                #print(s)\n",
    "                if(s[0] not in exclude):\n",
    "                    #print(nlp(l)._.cats)\n",
    "                    cats = nlp(l)._.cats\n",
    "                    maxVal = max(cats, key=cats.get)\n",
    "                    print(l, \":\", maxVal, cats[maxVal])"
   ]
  }
 ],
 "metadata": {
  "kernelspec": {
   "display_name": "Python 3",
   "language": "python",
   "name": "python3"
  },
  "language_info": {
   "codemirror_mode": {
    "name": "ipython",
    "version": 3
   },
   "file_extension": ".py",
   "mimetype": "text/x-python",
   "name": "python",
   "nbconvert_exporter": "python",
   "pygments_lexer": "ipython3",
   "version": "3.7.9"
  }
 },
 "nbformat": 4,
 "nbformat_minor": 4
}
