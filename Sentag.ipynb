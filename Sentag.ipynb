{
 "cells": [
  {
   "cell_type": "code",
   "execution_count": 1,
   "metadata": {},
   "outputs": [
    {
     "name": "stdout",
     "output_type": "stream",
     "text": [
      "['../../Summary/DATA/SENTAG/TRAIN\\\\APPN\\\\APPN_2022-05-06_EP_YH.txt', '../../Summary/DATA/SENTAG/TRAIN\\\\CFLT\\\\CFLT_2022-05-06_EP_YH.txt', '../../Summary/DATA/SENTAG/TRAIN\\\\PLTR\\\\PLTR_2022-05-09_EP_YH.txt', '../../Summary/DATA/SENTAG/TRAIN\\\\SNOW\\\\SNOW_2022-05-25_EP_YH.txt', '../../Summary/DATA/SENTAG/TRAIN\\\\TTD\\\\TTD_2022-05-10_EP_YH.txt', '../../Summary/DATA/SENTAG/TRAIN\\\\UPST\\\\UPST_2022-05-09_EP_YH.txt', '../../Summary/DATA/SENTAG/TRAIN\\\\ZI\\\\ZI_2022-02-15_EP.txt']\n",
      "../../Summary/DATA/SENTAG/TRAIN\\APPN\\APPN_2022-05-06_EP_YH.txt\n",
      "../../Summary/DATA/SENTAG/TRAIN\\CFLT\\CFLT_2022-05-06_EP_YH.txt\n",
      "../../Summary/DATA/SENTAG/TRAIN\\PLTR\\PLTR_2022-05-09_EP_YH.txt\n",
      "../../Summary/DATA/SENTAG/TRAIN\\SNOW\\SNOW_2022-05-25_EP_YH.txt\n",
      "../../Summary/DATA/SENTAG/TRAIN\\TTD\\TTD_2022-05-10_EP_YH.txt\n",
      "../../Summary/DATA/SENTAG/TRAIN\\UPST\\UPST_2022-05-09_EP_YH.txt\n",
      "../../Summary/DATA/SENTAG/TRAIN\\ZI\\ZI_2022-02-15_EP.txt\n",
      "{'PG': ['Appian Corporation.', 'First quarter cloud subscription revenue increased 37% year-over-year to $53.4 million.', 'MCLEAN, Va., May 05, 2022 (GLOBE NEWSWIRE) -- Appian (Nasdaq: APPN) today announced financial results for the first quarter ended March 31, 2022.', 'Appian Government Cloud received provisional authorization at Impact Level 5. Appian is one of the first companies to ever receive this authorization.', 'As of May 5, 2022, guidance for 2022 is as follows:.', 'Cloud subscription revenue is expected to be in the range of $55.8 million and $56.3 million, representing year-over-year growth of between 31% and 32%.', 'Adjusted EBITDA loss is expected to be in the range of $(53.0) million and $(50.0) million.', 'Customer count grew 86% year-over-year.', 'We are guiding to a base case of $470 million in revenue. There is a wide range of potential upside to our guidance, including those driven by our role in responding to developing geopolitical events.', 'Per long-term guidance policy, as provided by our Chief Executive Officer, Alex Karp, we continue to expect:.', 'Net revenue retention rate of 174%.', 'The following table summarizes our financial results for the first quarter of fiscal 2023:.', 'The following table summarizes our consolidated financial results for the quarters ended March 31, 2022 and 2021 ($ in millions, except per share amounts):.', 'Strong Customer Retention: Customer retention remained over 95% during the first quarter, as it has for the past eight consecutive years.', 'Expanded Partnerships:.', 'Launched OpenPath: Highlights include:.', 'Ability for publishers to integrate directly with The Trade Desk, allowing advertisers direct access to their inventory.', 'FORTUNE: Future 50 list.', 'Adweek Readers’ Choice: Best of Tech awards for both Demand Side Platform and Innovator of the Year categories.', 'Contribution Margin of approximately 45%.', 'Basic Weighted-Average Share Count of approximately 85.0 million shares.', 'ZoomInfo Announces Fourth Quarter and Full-Year 2021 Financial Results.', 'Net Income per share is $0.36 . Adjusted Net Income per share is $0.18 .', 'Based on information available as of February 15, 2022, ZoomInfo is issuing guidance for the first quarter and full-year 2022 as follows:.'], 'CS': ['“We exceeded guidance and grew cloud subscription revenue by 37% in Q1. Our annual conference was well-attended and full of energy. We feel fortunate to have such a strong community around our low-code platform,” said Matt Calkins, CEO & Founder.', '\"Data streaming is gaining momentum and adoption as a foundational component to delivering real-time customer experiences and optimized operations,\" said Jay Kreps, co-founder and CEO, Confluent. \"With a best-in-class product and differentiated customer go-to-market model, Confluent continues to become the de facto way organizations start and scale their data in motion journey. This has driven 64% revenue growth year over year, a record number of net new customer additions and a fourth consecutive quarter with dollar-based net retention rate of greater than 130%.\".', '\"We delivered a strong first quarter exceeding the high end of our guidance on all metrics. RPO growth accelerated year over year and Confluent Cloud revenue grew 180% year over year, with a world-class dollar-based net retention rate for Confluent Cloud of greater than 150%,\" said Steffan Tomlinson, CFO, Confluent. \"Given our strong unit economics and continued momentum, we are raising our 2022 guidance, and we remain committed to driving high growth and annual improvement in both non-GAAP operating and free cash flow margin.\".'], 'SCHQ': ['First Quarter 2022 Financial Highlights:.', 'Q1 2022 Highlights.', 'Q1 2022 Financial Summary.', 'First Quarter Fiscal 2023 GAAP and Non-GAAP Results:.', 'First Quarter 2022 Financial Highlights:.', 'First Quarter 2022 Financial Highlights.', 'Fourth Quarter 2021 Financial Highlights:.', 'Third Quarter 2022 Financial Summary:.'], 'SCBQ': ['First Quarter 2022 Business Highlights:.', 'First Quarter and Recent Business Highlights:.', 'Recent Business and Operating Highlights:.'], 'SCG': ['Financial Outlook:.', 'Financial Outlook For the second quarter and fiscal year 2022, Confluent expects:.', 'Outlook.', 'Financial Outlook:.', 'Financial Guidance:.', 'Financial Outlook.', 'Business Outlook:.'], 'GQ': ['Second Quarter 2022 Guidance:.', 'For Q2 2022:.', 'The following table summarizes our guidance for the second quarter of fiscal 2023:.', 'Second Quarter 2022 outlook summary:.', 'For the second quarter of 2022, Upstart expects:.', 'First Quarter 2021 Financial Guidance:.', 'First Quarter 2021 Financial Outlook:.'], 'GF': ['Full Year 2022 Guidance:.', 'For full year 2022, we continue to expect:.', 'The following table summarizes our guidance for the full-year fiscal 2023:.', 'For the full year 2022, Upstart now expects:.', 'Full Fiscal 2022 Financial Guidance:.'], 'ED': ['Conference Call Information', 'Forward-Looking Statements', 'Non-GAAP Financial Measures', 'About Confluent', 'Earnings Webcast.', 'First Quarter 2022 Financial Results Webcast and Conference Call Details.', 'Key Operating Metrics and Non-GAAP Financial Measures.', 'Conference Call and Webcast.', 'About Upstart.', 'Conference Call and Webcast Information:.'], 'SCHF': ['Full-Year 2021 Financial Highlights:.', 'Full-Year 2022 Financial Highlights:.', 'Fiscal 2023 Financial Highlights:.', 'Full Fiscal 2020 Financial Highlights:.']}\n"
     ]
    }
   ],
   "source": [
    "import glob\n",
    "sdir = \"../../Summary/DATA/SENTAG/TRAIN\"\n",
    "exclude = [\"TBLST***\", \"TBLET***\"]\n",
    "files = glob.glob(sdir+\"/*/*\")\n",
    "data = dict()\n",
    "print(files)\n",
    "for file in files:\n",
    "    print(file)\n",
    "    with open(file, encoding=\"utf-8\") as f:\n",
    "        for line in f:\n",
    "            l = line.strip()\n",
    "            if(l):\n",
    "                #print(l)\n",
    "                s = l.split(\" \")\n",
    "                #print(s)\n",
    "                if(\"***\" in s[0] and s[0] not in exclude):\n",
    "                    stag = (s[0].replace(\"***\",\"\"))\n",
    "                    #print(stag, \" \".join(s[1:]))\n",
    "                    ol = \" \".join(s[1:])\n",
    "                    if(stag not in data):\n",
    "                        data[stag] = list()\n",
    "                    data[stag].append(ol)\n",
    "print(data)"
   ]
  },
  {
   "cell_type": "code",
   "execution_count": null,
   "metadata": {},
   "outputs": [],
   "source": [
    "data = {\n",
    "    \"furniture\": [\"This text is about chairs.\",\n",
    "               \"Couches, benches and televisions.\",\n",
    "               \"I really need to get a new sofa.\"],\n",
    "    \"kitchen\": [\"There also exist things like fridges.\",\n",
    "                \"I hope to be getting a new stove today.\",\n",
    "                \"Do you also have some ovens.\"]\n",
    "}"
   ]
  },
  {
   "cell_type": "code",
   "execution_count": 2,
   "metadata": {},
   "outputs": [
    {
     "name": "stdout",
     "output_type": "stream",
     "text": [
      "Ignore MatMul due to non constant B: /[MatMul_68]\n",
      "Ignore MatMul due to non constant B: /[MatMul_73]\n",
      "Ignore MatMul due to non constant B: /[MatMul_162]\n",
      "Ignore MatMul due to non constant B: /[MatMul_167]\n",
      "Ignore MatMul due to non constant B: /[MatMul_256]\n",
      "Ignore MatMul due to non constant B: /[MatMul_261]\n",
      "Ignore MatMul due to non constant B: /[MatMul_350]\n",
      "Ignore MatMul due to non constant B: /[MatMul_355]\n",
      "Ignore MatMul due to non constant B: /[MatMul_444]\n",
      "Ignore MatMul due to non constant B: /[MatMul_449]\n",
      "Ignore MatMul due to non constant B: /[MatMul_538]\n",
      "Ignore MatMul due to non constant B: /[MatMul_543]\n",
      "Ignore MatMul due to non constant B: /[MatMul_632]\n",
      "Ignore MatMul due to non constant B: /[MatMul_637]\n",
      "Ignore MatMul due to non constant B: /[MatMul_726]\n",
      "Ignore MatMul due to non constant B: /[MatMul_731]\n",
      "Ignore MatMul due to non constant B: /[MatMul_820]\n",
      "Ignore MatMul due to non constant B: /[MatMul_825]\n",
      "Ignore MatMul due to non constant B: /[MatMul_914]\n",
      "Ignore MatMul due to non constant B: /[MatMul_919]\n",
      "Ignore MatMul due to non constant B: /[MatMul_1008]\n",
      "Ignore MatMul due to non constant B: /[MatMul_1013]\n",
      "Ignore MatMul due to non constant B: /[MatMul_1102]\n",
      "Ignore MatMul due to non constant B: /[MatMul_1107]\n"
     ]
    },
    {
     "data": {
      "text/plain": [
       "<classy_classification.classifiers.spacy_few_shot_external.classySpacyFewShotExternal at 0x2217cb10dc8>"
      ]
     },
     "execution_count": 2,
     "metadata": {},
     "output_type": "execute_result"
    }
   ],
   "source": [
    "import spacy\n",
    "import torch\n",
    "import classy_classification\n",
    "\n",
    "#spacy.require_gpu()\n",
    "\n",
    "nlp = spacy.blank(\"en\")\n",
    "nlp.add_pipe(\n",
    "    \"text_categorizer\", \n",
    "    config={\n",
    "        \"data\": data, \n",
    "        \"model\": \"sentence-transformers/paraphrase-multilingual-MiniLM-L12-v2\",\n",
    "        \"device\": \"cpu\"\n",
    "    }\n",
    ")"
   ]
  },
  {
   "cell_type": "code",
   "execution_count": 6,
   "metadata": {},
   "outputs": [
    {
     "name": "stdout",
     "output_type": "stream",
     "text": [
      "{'CS': 0.03128366843885703, 'ED': 0.06996040356722028, 'GF': 0.01630264745488088, 'GQ': 0.009919492502914786, 'PG': 0.816753394718564, 'SCBQ': 0.005933783452447466, 'SCG': 0.024999254567858346, 'SCHF': 0.004125284696158556, 'SCHQ': 0.020722070601098368}\n"
     ]
    }
   ],
   "source": [
    "print(nlp(\"ACB today announced result\")._.cats)"
   ]
  }
 ],
 "metadata": {
  "kernelspec": {
   "display_name": "Python 3",
   "language": "python",
   "name": "python3"
  },
  "language_info": {
   "codemirror_mode": {
    "name": "ipython",
    "version": 3
   },
   "file_extension": ".py",
   "mimetype": "text/x-python",
   "name": "python",
   "nbconvert_exporter": "python",
   "pygments_lexer": "ipython3",
   "version": "3.7.9"
  }
 },
 "nbformat": 4,
 "nbformat_minor": 4
}
