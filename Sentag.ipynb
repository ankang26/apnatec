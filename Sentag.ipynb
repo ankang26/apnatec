{
 "cells": [
  {
   "cell_type": "code",
   "execution_count": 1,
   "metadata": {},
   "outputs": [
    {
     "name": "stdout",
     "output_type": "stream",
     "text": [
      "Ignore MatMul due to non constant B: /[MatMul_68]\n",
      "Ignore MatMul due to non constant B: /[MatMul_73]\n",
      "Ignore MatMul due to non constant B: /[MatMul_162]\n",
      "Ignore MatMul due to non constant B: /[MatMul_167]\n",
      "Ignore MatMul due to non constant B: /[MatMul_256]\n",
      "Ignore MatMul due to non constant B: /[MatMul_261]\n",
      "Ignore MatMul due to non constant B: /[MatMul_350]\n",
      "Ignore MatMul due to non constant B: /[MatMul_355]\n",
      "Ignore MatMul due to non constant B: /[MatMul_444]\n",
      "Ignore MatMul due to non constant B: /[MatMul_449]\n",
      "Ignore MatMul due to non constant B: /[MatMul_538]\n",
      "Ignore MatMul due to non constant B: /[MatMul_543]\n",
      "Ignore MatMul due to non constant B: /[MatMul_632]\n",
      "Ignore MatMul due to non constant B: /[MatMul_637]\n",
      "Ignore MatMul due to non constant B: /[MatMul_726]\n",
      "Ignore MatMul due to non constant B: /[MatMul_731]\n",
      "Ignore MatMul due to non constant B: /[MatMul_820]\n",
      "Ignore MatMul due to non constant B: /[MatMul_825]\n",
      "Ignore MatMul due to non constant B: /[MatMul_914]\n",
      "Ignore MatMul due to non constant B: /[MatMul_919]\n",
      "Ignore MatMul due to non constant B: /[MatMul_1008]\n",
      "Ignore MatMul due to non constant B: /[MatMul_1013]\n",
      "Ignore MatMul due to non constant B: /[MatMul_1102]\n",
      "Ignore MatMul due to non constant B: /[MatMul_1107]\n"
     ]
    },
    {
     "data": {
      "text/plain": [
       "<classy_classification.classifiers.spacy_few_shot_external.classySpacyFewShotExternal at 0x1e7cf1b96c8>"
      ]
     },
     "execution_count": 1,
     "metadata": {},
     "output_type": "execute_result"
    }
   ],
   "source": [
    "import spacy\n",
    "import torch\n",
    "import classy_classification\n",
    "\n",
    "data = {\n",
    "    \"furniture\": [\"This text is about chairs.\",\n",
    "               \"Couches, benches and televisions.\",\n",
    "               \"I really need to get a new sofa.\"],\n",
    "    \"kitchen\": [\"There also exist things like fridges.\",\n",
    "                \"I hope to be getting a new stove today.\",\n",
    "                \"Do you also have some ovens.\"]\n",
    "}\n",
    "\n",
    "#spacy.require_gpu()\n",
    "\n",
    "nlp = spacy.blank(\"en\")\n",
    "nlp.add_pipe(\n",
    "    \"text_categorizer\", \n",
    "    config={\n",
    "        \"data\": data, \n",
    "        \"model\": \"sentence-transformers/paraphrase-multilingual-MiniLM-L12-v2\",\n",
    "        \"device\": \"gpu\"\n",
    "    }\n",
    ")"
   ]
  },
  {
   "cell_type": "code",
   "execution_count": 4,
   "metadata": {},
   "outputs": [
    {
     "name": "stdout",
     "output_type": "stream",
     "text": [
      "{'furniture': 0.2796981788876628, 'kitchen': 0.7203018211123373}\n"
     ]
    }
   ],
   "source": [
    "print(nlp(\"I am looking for kitchen appliances. Where can I get it? I have bought a new house.\")._.cats)"
   ]
  },
  {
   "cell_type": "code",
   "execution_count": 37,
   "metadata": {},
   "outputs": [
    {
     "name": "stdout",
     "output_type": "stream",
     "text": [
      "['../../Summary/DATA/SENTAG/TRAIN\\\\APPN\\\\APPN_2022-05-06_EP_YH.txt']\n",
      "../../Summary/DATA/SENTAG/TRAIN\\APPN\\APPN_2022-05-06_EP_YH.txt\n",
      "{'NOPAD': ['Appian Corporation.', 'First quarter cloud subscription revenue increased 37% year-over-year to $53.4 million.', 'MCLEAN, Va., May 05, 2022 (GLOBE NEWSWIRE) -- Appian (Nasdaq: APPN) today announced financial results for the first quarter ended March 31, 2022.', '“We exceeded guidance and grew cloud subscription revenue by 37% in Q1. Our annual conference was well-attended and full of energy. We feel fortunate to have such a strong community around our low-code platform,” said Matt Calkins, CEO & Founder.', 'A reconciliation of GAAP to non-GAAP financial measures has been provided in the tables following the financial statements in this press release. An explanation of these measures is also included below under the heading “Non-GAAP Financial Measures.”.', 'Story continues.', 'As of May 5, 2022, guidance for 2022 is as follows:.', 'Second Quarter 2022 Guidance:.', 'Full Year 2022 Guidance:.'], 'SC': ['First Quarter 2022 Financial Highlights:.', 'First Quarter 2022 Business Highlights:.', 'Financial Outlook:.'], 'PG': ['Revenue: Cloud subscription revenue was $53.4 million for the first quarter of 2022, up 37% compared to the first quarter of 2021. Total subscriptions revenue, which includes sales of our SaaS subscriptions, on-premises term license subscriptions, and maintenance and support, increased 31% year-over-year to $83.7 million for the first quarter of 2022. Professional services revenue was $30.5 million for the first quarter of 2022, compared to $25.1 million for the first quarter of 2021. Total revenue was $114.3 million for the first quarter of 2022, up 29% compared to the first quarter of 2021. Cloud subscription revenue retention rate was 117% as of March 31, 2022.', 'Operating loss and non-GAAP operating loss: GAAP operating loss was $(23.9) million for the first quarter of 2022, compared to $(10.5) million for the first quarter of 2021. Non-GAAP operating loss was $(5.1) million for the first quarter of 2022, compared to $(0.9) million for the first quarter of 2021.', 'Net loss and non-GAAP net loss: GAAP net loss was $(23.2) million for the first quarter of 2022, compared to $(13.6) million for the first quarter of 2021. GAAP net loss per share was $(0.32) for the first quarter of 2022, based on 72.2 million weighted-average shares outstanding, compared to $(0.19) for the first quarter of 2021, based on 70.7 million weighted-average shares outstanding. Non-GAAP net loss was $(4.4) million for the first quarter of 2022, compared to $(4.0) million for the first quarter of 2021. Non-GAAP net loss per share was $(0.06) for the first quarter of 2022, based on 72.2 million basic and diluted shares outstanding, consistent with the $(0.06) net loss per share for the first quarter of 2021, based on 70.7 million basic and diluted shares outstanding.', 'Adjusted EBITDA: Adjusted EBITDA loss was $(3.4) million for the first quarter of 2022, compared to adjusted EBITDA of $0.4 million for the first quarter of 2021.', 'Balance sheet and cash flows: As of March 31, 2022, Appian had total cash, cash equivalents, and investments of $168.4 million. Net cash used in operating activities was $(20.6) million for the three months ended March 31, 2022 compared to $(2.8) million of net cash used in operating activities for the same period in 2021.', 'Appian Government Cloud received provisional authorization at Impact Level 5. Appian is one of the first companies to ever receive this authorization.', 'Appian named a “Customers’ Choice” again in 2022 by Gartner® Peer Insights™ Voice of the Customer: Enterprise Low-Code Application Platforms. Appian is the only vendor to receive the distinction across the four categories for Large Enterprise ($1-10B), Midsize Enterprise ($50M-$1B), North America, and Europe, the Middle East and Africa.', 'Horizon Power selects Appian for digital transformation journey. Horizon Power is modernizing its processes to support future business growth and provide industry leading experiences.', 'SkillStorm announced Appian partnership. SkillStorm will provide an exclusive pipeline of custom-trained and certified Appian Developers at high scale.', 'Appian named Mark Matheos as Chief Financial Officer. He has more than 20 years of proven financial operations expertise, including over 5 years with Appian, serving most recently as Appian’s Chief Accounting Officer.', 'Cloud subscription revenue is expected to be in the range of $55.8 million and $56.3 million, representing year-over-year growth of between 31% and 32%.', 'Total revenue is expected to be in the range of $102.8 million and $104.8 million, representing a year-over-year increase of between 24% and 26%.', 'Adjusted EBITDA loss is expected to be in the range of $(25.0) million and $(22.0) million.', 'Non-GAAP net loss per share is expected to be in the range of $(0.37) and $(0.33), assuming weighted average common shares outstanding of 72.4 million.', 'Cloud subscription revenue is expected to be in the range of $236.0 million and $238.0 million, representing year-over-year growth of between 32% and 33%.', 'Total revenue is expected to be in the range of $453.0 million and $457.0 million, representing a year-over-year increase of between 23% and 24%.', 'Adjusted EBITDA loss is expected to be in the range of $(53.0) million and $(50.0) million.', 'Non-GAAP net loss per share is expected to be in the range of $(0.82) and $(0.77), assuming weighted average common shares outstanding of 72.5 million.']}\n"
     ]
    }
   ],
   "source": [
    "import glob\n",
    "sdir = \"../../Summary/DATA/SENTAG/TRAIN\"\n",
    "files = glob.glob(sdir+\"/*/*\")\n",
    "data = dict()\n",
    "print(files)\n",
    "for file in files:\n",
    "    print(file)\n",
    "    with open(file, encoding=\"utf-8\") as f:\n",
    "        for line in f:\n",
    "            l = line.strip()\n",
    "            if(l):\n",
    "                #print(l)\n",
    "                s = l.split(\" \")\n",
    "                #print(s)\n",
    "                if(\"***\" in s[0]):\n",
    "                    stag = (s[0].replace(\"***\",\"\"))\n",
    "                    #print(stag, \" \".join(s[1:]))\n",
    "                    ol = \" \".join(s[1:])\n",
    "                    if(stag not in data):\n",
    "                        data[stag] = list()\n",
    "                    data[stag].append(ol)\n",
    "print(data)"
   ]
  }
 ],
 "metadata": {
  "kernelspec": {
   "display_name": "Python 3",
   "language": "python",
   "name": "python3"
  },
  "language_info": {
   "codemirror_mode": {
    "name": "ipython",
    "version": 3
   },
   "file_extension": ".py",
   "mimetype": "text/x-python",
   "name": "python",
   "nbconvert_exporter": "python",
   "pygments_lexer": "ipython3",
   "version": "3.7.9"
  }
 },
 "nbformat": 4,
 "nbformat_minor": 4
}
